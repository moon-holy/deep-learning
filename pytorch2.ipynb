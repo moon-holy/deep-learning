{
 "cells": [
  {
   "cell_type": "code",
   "execution_count": null,
   "id": "ae6a5fd2",
   "metadata": {},
   "outputs": [],
   "source": [
    "# pytorch深度学习书中的代码"
   ]
  },
  {
   "cell_type": "code",
   "execution_count": 23,
   "id": "a689f48d",
   "metadata": {},
   "outputs": [],
   "source": [
    "import torch\n",
    "import torch.nn as nn\n",
    "import torch.nn.functional as F"
   ]
  },
  {
   "attachments": {},
   "cell_type": "markdown",
   "id": "134ff2c2-5f85-4a59-8eae-f531b5d741dd",
   "metadata": {
    "tags": [],
    "toc-hr-collapsed": true
   },
   "source": [
    "# 预训练网络"
   ]
  },
  {
   "cell_type": "code",
   "execution_count": 2,
   "id": "0f8280d8",
   "metadata": {},
   "outputs": [],
   "source": [
    "from torchvision import models"
   ]
  },
  {
   "cell_type": "code",
   "execution_count": 3,
   "id": "78ec789e",
   "metadata": {
    "collapsed": true,
    "jupyter": {
     "outputs_hidden": true
    },
    "tags": []
   },
   "outputs": [
    {
     "data": {
      "text/plain": [
       "['AlexNet',\n",
       " 'AlexNet_Weights',\n",
       " 'ConvNeXt',\n",
       " 'ConvNeXt_Base_Weights',\n",
       " 'ConvNeXt_Large_Weights',\n",
       " 'ConvNeXt_Small_Weights',\n",
       " 'ConvNeXt_Tiny_Weights',\n",
       " 'DenseNet',\n",
       " 'DenseNet121_Weights',\n",
       " 'DenseNet161_Weights',\n",
       " 'DenseNet169_Weights',\n",
       " 'DenseNet201_Weights',\n",
       " 'EfficientNet',\n",
       " 'EfficientNet_B0_Weights',\n",
       " 'EfficientNet_B1_Weights',\n",
       " 'EfficientNet_B2_Weights',\n",
       " 'EfficientNet_B3_Weights',\n",
       " 'EfficientNet_B4_Weights',\n",
       " 'EfficientNet_B5_Weights',\n",
       " 'EfficientNet_B6_Weights',\n",
       " 'EfficientNet_B7_Weights',\n",
       " 'EfficientNet_V2_L_Weights',\n",
       " 'EfficientNet_V2_M_Weights',\n",
       " 'EfficientNet_V2_S_Weights',\n",
       " 'GoogLeNet',\n",
       " 'GoogLeNetOutputs',\n",
       " 'GoogLeNet_Weights',\n",
       " 'Inception3',\n",
       " 'InceptionOutputs',\n",
       " 'Inception_V3_Weights',\n",
       " 'MNASNet',\n",
       " 'MNASNet0_5_Weights',\n",
       " 'MNASNet0_75_Weights',\n",
       " 'MNASNet1_0_Weights',\n",
       " 'MNASNet1_3_Weights',\n",
       " 'MaxVit',\n",
       " 'MaxVit_T_Weights',\n",
       " 'MobileNetV2',\n",
       " 'MobileNetV3',\n",
       " 'MobileNet_V2_Weights',\n",
       " 'MobileNet_V3_Large_Weights',\n",
       " 'MobileNet_V3_Small_Weights',\n",
       " 'RegNet',\n",
       " 'RegNet_X_16GF_Weights',\n",
       " 'RegNet_X_1_6GF_Weights',\n",
       " 'RegNet_X_32GF_Weights',\n",
       " 'RegNet_X_3_2GF_Weights',\n",
       " 'RegNet_X_400MF_Weights',\n",
       " 'RegNet_X_800MF_Weights',\n",
       " 'RegNet_X_8GF_Weights',\n",
       " 'RegNet_Y_128GF_Weights',\n",
       " 'RegNet_Y_16GF_Weights',\n",
       " 'RegNet_Y_1_6GF_Weights',\n",
       " 'RegNet_Y_32GF_Weights',\n",
       " 'RegNet_Y_3_2GF_Weights',\n",
       " 'RegNet_Y_400MF_Weights',\n",
       " 'RegNet_Y_800MF_Weights',\n",
       " 'RegNet_Y_8GF_Weights',\n",
       " 'ResNeXt101_32X8D_Weights',\n",
       " 'ResNeXt101_64X4D_Weights',\n",
       " 'ResNeXt50_32X4D_Weights',\n",
       " 'ResNet',\n",
       " 'ResNet101_Weights',\n",
       " 'ResNet152_Weights',\n",
       " 'ResNet18_Weights',\n",
       " 'ResNet34_Weights',\n",
       " 'ResNet50_Weights',\n",
       " 'ShuffleNetV2',\n",
       " 'ShuffleNet_V2_X0_5_Weights',\n",
       " 'ShuffleNet_V2_X1_0_Weights',\n",
       " 'ShuffleNet_V2_X1_5_Weights',\n",
       " 'ShuffleNet_V2_X2_0_Weights',\n",
       " 'SqueezeNet',\n",
       " 'SqueezeNet1_0_Weights',\n",
       " 'SqueezeNet1_1_Weights',\n",
       " 'SwinTransformer',\n",
       " 'Swin_B_Weights',\n",
       " 'Swin_S_Weights',\n",
       " 'Swin_T_Weights',\n",
       " 'Swin_V2_B_Weights',\n",
       " 'Swin_V2_S_Weights',\n",
       " 'Swin_V2_T_Weights',\n",
       " 'VGG',\n",
       " 'VGG11_BN_Weights',\n",
       " 'VGG11_Weights',\n",
       " 'VGG13_BN_Weights',\n",
       " 'VGG13_Weights',\n",
       " 'VGG16_BN_Weights',\n",
       " 'VGG16_Weights',\n",
       " 'VGG19_BN_Weights',\n",
       " 'VGG19_Weights',\n",
       " 'ViT_B_16_Weights',\n",
       " 'ViT_B_32_Weights',\n",
       " 'ViT_H_14_Weights',\n",
       " 'ViT_L_16_Weights',\n",
       " 'ViT_L_32_Weights',\n",
       " 'VisionTransformer',\n",
       " 'Wide_ResNet101_2_Weights',\n",
       " 'Wide_ResNet50_2_Weights',\n",
       " '_GoogLeNetOutputs',\n",
       " '_InceptionOutputs',\n",
       " '__builtins__',\n",
       " '__cached__',\n",
       " '__doc__',\n",
       " '__file__',\n",
       " '__loader__',\n",
       " '__name__',\n",
       " '__package__',\n",
       " '__path__',\n",
       " '__spec__',\n",
       " '_api',\n",
       " '_meta',\n",
       " '_utils',\n",
       " 'alexnet',\n",
       " 'convnext',\n",
       " 'convnext_base',\n",
       " 'convnext_large',\n",
       " 'convnext_small',\n",
       " 'convnext_tiny',\n",
       " 'densenet',\n",
       " 'densenet121',\n",
       " 'densenet161',\n",
       " 'densenet169',\n",
       " 'densenet201',\n",
       " 'detection',\n",
       " 'efficientnet',\n",
       " 'efficientnet_b0',\n",
       " 'efficientnet_b1',\n",
       " 'efficientnet_b2',\n",
       " 'efficientnet_b3',\n",
       " 'efficientnet_b4',\n",
       " 'efficientnet_b5',\n",
       " 'efficientnet_b6',\n",
       " 'efficientnet_b7',\n",
       " 'efficientnet_v2_l',\n",
       " 'efficientnet_v2_m',\n",
       " 'efficientnet_v2_s',\n",
       " 'get_model',\n",
       " 'get_model_builder',\n",
       " 'get_model_weights',\n",
       " 'get_weight',\n",
       " 'googlenet',\n",
       " 'inception',\n",
       " 'inception_v3',\n",
       " 'list_models',\n",
       " 'maxvit',\n",
       " 'maxvit_t',\n",
       " 'mnasnet',\n",
       " 'mnasnet0_5',\n",
       " 'mnasnet0_75',\n",
       " 'mnasnet1_0',\n",
       " 'mnasnet1_3',\n",
       " 'mobilenet',\n",
       " 'mobilenet_v2',\n",
       " 'mobilenet_v3_large',\n",
       " 'mobilenet_v3_small',\n",
       " 'mobilenetv2',\n",
       " 'mobilenetv3',\n",
       " 'optical_flow',\n",
       " 'quantization',\n",
       " 'regnet',\n",
       " 'regnet_x_16gf',\n",
       " 'regnet_x_1_6gf',\n",
       " 'regnet_x_32gf',\n",
       " 'regnet_x_3_2gf',\n",
       " 'regnet_x_400mf',\n",
       " 'regnet_x_800mf',\n",
       " 'regnet_x_8gf',\n",
       " 'regnet_y_128gf',\n",
       " 'regnet_y_16gf',\n",
       " 'regnet_y_1_6gf',\n",
       " 'regnet_y_32gf',\n",
       " 'regnet_y_3_2gf',\n",
       " 'regnet_y_400mf',\n",
       " 'regnet_y_800mf',\n",
       " 'regnet_y_8gf',\n",
       " 'resnet',\n",
       " 'resnet101',\n",
       " 'resnet152',\n",
       " 'resnet18',\n",
       " 'resnet34',\n",
       " 'resnet50',\n",
       " 'resnext101_32x8d',\n",
       " 'resnext101_64x4d',\n",
       " 'resnext50_32x4d',\n",
       " 'segmentation',\n",
       " 'shufflenet_v2_x0_5',\n",
       " 'shufflenet_v2_x1_0',\n",
       " 'shufflenet_v2_x1_5',\n",
       " 'shufflenet_v2_x2_0',\n",
       " 'shufflenetv2',\n",
       " 'squeezenet',\n",
       " 'squeezenet1_0',\n",
       " 'squeezenet1_1',\n",
       " 'swin_b',\n",
       " 'swin_s',\n",
       " 'swin_t',\n",
       " 'swin_transformer',\n",
       " 'swin_v2_b',\n",
       " 'swin_v2_s',\n",
       " 'swin_v2_t',\n",
       " 'vgg',\n",
       " 'vgg11',\n",
       " 'vgg11_bn',\n",
       " 'vgg13',\n",
       " 'vgg13_bn',\n",
       " 'vgg16',\n",
       " 'vgg16_bn',\n",
       " 'vgg19',\n",
       " 'vgg19_bn',\n",
       " 'video',\n",
       " 'vision_transformer',\n",
       " 'vit_b_16',\n",
       " 'vit_b_32',\n",
       " 'vit_h_14',\n",
       " 'vit_l_16',\n",
       " 'vit_l_32',\n",
       " 'wide_resnet101_2',\n",
       " 'wide_resnet50_2']"
      ]
     },
     "execution_count": 3,
     "metadata": {},
     "output_type": "execute_result"
    }
   ],
   "source": [
    "# 查看视觉模型\n",
    "dir(models)"
   ]
  },
  {
   "cell_type": "code",
   "execution_count": 5,
   "id": "69000301-7984-4a86-8803-fb38ea0cf904",
   "metadata": {},
   "outputs": [
    {
     "name": "stderr",
     "output_type": "stream",
     "text": [
      "D:\\IDE_sources\\Ancona\\envs\\pytorch\\lib\\site-packages\\torchvision\\models\\_utils.py:208: UserWarning: The parameter 'pretrained' is deprecated since 0.13 and may be removed in the future, please use 'weights' instead.\n",
      "  warnings.warn(\n",
      "D:\\IDE_sources\\Ancona\\envs\\pytorch\\lib\\site-packages\\torchvision\\models\\_utils.py:223: UserWarning: Arguments other than a weight enum or `None` for 'weights' are deprecated since 0.13 and may be removed in the future. The current behavior is equivalent to passing `weights=ResNet101_Weights.IMAGENET1K_V1`. You can also use `weights=ResNet101_Weights.DEFAULT` to get the most up-to-date weights.\n",
      "  warnings.warn(msg)\n",
      "Downloading: \"https://download.pytorch.org/models/resnet101-63fe2227.pth\" to C:\\Users\\17677/.cache\\torch\\hub\\checkpoints\\resnet101-63fe2227.pth\n"
     ]
    },
    {
     "data": {
      "application/vnd.jupyter.widget-view+json": {
       "model_id": "c764f0ebef02427783f9f11fc6d0b5b4",
       "version_major": 2,
       "version_minor": 0
      },
      "text/plain": [
       "  0%|          | 0.00/171M [00:00<?, ?B/s]"
      ]
     },
     "metadata": {},
     "output_type": "display_data"
    }
   ],
   "source": [
    "# 采用预训练的模型\n",
    "resnet = models.resnet101(pretrained=True)"
   ]
  },
  {
   "cell_type": "code",
   "execution_count": 6,
   "id": "325dfe8e-ff1c-416a-9716-7a99aaca7f41",
   "metadata": {
    "collapsed": true,
    "jupyter": {
     "outputs_hidden": true
    },
    "tags": []
   },
   "outputs": [
    {
     "data": {
      "text/plain": [
       "ResNet(\n",
       "  (conv1): Conv2d(3, 64, kernel_size=(7, 7), stride=(2, 2), padding=(3, 3), bias=False)\n",
       "  (bn1): BatchNorm2d(64, eps=1e-05, momentum=0.1, affine=True, track_running_stats=True)\n",
       "  (relu): ReLU(inplace=True)\n",
       "  (maxpool): MaxPool2d(kernel_size=3, stride=2, padding=1, dilation=1, ceil_mode=False)\n",
       "  (layer1): Sequential(\n",
       "    (0): Bottleneck(\n",
       "      (conv1): Conv2d(64, 64, kernel_size=(1, 1), stride=(1, 1), bias=False)\n",
       "      (bn1): BatchNorm2d(64, eps=1e-05, momentum=0.1, affine=True, track_running_stats=True)\n",
       "      (conv2): Conv2d(64, 64, kernel_size=(3, 3), stride=(1, 1), padding=(1, 1), bias=False)\n",
       "      (bn2): BatchNorm2d(64, eps=1e-05, momentum=0.1, affine=True, track_running_stats=True)\n",
       "      (conv3): Conv2d(64, 256, kernel_size=(1, 1), stride=(1, 1), bias=False)\n",
       "      (bn3): BatchNorm2d(256, eps=1e-05, momentum=0.1, affine=True, track_running_stats=True)\n",
       "      (relu): ReLU(inplace=True)\n",
       "      (downsample): Sequential(\n",
       "        (0): Conv2d(64, 256, kernel_size=(1, 1), stride=(1, 1), bias=False)\n",
       "        (1): BatchNorm2d(256, eps=1e-05, momentum=0.1, affine=True, track_running_stats=True)\n",
       "      )\n",
       "    )\n",
       "    (1): Bottleneck(\n",
       "      (conv1): Conv2d(256, 64, kernel_size=(1, 1), stride=(1, 1), bias=False)\n",
       "      (bn1): BatchNorm2d(64, eps=1e-05, momentum=0.1, affine=True, track_running_stats=True)\n",
       "      (conv2): Conv2d(64, 64, kernel_size=(3, 3), stride=(1, 1), padding=(1, 1), bias=False)\n",
       "      (bn2): BatchNorm2d(64, eps=1e-05, momentum=0.1, affine=True, track_running_stats=True)\n",
       "      (conv3): Conv2d(64, 256, kernel_size=(1, 1), stride=(1, 1), bias=False)\n",
       "      (bn3): BatchNorm2d(256, eps=1e-05, momentum=0.1, affine=True, track_running_stats=True)\n",
       "      (relu): ReLU(inplace=True)\n",
       "    )\n",
       "    (2): Bottleneck(\n",
       "      (conv1): Conv2d(256, 64, kernel_size=(1, 1), stride=(1, 1), bias=False)\n",
       "      (bn1): BatchNorm2d(64, eps=1e-05, momentum=0.1, affine=True, track_running_stats=True)\n",
       "      (conv2): Conv2d(64, 64, kernel_size=(3, 3), stride=(1, 1), padding=(1, 1), bias=False)\n",
       "      (bn2): BatchNorm2d(64, eps=1e-05, momentum=0.1, affine=True, track_running_stats=True)\n",
       "      (conv3): Conv2d(64, 256, kernel_size=(1, 1), stride=(1, 1), bias=False)\n",
       "      (bn3): BatchNorm2d(256, eps=1e-05, momentum=0.1, affine=True, track_running_stats=True)\n",
       "      (relu): ReLU(inplace=True)\n",
       "    )\n",
       "  )\n",
       "  (layer2): Sequential(\n",
       "    (0): Bottleneck(\n",
       "      (conv1): Conv2d(256, 128, kernel_size=(1, 1), stride=(1, 1), bias=False)\n",
       "      (bn1): BatchNorm2d(128, eps=1e-05, momentum=0.1, affine=True, track_running_stats=True)\n",
       "      (conv2): Conv2d(128, 128, kernel_size=(3, 3), stride=(2, 2), padding=(1, 1), bias=False)\n",
       "      (bn2): BatchNorm2d(128, eps=1e-05, momentum=0.1, affine=True, track_running_stats=True)\n",
       "      (conv3): Conv2d(128, 512, kernel_size=(1, 1), stride=(1, 1), bias=False)\n",
       "      (bn3): BatchNorm2d(512, eps=1e-05, momentum=0.1, affine=True, track_running_stats=True)\n",
       "      (relu): ReLU(inplace=True)\n",
       "      (downsample): Sequential(\n",
       "        (0): Conv2d(256, 512, kernel_size=(1, 1), stride=(2, 2), bias=False)\n",
       "        (1): BatchNorm2d(512, eps=1e-05, momentum=0.1, affine=True, track_running_stats=True)\n",
       "      )\n",
       "    )\n",
       "    (1): Bottleneck(\n",
       "      (conv1): Conv2d(512, 128, kernel_size=(1, 1), stride=(1, 1), bias=False)\n",
       "      (bn1): BatchNorm2d(128, eps=1e-05, momentum=0.1, affine=True, track_running_stats=True)\n",
       "      (conv2): Conv2d(128, 128, kernel_size=(3, 3), stride=(1, 1), padding=(1, 1), bias=False)\n",
       "      (bn2): BatchNorm2d(128, eps=1e-05, momentum=0.1, affine=True, track_running_stats=True)\n",
       "      (conv3): Conv2d(128, 512, kernel_size=(1, 1), stride=(1, 1), bias=False)\n",
       "      (bn3): BatchNorm2d(512, eps=1e-05, momentum=0.1, affine=True, track_running_stats=True)\n",
       "      (relu): ReLU(inplace=True)\n",
       "    )\n",
       "    (2): Bottleneck(\n",
       "      (conv1): Conv2d(512, 128, kernel_size=(1, 1), stride=(1, 1), bias=False)\n",
       "      (bn1): BatchNorm2d(128, eps=1e-05, momentum=0.1, affine=True, track_running_stats=True)\n",
       "      (conv2): Conv2d(128, 128, kernel_size=(3, 3), stride=(1, 1), padding=(1, 1), bias=False)\n",
       "      (bn2): BatchNorm2d(128, eps=1e-05, momentum=0.1, affine=True, track_running_stats=True)\n",
       "      (conv3): Conv2d(128, 512, kernel_size=(1, 1), stride=(1, 1), bias=False)\n",
       "      (bn3): BatchNorm2d(512, eps=1e-05, momentum=0.1, affine=True, track_running_stats=True)\n",
       "      (relu): ReLU(inplace=True)\n",
       "    )\n",
       "    (3): Bottleneck(\n",
       "      (conv1): Conv2d(512, 128, kernel_size=(1, 1), stride=(1, 1), bias=False)\n",
       "      (bn1): BatchNorm2d(128, eps=1e-05, momentum=0.1, affine=True, track_running_stats=True)\n",
       "      (conv2): Conv2d(128, 128, kernel_size=(3, 3), stride=(1, 1), padding=(1, 1), bias=False)\n",
       "      (bn2): BatchNorm2d(128, eps=1e-05, momentum=0.1, affine=True, track_running_stats=True)\n",
       "      (conv3): Conv2d(128, 512, kernel_size=(1, 1), stride=(1, 1), bias=False)\n",
       "      (bn3): BatchNorm2d(512, eps=1e-05, momentum=0.1, affine=True, track_running_stats=True)\n",
       "      (relu): ReLU(inplace=True)\n",
       "    )\n",
       "  )\n",
       "  (layer3): Sequential(\n",
       "    (0): Bottleneck(\n",
       "      (conv1): Conv2d(512, 256, kernel_size=(1, 1), stride=(1, 1), bias=False)\n",
       "      (bn1): BatchNorm2d(256, eps=1e-05, momentum=0.1, affine=True, track_running_stats=True)\n",
       "      (conv2): Conv2d(256, 256, kernel_size=(3, 3), stride=(2, 2), padding=(1, 1), bias=False)\n",
       "      (bn2): BatchNorm2d(256, eps=1e-05, momentum=0.1, affine=True, track_running_stats=True)\n",
       "      (conv3): Conv2d(256, 1024, kernel_size=(1, 1), stride=(1, 1), bias=False)\n",
       "      (bn3): BatchNorm2d(1024, eps=1e-05, momentum=0.1, affine=True, track_running_stats=True)\n",
       "      (relu): ReLU(inplace=True)\n",
       "      (downsample): Sequential(\n",
       "        (0): Conv2d(512, 1024, kernel_size=(1, 1), stride=(2, 2), bias=False)\n",
       "        (1): BatchNorm2d(1024, eps=1e-05, momentum=0.1, affine=True, track_running_stats=True)\n",
       "      )\n",
       "    )\n",
       "    (1): Bottleneck(\n",
       "      (conv1): Conv2d(1024, 256, kernel_size=(1, 1), stride=(1, 1), bias=False)\n",
       "      (bn1): BatchNorm2d(256, eps=1e-05, momentum=0.1, affine=True, track_running_stats=True)\n",
       "      (conv2): Conv2d(256, 256, kernel_size=(3, 3), stride=(1, 1), padding=(1, 1), bias=False)\n",
       "      (bn2): BatchNorm2d(256, eps=1e-05, momentum=0.1, affine=True, track_running_stats=True)\n",
       "      (conv3): Conv2d(256, 1024, kernel_size=(1, 1), stride=(1, 1), bias=False)\n",
       "      (bn3): BatchNorm2d(1024, eps=1e-05, momentum=0.1, affine=True, track_running_stats=True)\n",
       "      (relu): ReLU(inplace=True)\n",
       "    )\n",
       "    (2): Bottleneck(\n",
       "      (conv1): Conv2d(1024, 256, kernel_size=(1, 1), stride=(1, 1), bias=False)\n",
       "      (bn1): BatchNorm2d(256, eps=1e-05, momentum=0.1, affine=True, track_running_stats=True)\n",
       "      (conv2): Conv2d(256, 256, kernel_size=(3, 3), stride=(1, 1), padding=(1, 1), bias=False)\n",
       "      (bn2): BatchNorm2d(256, eps=1e-05, momentum=0.1, affine=True, track_running_stats=True)\n",
       "      (conv3): Conv2d(256, 1024, kernel_size=(1, 1), stride=(1, 1), bias=False)\n",
       "      (bn3): BatchNorm2d(1024, eps=1e-05, momentum=0.1, affine=True, track_running_stats=True)\n",
       "      (relu): ReLU(inplace=True)\n",
       "    )\n",
       "    (3): Bottleneck(\n",
       "      (conv1): Conv2d(1024, 256, kernel_size=(1, 1), stride=(1, 1), bias=False)\n",
       "      (bn1): BatchNorm2d(256, eps=1e-05, momentum=0.1, affine=True, track_running_stats=True)\n",
       "      (conv2): Conv2d(256, 256, kernel_size=(3, 3), stride=(1, 1), padding=(1, 1), bias=False)\n",
       "      (bn2): BatchNorm2d(256, eps=1e-05, momentum=0.1, affine=True, track_running_stats=True)\n",
       "      (conv3): Conv2d(256, 1024, kernel_size=(1, 1), stride=(1, 1), bias=False)\n",
       "      (bn3): BatchNorm2d(1024, eps=1e-05, momentum=0.1, affine=True, track_running_stats=True)\n",
       "      (relu): ReLU(inplace=True)\n",
       "    )\n",
       "    (4): Bottleneck(\n",
       "      (conv1): Conv2d(1024, 256, kernel_size=(1, 1), stride=(1, 1), bias=False)\n",
       "      (bn1): BatchNorm2d(256, eps=1e-05, momentum=0.1, affine=True, track_running_stats=True)\n",
       "      (conv2): Conv2d(256, 256, kernel_size=(3, 3), stride=(1, 1), padding=(1, 1), bias=False)\n",
       "      (bn2): BatchNorm2d(256, eps=1e-05, momentum=0.1, affine=True, track_running_stats=True)\n",
       "      (conv3): Conv2d(256, 1024, kernel_size=(1, 1), stride=(1, 1), bias=False)\n",
       "      (bn3): BatchNorm2d(1024, eps=1e-05, momentum=0.1, affine=True, track_running_stats=True)\n",
       "      (relu): ReLU(inplace=True)\n",
       "    )\n",
       "    (5): Bottleneck(\n",
       "      (conv1): Conv2d(1024, 256, kernel_size=(1, 1), stride=(1, 1), bias=False)\n",
       "      (bn1): BatchNorm2d(256, eps=1e-05, momentum=0.1, affine=True, track_running_stats=True)\n",
       "      (conv2): Conv2d(256, 256, kernel_size=(3, 3), stride=(1, 1), padding=(1, 1), bias=False)\n",
       "      (bn2): BatchNorm2d(256, eps=1e-05, momentum=0.1, affine=True, track_running_stats=True)\n",
       "      (conv3): Conv2d(256, 1024, kernel_size=(1, 1), stride=(1, 1), bias=False)\n",
       "      (bn3): BatchNorm2d(1024, eps=1e-05, momentum=0.1, affine=True, track_running_stats=True)\n",
       "      (relu): ReLU(inplace=True)\n",
       "    )\n",
       "    (6): Bottleneck(\n",
       "      (conv1): Conv2d(1024, 256, kernel_size=(1, 1), stride=(1, 1), bias=False)\n",
       "      (bn1): BatchNorm2d(256, eps=1e-05, momentum=0.1, affine=True, track_running_stats=True)\n",
       "      (conv2): Conv2d(256, 256, kernel_size=(3, 3), stride=(1, 1), padding=(1, 1), bias=False)\n",
       "      (bn2): BatchNorm2d(256, eps=1e-05, momentum=0.1, affine=True, track_running_stats=True)\n",
       "      (conv3): Conv2d(256, 1024, kernel_size=(1, 1), stride=(1, 1), bias=False)\n",
       "      (bn3): BatchNorm2d(1024, eps=1e-05, momentum=0.1, affine=True, track_running_stats=True)\n",
       "      (relu): ReLU(inplace=True)\n",
       "    )\n",
       "    (7): Bottleneck(\n",
       "      (conv1): Conv2d(1024, 256, kernel_size=(1, 1), stride=(1, 1), bias=False)\n",
       "      (bn1): BatchNorm2d(256, eps=1e-05, momentum=0.1, affine=True, track_running_stats=True)\n",
       "      (conv2): Conv2d(256, 256, kernel_size=(3, 3), stride=(1, 1), padding=(1, 1), bias=False)\n",
       "      (bn2): BatchNorm2d(256, eps=1e-05, momentum=0.1, affine=True, track_running_stats=True)\n",
       "      (conv3): Conv2d(256, 1024, kernel_size=(1, 1), stride=(1, 1), bias=False)\n",
       "      (bn3): BatchNorm2d(1024, eps=1e-05, momentum=0.1, affine=True, track_running_stats=True)\n",
       "      (relu): ReLU(inplace=True)\n",
       "    )\n",
       "    (8): Bottleneck(\n",
       "      (conv1): Conv2d(1024, 256, kernel_size=(1, 1), stride=(1, 1), bias=False)\n",
       "      (bn1): BatchNorm2d(256, eps=1e-05, momentum=0.1, affine=True, track_running_stats=True)\n",
       "      (conv2): Conv2d(256, 256, kernel_size=(3, 3), stride=(1, 1), padding=(1, 1), bias=False)\n",
       "      (bn2): BatchNorm2d(256, eps=1e-05, momentum=0.1, affine=True, track_running_stats=True)\n",
       "      (conv3): Conv2d(256, 1024, kernel_size=(1, 1), stride=(1, 1), bias=False)\n",
       "      (bn3): BatchNorm2d(1024, eps=1e-05, momentum=0.1, affine=True, track_running_stats=True)\n",
       "      (relu): ReLU(inplace=True)\n",
       "    )\n",
       "    (9): Bottleneck(\n",
       "      (conv1): Conv2d(1024, 256, kernel_size=(1, 1), stride=(1, 1), bias=False)\n",
       "      (bn1): BatchNorm2d(256, eps=1e-05, momentum=0.1, affine=True, track_running_stats=True)\n",
       "      (conv2): Conv2d(256, 256, kernel_size=(3, 3), stride=(1, 1), padding=(1, 1), bias=False)\n",
       "      (bn2): BatchNorm2d(256, eps=1e-05, momentum=0.1, affine=True, track_running_stats=True)\n",
       "      (conv3): Conv2d(256, 1024, kernel_size=(1, 1), stride=(1, 1), bias=False)\n",
       "      (bn3): BatchNorm2d(1024, eps=1e-05, momentum=0.1, affine=True, track_running_stats=True)\n",
       "      (relu): ReLU(inplace=True)\n",
       "    )\n",
       "    (10): Bottleneck(\n",
       "      (conv1): Conv2d(1024, 256, kernel_size=(1, 1), stride=(1, 1), bias=False)\n",
       "      (bn1): BatchNorm2d(256, eps=1e-05, momentum=0.1, affine=True, track_running_stats=True)\n",
       "      (conv2): Conv2d(256, 256, kernel_size=(3, 3), stride=(1, 1), padding=(1, 1), bias=False)\n",
       "      (bn2): BatchNorm2d(256, eps=1e-05, momentum=0.1, affine=True, track_running_stats=True)\n",
       "      (conv3): Conv2d(256, 1024, kernel_size=(1, 1), stride=(1, 1), bias=False)\n",
       "      (bn3): BatchNorm2d(1024, eps=1e-05, momentum=0.1, affine=True, track_running_stats=True)\n",
       "      (relu): ReLU(inplace=True)\n",
       "    )\n",
       "    (11): Bottleneck(\n",
       "      (conv1): Conv2d(1024, 256, kernel_size=(1, 1), stride=(1, 1), bias=False)\n",
       "      (bn1): BatchNorm2d(256, eps=1e-05, momentum=0.1, affine=True, track_running_stats=True)\n",
       "      (conv2): Conv2d(256, 256, kernel_size=(3, 3), stride=(1, 1), padding=(1, 1), bias=False)\n",
       "      (bn2): BatchNorm2d(256, eps=1e-05, momentum=0.1, affine=True, track_running_stats=True)\n",
       "      (conv3): Conv2d(256, 1024, kernel_size=(1, 1), stride=(1, 1), bias=False)\n",
       "      (bn3): BatchNorm2d(1024, eps=1e-05, momentum=0.1, affine=True, track_running_stats=True)\n",
       "      (relu): ReLU(inplace=True)\n",
       "    )\n",
       "    (12): Bottleneck(\n",
       "      (conv1): Conv2d(1024, 256, kernel_size=(1, 1), stride=(1, 1), bias=False)\n",
       "      (bn1): BatchNorm2d(256, eps=1e-05, momentum=0.1, affine=True, track_running_stats=True)\n",
       "      (conv2): Conv2d(256, 256, kernel_size=(3, 3), stride=(1, 1), padding=(1, 1), bias=False)\n",
       "      (bn2): BatchNorm2d(256, eps=1e-05, momentum=0.1, affine=True, track_running_stats=True)\n",
       "      (conv3): Conv2d(256, 1024, kernel_size=(1, 1), stride=(1, 1), bias=False)\n",
       "      (bn3): BatchNorm2d(1024, eps=1e-05, momentum=0.1, affine=True, track_running_stats=True)\n",
       "      (relu): ReLU(inplace=True)\n",
       "    )\n",
       "    (13): Bottleneck(\n",
       "      (conv1): Conv2d(1024, 256, kernel_size=(1, 1), stride=(1, 1), bias=False)\n",
       "      (bn1): BatchNorm2d(256, eps=1e-05, momentum=0.1, affine=True, track_running_stats=True)\n",
       "      (conv2): Conv2d(256, 256, kernel_size=(3, 3), stride=(1, 1), padding=(1, 1), bias=False)\n",
       "      (bn2): BatchNorm2d(256, eps=1e-05, momentum=0.1, affine=True, track_running_stats=True)\n",
       "      (conv3): Conv2d(256, 1024, kernel_size=(1, 1), stride=(1, 1), bias=False)\n",
       "      (bn3): BatchNorm2d(1024, eps=1e-05, momentum=0.1, affine=True, track_running_stats=True)\n",
       "      (relu): ReLU(inplace=True)\n",
       "    )\n",
       "    (14): Bottleneck(\n",
       "      (conv1): Conv2d(1024, 256, kernel_size=(1, 1), stride=(1, 1), bias=False)\n",
       "      (bn1): BatchNorm2d(256, eps=1e-05, momentum=0.1, affine=True, track_running_stats=True)\n",
       "      (conv2): Conv2d(256, 256, kernel_size=(3, 3), stride=(1, 1), padding=(1, 1), bias=False)\n",
       "      (bn2): BatchNorm2d(256, eps=1e-05, momentum=0.1, affine=True, track_running_stats=True)\n",
       "      (conv3): Conv2d(256, 1024, kernel_size=(1, 1), stride=(1, 1), bias=False)\n",
       "      (bn3): BatchNorm2d(1024, eps=1e-05, momentum=0.1, affine=True, track_running_stats=True)\n",
       "      (relu): ReLU(inplace=True)\n",
       "    )\n",
       "    (15): Bottleneck(\n",
       "      (conv1): Conv2d(1024, 256, kernel_size=(1, 1), stride=(1, 1), bias=False)\n",
       "      (bn1): BatchNorm2d(256, eps=1e-05, momentum=0.1, affine=True, track_running_stats=True)\n",
       "      (conv2): Conv2d(256, 256, kernel_size=(3, 3), stride=(1, 1), padding=(1, 1), bias=False)\n",
       "      (bn2): BatchNorm2d(256, eps=1e-05, momentum=0.1, affine=True, track_running_stats=True)\n",
       "      (conv3): Conv2d(256, 1024, kernel_size=(1, 1), stride=(1, 1), bias=False)\n",
       "      (bn3): BatchNorm2d(1024, eps=1e-05, momentum=0.1, affine=True, track_running_stats=True)\n",
       "      (relu): ReLU(inplace=True)\n",
       "    )\n",
       "    (16): Bottleneck(\n",
       "      (conv1): Conv2d(1024, 256, kernel_size=(1, 1), stride=(1, 1), bias=False)\n",
       "      (bn1): BatchNorm2d(256, eps=1e-05, momentum=0.1, affine=True, track_running_stats=True)\n",
       "      (conv2): Conv2d(256, 256, kernel_size=(3, 3), stride=(1, 1), padding=(1, 1), bias=False)\n",
       "      (bn2): BatchNorm2d(256, eps=1e-05, momentum=0.1, affine=True, track_running_stats=True)\n",
       "      (conv3): Conv2d(256, 1024, kernel_size=(1, 1), stride=(1, 1), bias=False)\n",
       "      (bn3): BatchNorm2d(1024, eps=1e-05, momentum=0.1, affine=True, track_running_stats=True)\n",
       "      (relu): ReLU(inplace=True)\n",
       "    )\n",
       "    (17): Bottleneck(\n",
       "      (conv1): Conv2d(1024, 256, kernel_size=(1, 1), stride=(1, 1), bias=False)\n",
       "      (bn1): BatchNorm2d(256, eps=1e-05, momentum=0.1, affine=True, track_running_stats=True)\n",
       "      (conv2): Conv2d(256, 256, kernel_size=(3, 3), stride=(1, 1), padding=(1, 1), bias=False)\n",
       "      (bn2): BatchNorm2d(256, eps=1e-05, momentum=0.1, affine=True, track_running_stats=True)\n",
       "      (conv3): Conv2d(256, 1024, kernel_size=(1, 1), stride=(1, 1), bias=False)\n",
       "      (bn3): BatchNorm2d(1024, eps=1e-05, momentum=0.1, affine=True, track_running_stats=True)\n",
       "      (relu): ReLU(inplace=True)\n",
       "    )\n",
       "    (18): Bottleneck(\n",
       "      (conv1): Conv2d(1024, 256, kernel_size=(1, 1), stride=(1, 1), bias=False)\n",
       "      (bn1): BatchNorm2d(256, eps=1e-05, momentum=0.1, affine=True, track_running_stats=True)\n",
       "      (conv2): Conv2d(256, 256, kernel_size=(3, 3), stride=(1, 1), padding=(1, 1), bias=False)\n",
       "      (bn2): BatchNorm2d(256, eps=1e-05, momentum=0.1, affine=True, track_running_stats=True)\n",
       "      (conv3): Conv2d(256, 1024, kernel_size=(1, 1), stride=(1, 1), bias=False)\n",
       "      (bn3): BatchNorm2d(1024, eps=1e-05, momentum=0.1, affine=True, track_running_stats=True)\n",
       "      (relu): ReLU(inplace=True)\n",
       "    )\n",
       "    (19): Bottleneck(\n",
       "      (conv1): Conv2d(1024, 256, kernel_size=(1, 1), stride=(1, 1), bias=False)\n",
       "      (bn1): BatchNorm2d(256, eps=1e-05, momentum=0.1, affine=True, track_running_stats=True)\n",
       "      (conv2): Conv2d(256, 256, kernel_size=(3, 3), stride=(1, 1), padding=(1, 1), bias=False)\n",
       "      (bn2): BatchNorm2d(256, eps=1e-05, momentum=0.1, affine=True, track_running_stats=True)\n",
       "      (conv3): Conv2d(256, 1024, kernel_size=(1, 1), stride=(1, 1), bias=False)\n",
       "      (bn3): BatchNorm2d(1024, eps=1e-05, momentum=0.1, affine=True, track_running_stats=True)\n",
       "      (relu): ReLU(inplace=True)\n",
       "    )\n",
       "    (20): Bottleneck(\n",
       "      (conv1): Conv2d(1024, 256, kernel_size=(1, 1), stride=(1, 1), bias=False)\n",
       "      (bn1): BatchNorm2d(256, eps=1e-05, momentum=0.1, affine=True, track_running_stats=True)\n",
       "      (conv2): Conv2d(256, 256, kernel_size=(3, 3), stride=(1, 1), padding=(1, 1), bias=False)\n",
       "      (bn2): BatchNorm2d(256, eps=1e-05, momentum=0.1, affine=True, track_running_stats=True)\n",
       "      (conv3): Conv2d(256, 1024, kernel_size=(1, 1), stride=(1, 1), bias=False)\n",
       "      (bn3): BatchNorm2d(1024, eps=1e-05, momentum=0.1, affine=True, track_running_stats=True)\n",
       "      (relu): ReLU(inplace=True)\n",
       "    )\n",
       "    (21): Bottleneck(\n",
       "      (conv1): Conv2d(1024, 256, kernel_size=(1, 1), stride=(1, 1), bias=False)\n",
       "      (bn1): BatchNorm2d(256, eps=1e-05, momentum=0.1, affine=True, track_running_stats=True)\n",
       "      (conv2): Conv2d(256, 256, kernel_size=(3, 3), stride=(1, 1), padding=(1, 1), bias=False)\n",
       "      (bn2): BatchNorm2d(256, eps=1e-05, momentum=0.1, affine=True, track_running_stats=True)\n",
       "      (conv3): Conv2d(256, 1024, kernel_size=(1, 1), stride=(1, 1), bias=False)\n",
       "      (bn3): BatchNorm2d(1024, eps=1e-05, momentum=0.1, affine=True, track_running_stats=True)\n",
       "      (relu): ReLU(inplace=True)\n",
       "    )\n",
       "    (22): Bottleneck(\n",
       "      (conv1): Conv2d(1024, 256, kernel_size=(1, 1), stride=(1, 1), bias=False)\n",
       "      (bn1): BatchNorm2d(256, eps=1e-05, momentum=0.1, affine=True, track_running_stats=True)\n",
       "      (conv2): Conv2d(256, 256, kernel_size=(3, 3), stride=(1, 1), padding=(1, 1), bias=False)\n",
       "      (bn2): BatchNorm2d(256, eps=1e-05, momentum=0.1, affine=True, track_running_stats=True)\n",
       "      (conv3): Conv2d(256, 1024, kernel_size=(1, 1), stride=(1, 1), bias=False)\n",
       "      (bn3): BatchNorm2d(1024, eps=1e-05, momentum=0.1, affine=True, track_running_stats=True)\n",
       "      (relu): ReLU(inplace=True)\n",
       "    )\n",
       "  )\n",
       "  (layer4): Sequential(\n",
       "    (0): Bottleneck(\n",
       "      (conv1): Conv2d(1024, 512, kernel_size=(1, 1), stride=(1, 1), bias=False)\n",
       "      (bn1): BatchNorm2d(512, eps=1e-05, momentum=0.1, affine=True, track_running_stats=True)\n",
       "      (conv2): Conv2d(512, 512, kernel_size=(3, 3), stride=(2, 2), padding=(1, 1), bias=False)\n",
       "      (bn2): BatchNorm2d(512, eps=1e-05, momentum=0.1, affine=True, track_running_stats=True)\n",
       "      (conv3): Conv2d(512, 2048, kernel_size=(1, 1), stride=(1, 1), bias=False)\n",
       "      (bn3): BatchNorm2d(2048, eps=1e-05, momentum=0.1, affine=True, track_running_stats=True)\n",
       "      (relu): ReLU(inplace=True)\n",
       "      (downsample): Sequential(\n",
       "        (0): Conv2d(1024, 2048, kernel_size=(1, 1), stride=(2, 2), bias=False)\n",
       "        (1): BatchNorm2d(2048, eps=1e-05, momentum=0.1, affine=True, track_running_stats=True)\n",
       "      )\n",
       "    )\n",
       "    (1): Bottleneck(\n",
       "      (conv1): Conv2d(2048, 512, kernel_size=(1, 1), stride=(1, 1), bias=False)\n",
       "      (bn1): BatchNorm2d(512, eps=1e-05, momentum=0.1, affine=True, track_running_stats=True)\n",
       "      (conv2): Conv2d(512, 512, kernel_size=(3, 3), stride=(1, 1), padding=(1, 1), bias=False)\n",
       "      (bn2): BatchNorm2d(512, eps=1e-05, momentum=0.1, affine=True, track_running_stats=True)\n",
       "      (conv3): Conv2d(512, 2048, kernel_size=(1, 1), stride=(1, 1), bias=False)\n",
       "      (bn3): BatchNorm2d(2048, eps=1e-05, momentum=0.1, affine=True, track_running_stats=True)\n",
       "      (relu): ReLU(inplace=True)\n",
       "    )\n",
       "    (2): Bottleneck(\n",
       "      (conv1): Conv2d(2048, 512, kernel_size=(1, 1), stride=(1, 1), bias=False)\n",
       "      (bn1): BatchNorm2d(512, eps=1e-05, momentum=0.1, affine=True, track_running_stats=True)\n",
       "      (conv2): Conv2d(512, 512, kernel_size=(3, 3), stride=(1, 1), padding=(1, 1), bias=False)\n",
       "      (bn2): BatchNorm2d(512, eps=1e-05, momentum=0.1, affine=True, track_running_stats=True)\n",
       "      (conv3): Conv2d(512, 2048, kernel_size=(1, 1), stride=(1, 1), bias=False)\n",
       "      (bn3): BatchNorm2d(2048, eps=1e-05, momentum=0.1, affine=True, track_running_stats=True)\n",
       "      (relu): ReLU(inplace=True)\n",
       "    )\n",
       "  )\n",
       "  (avgpool): AdaptiveAvgPool2d(output_size=(1, 1))\n",
       "  (fc): Linear(in_features=2048, out_features=1000, bias=True)\n",
       ")"
      ]
     },
     "execution_count": 6,
     "metadata": {},
     "output_type": "execute_result"
    }
   ],
   "source": [
    "# resnet的网络结构\n",
    "resnet"
   ]
  },
  {
   "attachments": {},
   "cell_type": "markdown",
   "id": "b1345e60-20ad-461f-a763-f123e77da84f",
   "metadata": {},
   "source": [
    "## 预处理函数处理图片"
   ]
  },
  {
   "cell_type": "code",
   "execution_count": 7,
   "id": "9df67602-993b-4be9-a14a-2636209d6c25",
   "metadata": {},
   "outputs": [],
   "source": [
    "from torchvision import transforms"
   ]
  },
  {
   "cell_type": "code",
   "execution_count": 9,
   "id": "46933089-ad05-4668-b80c-59c6dee13a48",
   "metadata": {},
   "outputs": [],
   "source": [
    "preprocess = transforms.Compose(\n",
    "    [\n",
    "        transforms.Resize(256),\n",
    "        transforms.CenterCrop(224),\n",
    "        transforms.ToTensor(),\n",
    "        transforms.Normalize(mean=[0.485, 0.456, 0.406], std=[0.229, 0.224, 0.225]),\n",
    "    ]\n",
    ")"
   ]
  },
  {
   "cell_type": "code",
   "execution_count": 10,
   "id": "5479536f-e893-4083-92a6-0ab7b8c386db",
   "metadata": {},
   "outputs": [],
   "source": [
    "# 从本地加载一个图片\n",
    "from PIL import Image"
   ]
  },
  {
   "cell_type": "code",
   "execution_count": 12,
   "id": "6bd9fd4a-8e30-42eb-a7b6-842c0c8966f5",
   "metadata": {},
   "outputs": [],
   "source": [
    "img = Image.open(\"./dog1.jpg\")"
   ]
  },
  {
   "cell_type": "code",
   "execution_count": 13,
   "id": "1df47144-afc9-4b96-b88f-c8afae9fc1d3",
   "metadata": {},
   "outputs": [],
   "source": [
    "# 查看图片\n",
    "img.show()"
   ]
  },
  {
   "cell_type": "code",
   "execution_count": 16,
   "id": "e47f32b9-f363-4ac7-a843-a55dc064dbe6",
   "metadata": {
    "tags": []
   },
   "outputs": [
    {
     "data": {
      "text/plain": [
       "torch.Size([3, 224, 224])"
      ]
     },
     "execution_count": 16,
     "metadata": {},
     "output_type": "execute_result"
    }
   ],
   "source": [
    "img_t = preprocess(img)\n",
    "img_t.shape"
   ]
  },
  {
   "cell_type": "code",
   "execution_count": 17,
   "id": "39f339fd-5bce-4b94-bba1-31aed59cded0",
   "metadata": {},
   "outputs": [
    {
     "data": {
      "text/plain": [
       "torch.Size([1, 3, 224, 224])"
      ]
     },
     "execution_count": 17,
     "metadata": {},
     "output_type": "execute_result"
    }
   ],
   "source": [
    "batch_t = torch.unsqueeze(img_t, 0)\n",
    "batch_t.shape"
   ]
  },
  {
   "attachments": {},
   "cell_type": "markdown",
   "id": "16385703-6c3f-44d7-9c17-f6617874601d",
   "metadata": {},
   "source": [
    "## 运行模型（推理）"
   ]
  },
  {
   "cell_type": "code",
   "execution_count": 18,
   "id": "812a0b8f-a690-46ab-b6d4-d280a9b49a03",
   "metadata": {
    "collapsed": true,
    "jupyter": {
     "outputs_hidden": true
    },
    "tags": []
   },
   "outputs": [
    {
     "data": {
      "text/plain": [
       "ResNet(\n",
       "  (conv1): Conv2d(3, 64, kernel_size=(7, 7), stride=(2, 2), padding=(3, 3), bias=False)\n",
       "  (bn1): BatchNorm2d(64, eps=1e-05, momentum=0.1, affine=True, track_running_stats=True)\n",
       "  (relu): ReLU(inplace=True)\n",
       "  (maxpool): MaxPool2d(kernel_size=3, stride=2, padding=1, dilation=1, ceil_mode=False)\n",
       "  (layer1): Sequential(\n",
       "    (0): Bottleneck(\n",
       "      (conv1): Conv2d(64, 64, kernel_size=(1, 1), stride=(1, 1), bias=False)\n",
       "      (bn1): BatchNorm2d(64, eps=1e-05, momentum=0.1, affine=True, track_running_stats=True)\n",
       "      (conv2): Conv2d(64, 64, kernel_size=(3, 3), stride=(1, 1), padding=(1, 1), bias=False)\n",
       "      (bn2): BatchNorm2d(64, eps=1e-05, momentum=0.1, affine=True, track_running_stats=True)\n",
       "      (conv3): Conv2d(64, 256, kernel_size=(1, 1), stride=(1, 1), bias=False)\n",
       "      (bn3): BatchNorm2d(256, eps=1e-05, momentum=0.1, affine=True, track_running_stats=True)\n",
       "      (relu): ReLU(inplace=True)\n",
       "      (downsample): Sequential(\n",
       "        (0): Conv2d(64, 256, kernel_size=(1, 1), stride=(1, 1), bias=False)\n",
       "        (1): BatchNorm2d(256, eps=1e-05, momentum=0.1, affine=True, track_running_stats=True)\n",
       "      )\n",
       "    )\n",
       "    (1): Bottleneck(\n",
       "      (conv1): Conv2d(256, 64, kernel_size=(1, 1), stride=(1, 1), bias=False)\n",
       "      (bn1): BatchNorm2d(64, eps=1e-05, momentum=0.1, affine=True, track_running_stats=True)\n",
       "      (conv2): Conv2d(64, 64, kernel_size=(3, 3), stride=(1, 1), padding=(1, 1), bias=False)\n",
       "      (bn2): BatchNorm2d(64, eps=1e-05, momentum=0.1, affine=True, track_running_stats=True)\n",
       "      (conv3): Conv2d(64, 256, kernel_size=(1, 1), stride=(1, 1), bias=False)\n",
       "      (bn3): BatchNorm2d(256, eps=1e-05, momentum=0.1, affine=True, track_running_stats=True)\n",
       "      (relu): ReLU(inplace=True)\n",
       "    )\n",
       "    (2): Bottleneck(\n",
       "      (conv1): Conv2d(256, 64, kernel_size=(1, 1), stride=(1, 1), bias=False)\n",
       "      (bn1): BatchNorm2d(64, eps=1e-05, momentum=0.1, affine=True, track_running_stats=True)\n",
       "      (conv2): Conv2d(64, 64, kernel_size=(3, 3), stride=(1, 1), padding=(1, 1), bias=False)\n",
       "      (bn2): BatchNorm2d(64, eps=1e-05, momentum=0.1, affine=True, track_running_stats=True)\n",
       "      (conv3): Conv2d(64, 256, kernel_size=(1, 1), stride=(1, 1), bias=False)\n",
       "      (bn3): BatchNorm2d(256, eps=1e-05, momentum=0.1, affine=True, track_running_stats=True)\n",
       "      (relu): ReLU(inplace=True)\n",
       "    )\n",
       "  )\n",
       "  (layer2): Sequential(\n",
       "    (0): Bottleneck(\n",
       "      (conv1): Conv2d(256, 128, kernel_size=(1, 1), stride=(1, 1), bias=False)\n",
       "      (bn1): BatchNorm2d(128, eps=1e-05, momentum=0.1, affine=True, track_running_stats=True)\n",
       "      (conv2): Conv2d(128, 128, kernel_size=(3, 3), stride=(2, 2), padding=(1, 1), bias=False)\n",
       "      (bn2): BatchNorm2d(128, eps=1e-05, momentum=0.1, affine=True, track_running_stats=True)\n",
       "      (conv3): Conv2d(128, 512, kernel_size=(1, 1), stride=(1, 1), bias=False)\n",
       "      (bn3): BatchNorm2d(512, eps=1e-05, momentum=0.1, affine=True, track_running_stats=True)\n",
       "      (relu): ReLU(inplace=True)\n",
       "      (downsample): Sequential(\n",
       "        (0): Conv2d(256, 512, kernel_size=(1, 1), stride=(2, 2), bias=False)\n",
       "        (1): BatchNorm2d(512, eps=1e-05, momentum=0.1, affine=True, track_running_stats=True)\n",
       "      )\n",
       "    )\n",
       "    (1): Bottleneck(\n",
       "      (conv1): Conv2d(512, 128, kernel_size=(1, 1), stride=(1, 1), bias=False)\n",
       "      (bn1): BatchNorm2d(128, eps=1e-05, momentum=0.1, affine=True, track_running_stats=True)\n",
       "      (conv2): Conv2d(128, 128, kernel_size=(3, 3), stride=(1, 1), padding=(1, 1), bias=False)\n",
       "      (bn2): BatchNorm2d(128, eps=1e-05, momentum=0.1, affine=True, track_running_stats=True)\n",
       "      (conv3): Conv2d(128, 512, kernel_size=(1, 1), stride=(1, 1), bias=False)\n",
       "      (bn3): BatchNorm2d(512, eps=1e-05, momentum=0.1, affine=True, track_running_stats=True)\n",
       "      (relu): ReLU(inplace=True)\n",
       "    )\n",
       "    (2): Bottleneck(\n",
       "      (conv1): Conv2d(512, 128, kernel_size=(1, 1), stride=(1, 1), bias=False)\n",
       "      (bn1): BatchNorm2d(128, eps=1e-05, momentum=0.1, affine=True, track_running_stats=True)\n",
       "      (conv2): Conv2d(128, 128, kernel_size=(3, 3), stride=(1, 1), padding=(1, 1), bias=False)\n",
       "      (bn2): BatchNorm2d(128, eps=1e-05, momentum=0.1, affine=True, track_running_stats=True)\n",
       "      (conv3): Conv2d(128, 512, kernel_size=(1, 1), stride=(1, 1), bias=False)\n",
       "      (bn3): BatchNorm2d(512, eps=1e-05, momentum=0.1, affine=True, track_running_stats=True)\n",
       "      (relu): ReLU(inplace=True)\n",
       "    )\n",
       "    (3): Bottleneck(\n",
       "      (conv1): Conv2d(512, 128, kernel_size=(1, 1), stride=(1, 1), bias=False)\n",
       "      (bn1): BatchNorm2d(128, eps=1e-05, momentum=0.1, affine=True, track_running_stats=True)\n",
       "      (conv2): Conv2d(128, 128, kernel_size=(3, 3), stride=(1, 1), padding=(1, 1), bias=False)\n",
       "      (bn2): BatchNorm2d(128, eps=1e-05, momentum=0.1, affine=True, track_running_stats=True)\n",
       "      (conv3): Conv2d(128, 512, kernel_size=(1, 1), stride=(1, 1), bias=False)\n",
       "      (bn3): BatchNorm2d(512, eps=1e-05, momentum=0.1, affine=True, track_running_stats=True)\n",
       "      (relu): ReLU(inplace=True)\n",
       "    )\n",
       "  )\n",
       "  (layer3): Sequential(\n",
       "    (0): Bottleneck(\n",
       "      (conv1): Conv2d(512, 256, kernel_size=(1, 1), stride=(1, 1), bias=False)\n",
       "      (bn1): BatchNorm2d(256, eps=1e-05, momentum=0.1, affine=True, track_running_stats=True)\n",
       "      (conv2): Conv2d(256, 256, kernel_size=(3, 3), stride=(2, 2), padding=(1, 1), bias=False)\n",
       "      (bn2): BatchNorm2d(256, eps=1e-05, momentum=0.1, affine=True, track_running_stats=True)\n",
       "      (conv3): Conv2d(256, 1024, kernel_size=(1, 1), stride=(1, 1), bias=False)\n",
       "      (bn3): BatchNorm2d(1024, eps=1e-05, momentum=0.1, affine=True, track_running_stats=True)\n",
       "      (relu): ReLU(inplace=True)\n",
       "      (downsample): Sequential(\n",
       "        (0): Conv2d(512, 1024, kernel_size=(1, 1), stride=(2, 2), bias=False)\n",
       "        (1): BatchNorm2d(1024, eps=1e-05, momentum=0.1, affine=True, track_running_stats=True)\n",
       "      )\n",
       "    )\n",
       "    (1): Bottleneck(\n",
       "      (conv1): Conv2d(1024, 256, kernel_size=(1, 1), stride=(1, 1), bias=False)\n",
       "      (bn1): BatchNorm2d(256, eps=1e-05, momentum=0.1, affine=True, track_running_stats=True)\n",
       "      (conv2): Conv2d(256, 256, kernel_size=(3, 3), stride=(1, 1), padding=(1, 1), bias=False)\n",
       "      (bn2): BatchNorm2d(256, eps=1e-05, momentum=0.1, affine=True, track_running_stats=True)\n",
       "      (conv3): Conv2d(256, 1024, kernel_size=(1, 1), stride=(1, 1), bias=False)\n",
       "      (bn3): BatchNorm2d(1024, eps=1e-05, momentum=0.1, affine=True, track_running_stats=True)\n",
       "      (relu): ReLU(inplace=True)\n",
       "    )\n",
       "    (2): Bottleneck(\n",
       "      (conv1): Conv2d(1024, 256, kernel_size=(1, 1), stride=(1, 1), bias=False)\n",
       "      (bn1): BatchNorm2d(256, eps=1e-05, momentum=0.1, affine=True, track_running_stats=True)\n",
       "      (conv2): Conv2d(256, 256, kernel_size=(3, 3), stride=(1, 1), padding=(1, 1), bias=False)\n",
       "      (bn2): BatchNorm2d(256, eps=1e-05, momentum=0.1, affine=True, track_running_stats=True)\n",
       "      (conv3): Conv2d(256, 1024, kernel_size=(1, 1), stride=(1, 1), bias=False)\n",
       "      (bn3): BatchNorm2d(1024, eps=1e-05, momentum=0.1, affine=True, track_running_stats=True)\n",
       "      (relu): ReLU(inplace=True)\n",
       "    )\n",
       "    (3): Bottleneck(\n",
       "      (conv1): Conv2d(1024, 256, kernel_size=(1, 1), stride=(1, 1), bias=False)\n",
       "      (bn1): BatchNorm2d(256, eps=1e-05, momentum=0.1, affine=True, track_running_stats=True)\n",
       "      (conv2): Conv2d(256, 256, kernel_size=(3, 3), stride=(1, 1), padding=(1, 1), bias=False)\n",
       "      (bn2): BatchNorm2d(256, eps=1e-05, momentum=0.1, affine=True, track_running_stats=True)\n",
       "      (conv3): Conv2d(256, 1024, kernel_size=(1, 1), stride=(1, 1), bias=False)\n",
       "      (bn3): BatchNorm2d(1024, eps=1e-05, momentum=0.1, affine=True, track_running_stats=True)\n",
       "      (relu): ReLU(inplace=True)\n",
       "    )\n",
       "    (4): Bottleneck(\n",
       "      (conv1): Conv2d(1024, 256, kernel_size=(1, 1), stride=(1, 1), bias=False)\n",
       "      (bn1): BatchNorm2d(256, eps=1e-05, momentum=0.1, affine=True, track_running_stats=True)\n",
       "      (conv2): Conv2d(256, 256, kernel_size=(3, 3), stride=(1, 1), padding=(1, 1), bias=False)\n",
       "      (bn2): BatchNorm2d(256, eps=1e-05, momentum=0.1, affine=True, track_running_stats=True)\n",
       "      (conv3): Conv2d(256, 1024, kernel_size=(1, 1), stride=(1, 1), bias=False)\n",
       "      (bn3): BatchNorm2d(1024, eps=1e-05, momentum=0.1, affine=True, track_running_stats=True)\n",
       "      (relu): ReLU(inplace=True)\n",
       "    )\n",
       "    (5): Bottleneck(\n",
       "      (conv1): Conv2d(1024, 256, kernel_size=(1, 1), stride=(1, 1), bias=False)\n",
       "      (bn1): BatchNorm2d(256, eps=1e-05, momentum=0.1, affine=True, track_running_stats=True)\n",
       "      (conv2): Conv2d(256, 256, kernel_size=(3, 3), stride=(1, 1), padding=(1, 1), bias=False)\n",
       "      (bn2): BatchNorm2d(256, eps=1e-05, momentum=0.1, affine=True, track_running_stats=True)\n",
       "      (conv3): Conv2d(256, 1024, kernel_size=(1, 1), stride=(1, 1), bias=False)\n",
       "      (bn3): BatchNorm2d(1024, eps=1e-05, momentum=0.1, affine=True, track_running_stats=True)\n",
       "      (relu): ReLU(inplace=True)\n",
       "    )\n",
       "    (6): Bottleneck(\n",
       "      (conv1): Conv2d(1024, 256, kernel_size=(1, 1), stride=(1, 1), bias=False)\n",
       "      (bn1): BatchNorm2d(256, eps=1e-05, momentum=0.1, affine=True, track_running_stats=True)\n",
       "      (conv2): Conv2d(256, 256, kernel_size=(3, 3), stride=(1, 1), padding=(1, 1), bias=False)\n",
       "      (bn2): BatchNorm2d(256, eps=1e-05, momentum=0.1, affine=True, track_running_stats=True)\n",
       "      (conv3): Conv2d(256, 1024, kernel_size=(1, 1), stride=(1, 1), bias=False)\n",
       "      (bn3): BatchNorm2d(1024, eps=1e-05, momentum=0.1, affine=True, track_running_stats=True)\n",
       "      (relu): ReLU(inplace=True)\n",
       "    )\n",
       "    (7): Bottleneck(\n",
       "      (conv1): Conv2d(1024, 256, kernel_size=(1, 1), stride=(1, 1), bias=False)\n",
       "      (bn1): BatchNorm2d(256, eps=1e-05, momentum=0.1, affine=True, track_running_stats=True)\n",
       "      (conv2): Conv2d(256, 256, kernel_size=(3, 3), stride=(1, 1), padding=(1, 1), bias=False)\n",
       "      (bn2): BatchNorm2d(256, eps=1e-05, momentum=0.1, affine=True, track_running_stats=True)\n",
       "      (conv3): Conv2d(256, 1024, kernel_size=(1, 1), stride=(1, 1), bias=False)\n",
       "      (bn3): BatchNorm2d(1024, eps=1e-05, momentum=0.1, affine=True, track_running_stats=True)\n",
       "      (relu): ReLU(inplace=True)\n",
       "    )\n",
       "    (8): Bottleneck(\n",
       "      (conv1): Conv2d(1024, 256, kernel_size=(1, 1), stride=(1, 1), bias=False)\n",
       "      (bn1): BatchNorm2d(256, eps=1e-05, momentum=0.1, affine=True, track_running_stats=True)\n",
       "      (conv2): Conv2d(256, 256, kernel_size=(3, 3), stride=(1, 1), padding=(1, 1), bias=False)\n",
       "      (bn2): BatchNorm2d(256, eps=1e-05, momentum=0.1, affine=True, track_running_stats=True)\n",
       "      (conv3): Conv2d(256, 1024, kernel_size=(1, 1), stride=(1, 1), bias=False)\n",
       "      (bn3): BatchNorm2d(1024, eps=1e-05, momentum=0.1, affine=True, track_running_stats=True)\n",
       "      (relu): ReLU(inplace=True)\n",
       "    )\n",
       "    (9): Bottleneck(\n",
       "      (conv1): Conv2d(1024, 256, kernel_size=(1, 1), stride=(1, 1), bias=False)\n",
       "      (bn1): BatchNorm2d(256, eps=1e-05, momentum=0.1, affine=True, track_running_stats=True)\n",
       "      (conv2): Conv2d(256, 256, kernel_size=(3, 3), stride=(1, 1), padding=(1, 1), bias=False)\n",
       "      (bn2): BatchNorm2d(256, eps=1e-05, momentum=0.1, affine=True, track_running_stats=True)\n",
       "      (conv3): Conv2d(256, 1024, kernel_size=(1, 1), stride=(1, 1), bias=False)\n",
       "      (bn3): BatchNorm2d(1024, eps=1e-05, momentum=0.1, affine=True, track_running_stats=True)\n",
       "      (relu): ReLU(inplace=True)\n",
       "    )\n",
       "    (10): Bottleneck(\n",
       "      (conv1): Conv2d(1024, 256, kernel_size=(1, 1), stride=(1, 1), bias=False)\n",
       "      (bn1): BatchNorm2d(256, eps=1e-05, momentum=0.1, affine=True, track_running_stats=True)\n",
       "      (conv2): Conv2d(256, 256, kernel_size=(3, 3), stride=(1, 1), padding=(1, 1), bias=False)\n",
       "      (bn2): BatchNorm2d(256, eps=1e-05, momentum=0.1, affine=True, track_running_stats=True)\n",
       "      (conv3): Conv2d(256, 1024, kernel_size=(1, 1), stride=(1, 1), bias=False)\n",
       "      (bn3): BatchNorm2d(1024, eps=1e-05, momentum=0.1, affine=True, track_running_stats=True)\n",
       "      (relu): ReLU(inplace=True)\n",
       "    )\n",
       "    (11): Bottleneck(\n",
       "      (conv1): Conv2d(1024, 256, kernel_size=(1, 1), stride=(1, 1), bias=False)\n",
       "      (bn1): BatchNorm2d(256, eps=1e-05, momentum=0.1, affine=True, track_running_stats=True)\n",
       "      (conv2): Conv2d(256, 256, kernel_size=(3, 3), stride=(1, 1), padding=(1, 1), bias=False)\n",
       "      (bn2): BatchNorm2d(256, eps=1e-05, momentum=0.1, affine=True, track_running_stats=True)\n",
       "      (conv3): Conv2d(256, 1024, kernel_size=(1, 1), stride=(1, 1), bias=False)\n",
       "      (bn3): BatchNorm2d(1024, eps=1e-05, momentum=0.1, affine=True, track_running_stats=True)\n",
       "      (relu): ReLU(inplace=True)\n",
       "    )\n",
       "    (12): Bottleneck(\n",
       "      (conv1): Conv2d(1024, 256, kernel_size=(1, 1), stride=(1, 1), bias=False)\n",
       "      (bn1): BatchNorm2d(256, eps=1e-05, momentum=0.1, affine=True, track_running_stats=True)\n",
       "      (conv2): Conv2d(256, 256, kernel_size=(3, 3), stride=(1, 1), padding=(1, 1), bias=False)\n",
       "      (bn2): BatchNorm2d(256, eps=1e-05, momentum=0.1, affine=True, track_running_stats=True)\n",
       "      (conv3): Conv2d(256, 1024, kernel_size=(1, 1), stride=(1, 1), bias=False)\n",
       "      (bn3): BatchNorm2d(1024, eps=1e-05, momentum=0.1, affine=True, track_running_stats=True)\n",
       "      (relu): ReLU(inplace=True)\n",
       "    )\n",
       "    (13): Bottleneck(\n",
       "      (conv1): Conv2d(1024, 256, kernel_size=(1, 1), stride=(1, 1), bias=False)\n",
       "      (bn1): BatchNorm2d(256, eps=1e-05, momentum=0.1, affine=True, track_running_stats=True)\n",
       "      (conv2): Conv2d(256, 256, kernel_size=(3, 3), stride=(1, 1), padding=(1, 1), bias=False)\n",
       "      (bn2): BatchNorm2d(256, eps=1e-05, momentum=0.1, affine=True, track_running_stats=True)\n",
       "      (conv3): Conv2d(256, 1024, kernel_size=(1, 1), stride=(1, 1), bias=False)\n",
       "      (bn3): BatchNorm2d(1024, eps=1e-05, momentum=0.1, affine=True, track_running_stats=True)\n",
       "      (relu): ReLU(inplace=True)\n",
       "    )\n",
       "    (14): Bottleneck(\n",
       "      (conv1): Conv2d(1024, 256, kernel_size=(1, 1), stride=(1, 1), bias=False)\n",
       "      (bn1): BatchNorm2d(256, eps=1e-05, momentum=0.1, affine=True, track_running_stats=True)\n",
       "      (conv2): Conv2d(256, 256, kernel_size=(3, 3), stride=(1, 1), padding=(1, 1), bias=False)\n",
       "      (bn2): BatchNorm2d(256, eps=1e-05, momentum=0.1, affine=True, track_running_stats=True)\n",
       "      (conv3): Conv2d(256, 1024, kernel_size=(1, 1), stride=(1, 1), bias=False)\n",
       "      (bn3): BatchNorm2d(1024, eps=1e-05, momentum=0.1, affine=True, track_running_stats=True)\n",
       "      (relu): ReLU(inplace=True)\n",
       "    )\n",
       "    (15): Bottleneck(\n",
       "      (conv1): Conv2d(1024, 256, kernel_size=(1, 1), stride=(1, 1), bias=False)\n",
       "      (bn1): BatchNorm2d(256, eps=1e-05, momentum=0.1, affine=True, track_running_stats=True)\n",
       "      (conv2): Conv2d(256, 256, kernel_size=(3, 3), stride=(1, 1), padding=(1, 1), bias=False)\n",
       "      (bn2): BatchNorm2d(256, eps=1e-05, momentum=0.1, affine=True, track_running_stats=True)\n",
       "      (conv3): Conv2d(256, 1024, kernel_size=(1, 1), stride=(1, 1), bias=False)\n",
       "      (bn3): BatchNorm2d(1024, eps=1e-05, momentum=0.1, affine=True, track_running_stats=True)\n",
       "      (relu): ReLU(inplace=True)\n",
       "    )\n",
       "    (16): Bottleneck(\n",
       "      (conv1): Conv2d(1024, 256, kernel_size=(1, 1), stride=(1, 1), bias=False)\n",
       "      (bn1): BatchNorm2d(256, eps=1e-05, momentum=0.1, affine=True, track_running_stats=True)\n",
       "      (conv2): Conv2d(256, 256, kernel_size=(3, 3), stride=(1, 1), padding=(1, 1), bias=False)\n",
       "      (bn2): BatchNorm2d(256, eps=1e-05, momentum=0.1, affine=True, track_running_stats=True)\n",
       "      (conv3): Conv2d(256, 1024, kernel_size=(1, 1), stride=(1, 1), bias=False)\n",
       "      (bn3): BatchNorm2d(1024, eps=1e-05, momentum=0.1, affine=True, track_running_stats=True)\n",
       "      (relu): ReLU(inplace=True)\n",
       "    )\n",
       "    (17): Bottleneck(\n",
       "      (conv1): Conv2d(1024, 256, kernel_size=(1, 1), stride=(1, 1), bias=False)\n",
       "      (bn1): BatchNorm2d(256, eps=1e-05, momentum=0.1, affine=True, track_running_stats=True)\n",
       "      (conv2): Conv2d(256, 256, kernel_size=(3, 3), stride=(1, 1), padding=(1, 1), bias=False)\n",
       "      (bn2): BatchNorm2d(256, eps=1e-05, momentum=0.1, affine=True, track_running_stats=True)\n",
       "      (conv3): Conv2d(256, 1024, kernel_size=(1, 1), stride=(1, 1), bias=False)\n",
       "      (bn3): BatchNorm2d(1024, eps=1e-05, momentum=0.1, affine=True, track_running_stats=True)\n",
       "      (relu): ReLU(inplace=True)\n",
       "    )\n",
       "    (18): Bottleneck(\n",
       "      (conv1): Conv2d(1024, 256, kernel_size=(1, 1), stride=(1, 1), bias=False)\n",
       "      (bn1): BatchNorm2d(256, eps=1e-05, momentum=0.1, affine=True, track_running_stats=True)\n",
       "      (conv2): Conv2d(256, 256, kernel_size=(3, 3), stride=(1, 1), padding=(1, 1), bias=False)\n",
       "      (bn2): BatchNorm2d(256, eps=1e-05, momentum=0.1, affine=True, track_running_stats=True)\n",
       "      (conv3): Conv2d(256, 1024, kernel_size=(1, 1), stride=(1, 1), bias=False)\n",
       "      (bn3): BatchNorm2d(1024, eps=1e-05, momentum=0.1, affine=True, track_running_stats=True)\n",
       "      (relu): ReLU(inplace=True)\n",
       "    )\n",
       "    (19): Bottleneck(\n",
       "      (conv1): Conv2d(1024, 256, kernel_size=(1, 1), stride=(1, 1), bias=False)\n",
       "      (bn1): BatchNorm2d(256, eps=1e-05, momentum=0.1, affine=True, track_running_stats=True)\n",
       "      (conv2): Conv2d(256, 256, kernel_size=(3, 3), stride=(1, 1), padding=(1, 1), bias=False)\n",
       "      (bn2): BatchNorm2d(256, eps=1e-05, momentum=0.1, affine=True, track_running_stats=True)\n",
       "      (conv3): Conv2d(256, 1024, kernel_size=(1, 1), stride=(1, 1), bias=False)\n",
       "      (bn3): BatchNorm2d(1024, eps=1e-05, momentum=0.1, affine=True, track_running_stats=True)\n",
       "      (relu): ReLU(inplace=True)\n",
       "    )\n",
       "    (20): Bottleneck(\n",
       "      (conv1): Conv2d(1024, 256, kernel_size=(1, 1), stride=(1, 1), bias=False)\n",
       "      (bn1): BatchNorm2d(256, eps=1e-05, momentum=0.1, affine=True, track_running_stats=True)\n",
       "      (conv2): Conv2d(256, 256, kernel_size=(3, 3), stride=(1, 1), padding=(1, 1), bias=False)\n",
       "      (bn2): BatchNorm2d(256, eps=1e-05, momentum=0.1, affine=True, track_running_stats=True)\n",
       "      (conv3): Conv2d(256, 1024, kernel_size=(1, 1), stride=(1, 1), bias=False)\n",
       "      (bn3): BatchNorm2d(1024, eps=1e-05, momentum=0.1, affine=True, track_running_stats=True)\n",
       "      (relu): ReLU(inplace=True)\n",
       "    )\n",
       "    (21): Bottleneck(\n",
       "      (conv1): Conv2d(1024, 256, kernel_size=(1, 1), stride=(1, 1), bias=False)\n",
       "      (bn1): BatchNorm2d(256, eps=1e-05, momentum=0.1, affine=True, track_running_stats=True)\n",
       "      (conv2): Conv2d(256, 256, kernel_size=(3, 3), stride=(1, 1), padding=(1, 1), bias=False)\n",
       "      (bn2): BatchNorm2d(256, eps=1e-05, momentum=0.1, affine=True, track_running_stats=True)\n",
       "      (conv3): Conv2d(256, 1024, kernel_size=(1, 1), stride=(1, 1), bias=False)\n",
       "      (bn3): BatchNorm2d(1024, eps=1e-05, momentum=0.1, affine=True, track_running_stats=True)\n",
       "      (relu): ReLU(inplace=True)\n",
       "    )\n",
       "    (22): Bottleneck(\n",
       "      (conv1): Conv2d(1024, 256, kernel_size=(1, 1), stride=(1, 1), bias=False)\n",
       "      (bn1): BatchNorm2d(256, eps=1e-05, momentum=0.1, affine=True, track_running_stats=True)\n",
       "      (conv2): Conv2d(256, 256, kernel_size=(3, 3), stride=(1, 1), padding=(1, 1), bias=False)\n",
       "      (bn2): BatchNorm2d(256, eps=1e-05, momentum=0.1, affine=True, track_running_stats=True)\n",
       "      (conv3): Conv2d(256, 1024, kernel_size=(1, 1), stride=(1, 1), bias=False)\n",
       "      (bn3): BatchNorm2d(1024, eps=1e-05, momentum=0.1, affine=True, track_running_stats=True)\n",
       "      (relu): ReLU(inplace=True)\n",
       "    )\n",
       "  )\n",
       "  (layer4): Sequential(\n",
       "    (0): Bottleneck(\n",
       "      (conv1): Conv2d(1024, 512, kernel_size=(1, 1), stride=(1, 1), bias=False)\n",
       "      (bn1): BatchNorm2d(512, eps=1e-05, momentum=0.1, affine=True, track_running_stats=True)\n",
       "      (conv2): Conv2d(512, 512, kernel_size=(3, 3), stride=(2, 2), padding=(1, 1), bias=False)\n",
       "      (bn2): BatchNorm2d(512, eps=1e-05, momentum=0.1, affine=True, track_running_stats=True)\n",
       "      (conv3): Conv2d(512, 2048, kernel_size=(1, 1), stride=(1, 1), bias=False)\n",
       "      (bn3): BatchNorm2d(2048, eps=1e-05, momentum=0.1, affine=True, track_running_stats=True)\n",
       "      (relu): ReLU(inplace=True)\n",
       "      (downsample): Sequential(\n",
       "        (0): Conv2d(1024, 2048, kernel_size=(1, 1), stride=(2, 2), bias=False)\n",
       "        (1): BatchNorm2d(2048, eps=1e-05, momentum=0.1, affine=True, track_running_stats=True)\n",
       "      )\n",
       "    )\n",
       "    (1): Bottleneck(\n",
       "      (conv1): Conv2d(2048, 512, kernel_size=(1, 1), stride=(1, 1), bias=False)\n",
       "      (bn1): BatchNorm2d(512, eps=1e-05, momentum=0.1, affine=True, track_running_stats=True)\n",
       "      (conv2): Conv2d(512, 512, kernel_size=(3, 3), stride=(1, 1), padding=(1, 1), bias=False)\n",
       "      (bn2): BatchNorm2d(512, eps=1e-05, momentum=0.1, affine=True, track_running_stats=True)\n",
       "      (conv3): Conv2d(512, 2048, kernel_size=(1, 1), stride=(1, 1), bias=False)\n",
       "      (bn3): BatchNorm2d(2048, eps=1e-05, momentum=0.1, affine=True, track_running_stats=True)\n",
       "      (relu): ReLU(inplace=True)\n",
       "    )\n",
       "    (2): Bottleneck(\n",
       "      (conv1): Conv2d(2048, 512, kernel_size=(1, 1), stride=(1, 1), bias=False)\n",
       "      (bn1): BatchNorm2d(512, eps=1e-05, momentum=0.1, affine=True, track_running_stats=True)\n",
       "      (conv2): Conv2d(512, 512, kernel_size=(3, 3), stride=(1, 1), padding=(1, 1), bias=False)\n",
       "      (bn2): BatchNorm2d(512, eps=1e-05, momentum=0.1, affine=True, track_running_stats=True)\n",
       "      (conv3): Conv2d(512, 2048, kernel_size=(1, 1), stride=(1, 1), bias=False)\n",
       "      (bn3): BatchNorm2d(2048, eps=1e-05, momentum=0.1, affine=True, track_running_stats=True)\n",
       "      (relu): ReLU(inplace=True)\n",
       "    )\n",
       "  )\n",
       "  (avgpool): AdaptiveAvgPool2d(output_size=(1, 1))\n",
       "  (fc): Linear(in_features=2048, out_features=1000, bias=True)\n",
       ")"
      ]
     },
     "execution_count": 18,
     "metadata": {},
     "output_type": "execute_result"
    }
   ],
   "source": [
    "# 使用model.eval(),为了不启用 Batch Normalization 和 Dropout。保证直接利用训练好的方差\n",
    "resnet.eval()"
   ]
  },
  {
   "cell_type": "code",
   "execution_count": 22,
   "id": "e83407a0-c85d-446a-9f3b-125193adb9da",
   "metadata": {},
   "outputs": [
    {
     "data": {
      "text/plain": [
       "torch.Size([1, 1000])"
      ]
     },
     "execution_count": 22,
     "metadata": {},
     "output_type": "execute_result"
    }
   ],
   "source": [
    "# 输出\n",
    "output = resnet(batch_t)\n",
    "output.shape"
   ]
  },
  {
   "cell_type": "code",
   "execution_count": 28,
   "id": "4a5bad8e-9224-43d2-957e-25eeb1942a16",
   "metadata": {
    "tags": []
   },
   "outputs": [
    {
     "data": {
      "text/plain": [
       "torch.Size([1000])"
      ]
     },
     "execution_count": 28,
     "metadata": {},
     "output_type": "execute_result"
    }
   ],
   "source": [
    "# 采用softmax()将其归一化到[0,1]之间\n",
    "percentage = F.softmax(output, dim=1)[0] * 100\n",
    "percentage.shape"
   ]
  },
  {
   "cell_type": "code",
   "execution_count": 30,
   "id": "dfe83f67-4331-4860-9cf2-7e9c3003c772",
   "metadata": {},
   "outputs": [
    {
     "data": {
      "text/plain": [
       "tensor([273])"
      ]
     },
     "execution_count": 30,
     "metadata": {},
     "output_type": "execute_result"
    }
   ],
   "source": [
    "# 获取标签中值最大的一个的索引\n",
    "_, index = torch.max(output, 1)\n",
    "index"
   ]
  },
  {
   "cell_type": "code",
   "execution_count": 46,
   "id": "52145c57-8f94-4f9a-a4f0-ce1d3cca0297",
   "metadata": {},
   "outputs": [],
   "source": [
    "# 加载正确的标签文件进行预测的值进行比对\n",
    "with open(\"./data/kaggle_dog_tiny/kaggle_dog_tiny/labels.csv\") as f:\n",
    "    labels = [line.strip() for line in f.readlines()]"
   ]
  },
  {
   "cell_type": "code",
   "execution_count": 47,
   "id": "e269dd77-b947-4f92-8608-69df3684395e",
   "metadata": {},
   "outputs": [],
   "source": [
    "labels = labels[1:1002]"
   ]
  },
  {
   "cell_type": "code",
   "execution_count": 53,
   "id": "393e1150-c835-4c6d-a5ad-dcf006837551",
   "metadata": {},
   "outputs": [],
   "source": [
    "label = [labe.split(\",\")[1] for labe in labels]"
   ]
  },
  {
   "cell_type": "code",
   "execution_count": 55,
   "id": "45b41b79-9bd2-4eff-bf7d-b7f87858a9e8",
   "metadata": {},
   "outputs": [
    {
     "data": {
      "text/plain": [
       "('cardigan', 93.18197631835938)"
      ]
     },
     "execution_count": 55,
     "metadata": {},
     "output_type": "execute_result"
    }
   ],
   "source": [
    "label[index[0]], percentage[index[0]].item()"
   ]
  },
  {
   "cell_type": "code",
   "execution_count": 61,
   "id": "2e6a4a5f-a0e5-4945-8606-aeb33002da0d",
   "metadata": {},
   "outputs": [
    {
     "data": {
      "text/plain": [
       "tensor([273, 274, 271, 227, 286])"
      ]
     },
     "execution_count": 61,
     "metadata": {},
     "output_type": "execute_result"
    }
   ],
   "source": [
    "# 查出其他相近的分数的索引\n",
    "_, indexs = torch.sort(output, descending=True)"
   ]
  },
  {
   "cell_type": "code",
   "execution_count": 59,
   "id": "857982e0-6c33-4430-b77d-f9cba9061247",
   "metadata": {
    "collapsed": true,
    "jupyter": {
     "outputs_hidden": true
    },
    "tags": []
   },
   "outputs": [
    {
     "data": {
      "text/plain": [
       "[('cardigan', 93.18197631835938),\n",
       " ('pekinese', 4.368319511413574),\n",
       " ('chow', 1.90672767162323),\n",
       " ('cairn', 0.12511059641838074),\n",
       " ('redbone', 0.11782658100128174)]"
      ]
     },
     "execution_count": 59,
     "metadata": {},
     "output_type": "execute_result"
    }
   ],
   "source": [
    "[(label[idx], percentage[idx].item()) for idx in indexs[0][:5]]"
   ]
  },
  {
   "attachments": {},
   "cell_type": "markdown",
   "id": "9a0b7f28-ae61-4f41-8858-fddaa0022dd1",
   "metadata": {},
   "source": [
    "## CycleGAN"
   ]
  },
  {
   "cell_type": "code",
   "execution_count": 62,
   "id": "49db7e76-9f84-440f-aae0-e3a2de6d7933",
   "metadata": {},
   "outputs": [],
   "source": [
    "from torchvision import models"
   ]
  },
  {
   "attachments": {},
   "cell_type": "markdown",
   "id": "eefe214a-4947-486a-a688-2dcdf0c711b7",
   "metadata": {
    "tags": [],
    "toc-hr-collapsed": true
   },
   "source": [
    "# 从张量开始"
   ]
  },
  {
   "cell_type": "code",
   "execution_count": 1,
   "id": "bf8ed58d-ca6b-4f4a-8842-14b418ab3451",
   "metadata": {},
   "outputs": [],
   "source": [
    "import torch"
   ]
  },
  {
   "attachments": {},
   "cell_type": "markdown",
   "id": "735857f2-ae75-4de1-998a-36287c31b0d0",
   "metadata": {},
   "source": [
    "## 命名张量"
   ]
  },
  {
   "cell_type": "code",
   "execution_count": 3,
   "id": "16335e9a-f657-40fb-a6d3-1d63b3812128",
   "metadata": {},
   "outputs": [
    {
     "data": {
      "text/plain": [
       "(torch.Size([2, 3, 5, 5]), torch.Size([3]))"
      ]
     },
     "execution_count": 3,
     "metadata": {},
     "output_type": "execute_result"
    }
   ],
   "source": [
    "img_t = torch.rand(2, 3, 5, 5)\n",
    "weights = torch.tensor([0.2126, 0.7152, 0.0722])\n",
    "img_t.shape, weights.shape"
   ]
  },
  {
   "cell_type": "code",
   "execution_count": 4,
   "id": "ef2f4711-de4b-4b19-b81c-cfe95e6f58e8",
   "metadata": {},
   "outputs": [
    {
     "data": {
      "text/plain": [
       "torch.Size([3, 1, 1])"
      ]
     },
     "execution_count": 4,
     "metadata": {},
     "output_type": "execute_result"
    }
   ],
   "source": [
    "# 张量的广播\n",
    "unsqueezed_weights = weights.unsqueeze(-1).unsqueeze_(-1)\n",
    "unsqueezed_weights.shape"
   ]
  },
  {
   "cell_type": "code",
   "execution_count": 5,
   "id": "bc71ae57-16a4-4fd0-853c-e587fd277134",
   "metadata": {},
   "outputs": [
    {
     "data": {
      "text/plain": [
       "torch.Size([2, 3, 5, 5])"
      ]
     },
     "execution_count": 5,
     "metadata": {},
     "output_type": "execute_result"
    }
   ],
   "source": [
    "img_weight = img_t * unsqueezed_weights\n",
    "img_weight.shape"
   ]
  },
  {
   "attachments": {},
   "cell_type": "markdown",
   "id": "5d7011c3-71a7-4401-9b74-c03be67d7181",
   "metadata": {},
   "source": [
    "## 张量的元素类型"
   ]
  },
  {
   "cell_type": "code",
   "execution_count": 8,
   "id": "21474275-0b84-4729-a5ef-296fd843a9b8",
   "metadata": {},
   "outputs": [
    {
     "data": {
      "text/plain": [
       "torch.float64"
      ]
     },
     "execution_count": 8,
     "metadata": {},
     "output_type": "execute_result"
    }
   ],
   "source": [
    "# 管理张量的dtype属性\n",
    "doubles = torch.ones(2, 3, dtype=torch.double)\n",
    "doubles.dtype"
   ]
  },
  {
   "cell_type": "code",
   "execution_count": 11,
   "id": "0aa13e35-3825-4f1b-9fc1-2ccaf6936caf",
   "metadata": {},
   "outputs": [
    {
     "data": {
      "text/plain": [
       "torch.float32"
      ]
     },
     "execution_count": 11,
     "metadata": {},
     "output_type": "execute_result"
    }
   ],
   "source": [
    "# 转换张量的dtype属性\n",
    "doubles = torch.ones(2, 3).float()\n",
    "doubles.dtype"
   ]
  },
  {
   "cell_type": "code",
   "execution_count": 12,
   "id": "e1b6447c-697c-4d53-891d-053ca4c6e07f",
   "metadata": {},
   "outputs": [
    {
     "data": {
      "text/plain": [
       "torch.float32"
      ]
     },
     "execution_count": 12,
     "metadata": {},
     "output_type": "execute_result"
    }
   ],
   "source": [
    "doubles = torch.ones(2, 3).to(torch.float)\n",
    "doubles.dtype"
   ]
  },
  {
   "attachments": {},
   "cell_type": "markdown",
   "id": "53377866-08e2-4780-92ad-3c97c1c64a94",
   "metadata": {},
   "source": [
    "## 张量的存储视图"
   ]
  },
  {
   "cell_type": "code",
   "execution_count": 13,
   "id": "830f7d86-75d9-4861-9528-38aac95da934",
   "metadata": {},
   "outputs": [],
   "source": [
    "# 不带下滑线的操作创建一个新的张量\n",
    "# 带下划线的就直接修改存储值"
   ]
  },
  {
   "attachments": {},
   "cell_type": "markdown",
   "id": "5acf28d3-2318-475f-9b54-a3372eb71e3b",
   "metadata": {},
   "source": [
    "## 张量的元数据：大小，偏移量，步长"
   ]
  },
  {
   "attachments": {},
   "cell_type": "markdown",
   "id": "6ec4ea3f-7fac-49c8-9c95-8484aa41f994",
   "metadata": {},
   "source": [
    "### 存储视图"
   ]
  },
  {
   "cell_type": "code",
   "execution_count": 14,
   "id": "ea3f7da4-a8e5-4652-b79d-7175d8fbb0c6",
   "metadata": {},
   "outputs": [],
   "source": [
    "points = torch.rand(3, 2)"
   ]
  },
  {
   "cell_type": "code",
   "execution_count": 15,
   "id": "6ed49023-244d-458f-ba41-3b75cf4e41b2",
   "metadata": {},
   "outputs": [
    {
     "data": {
      "text/plain": [
       "torch.Size([2])"
      ]
     },
     "execution_count": 15,
     "metadata": {},
     "output_type": "execute_result"
    }
   ],
   "source": [
    "sencond_point = points[1]\n",
    "sencond_point.size()"
   ]
  },
  {
   "cell_type": "code",
   "execution_count": 16,
   "id": "54821940-23fc-4f39-b6bb-2be9800136a8",
   "metadata": {},
   "outputs": [
    {
     "data": {
      "text/plain": [
       "2"
      ]
     },
     "execution_count": 16,
     "metadata": {},
     "output_type": "execute_result"
    }
   ],
   "source": [
    "# 该维度的步长（dim = 1）\n",
    "sencond_point.storage_offset()"
   ]
  },
  {
   "cell_type": "code",
   "execution_count": 18,
   "id": "f9a694e2-b327-46ed-9d3b-83f5c289eb7a",
   "metadata": {},
   "outputs": [
    {
     "data": {
      "text/plain": [
       "(1,)"
      ]
     },
     "execution_count": 18,
     "metadata": {},
     "output_type": "execute_result"
    }
   ],
   "source": [
    "# sencond_point表示已经提取到一个子张量\n",
    "sencond_point.stride()"
   ]
  },
  {
   "cell_type": "code",
   "execution_count": 17,
   "id": "a5d363b4-a6f5-4c1a-84e6-7dac2faff460",
   "metadata": {},
   "outputs": [
    {
     "data": {
      "text/plain": [
       "(2, 1)"
      ]
     },
     "execution_count": 17,
     "metadata": {},
     "output_type": "execute_result"
    }
   ],
   "source": [
    "# ponits的步长，步长是一个元组\n",
    "points.stride()"
   ]
  },
  {
   "cell_type": "code",
   "execution_count": 19,
   "id": "b2ffa2cc-6cda-4099-ac52-403a30ff735e",
   "metadata": {},
   "outputs": [],
   "source": [
    "# 将子张量复制成一个新的张量,这样修改子张量的值不会改变原张量的值\n",
    "sencond_point = points[1].clone()"
   ]
  },
  {
   "attachments": {},
   "cell_type": "markdown",
   "id": "c1d2c786-9850-4052-ad73-3444e4f0dcf2",
   "metadata": {},
   "source": [
    "### 无复制转置"
   ]
  },
  {
   "cell_type": "code",
   "execution_count": 25,
   "id": "6405c735-30b0-4f70-b785-4ec80e81c7a4",
   "metadata": {},
   "outputs": [
    {
     "data": {
      "text/plain": [
       "tensor([[0.7485, 0.7739, 0.8627],\n",
       "        [0.3015, 0.6115, 0.5565]])"
      ]
     },
     "execution_count": 25,
     "metadata": {},
     "output_type": "execute_result"
    }
   ],
   "source": [
    "data1 = torch.rand(2, 3)\n",
    "data1"
   ]
  },
  {
   "cell_type": "code",
   "execution_count": 21,
   "id": "8e3f50d8-25d1-4fc1-a04f-d363a8934637",
   "metadata": {},
   "outputs": [
    {
     "data": {
      "text/plain": [
       "tensor([[0.2640, 0.7150],\n",
       "        [0.1577, 0.5045],\n",
       "        [0.2253, 0.1821]])"
      ]
     },
     "execution_count": 21,
     "metadata": {},
     "output_type": "execute_result"
    }
   ],
   "source": [
    "data1_t = data1.t()\n",
    "data1_t"
   ]
  },
  {
   "cell_type": "code",
   "execution_count": 23,
   "id": "a276470a-ec62-4079-b7aa-3d35286b9d10",
   "metadata": {},
   "outputs": [
    {
     "data": {
      "text/plain": [
       "True"
      ]
     },
     "execution_count": 23,
     "metadata": {},
     "output_type": "execute_result"
    }
   ],
   "source": [
    "# 验证两个张量是否在统一存储区\n",
    "id(data1.storage()) == id(data1_t.storage())"
   ]
  },
  {
   "cell_type": "code",
   "execution_count": 24,
   "id": "fade48af-b2b8-4f97-8c22-f67e66a6e947",
   "metadata": {},
   "outputs": [
    {
     "data": {
      "text/plain": [
       "((3, 1), (1, 3))"
      ]
     },
     "execution_count": 24,
     "metadata": {},
     "output_type": "execute_result"
    }
   ],
   "source": [
    "# 计算二者的步长\n",
    "data1.stride(), data1_t.stride()"
   ]
  },
  {
   "attachments": {},
   "cell_type": "markdown",
   "id": "5464259d-64d5-4219-9ab8-cad0ec65b9ac",
   "metadata": {},
   "source": [
    "### 高维转置"
   ]
  },
  {
   "cell_type": "code",
   "execution_count": 26,
   "id": "d3558e51-57e1-4e39-a0a7-9221a6a2edf3",
   "metadata": {},
   "outputs": [],
   "source": [
    "# 对dim=0,2进行转置\n",
    "some_t = torch.ones(3, 4, 5)\n",
    "transpose_t = some_t.transpose(0, 2)"
   ]
  },
  {
   "cell_type": "code",
   "execution_count": 27,
   "id": "4e249779-54fa-4ff8-8ee7-824ba94374e4",
   "metadata": {},
   "outputs": [
    {
     "data": {
      "text/plain": [
       "(torch.Size([3, 4, 5]), torch.Size([5, 4, 3]))"
      ]
     },
     "execution_count": 27,
     "metadata": {},
     "output_type": "execute_result"
    }
   ],
   "source": [
    "some_t.shape, transpose_t.shape"
   ]
  },
  {
   "cell_type": "code",
   "execution_count": 28,
   "id": "9a80dfb3-77ff-45f8-af81-0b8c65714369",
   "metadata": {},
   "outputs": [
    {
     "data": {
      "text/plain": [
       "((20, 5, 1), (1, 5, 20))"
      ]
     },
     "execution_count": 28,
     "metadata": {},
     "output_type": "execute_result"
    }
   ],
   "source": [
    "# 查看转置后的步长:转置过程中相当于将步长也转置了\n",
    "some_t.stride(), transpose_t.stride()"
   ]
  },
  {
   "attachments": {},
   "cell_type": "markdown",
   "id": "bcca8466-adf3-4e34-a941-a158dd687469",
   "metadata": {},
   "source": [
    "### 连续张量"
   ]
  },
  {
   "cell_type": "code",
   "execution_count": 29,
   "id": "02fb1dc5-bf7f-439a-ad9d-b81e69722c28",
   "metadata": {},
   "outputs": [],
   "source": [
    "# 判断张量是否连续\n",
    "data2 = torch.rand(2, 3)\n",
    "data2_t = data2.t()"
   ]
  },
  {
   "cell_type": "code",
   "execution_count": 31,
   "id": "7ed99bb7-1dab-41b9-896d-bce5a8b5885a",
   "metadata": {},
   "outputs": [
    {
     "data": {
      "text/plain": [
       "(True, False)"
      ]
     },
     "execution_count": 31,
     "metadata": {},
     "output_type": "execute_result"
    }
   ],
   "source": [
    "data2.is_contiguous(), data2_t.is_contiguous()"
   ]
  },
  {
   "cell_type": "code",
   "execution_count": 35,
   "id": "38ef7b95-56fb-45b8-8413-d5429e82839a",
   "metadata": {},
   "outputs": [
    {
     "data": {
      "text/plain": [
       "( 1.2152541875839233\n",
       "  0.4683937728404999\n",
       "  1.6144567728042603\n",
       "  0.7564772963523865\n",
       "  -1.3899544477462769\n",
       "  0.6176654100418091\n",
       " [torch.storage.TypedStorage(dtype=torch.float32, device=cpu) of size 6],\n",
       "  1.2152541875839233\n",
       "  0.4683937728404999\n",
       "  1.6144567728042603\n",
       "  0.7564772963523865\n",
       "  -1.3899544477462769\n",
       "  0.6176654100418091\n",
       " [torch.storage.TypedStorage(dtype=torch.float32, device=cpu) of size 6])"
      ]
     },
     "execution_count": 35,
     "metadata": {},
     "output_type": "execute_result"
    }
   ],
   "source": [
    "# 使用contiguouts()方法将一个非连续的张量转成连续的张量\n",
    "points = torch.randn(3, 2)\n",
    "points_t = points.t()\n",
    "points.storage(), points_t.storage()"
   ]
  },
  {
   "cell_type": "code",
   "execution_count": 36,
   "id": "b3ee1cc8-070e-4bd3-893e-77846916f1db",
   "metadata": {},
   "outputs": [
    {
     "data": {
      "text/plain": [
       "( 1.2152541875839233\n",
       "  0.4683937728404999\n",
       "  1.6144567728042603\n",
       "  0.7564772963523865\n",
       "  -1.3899544477462769\n",
       "  0.6176654100418091\n",
       " [torch.storage.TypedStorage(dtype=torch.float32, device=cpu) of size 6],\n",
       "  1.2152541875839233\n",
       "  1.6144567728042603\n",
       "  -1.3899544477462769\n",
       "  0.4683937728404999\n",
       "  0.7564772963523865\n",
       "  0.6176654100418091\n",
       " [torch.storage.TypedStorage(dtype=torch.float32, device=cpu) of size 6])"
      ]
     },
     "execution_count": 36,
     "metadata": {},
     "output_type": "execute_result"
    }
   ],
   "source": [
    "points_t_cont = points_t.contiguous()\n",
    "points.storage(), points_t_cont.storage()"
   ]
  },
  {
   "attachments": {},
   "cell_type": "markdown",
   "id": "c12bacd7-c7b7-4ef8-8d22-2cc25715d828",
   "metadata": {},
   "source": [
    "## 将张量存储到GPU"
   ]
  },
  {
   "cell_type": "code",
   "execution_count": 39,
   "id": "56479fa5-1dfc-4421-9597-740eaec4837b",
   "metadata": {},
   "outputs": [
    {
     "data": {
      "text/plain": [
       "tensor([[-0.1886,  0.1130, -0.1234, -0.5679],\n",
       "        [-0.3028, -0.2146,  1.7590, -0.8230],\n",
       "        [ 0.8542, -0.5255, -0.1855, -0.2578]], device='cuda:0')"
      ]
     },
     "execution_count": 39,
     "metadata": {},
     "output_type": "execute_result"
    }
   ],
   "source": [
    "# 张量的device属性\n",
    "points_gpu = torch.randn(3, 4, device=\"cuda\")\n",
    "points_gpu"
   ]
  },
  {
   "cell_type": "code",
   "execution_count": 40,
   "id": "17649133-4700-43e3-8f5a-84de9fe8694d",
   "metadata": {},
   "outputs": [
    {
     "data": {
      "text/plain": [
       "tensor([[-0.1886,  0.1130, -0.1234, -0.5679],\n",
       "        [-0.3028, -0.2146,  1.7590, -0.8230],\n",
       "        [ 0.8542, -0.5255, -0.1855, -0.2578]], device='cuda:0')"
      ]
     },
     "execution_count": 40,
     "metadata": {},
     "output_type": "execute_result"
    }
   ],
   "source": [
    "# 使用to()方法\n",
    "points_gpu = points_gpu.to(device=\"cuda\")\n",
    "points_gpu"
   ]
  },
  {
   "cell_type": "code",
   "execution_count": 41,
   "id": "6faf2a8d-4d52-44ec-be4a-f59f549e2277",
   "metadata": {},
   "outputs": [],
   "source": [
    "# 多个device\n",
    "points_gpu = points_gpu.to(device=\"cuda:0\")"
   ]
  },
  {
   "cell_type": "code",
   "execution_count": 42,
   "id": "c3bd46be-67e9-4aeb-87f1-3d02ab5c105d",
   "metadata": {},
   "outputs": [],
   "source": [
    "points_gpu = points_gpu.cuda(0)"
   ]
  },
  {
   "attachments": {},
   "cell_type": "markdown",
   "id": "00e8e0b2-02da-421f-8327-33b493397563",
   "metadata": {},
   "source": [
    "## Numpy的互操作性"
   ]
  },
  {
   "cell_type": "code",
   "execution_count": 46,
   "id": "166b4c34-4b61-4323-bba2-dbaf6a16adc9",
   "metadata": {},
   "outputs": [
    {
     "data": {
      "text/plain": [
       "(tensor([[1., 1., 1., 1., 1.],\n",
       "         [1., 1., 1., 1., 1.],\n",
       "         [1., 1., 1., 1., 1.]]),\n",
       " array([[1., 1., 1., 1., 1.],\n",
       "        [1., 1., 1., 1., 1.],\n",
       "        [1., 1., 1., 1., 1.]], dtype=float32))"
      ]
     },
     "execution_count": 46,
     "metadata": {},
     "output_type": "execute_result"
    }
   ],
   "source": [
    "# 张量转numpy\n",
    "points = torch.ones(3, 5)\n",
    "points_np = points.numpy()\n",
    "points, points_np"
   ]
  },
  {
   "cell_type": "code",
   "execution_count": 48,
   "id": "c0bccce8-11d7-4bc2-98b9-1dd6b232fe22",
   "metadata": {},
   "outputs": [
    {
     "data": {
      "text/plain": [
       "tensor([[1., 1., 1., 1., 1.],\n",
       "        [1., 1., 1., 1., 1.],\n",
       "        [1., 1., 1., 1., 1.]])"
      ]
     },
     "execution_count": 48,
     "metadata": {},
     "output_type": "execute_result"
    }
   ],
   "source": [
    "# numpy转张量\n",
    "points = torch.from_numpy(points_np)\n",
    "points"
   ]
  },
  {
   "attachments": {},
   "cell_type": "markdown",
   "id": "f14d436f-182d-491a-91a0-d31ace8e9649",
   "metadata": {},
   "source": [
    "## 序列化张量"
   ]
  },
  {
   "cell_type": "code",
   "execution_count": 49,
   "id": "586f825d-0cc4-4caf-bb71-9eb7debabfb9",
   "metadata": {},
   "outputs": [],
   "source": [
    "# 保存张量\n",
    "points = torch.randn(2, 5, 3, 6)"
   ]
  },
  {
   "cell_type": "code",
   "execution_count": 50,
   "id": "db6a2e0b-ca52-4a84-a7f4-e13dbcbdac1c",
   "metadata": {},
   "outputs": [],
   "source": [
    "torch.save(points, \"./outpoints.t\")"
   ]
  },
  {
   "cell_type": "code",
   "execution_count": 57,
   "id": "9c3b7c8e-7dde-47b4-ace9-817560b8ed63",
   "metadata": {},
   "outputs": [],
   "source": [
    "# 采用文件描述符进行保存\n",
    "with open(\"./outpoints.t\", \"wb\") as f:\n",
    "    torch.save(points, f)"
   ]
  },
  {
   "cell_type": "code",
   "execution_count": 53,
   "id": "1ad24d37-d916-489d-91c3-fa0597bcf90d",
   "metadata": {
    "collapsed": true,
    "jupyter": {
     "outputs_hidden": true
    },
    "tags": []
   },
   "outputs": [
    {
     "data": {
      "text/plain": [
       "tensor([[[[ 1.5985, -1.3966, -0.0301, -1.5711, -0.7145,  0.9171],\n",
       "          [ 0.4237, -0.3221,  0.0957,  0.3949, -0.9714, -0.7392],\n",
       "          [ 0.6487, -0.3258,  1.1058,  0.2172,  0.9371, -0.0374]],\n",
       "\n",
       "         [[ 0.8847, -1.4842,  1.3632, -0.9938,  1.6148, -1.0672],\n",
       "          [ 0.2625, -0.3193,  0.5804, -2.5769,  0.7943,  0.1847],\n",
       "          [ 0.3949,  1.0871,  0.0359,  0.2206,  0.3696,  0.0839]],\n",
       "\n",
       "         [[-0.4030, -0.8502, -1.6927,  0.0286, -1.5605, -0.7584],\n",
       "          [-0.5948,  0.7187,  0.7420,  0.9259, -0.9710,  0.6006],\n",
       "          [ 0.7598,  1.5471,  0.0380, -0.2623, -0.7264,  0.2763]],\n",
       "\n",
       "         [[-0.7502, -0.1854,  0.3042,  1.1587,  0.4386,  0.2466],\n",
       "          [-0.3947,  0.1689,  1.0417,  0.5741, -0.4838, -0.1908],\n",
       "          [ 0.4964,  0.5962, -0.8045, -1.1767,  0.5845, -0.2876]],\n",
       "\n",
       "         [[ 0.7274, -1.2526, -0.5741, -0.1670, -1.1058,  1.3004],\n",
       "          [ 1.4659, -0.5734, -1.8955,  0.4307,  1.2747,  0.5249],\n",
       "          [ 1.3843, -0.3841, -0.4849,  1.1013, -0.4555,  1.2981]]],\n",
       "\n",
       "\n",
       "        [[[ 1.5533,  2.8048, -0.0454, -1.1995,  0.5929,  0.0471],\n",
       "          [-0.1901, -0.2278, -0.1812,  0.2352,  0.6726, -0.0426],\n",
       "          [ 1.9101, -1.2556,  0.8813, -0.9236,  2.5148,  1.0725]],\n",
       "\n",
       "         [[ 0.2808, -0.0504, -0.1100,  0.7582,  0.7887,  0.8502],\n",
       "          [-0.3607,  2.0914,  0.8155,  1.4610, -0.6412,  1.6641],\n",
       "          [ 0.9021,  0.0822,  0.9969,  0.0937,  1.4115, -1.0618]],\n",
       "\n",
       "         [[ 2.2302,  1.1192, -1.9395, -1.1187, -0.1815, -0.6304],\n",
       "          [-0.1621, -1.2750, -1.0341,  0.9685, -0.2464, -1.0631],\n",
       "          [ 1.6104,  0.3321, -1.1570, -0.9819,  0.8404,  0.4630]],\n",
       "\n",
       "         [[ 0.2329, -0.5488, -2.6240, -2.1232, -0.7596, -0.3595],\n",
       "          [-1.5639,  0.3771, -0.0955,  0.5115, -0.8626,  0.0135],\n",
       "          [-1.2590, -0.5798,  0.1257, -0.3763,  0.6884,  0.1925]],\n",
       "\n",
       "         [[-0.0803,  0.5896, -1.1292,  0.8901,  0.7517, -0.0498],\n",
       "          [ 2.2672,  0.2853,  0.4730,  0.2506, -2.5228, -2.4683],\n",
       "          [ 0.9040, -1.0964, -0.4764,  0.4640, -1.5469, -0.9789]]]])"
      ]
     },
     "execution_count": 53,
     "metadata": {},
     "output_type": "execute_result"
    }
   ],
   "source": [
    "# 加载张量\n",
    "points = torch.load(\"./outpoints.t\")\n",
    "points"
   ]
  },
  {
   "cell_type": "code",
   "execution_count": 58,
   "id": "b9542499-8408-4d99-b585-19933b309397",
   "metadata": {
    "collapsed": true,
    "jupyter": {
     "outputs_hidden": true
    },
    "tags": []
   },
   "outputs": [
    {
     "data": {
      "text/plain": [
       "tensor([[[[ 1.5985, -1.3966, -0.0301, -1.5711, -0.7145,  0.9171],\n",
       "          [ 0.4237, -0.3221,  0.0957,  0.3949, -0.9714, -0.7392],\n",
       "          [ 0.6487, -0.3258,  1.1058,  0.2172,  0.9371, -0.0374]],\n",
       "\n",
       "         [[ 0.8847, -1.4842,  1.3632, -0.9938,  1.6148, -1.0672],\n",
       "          [ 0.2625, -0.3193,  0.5804, -2.5769,  0.7943,  0.1847],\n",
       "          [ 0.3949,  1.0871,  0.0359,  0.2206,  0.3696,  0.0839]],\n",
       "\n",
       "         [[-0.4030, -0.8502, -1.6927,  0.0286, -1.5605, -0.7584],\n",
       "          [-0.5948,  0.7187,  0.7420,  0.9259, -0.9710,  0.6006],\n",
       "          [ 0.7598,  1.5471,  0.0380, -0.2623, -0.7264,  0.2763]],\n",
       "\n",
       "         [[-0.7502, -0.1854,  0.3042,  1.1587,  0.4386,  0.2466],\n",
       "          [-0.3947,  0.1689,  1.0417,  0.5741, -0.4838, -0.1908],\n",
       "          [ 0.4964,  0.5962, -0.8045, -1.1767,  0.5845, -0.2876]],\n",
       "\n",
       "         [[ 0.7274, -1.2526, -0.5741, -0.1670, -1.1058,  1.3004],\n",
       "          [ 1.4659, -0.5734, -1.8955,  0.4307,  1.2747,  0.5249],\n",
       "          [ 1.3843, -0.3841, -0.4849,  1.1013, -0.4555,  1.2981]]],\n",
       "\n",
       "\n",
       "        [[[ 1.5533,  2.8048, -0.0454, -1.1995,  0.5929,  0.0471],\n",
       "          [-0.1901, -0.2278, -0.1812,  0.2352,  0.6726, -0.0426],\n",
       "          [ 1.9101, -1.2556,  0.8813, -0.9236,  2.5148,  1.0725]],\n",
       "\n",
       "         [[ 0.2808, -0.0504, -0.1100,  0.7582,  0.7887,  0.8502],\n",
       "          [-0.3607,  2.0914,  0.8155,  1.4610, -0.6412,  1.6641],\n",
       "          [ 0.9021,  0.0822,  0.9969,  0.0937,  1.4115, -1.0618]],\n",
       "\n",
       "         [[ 2.2302,  1.1192, -1.9395, -1.1187, -0.1815, -0.6304],\n",
       "          [-0.1621, -1.2750, -1.0341,  0.9685, -0.2464, -1.0631],\n",
       "          [ 1.6104,  0.3321, -1.1570, -0.9819,  0.8404,  0.4630]],\n",
       "\n",
       "         [[ 0.2329, -0.5488, -2.6240, -2.1232, -0.7596, -0.3595],\n",
       "          [-1.5639,  0.3771, -0.0955,  0.5115, -0.8626,  0.0135],\n",
       "          [-1.2590, -0.5798,  0.1257, -0.3763,  0.6884,  0.1925]],\n",
       "\n",
       "         [[-0.0803,  0.5896, -1.1292,  0.8901,  0.7517, -0.0498],\n",
       "          [ 2.2672,  0.2853,  0.4730,  0.2506, -2.5228, -2.4683],\n",
       "          [ 0.9040, -1.0964, -0.4764,  0.4640, -1.5469, -0.9789]]]])"
      ]
     },
     "execution_count": 58,
     "metadata": {},
     "output_type": "execute_result"
    }
   ],
   "source": [
    "with open(\"./outpoints.t\", \"rb\") as f:\n",
    "    points = torch.load(f)\n",
    "points"
   ]
  },
  {
   "attachments": {},
   "cell_type": "markdown",
   "id": "5b12d3ac-9bc1-4819-9cf7-1e10e40ccae2",
   "metadata": {},
   "source": [
    "## 练习"
   ]
  },
  {
   "cell_type": "code",
   "execution_count": 60,
   "id": "ad2b0e16-e8d8-4f5c-a76f-7b8ef4dd3444",
   "metadata": {},
   "outputs": [
    {
     "data": {
      "text/plain": [
       "(torch.Size([9]), 0, (1,))"
      ]
     },
     "execution_count": 60,
     "metadata": {},
     "output_type": "execute_result"
    }
   ],
   "source": [
    "# 1\n",
    "a = torch.tensor(list(range(9)))\n",
    "a.shape, a.storage_offset(), a.stride()"
   ]
  },
  {
   "cell_type": "code",
   "execution_count": 61,
   "id": "063603e9-3053-4009-8f70-bb505c1b1468",
   "metadata": {},
   "outputs": [
    {
     "data": {
      "text/plain": [
       "tensor([[0, 1, 2],\n",
       "        [3, 4, 5],\n",
       "        [6, 7, 8]])"
      ]
     },
     "execution_count": 61,
     "metadata": {},
     "output_type": "execute_result"
    }
   ],
   "source": [
    "# a\n",
    "b = a.view(3, 3)\n",
    "b"
   ]
  },
  {
   "cell_type": "code",
   "execution_count": 62,
   "id": "ea3b03d0-3496-411c-bdc6-0238e7890303",
   "metadata": {},
   "outputs": [
    {
     "data": {
      "text/plain": [
       "True"
      ]
     },
     "execution_count": 62,
     "metadata": {},
     "output_type": "execute_result"
    }
   ],
   "source": [
    "id(a.storage()) == id(b.storage())  # 使用同一个内存"
   ]
  },
  {
   "cell_type": "code",
   "execution_count": 63,
   "id": "d2e2fa09-1df2-4776-9f83-fd0353204850",
   "metadata": {},
   "outputs": [
    {
     "data": {
      "text/plain": [
       "(torch.Size([2, 2]), 4, (1,))"
      ]
     },
     "execution_count": 63,
     "metadata": {},
     "output_type": "execute_result"
    }
   ],
   "source": [
    "# b\n",
    "c = b[1:, 1:]\n",
    "c.shape, c.storage_offset(), a.stride()"
   ]
  },
  {
   "cell_type": "code",
   "execution_count": 64,
   "id": "cdd13144-1504-4ae7-b1d4-be9490a8490c",
   "metadata": {
    "collapsed": true,
    "jupyter": {
     "outputs_hidden": true
    },
    "tags": []
   },
   "outputs": [
    {
     "data": {
      "text/plain": [
       "(tensor([[0, 1, 2],\n",
       "         [3, 4, 5],\n",
       "         [6, 7, 8]]),\n",
       " tensor([[1.5708, 0.0000,    nan],\n",
       "         [   nan,    nan,    nan],\n",
       "         [   nan,    nan,    nan]]))"
      ]
     },
     "execution_count": 64,
     "metadata": {},
     "output_type": "execute_result"
    }
   ],
   "source": [
    "# 2.\n",
    "d = torch.acos(b)\n",
    "b, d"
   ]
  },
  {
   "attachments": {},
   "cell_type": "markdown",
   "id": "0f6de462-da3b-424f-bd45-e05f3c9be1fc",
   "metadata": {
    "tags": []
   },
   "source": [
    "# 使用张量表示真实数据"
   ]
  },
  {
   "cell_type": "code",
   "execution_count": 5,
   "id": "acdc6fc9-3e1c-4916-bba0-6de48ed1bee8",
   "metadata": {},
   "outputs": [],
   "source": [
    "import torch"
   ]
  },
  {
   "attachments": {},
   "cell_type": "markdown",
   "id": "5eab2c79-f01d-4788-9baa-237707b557ab",
   "metadata": {},
   "source": [
    "## 处理图像"
   ]
  },
  {
   "cell_type": "code",
   "execution_count": 2,
   "id": "f1fe531d-fcd8-4961-9a82-d0ccfc41828b",
   "metadata": {},
   "outputs": [],
   "source": [
    "import os\n",
    "\n",
    "import imageio"
   ]
  },
  {
   "cell_type": "code",
   "execution_count": 3,
   "id": "c37cffec-7828-473b-8daf-cc2345ad3279",
   "metadata": {},
   "outputs": [
    {
     "name": "stderr",
     "output_type": "stream",
     "text": [
      "C:\\Users\\17677\\AppData\\Local\\Temp\\ipykernel_10692\\2249019970.py:1: DeprecationWarning: Starting with ImageIO v3 the behavior of this function will switch to that of iio.v3.imread. To keep the current behavior (and make this warning disappear) use `import imageio.v2 as imageio` or call `imageio.v2.imread` directly.\n",
      "  img_arr = imageio.imread('./pic2_5.jpg')\n"
     ]
    },
    {
     "data": {
      "text/plain": [
       "(720, 1280, 3)"
      ]
     },
     "execution_count": 3,
     "metadata": {},
     "output_type": "execute_result"
    }
   ],
   "source": [
    "img_arr = imageio.imread(\"./pic2_5.jpg\")\n",
    "img_arr.shape  # (H,W,C)"
   ]
  },
  {
   "cell_type": "code",
   "execution_count": 4,
   "id": "fb5e4544-e0d1-44ce-b71e-a0dd155f4c03",
   "metadata": {},
   "outputs": [],
   "source": [
    "# 改变布局\n",
    "img = torch.from_numpy(img_arr)"
   ]
  },
  {
   "cell_type": "code",
   "execution_count": 5,
   "id": "9b8446b4-3341-44af-9376-288656678f48",
   "metadata": {},
   "outputs": [
    {
     "data": {
      "text/plain": [
       "torch.Size([3, 720, 1280])"
      ]
     },
     "execution_count": 5,
     "metadata": {},
     "output_type": "execute_result"
    }
   ],
   "source": [
    "out_img = img.permute(2, 0, 1)\n",
    "out_img.shape  # (C,H,W)"
   ]
  },
  {
   "cell_type": "code",
   "execution_count": 12,
   "id": "2f37adff-6a7d-4e13-82e5-992773d77d86",
   "metadata": {
    "collapsed": true,
    "jupyter": {
     "outputs_hidden": true
    },
    "tags": []
   },
   "outputs": [
    {
     "data": {
      "text/plain": [
       "['pic2_1.jpg',\n",
       " 'pic2_10.jpg',\n",
       " 'pic2_11.jpg',\n",
       " 'pic2_12.jpg',\n",
       " 'pic2_13.jpg',\n",
       " 'pic2_14.jpg',\n",
       " 'pic2_15.jpg',\n",
       " 'pic2_2.jpg',\n",
       " 'pic2_3.jpg',\n",
       " 'pic2_4.jpg',\n",
       " 'pic2_5.jpg',\n",
       " 'pic2_6.jpg',\n",
       " 'pic2_7.jpg',\n",
       " 'pic2_8.jpg',\n",
       " 'pic2_9.jpg']"
      ]
     },
     "execution_count": 12,
     "metadata": {},
     "output_type": "execute_result"
    }
   ],
   "source": [
    "# 增加批次改变布局\n",
    "# 1.预先分配一个批次大小的张量\n",
    "img_path = \"D:\\code\\crawls\\pictures\"\n",
    "img_paths = os.listdir(\"D:\\code\\crawls\\pictures\")\n",
    "batch_size = len(img_paths)\n",
    "img_paths"
   ]
  },
  {
   "cell_type": "code",
   "execution_count": 11,
   "id": "77925824-76b1-422e-86cb-3a4780e4f55d",
   "metadata": {},
   "outputs": [],
   "source": [
    "batch = torch.zeros(batch_size, 3, 720, 1280, dtype=torch.uint8)"
   ]
  },
  {
   "cell_type": "code",
   "execution_count": 15,
   "id": "7106fc67-a051-4570-9bc4-2c3574d1b692",
   "metadata": {
    "tags": []
   },
   "outputs": [],
   "source": [
    "filenames = [img_path + \"\\\\\" + name for name in img_paths]"
   ]
  },
  {
   "cell_type": "code",
   "execution_count": 16,
   "id": "6e1295b2-ac49-478c-b350-07c0a8f57cc8",
   "metadata": {},
   "outputs": [
    {
     "name": "stderr",
     "output_type": "stream",
     "text": [
      "C:\\Users\\17677\\AppData\\Local\\Temp\\ipykernel_10692\\3511066752.py:2: DeprecationWarning: Starting with ImageIO v3 the behavior of this function will switch to that of iio.v3.imread. To keep the current behavior (and make this warning disappear) use `import imageio.v2 as imageio` or call `imageio.v2.imread` directly.\n",
      "  img_arr = imageio.imread(filename)\n"
     ]
    }
   ],
   "source": [
    "for i, filename in enumerate(filenames):\n",
    "    img_arr = imageio.imread(filename)\n",
    "    img = torch.from_numpy(img_arr)\n",
    "    img = img.permute(2, 0, 1)\n",
    "    img = img[:3]\n",
    "    batch[i] = img"
   ]
  },
  {
   "cell_type": "code",
   "execution_count": 20,
   "id": "ddd3a70e-8dd3-436b-aa9f-5501446811ae",
   "metadata": {
    "collapsed": true,
    "jupyter": {
     "outputs_hidden": true
    },
    "tags": []
   },
   "outputs": [
    {
     "data": {
      "text/plain": [
       "(tensor([[[[161, 160, 166,  ...,  54,  55,  63],\n",
       "           [163, 160, 165,  ...,  52,  54,  61],\n",
       "           [166, 164, 168,  ...,  57,  55,  57],\n",
       "           ...,\n",
       "           [ 61,  62,  47,  ..., 147, 144, 142],\n",
       "           [ 73,  64,  67,  ..., 141, 139, 136],\n",
       "           [ 81,  51,  68,  ..., 137, 137, 133]],\n",
       " \n",
       "          [[206, 206, 208,  ...,  89,  89,  97],\n",
       "           [208, 206, 207,  ...,  87,  88,  95],\n",
       "           [212, 208, 210,  ...,  92,  90,  91],\n",
       "           ...,\n",
       "           [121, 120, 105,  ..., 179, 176, 176],\n",
       "           [131, 122, 125,  ..., 175, 175, 174],\n",
       "           [139, 109, 126,  ..., 173, 175, 173]],\n",
       " \n",
       "          [[235, 232, 233,  ..., 121, 124, 132],\n",
       "           [237, 232, 232,  ..., 119, 123, 130],\n",
       "           [238, 235, 235,  ..., 124, 122, 126],\n",
       "           ...,\n",
       "           [184, 184, 169,  ..., 228, 225, 224],\n",
       "           [194, 185, 189,  ..., 223, 223, 221],\n",
       "           [202, 172, 190,  ..., 221, 222, 222]]]], dtype=torch.uint8),\n",
       " tensor([[[[0.6314, 0.6275, 0.6510,  ..., 0.2118, 0.2157, 0.2471],\n",
       "           [0.6392, 0.6275, 0.6471,  ..., 0.2039, 0.2118, 0.2392],\n",
       "           [0.6510, 0.6431, 0.6588,  ..., 0.2235, 0.2157, 0.2235],\n",
       "           ...,\n",
       "           [0.2392, 0.2431, 0.1843,  ..., 0.5765, 0.5647, 0.5569],\n",
       "           [0.2863, 0.2510, 0.2627,  ..., 0.5529, 0.5451, 0.5333],\n",
       "           [0.3176, 0.2000, 0.2667,  ..., 0.5373, 0.5373, 0.5216]],\n",
       " \n",
       "          [[0.8078, 0.8078, 0.8157,  ..., 0.3490, 0.3490, 0.3804],\n",
       "           [0.8157, 0.8078, 0.8118,  ..., 0.3412, 0.3451, 0.3725],\n",
       "           [0.8314, 0.8157, 0.8235,  ..., 0.3608, 0.3529, 0.3569],\n",
       "           ...,\n",
       "           [0.4745, 0.4706, 0.4118,  ..., 0.7020, 0.6902, 0.6902],\n",
       "           [0.5137, 0.4784, 0.4902,  ..., 0.6863, 0.6863, 0.6824],\n",
       "           [0.5451, 0.4275, 0.4941,  ..., 0.6784, 0.6863, 0.6784]],\n",
       " \n",
       "          [[0.9216, 0.9098, 0.9137,  ..., 0.4745, 0.4863, 0.5176],\n",
       "           [0.9294, 0.9098, 0.9098,  ..., 0.4667, 0.4824, 0.5098],\n",
       "           [0.9333, 0.9216, 0.9216,  ..., 0.4863, 0.4784, 0.4941],\n",
       "           ...,\n",
       "           [0.7216, 0.7216, 0.6627,  ..., 0.8941, 0.8824, 0.8784],\n",
       "           [0.7608, 0.7255, 0.7412,  ..., 0.8745, 0.8745, 0.8667],\n",
       "           [0.7922, 0.6745, 0.7451,  ..., 0.8667, 0.8706, 0.8706]]]]))"
      ]
     },
     "execution_count": 20,
     "metadata": {},
     "output_type": "execute_result"
    }
   ],
   "source": [
    "# 正规化数据\n",
    "# 1.对像素进行归一化\n",
    "batch1 = batch.float()\n",
    "batch1 = batch / 255.0\n",
    "batch[:1], batch1[:1]"
   ]
  },
  {
   "cell_type": "code",
   "execution_count": 24,
   "id": "abbb62b0-94f2-4175-948d-8db1d2982ada",
   "metadata": {},
   "outputs": [],
   "source": [
    "# 2.按均值和方差进行归一化(按照通道进行归一化)\n",
    "n_channels = batch1.shape[1]\n",
    "for c in range(n_channels):\n",
    "    mean = torch.mean(batch1[:, c])\n",
    "    std = torch.std(batch1[:, c])\n",
    "    batch1[:, c] = (batch1[:, c] - mean) / std"
   ]
  },
  {
   "cell_type": "code",
   "execution_count": 25,
   "id": "923c1386-6f07-482e-9333-6c4da44acce7",
   "metadata": {
    "collapsed": true,
    "jupyter": {
     "outputs_hidden": true
    },
    "tags": []
   },
   "outputs": [
    {
     "data": {
      "text/plain": [
       "(tensor([[[206, 206, 208,  ...,  89,  89,  97],\n",
       "          [208, 206, 207,  ...,  87,  88,  95],\n",
       "          [212, 208, 210,  ...,  92,  90,  91],\n",
       "          ...,\n",
       "          [121, 120, 105,  ..., 179, 176, 176],\n",
       "          [131, 122, 125,  ..., 175, 175, 174],\n",
       "          [139, 109, 126,  ..., 173, 175, 173]],\n",
       " \n",
       "         [[105, 106, 105,  ..., 100, 100,  99],\n",
       "          [105, 106, 105,  ..., 100, 100, 100],\n",
       "          [105, 106, 105,  ..., 100, 101, 101],\n",
       "          ...,\n",
       "          [ 45,  47,  43,  ...,  99,  96,  96],\n",
       "          [ 44,  48,  43,  ...,  98,  97,  98],\n",
       "          [ 44,  48,  43,  ...,  96,  97, 100]],\n",
       " \n",
       "         [[  1,   2,   4,  ...,  30,  30,  30],\n",
       "          [  1,   1,   1,  ...,  30,  30,  30],\n",
       "          [  3,   4,   4,  ...,  30,  30,  30],\n",
       "          ...,\n",
       "          [ 36,  30,  32,  ...,  30,  30,  30],\n",
       "          [ 35,  25,  23,  ...,  30,  30,  30],\n",
       "          [ 30,  27,  32,  ...,  30,  30,  30]],\n",
       " \n",
       "         ...,\n",
       " \n",
       "         [[ 79,  76,  72,  ...,  80,  74,  69],\n",
       "          [ 75,  73,  69,  ...,  87,  82,  78],\n",
       "          [ 70,  67,  65,  ...,  94,  91,  88],\n",
       "          ...,\n",
       "          [ 61,  63,  63,  ...,  38,  36,  33],\n",
       "          [ 63,  58,  54,  ...,  37,  39,  39],\n",
       "          [ 65,  60,  59,  ...,  36,  41,  45]],\n",
       " \n",
       "         [[ 19,  19,  19,  ...,  72,  71,  74],\n",
       "          [ 19,  19,  19,  ...,  72,  72,  74],\n",
       "          [ 19,  19,  19,  ...,  71,  72,  75],\n",
       "          ...,\n",
       "          [ 28,  28,  28,  ...,  13,  13,  13],\n",
       "          [ 24,  24,  25,  ...,  12,  12,  12],\n",
       "          [ 19,  19,  19,  ...,  12,  12,  12]],\n",
       " \n",
       "         [[130,  84,  36,  ...,  62,  56,  67],\n",
       "          [151,  93,  39,  ...,  60,  55,  68],\n",
       "          [147, 107,  65,  ...,  56,  53,  70],\n",
       "          ...,\n",
       "          [208, 204, 201,  ...,  24,  22,  24],\n",
       "          [208, 204, 201,  ...,  27,  25,  30],\n",
       "          [208, 204, 201,  ...,  26,  24,  27]]], dtype=torch.uint8),\n",
       " tensor([[[ 1.6109,  1.6109,  1.6414,  ..., -0.1735, -0.1735, -0.0515],\n",
       "          [ 1.6414,  1.6109,  1.6262,  ..., -0.2040, -0.1887, -0.0820],\n",
       "          [ 1.7024,  1.6414,  1.6719,  ..., -0.1277, -0.1582, -0.1430],\n",
       "          ...,\n",
       "          [ 0.3146,  0.2993,  0.0705,  ...,  1.1991,  1.1534,  1.1534],\n",
       "          [ 0.4671,  0.3298,  0.3756,  ...,  1.1381,  1.1381,  1.1229],\n",
       "          [ 0.5891,  0.1315,  0.3908,  ...,  1.1076,  1.1381,  1.1076]],\n",
       " \n",
       "         [[ 0.0705,  0.0858,  0.0705,  ..., -0.0057, -0.0057, -0.0210],\n",
       "          [ 0.0705,  0.0858,  0.0705,  ..., -0.0057, -0.0057, -0.0057],\n",
       "          [ 0.0705,  0.0858,  0.0705,  ..., -0.0057,  0.0095,  0.0095],\n",
       "          ...,\n",
       "          [-0.8446, -0.8140, -0.8751,  ..., -0.0210, -0.0667, -0.0667],\n",
       "          [-0.8598, -0.7988, -0.8751,  ..., -0.0362, -0.0515, -0.0362],\n",
       "          [-0.8598, -0.7988, -0.8751,  ..., -0.0667, -0.0515, -0.0057]],\n",
       " \n",
       "         [[-1.5156, -1.5004, -1.4699,  ..., -1.0733, -1.0733, -1.0733],\n",
       "          [-1.5156, -1.5156, -1.5156,  ..., -1.0733, -1.0733, -1.0733],\n",
       "          [-1.4851, -1.4699, -1.4699,  ..., -1.0733, -1.0733, -1.0733],\n",
       "          ...,\n",
       "          [-0.9818, -1.0733, -1.0428,  ..., -1.0733, -1.0733, -1.0733],\n",
       "          [-0.9971, -1.1496, -1.1801,  ..., -1.0733, -1.0733, -1.0733],\n",
       "          [-1.0733, -1.1191, -1.0428,  ..., -1.0733, -1.0733, -1.0733]],\n",
       " \n",
       "         ...,\n",
       " \n",
       "         [[-0.3260, -0.3718, -0.4328,  ..., -0.3108, -0.4023, -0.4785],\n",
       "          [-0.3870, -0.4175, -0.4785,  ..., -0.2040, -0.2802, -0.3413],\n",
       "          [-0.4633, -0.5090, -0.5395,  ..., -0.0972, -0.1430, -0.1887],\n",
       "          ...,\n",
       "          [-0.6005, -0.5700, -0.5700,  ..., -0.9513, -0.9818, -1.0276],\n",
       "          [-0.5700, -0.6463, -0.7073,  ..., -0.9666, -0.9361, -0.9361],\n",
       "          [-0.5395, -0.6158, -0.6310,  ..., -0.9818, -0.9056, -0.8446]],\n",
       " \n",
       "         [[-1.2411, -1.2411, -1.2411,  ..., -0.4328, -0.4480, -0.4023],\n",
       "          [-1.2411, -1.2411, -1.2411,  ..., -0.4328, -0.4328, -0.4023],\n",
       "          [-1.2411, -1.2411, -1.2411,  ..., -0.4480, -0.4328, -0.3870],\n",
       "          ...,\n",
       "          [-1.1038, -1.1038, -1.1038,  ..., -1.3326, -1.3326, -1.3326],\n",
       "          [-1.1648, -1.1648, -1.1496,  ..., -1.3478, -1.3478, -1.3478],\n",
       "          [-1.2411, -1.2411, -1.2411,  ..., -1.3478, -1.3478, -1.3478]],\n",
       " \n",
       "         [[ 0.4518, -0.2497, -0.9818,  ..., -0.5853, -0.6768, -0.5090],\n",
       "          [ 0.7721, -0.1125, -0.9361,  ..., -0.6158, -0.6920, -0.4938],\n",
       "          [ 0.7111,  0.1010, -0.5395,  ..., -0.6768, -0.7225, -0.4633],\n",
       "          ...,\n",
       "          [ 1.6414,  1.5804,  1.5347,  ..., -1.1648, -1.1953, -1.1648],\n",
       "          [ 1.6414,  1.5804,  1.5347,  ..., -1.1191, -1.1496, -1.0733],\n",
       "          [ 1.6414,  1.5804,  1.5347,  ..., -1.1343, -1.1648, -1.1191]]]))"
      ]
     },
     "execution_count": 25,
     "metadata": {},
     "output_type": "execute_result"
    }
   ],
   "source": [
    "batch[:, 1], batch1[:, 1]"
   ]
  },
  {
   "attachments": {},
   "cell_type": "markdown",
   "id": "2b13bae6-2863-4c7f-8575-ce9afcfaa6d8",
   "metadata": {
    "tags": []
   },
   "source": [
    "## 处理表格"
   ]
  },
  {
   "cell_type": "code",
   "execution_count": 1,
   "id": "01032359-d112-4baf-ae21-46bea978531f",
   "metadata": {},
   "outputs": [],
   "source": [
    "# 1.加载表格中的数据\n",
    "import csv\n",
    "\n",
    "import numpy as np"
   ]
  },
  {
   "cell_type": "code",
   "execution_count": 38,
   "id": "2b983b87-1619-41e3-bce1-7fba5d120349",
   "metadata": {
    "collapsed": true,
    "jupyter": {
     "outputs_hidden": true
    },
    "tags": []
   },
   "outputs": [
    {
     "data": {
      "text/plain": [
       "array([[ 0.368,  0.38 , -0.225, -0.049,  0.379,  0.092,  0.55 ,  0.551,\n",
       "         0.244,  0.904, -0.419,  0.515,  0.346, -0.114, -0.204,  0.239,\n",
       "        -0.089,  0.961,  0.247,  0.899, -0.252,  0.628, -0.063,  0.098,\n",
       "        -1.314, -0.662, -0.596,  0.208, -0.449,  0.047,  0.057, -0.042,\n",
       "         0.847,  0.534, -0.009, -0.19 , -0.567,  0.388],\n",
       "       [ 0.148,  0.489, -0.247, -0.049,  0.122, -0.201,  0.487,  0.493,\n",
       "        -0.127,  0.904, -0.403, -0.324,  0.465,  0.653,  0.148, -0.113,\n",
       "        -0.093,  0.961,  0.073,  1.168, -0.276,  0.009, -0.063,  0.09 ,\n",
       "        -1.31 , -0.646, -0.776,  0.226, -0.443,  0.047,  0.56 ,  0.176,\n",
       "         0.551,  0.046, -0.22 ,  0.008, -0.294,  0.104],\n",
       "       [-0.166, -0.062, -0.311,  0.046, -0.055,  0.063,  0.485,  0.493,\n",
       "        -0.227,  0.904,  0.33 ,  0.389,  0.173,  0.398,  0.068, -0.192,\n",
       "        -0.061,  0.961,  0.07 ,  0.98 , -0.34 ,  0.27 , -0.063,  0.091,\n",
       "        -1.31 , -0.473, -0.607,  0.084, -0.458, -0.398,  0.101,  0.199,\n",
       "         0.634,  0.017, -0.234,  0.008,  0.373,  0.569]], dtype=float32)"
      ]
     },
     "execution_count": 38,
     "metadata": {},
     "output_type": "execute_result"
    }
   ],
   "source": [
    "data_path = \"../机器学习训练/zhengqi_test.txt\"\n",
    "data_numpy = np.loadtxt(data_path, dtype=np.float32, delimiter=\"\\t\", skiprows=1)\n",
    "data_numpy[:3]"
   ]
  },
  {
   "cell_type": "code",
   "execution_count": 46,
   "id": "a49b474c-9700-422d-abed-b648845aec0f",
   "metadata": {},
   "outputs": [],
   "source": [
    "col_list = next(csv.reader(open(data_path), delimiter=\"\\t\"))  # 读取每行的列表csv.reader"
   ]
  },
  {
   "cell_type": "code",
   "execution_count": 47,
   "id": "d761cd76-94c8-4f3e-88a5-799cef9e6e0b",
   "metadata": {
    "collapsed": true,
    "jupyter": {
     "outputs_hidden": true
    },
    "tags": []
   },
   "outputs": [
    {
     "data": {
      "text/plain": [
       "((1925, 38),\n",
       " ['V0',\n",
       "  'V1',\n",
       "  'V2',\n",
       "  'V3',\n",
       "  'V4',\n",
       "  'V5',\n",
       "  'V6',\n",
       "  'V7',\n",
       "  'V8',\n",
       "  'V9',\n",
       "  'V10',\n",
       "  'V11',\n",
       "  'V12',\n",
       "  'V13',\n",
       "  'V14',\n",
       "  'V15',\n",
       "  'V16',\n",
       "  'V17',\n",
       "  'V18',\n",
       "  'V19',\n",
       "  'V20',\n",
       "  'V21',\n",
       "  'V22',\n",
       "  'V23',\n",
       "  'V24',\n",
       "  'V25',\n",
       "  'V26',\n",
       "  'V27',\n",
       "  'V28',\n",
       "  'V29',\n",
       "  'V30',\n",
       "  'V31',\n",
       "  'V32',\n",
       "  'V33',\n",
       "  'V34',\n",
       "  'V35',\n",
       "  'V36',\n",
       "  'V37'])"
      ]
     },
     "execution_count": 47,
     "metadata": {},
     "output_type": "execute_result"
    }
   ],
   "source": [
    "data_numpy.shape, col_list"
   ]
  },
  {
   "cell_type": "code",
   "execution_count": 50,
   "id": "be1d99a3-5dca-4efc-b68c-dd381a664790",
   "metadata": {},
   "outputs": [
    {
     "data": {
      "text/plain": [
       "(torch.Size([1925, 38]), torch.float32)"
      ]
     },
     "execution_count": 50,
     "metadata": {},
     "output_type": "execute_result"
    }
   ],
   "source": [
    "# 将numpy转成pytorch\n",
    "data_p = torch.from_numpy(data_numpy)\n",
    "data_p.shape, data_p.dtype"
   ]
  },
  {
   "cell_type": "code",
   "execution_count": 51,
   "id": "30ceac37-b8b7-4963-bd0b-a14504b477e6",
   "metadata": {},
   "outputs": [
    {
     "data": {
      "text/plain": [
       "(torch.Size([1925, 37]), torch.Size([1925]))"
      ]
     },
     "execution_count": 51,
     "metadata": {},
     "output_type": "execute_result"
    }
   ],
   "source": [
    "# 2.表示得分\n",
    "# 将最后一行作为分数进行表示\n",
    "data_y = data_p[:, -1]\n",
    "data_x = data_p[:, :-1]\n",
    "data_x.shape, data_y.shape"
   ]
  },
  {
   "cell_type": "code",
   "execution_count": 54,
   "id": "37f0fb7d-7974-49a7-bd6e-add91230b829",
   "metadata": {},
   "outputs": [
    {
     "data": {
      "text/plain": [
       "tensor([ 30,  10,  50,  30, -40,  10, 100, -40, -10, -20])"
      ]
     },
     "execution_count": 54,
     "metadata": {},
     "output_type": "execute_result"
    }
   ],
   "source": [
    "# 将分数转换成整数向量（分类）：适用于连续的分数\n",
    "data_y = data_y * 10\n",
    "data_y = data_y.long()\n",
    "data_y[:10]"
   ]
  },
  {
   "cell_type": "code",
   "execution_count": 73,
   "id": "1eae73e0-0796-4374-881a-7fb57b892bb7",
   "metadata": {
    "collapsed": true,
    "jupyter": {
     "outputs_hidden": true
    },
    "tags": []
   },
   "outputs": [
    {
     "data": {
      "text/plain": [
       "(tensor([0, 1, 2, 3, 4, 5, 6, 7, 8, 9]),\n",
       " tensor([[0., 0., 0., 0., 0., 0., 0., 0., 0., 0.],\n",
       "         [0., 0., 0., 0., 0., 0., 0., 0., 0., 0.],\n",
       "         [0., 0., 0., 0., 0., 0., 0., 0., 0., 0.],\n",
       "         [0., 0., 0., 0., 0., 0., 0., 0., 0., 0.],\n",
       "         [0., 0., 0., 0., 0., 0., 0., 0., 0., 0.],\n",
       "         [0., 0., 0., 0., 0., 0., 0., 0., 0., 0.],\n",
       "         [0., 0., 0., 0., 0., 0., 0., 0., 0., 0.],\n",
       "         [0., 0., 0., 0., 0., 0., 0., 0., 0., 0.],\n",
       "         [0., 0., 0., 0., 0., 0., 0., 0., 0., 0.],\n",
       "         [0., 0., 0., 0., 0., 0., 0., 0., 0., 0.]]))"
      ]
     },
     "execution_count": 73,
     "metadata": {},
     "output_type": "execute_result"
    }
   ],
   "source": [
    "# 当得分是字符串的时候，采用独热编码：适用于离散的分数\n",
    "target = torch.arange(10)\n",
    "target_onehot = torch.zeros(target.shape[0], 10)\n",
    "target, target_onehot"
   ]
  },
  {
   "cell_type": "code",
   "execution_count": 74,
   "id": "ebd3c7b4-a901-4808-976e-dbeac437b361",
   "metadata": {
    "collapsed": true,
    "jupyter": {
     "outputs_hidden": true
    },
    "tags": []
   },
   "outputs": [
    {
     "data": {
      "text/plain": [
       "tensor([[1., 0., 0., 0., 0., 0., 0., 0., 0., 0.],\n",
       "        [0., 1., 0., 0., 0., 0., 0., 0., 0., 0.],\n",
       "        [0., 0., 1., 0., 0., 0., 0., 0., 0., 0.],\n",
       "        [0., 0., 0., 1., 0., 0., 0., 0., 0., 0.],\n",
       "        [0., 0., 0., 0., 1., 0., 0., 0., 0., 0.],\n",
       "        [0., 0., 0., 0., 0., 1., 0., 0., 0., 0.],\n",
       "        [0., 0., 0., 0., 0., 0., 1., 0., 0., 0.],\n",
       "        [0., 0., 0., 0., 0., 0., 0., 1., 0., 0.],\n",
       "        [0., 0., 0., 0., 0., 0., 0., 0., 1., 0.],\n",
       "        [0., 0., 0., 0., 0., 0., 0., 0., 0., 1.]])"
      ]
     },
     "execution_count": 74,
     "metadata": {},
     "output_type": "execute_result"
    }
   ],
   "source": [
    "target_onehot.scatter_(1, target.unsqueeze(1), 1.0)"
   ]
  },
  {
   "cell_type": "code",
   "execution_count": 75,
   "id": "36a77287-c518-4dd2-bd85-2efa69fd683c",
   "metadata": {
    "collapsed": true,
    "jupyter": {
     "outputs_hidden": true
    },
    "tags": []
   },
   "outputs": [
    {
     "data": {
      "text/plain": [
       "(tensor([-0.1844, -0.0839, -0.4348,  0.1017, -0.0192,  0.8380, -0.2741, -0.1740,\n",
       "         -0.2667,  0.2551, -0.0517,  0.5471, -0.0346, -0.2937, -0.0242, -0.1441,\n",
       "         -0.1703,  0.0654, -0.0824,  0.1728,  0.2792,  0.0852, -0.4548, -0.2340,\n",
       "          0.0321,  0.0772, -0.1085, -0.4086, -0.2069, -0.1465, -0.0832, -0.1917,\n",
       "         -0.0308, -0.0114, -0.0100, -0.2969, -0.0463]),\n",
       " tensor([1.1520, 1.1592, 0.9400, 1.0711, 1.3163, 0.9275, 1.1112, 1.0818, 1.1792,\n",
       "         1.0290, 1.0899, 0.8964, 1.2996, 1.0796, 0.9524, 0.8650, 1.0024, 1.8490,\n",
       "         1.1256, 0.6068, 1.4380, 1.5729, 1.5431, 0.9723, 0.8978, 1.2324, 1.2937,\n",
       "         2.1129, 1.1324, 0.7754, 1.2688, 1.2961, 1.2774, 0.9796, 0.9904, 0.8966,\n",
       "         1.0834]))"
      ]
     },
     "execution_count": 75,
     "metadata": {},
     "output_type": "execute_result"
    }
   ],
   "source": [
    "# 3.对数据进行归一化\n",
    "data_mean = torch.mean(data_x, dim=0)\n",
    "data_var = torch.var(data_x, dim=0)  # 方差,std是标准差\n",
    "data_mean, data_var"
   ]
  },
  {
   "cell_type": "code",
   "execution_count": 77,
   "id": "13264daa-940c-47ce-81a6-d8e4119a2238",
   "metadata": {
    "collapsed": true,
    "jupyter": {
     "outputs_hidden": true
    },
    "tags": []
   },
   "outputs": [
    {
     "data": {
      "text/plain": [
       "tensor([[ 5.1466e-01,  4.3088e-01,  2.1635e-01, -1.4559e-01,  3.4706e-01,\n",
       "         -7.7468e-01,  7.8178e-01,  6.9702e-01,  4.7030e-01,  6.3968e-01,\n",
       "         -3.5182e-01, -3.3859e-02,  3.3385e-01,  1.7298e-01, -1.8419e-01,\n",
       "          4.1193e-01,  8.1244e-02,  6.5861e-01,  3.1050e-01,  9.3224e-01,\n",
       "         -4.4302e-01,  4.3284e-01,  3.1537e-01,  3.3664e-01, -1.4206e+00,\n",
       "         -6.6585e-01, -4.2863e-01,  4.2417e-01, -2.2754e-01,  2.1970e-01,\n",
       "          1.2448e-01,  1.3152e-01,  7.7664e-01,  5.5109e-01,  9.9021e-04,\n",
       "          1.1289e-01, -5.0029e-01],\n",
       "        [ 3.0969e-01,  5.3211e-01,  1.9366e-01, -1.4559e-01,  1.2305e-01,\n",
       "         -1.0789e+00,  7.2202e-01,  6.4126e-01,  1.2866e-01,  6.3968e-01,\n",
       "         -3.3650e-01, -9.2000e-01,  4.3824e-01,  9.1117e-01,  1.7649e-01,\n",
       "          3.3465e-02,  7.7248e-02,  6.5861e-01,  1.4650e-01,  1.2776e+00,\n",
       "         -4.6303e-01, -6.0723e-02,  3.1537e-01,  3.2853e-01, -1.4164e+00,\n",
       "         -6.5144e-01, -5.8689e-01,  4.3655e-01, -2.2190e-01,  2.1970e-01,\n",
       "          5.7103e-01,  3.2301e-01,  5.1475e-01,  5.8029e-02, -2.1102e-01,\n",
       "          3.2199e-01, -2.3801e-01],\n",
       "        [ 1.7147e-02,  2.0352e-02,  1.2765e-01, -5.3792e-02, -3.1229e-02,\n",
       "         -8.0479e-01,  7.2012e-01,  6.4126e-01,  3.6567e-02,  6.3968e-01,\n",
       "          3.6563e-01, -1.6694e-01,  1.8210e-01,  6.6575e-01,  9.4519e-02,\n",
       "         -5.1475e-02,  1.0921e-01,  6.5861e-01,  1.4367e-01,  1.0362e+00,\n",
       "         -5.1641e-01,  1.4739e-01,  3.1537e-01,  3.2954e-01, -1.4164e+00,\n",
       "         -4.9560e-01, -4.3830e-01,  3.3886e-01, -2.3599e-01, -2.8565e-01,\n",
       "          1.6354e-01,  3.4321e-01,  5.8818e-01,  2.8728e-02, -2.2509e-01,\n",
       "          3.2199e-01,  4.0281e-01],\n",
       "        [ 2.6684e-01,  3.5100e-01,  1.8128e-01, -4.8961e-02, -1.4280e-01,\n",
       "         -7.1653e-01,  7.0968e-01,  6.5183e-01,  2.5482e-01,  6.3968e-01,\n",
       "         -3.6332e-01, -2.4353e-02, -2.9893e-03, -4.4537e-02, -2.9588e-01,\n",
       "         -4.7940e-01,  3.6296e-02,  6.5861e-01,  1.5121e-01,  1.1518e+00,\n",
       "         -4.7638e-01,  5.1099e-01,  4.7315e-01,  3.2447e-01,  2.1312e-01,\n",
       "         -3.7309e-01, -7.7152e-01,  4.2073e-01, -2.3411e-01, -2.8565e-01,\n",
       "          9.6786e-01,  2.8875e-01,  9.4917e-01, -2.8863e-02, -2.8136e-01,\n",
       "          3.2199e-01, -5.9541e-01],\n",
       "        [ 4.5131e-01,  4.7546e-01,  6.6295e-01, -4.8961e-02, -1.2053e-02,\n",
       "         -7.4976e-01,  6.4707e-01,  6.4510e-01,  3.8834e-01,  6.3968e-01,\n",
       "         -1.0565e-01,  7.3329e-03, -2.4919e-02,  8.7075e-01, -3.0203e-01,\n",
       "         -8.4174e-01,  9.5227e-02,  6.5861e-01,  1.5309e-01,  1.3674e+00,\n",
       "         -3.5796e-01,  4.4528e-02,  4.7315e-01,  3.2752e-01,  2.1629e-01,\n",
       "         -3.2625e-01, -4.9281e-01,  4.3724e-01, -2.3599e-01, -7.1490e-01,\n",
       "          3.3222e-01,  4.9341e-01,  1.8738e-01, -2.8863e-02, -2.8136e-01,\n",
       "          3.2199e-01, -9.0051e-02],\n",
       "        [ 2.1839e-01,  3.9373e-01,  5.5981e-01, -4.8961e-02, -2.8661e-01,\n",
       "         -7.9337e-01,  7.4953e-01,  6.3933e-01,  4.6478e-01,  6.3968e-01,\n",
       "          1.2520e-01, -1.8384e-01, -1.8545e-01,  4.4535e-01, -3.4917e-01,\n",
       "         -8.9442e-01,  3.9188e-01,  6.5861e-01,  1.4367e-01,  1.1287e+00,\n",
       "         -3.2460e-01,  2.5663e-01,  4.7315e-01,  3.3766e-01,  2.1312e-01,\n",
       "         -1.3347e-01, -5.3062e-01,  4.3861e-01, -2.2847e-01, -8.5231e-01,\n",
       "          5.4972e-01,  5.6105e-01,  3.5460e-01, -2.8863e-02, -2.8136e-01,\n",
       "          3.2199e-01, -1.7460e-01],\n",
       "        [-3.5959e-02,  2.4047e-01,  4.6168e-02, -4.8961e-02,  2.1940e-02,\n",
       "         -7.3107e-01,  7.3150e-01,  6.9414e-01,  1.5444e-01,  6.3968e-01,\n",
       "          2.6601e-01, -7.3994e-02, -2.1176e-01, -2.9862e-01, -2.2825e-01,\n",
       "         -9.4603e-01,  4.2184e-01,  6.5861e-01,  1.3990e-01,  1.3084e+00,\n",
       "         -5.0890e-01,  6.0268e-01,  3.1537e-01,  3.4273e-01,  2.1734e-01,\n",
       "         -6.1408e-02, -7.0909e-01,  3.7257e-01, -2.3035e-01, -8.9773e-01,\n",
       "          2.9493e-01,  5.4787e-01,  4.6431e-01, -2.8863e-02, -2.8136e-01,\n",
       "          3.2199e-01,  1.4437e-01],\n",
       "        [ 5.4414e-02,  2.1911e-01,  6.8255e-01, -7.7948e-02, -5.2282e-01,\n",
       "         -9.4186e-01,  7.5332e-01,  6.9414e-01,  3.0086e-01,  6.3968e-01,\n",
       "         -1.6408e-01, -3.9719e-01, -2.9334e-01, -8.0198e-01, -2.5285e-01,\n",
       "         -9.1807e-01,  1.8013e-01,  6.5861e-01,  1.4367e-01,  1.6383e+00,\n",
       "         -4.3718e-01,  8.7538e-01,  3.1537e-01,  3.3969e-01,  2.1523e-01,\n",
       "         -6.6813e-02, -8.8581e-01,  4.6131e-01, -2.3035e-01, -9.1250e-01,\n",
       "          1.1889e+00,  4.1524e-01,  5.1829e-01, -2.8863e-02, -2.8136e-01,\n",
       "          3.2199e-01, -6.2807e-01],\n",
       "        [-1.7325e-02,  6.4934e-02,  4.5873e-01, -1.3109e-01, -2.6395e-01,\n",
       "         -7.6118e-01,  6.8976e-01,  6.6529e-01,  2.1614e-01,  2.1479e-01,\n",
       "         -2.8764e-01, -3.0952e-01, -2.4860e-01,  9.9202e-01,  1.6643e-02,\n",
       "         -9.7613e-01,  1.7314e-01,  6.5861e-01,  1.3801e-01,  1.0452e+00,\n",
       "         -6.2648e-01, -9.7402e-02,  4.7315e-01,  3.3157e-01,  2.1734e-01,\n",
       "         -6.4110e-02, -5.4096e-02,  4.4687e-01, -2.2847e-01, -9.1250e-01,\n",
       "          1.4312e-01,  3.6341e-01,  2.4401e-01, -2.8863e-02, -2.8136e-01,\n",
       "          3.2199e-01, -1.8228e-01],\n",
       "        [ 3.1716e-03,  8.1818e-01,  9.3319e-01, -2.0163e-01, -3.9905e-01,\n",
       "         -6.7915e-01,  8.1783e-01,  6.7491e-01,  5.3937e-01,  6.3968e-01,\n",
       "         -5.3921e-02,  7.4929e-02, -5.9159e-01,  8.7171e-01, -1.8727e-01,\n",
       "         -9.7613e-01,  4.2184e-01,  6.5861e-01,  1.5121e-01,  3.5197e-01,\n",
       "         -6.4400e-01,  1.5855e-01,  4.7315e-01,  5.6743e-02,  2.1523e-01,\n",
       "          1.0975e-01,  4.2506e-01,  4.9227e-01, -2.2472e-01, -1.0738e+00,\n",
       "         -4.2423e-02,  5.7774e-01,  4.0769e-01, -2.8863e-02, -2.8136e-01,\n",
       "          8.3379e-03, -3.6963e-01]])"
      ]
     },
     "execution_count": 77,
     "metadata": {},
     "output_type": "execute_result"
    }
   ],
   "source": [
    "# 进行归一化\n",
    "data_normalized = (data_x - data_mean) / torch.sqrt(data_var)\n",
    "data_normalized[:10]"
   ]
  },
  {
   "attachments": {},
   "cell_type": "markdown",
   "id": "299cbad7-3a9a-410a-b88e-17a49a69b4bf",
   "metadata": {},
   "source": [
    "## 处理时间序列"
   ]
  },
  {
   "cell_type": "code",
   "execution_count": 1,
   "id": "86c344b0-5004-4ad8-96ec-7247103e73a3",
   "metadata": {},
   "outputs": [],
   "source": [
    "import numpy as np"
   ]
  },
  {
   "cell_type": "code",
   "execution_count": 7,
   "id": "b2fd8069-b3ca-4980-907b-f84688d50ac6",
   "metadata": {},
   "outputs": [],
   "source": [
    "dir = \"../深度学习/Bike-Sharing-Dataset/hour.csv\"\n",
    "bikes_numpy = np.loadtxt(\n",
    "    dir,\n",
    "    dtype=np.float32,\n",
    "    delimiter=\",\",\n",
    "    skiprows=1,\n",
    "    converters={1: lambda x: float(x[8:10])},\n",
    ")"
   ]
  },
  {
   "cell_type": "code",
   "execution_count": 18,
   "id": "ba7854ec-bd81-413b-abc4-cb05dd138a4f",
   "metadata": {
    "tags": []
   },
   "outputs": [
    {
     "data": {
      "text/plain": [
       "torch.Size([17520, 17])"
      ]
     },
     "execution_count": 18,
     "metadata": {},
     "output_type": "execute_result"
    }
   ],
   "source": [
    "bikes = torch.from_numpy(bikes_numpy)\n",
    "bike = torch.zeros(bikes.shape[0] + 141, bikes.shape[1])\n",
    "for i, data in enumerate(bikes):\n",
    "    bike[i] = bikes[i]\n",
    "for j in range(140):\n",
    "    bike[j + 17380] = bike[j]\n",
    "bike.shape"
   ]
  },
  {
   "cell_type": "code",
   "execution_count": 19,
   "id": "8b14e1e1-3a92-4da7-927b-76484ebb7059",
   "metadata": {},
   "outputs": [
    {
     "data": {
      "text/plain": [
       "(torch.Size([17520, 17]), (17, 1))"
      ]
     },
     "execution_count": 19,
     "metadata": {},
     "output_type": "execute_result"
    }
   ],
   "source": [
    "bike.shape, bike.stride()"
   ]
  },
  {
   "cell_type": "code",
   "execution_count": 20,
   "id": "0d90bde5-f828-4f21-897e-0527af1d2e35",
   "metadata": {},
   "outputs": [
    {
     "data": {
      "text/plain": [
       "(torch.Size([730, 24, 17]), (408, 17, 1))"
      ]
     },
     "execution_count": 20,
     "metadata": {},
     "output_type": "execute_result"
    }
   ],
   "source": [
    "# 按时间段调整数据\n",
    "daily_bikes = bike.view(-1, 24, bike.shape[1])\n",
    "daily_bikes.shape, daily_bikes.stride()"
   ]
  },
  {
   "cell_type": "code",
   "execution_count": 23,
   "id": "dd463995-3c81-4005-87bc-a7b448c28f78",
   "metadata": {},
   "outputs": [
    {
     "data": {
      "text/plain": [
       "(torch.Size([730, 17, 24]), (408, 1, 17))"
      ]
     },
     "execution_count": 23,
     "metadata": {},
     "output_type": "execute_result"
    }
   ],
   "source": [
    "# 转置张量(N, C, L) N:时间\n",
    "daily_bikes = daily_bikes.transpose(1, 2)\n",
    "daily_bikes.shape, daily_bikes.stride()"
   ]
  },
  {
   "attachments": {},
   "cell_type": "markdown",
   "id": "aa82d688-ee2c-4368-8bd8-953f4c1e2df8",
   "metadata": {},
   "source": [
    "## 表示文本"
   ]
  },
  {
   "cell_type": "code",
   "execution_count": 63,
   "id": "7a582d4d-9110-416b-b4aa-3145d2d46656",
   "metadata": {},
   "outputs": [],
   "source": [
    "from nltk.corpus import gutenberg"
   ]
  },
  {
   "cell_type": "code",
   "execution_count": 64,
   "id": "be963686-cfe4-40f5-89f5-1a04b6b007b7",
   "metadata": {},
   "outputs": [
    {
     "data": {
      "text/plain": [
       "1851"
      ]
     },
     "execution_count": 64,
     "metadata": {},
     "output_type": "execute_result"
    }
   ],
   "source": [
    "# 将字符表示成张量\n",
    "# 1.导入文本\n",
    "text = gutenberg.sents(\"milton-paradise.txt\")\n",
    "len(text)"
   ]
  },
  {
   "cell_type": "code",
   "execution_count": 65,
   "id": "1b2a0d4c-40ad-4220-90f8-f205e7ffe38f",
   "metadata": {},
   "outputs": [
    {
     "data": {
      "text/plain": [
       "torch.Size([100, 128])"
      ]
     },
     "execution_count": 65,
     "metadata": {},
     "output_type": "execute_result"
    }
   ],
   "source": [
    "# 2.创建一个独热编码\n",
    "letter_t = torch.zeros(len(text[:100]), 128)\n",
    "letter_t.shape"
   ]
  },
  {
   "cell_type": "code",
   "execution_count": 66,
   "id": "a98821e6-653c-438d-84dd-3e3ffe533ddb",
   "metadata": {
    "tags": []
   },
   "outputs": [],
   "source": [
    "texts = [texts for texts in text[:10]]"
   ]
  },
  {
   "cell_type": "code",
   "execution_count": 67,
   "id": "b4fdb9aa-50ab-4819-9f58-ca12d3d9eda3",
   "metadata": {},
   "outputs": [],
   "source": [
    "word = 'abcdefghijklmnopqrstuvwxyz1234567890'\n",
    "text = [[] for i in range(10)]\n",
    "for j, text1 in enumerate(texts):\n",
    "    for index, text2 in enumerate(text1):\n",
    "        for i in text2:\n",
    "            if i in word:\n",
    "                text[j].append(text2)"
   ]
  },
  {
   "cell_type": "code",
   "execution_count": 68,
   "id": "2439cedb-99c1-4521-b883-f1b92581b422",
   "metadata": {},
   "outputs": [],
   "source": [
    "for texts in text:\n",
    "    for i, letters in enumerate(texts):\n",
    "        for j, letter in enumerate(letters):\n",
    "            letter_index = ord(letter) if ord(letter) < 128 else 0\n",
    "            letter_t[j][letter_index] = 1"
   ]
  },
  {
   "cell_type": "code",
   "execution_count": 70,
   "id": "b3784f40-b672-482a-8417-29c5429b107a",
   "metadata": {
    "collapsed": true,
    "jupyter": {
     "outputs_hidden": true
    },
    "tags": []
   },
   "outputs": [
    {
     "data": {
      "text/plain": [
       "tensor([[0., 0., 0.,  ..., 0., 0., 0.],\n",
       "        [0., 0., 0.,  ..., 0., 0., 0.],\n",
       "        [0., 0., 0.,  ..., 0., 0., 0.],\n",
       "        ...,\n",
       "        [0., 0., 0.,  ..., 0., 0., 0.],\n",
       "        [0., 0., 0.,  ..., 0., 0., 0.],\n",
       "        [0., 0., 0.,  ..., 0., 0., 0.]])"
      ]
     },
     "execution_count": 70,
     "metadata": {},
     "output_type": "execute_result"
    }
   ],
   "source": [
    "# 对单词进行独热编码"
   ]
  },
  {
   "attachments": {},
   "cell_type": "markdown",
   "id": "b026a317",
   "metadata": {},
   "source": [
    "# 学习的机制"
   ]
  },
  {
   "cell_type": "code",
   "execution_count": 2,
   "id": "bfc19c66",
   "metadata": {},
   "outputs": [],
   "source": [
    "import torch"
   ]
  },
  {
   "attachments": {},
   "cell_type": "markdown",
   "id": "293a27fd",
   "metadata": {},
   "source": [
    "## 参数估计"
   ]
  },
  {
   "cell_type": "code",
   "execution_count": 21,
   "id": "1a3dc26b",
   "metadata": {},
   "outputs": [],
   "source": [
    "import matplotlib.pyplot as plt\n",
    "import numpy as np\n",
    "%matplotlib inline  \n"
   ]
  },
  {
   "cell_type": "code",
   "execution_count": 42,
   "id": "d0efc6f0",
   "metadata": {},
   "outputs": [
    {
     "data": {
      "text/plain": [
       "((10,), (10,))"
      ]
     },
     "execution_count": 42,
     "metadata": {},
     "output_type": "execute_result"
    }
   ],
   "source": [
    "t_c = np.random.randn(10)  # x\n",
    "t_u = np.random.randn(10)  # y\n",
    "t_c.shape, t_u.shape"
   ]
  },
  {
   "cell_type": "code",
   "execution_count": 44,
   "id": "bbc844e8",
   "metadata": {},
   "outputs": [
    {
     "data": {
      "text/plain": [
       "(array([-1.11644098, -1.00546251, -0.83249803, -0.46694137, -0.35890798,\n",
       "        -0.04885306,  0.28523964,  1.36041094,  1.37550674,  1.7818893 ]),\n",
       " array([-1.32610827, -0.94224577, -0.90895307,  0.36949312,  0.37874313,\n",
       "         0.42584942,  0.46658586,  1.01596096,  1.59756346,  1.66784095]))"
      ]
     },
     "execution_count": 44,
     "metadata": {},
     "output_type": "execute_result"
    }
   ],
   "source": [
    "t_c = np.sort(t_c,axis=0,)\n",
    "t_u = np.sort(t_u,axis=0)\n",
    "t_c, t_u"
   ]
  },
  {
   "cell_type": "code",
   "execution_count": 47,
   "id": "451f71fc",
   "metadata": {},
   "outputs": [
    {
     "data": {
      "image/png": "[encoded data removed]",
      "text/plain": [
       "<Figure size 640x480 with 1 Axes>"
      ]
     },
     "metadata": {},
     "output_type": "display_data"
    }
   ],
   "source": [
    "# 绘制x_y分布图\n",
    "plt.scatter(t_c, t_u)\n",
    "plt.style.use('seaborn-darkgrid') # 设置画图的风格 \n",
    "plt.show()"
   ]
  },
  {
   "cell_type": "code",
   "execution_count": 48,
   "id": "e6622c89-0064-4193-835f-4c171c27bd0b",
   "metadata": {},
   "outputs": [],
   "source": [
    "# 设计模型\n",
    "def model(t_c, w, b):\n",
    "    return w*t_c + b"
   ]
  },
  {
   "cell_type": "code",
   "execution_count": 49,
   "id": "7d1f8d77-6ea8-49a1-97e1-0f5239d9b892",
   "metadata": {},
   "outputs": [],
   "source": [
    "# 设计损失（均方差损失）\n",
    "def loss_fn(t_p, t_u):\n",
    "    squ = (t_u - t_p)**2\n",
    "    return squ.mean()"
   ]
  },
  {
   "cell_type": "code",
   "execution_count": 56,
   "id": "057d0ffa-7523-4f62-a867-47470cfbf5b5",
   "metadata": {},
   "outputs": [],
   "source": [
    "# 初始化权重\n",
    "w = torch.ones(())\n",
    "b = torch.ones(())"
   ]
  },
  {
   "cell_type": "code",
   "execution_count": 57,
   "id": "6564987e-7682-4e3f-96f8-0b8e16827774",
   "metadata": {},
   "outputs": [
    {
     "name": "stderr",
     "output_type": "stream",
     "text": [
      "C:\\Users\\17677\\AppData\\Local\\Temp\\ipykernel_5948\\2139014505.py:2: UserWarning: To copy construct from a tensor, it is recommended to use sourceTensor.clone().detach() or sourceTensor.clone().detach().requires_grad_(True), rather than torch.tensor(sourceTensor).\n",
      "  t_c = torch.tensor(t_c)\n",
      "C:\\Users\\17677\\AppData\\Local\\Temp\\ipykernel_5948\\2139014505.py:3: UserWarning: To copy construct from a tensor, it is recommended to use sourceTensor.clone().detach() or sourceTensor.clone().detach().requires_grad_(True), rather than torch.tensor(sourceTensor).\n",
      "  t_u = torch.tensor(t_u)\n"
     ]
    },
    {
     "data": {
      "text/plain": [
       "(tensor([-0.3261,  0.0578,  0.0910,  1.3695,  1.3787,  1.4258,  1.4666,  2.0160,\n",
       "          2.5976,  2.6678], dtype=torch.float64),\n",
       " tensor([-1.3261, -0.9422, -0.9090,  0.3695,  0.3787,  0.4258,  0.4666,  1.0160,\n",
       "          1.5976,  1.6678], dtype=torch.float64))"
      ]
     },
     "execution_count": 57,
     "metadata": {},
     "output_type": "execute_result"
    }
   ],
   "source": [
    "# 依据model获得输出\n",
    "t_c = torch.tensor(t_c)\n",
    "t_u = torch.tensor(t_u)\n",
    "t_p = model(t_u, w, b)\n",
    "t_p, t_u"
   ]
  },
  {
   "cell_type": "code",
   "execution_count": 59,
   "id": "1eeb7318-ec64-47c0-8b6c-ca8257b33986",
   "metadata": {},
   "outputs": [
    {
     "data": {
      "text/plain": [
       "1.0"
      ]
     },
     "execution_count": 59,
     "metadata": {},
     "output_type": "execute_result"
    }
   ],
   "source": [
    "# 检验损失\n",
    "loss = loss_fn(t_p, t_u)\n",
    "loss.item()"
   ]
  },
  {
   "attachments": {},
   "cell_type": "markdown",
   "id": "fd3cc61c",
   "metadata": {},
   "source": [
    "## 张量的广播机制"
   ]
  },
  {
   "cell_type": "code",
   "execution_count": 63,
   "id": "9460ce45",
   "metadata": {},
   "outputs": [],
   "source": [
    "x = torch.ones(())\n",
    "y = torch.ones((3,1))\n",
    "z = torch.ones((1,3))\n",
    "a = torch.ones((2,1,1))"
   ]
  },
  {
   "cell_type": "code",
   "execution_count": 64,
   "id": "c1033442",
   "metadata": {},
   "outputs": [
    {
     "name": "stdout",
     "output_type": "stream",
     "text": [
      "shapes: x:torch.Size([]), y:torch.Size([3, 1])\n",
      "shapes: z:torch.Size([1, 3]), a:torch.Size([2, 1, 1])\n"
     ]
    }
   ],
   "source": [
    "print(f\"shapes: x:{x.shape}, y:{y.shape}\")\n",
    "print(f\"shapes: z:{z.shape}, a:{a.shape}\")"
   ]
  },
  {
   "cell_type": "code",
   "execution_count": 65,
   "id": "03581e38",
   "metadata": {},
   "outputs": [
    {
     "name": "stdout",
     "output_type": "stream",
     "text": [
      "x * y: torch.Size([3, 1])\n",
      "y * z: torch.Size([3, 3])\n",
      "y * z * a torch.Size([2, 3, 3])\n"
     ]
    }
   ],
   "source": [
    "print(\"x * y:\", (x*y).shape)\n",
    "print(\"y * z:\", (y*z).shape)\n",
    "print(\"y * z * a\", (y*z*a).shape)"
   ]
  },
  {
   "attachments": {},
   "cell_type": "markdown",
   "id": "24d7fdbb",
   "metadata": {},
   "source": [
    "## 梯度下降"
   ]
  },
  {
   "cell_type": "code",
   "execution_count": 66,
   "id": "908868c9",
   "metadata": {},
   "outputs": [],
   "source": [
    "# 减小损失\n",
    "delta = 0.1\n",
    "loss_rate_of_change_w = (loss_fn(model(t_c, w+delta, b), t_u) \n",
    "                         - loss_fn(model(t_c, w-delta,b), t_u)) / (2.0*delta)"
   ]
  },
  {
   "cell_type": "code",
   "execution_count": 67,
   "id": "8c261674",
   "metadata": {},
   "outputs": [],
   "source": [
    "# 学习步长\n",
    "# 目标找到损失的最小极值点\n",
    "# w = w - deltaw*f(w)\n",
    "learning_rate = 1e-2\n",
    "w = w - learning_rate*loss_rate_of_change_w"
   ]
  },
  {
   "cell_type": "code",
   "execution_count": 68,
   "id": "2c2e8c49",
   "metadata": {},
   "outputs": [],
   "source": [
    "# 对参数b使用相同的方式\n",
    "loss_rate_of_change_b = (loss_fn(model(t_c, b+delta, b), t_u) \n",
    "                         - loss_fn(model(t_c, b-delta,b), t_u)) / (2.0*delta)\n",
    "b = b - learning_rate*loss_rate_of_change_b"
   ]
  },
  {
   "cell_type": "code",
   "execution_count": 69,
   "id": "11320e38",
   "metadata": {},
   "outputs": [],
   "source": [
    "# 计算导数\n",
    "def dloss_fn(t_p, t_u):\n",
    "    dsq_diffs = 2 * (t_p - t_u)/t_p.size(0)\n",
    "    return dsq_diffs"
   ]
  },
  {
   "cell_type": "code",
   "execution_count": 70,
   "id": "5b4735bf",
   "metadata": {},
   "outputs": [],
   "source": [
    "# 将导数应用到模型中\n",
    "def dmodel_dw(t_c, w, b):\n",
    "    return t_c"
   ]
  },
  {
   "cell_type": "code",
   "execution_count": 71,
   "id": "01418010",
   "metadata": {},
   "outputs": [],
   "source": [
    "def dmodel_db(t_c, w, b):\n",
    "    return 1"
   ]
  },
  {
   "cell_type": "code",
   "execution_count": 72,
   "id": "b42ee06f",
   "metadata": {},
   "outputs": [],
   "source": [
    "# 定义梯度函数\n",
    "# 沿着一个新维度对输入张量序列进行连接。 序列中所有的张量都应该为相同形状\n",
    "def grad_fn(t_c, t_u, t_p, w, b):\n",
    "    dloss_dtp = dloss_fn(t_p, t_u)\n",
    "    dloss_dw = dloss_dtp*dmodel_dw(t_c, w, b)\n",
    "    dloss_db = dloss_dtp*dmodel_db(t_c, w, b)\n",
    "    return torch.stack([dloss_dw.sum(), dloss_db.sum()])"
   ]
  },
  {
   "cell_type": "code",
   "execution_count": 78,
   "id": "a49d838c",
   "metadata": {},
   "outputs": [],
   "source": [
    "# 迭代训练以适应模型\n",
    "# 1.循环训练\n",
    "def training_loop(n_epochs, learning_rate, params, t_c, t_u):\n",
    "    for epoch in range(1, n_epochs+1):\n",
    "        w, b = params\n",
    "        t_p = model(t_c, w, b)  #正向传播\n",
    "        loss = loss_fn(t_p, t_u) #计算损失\n",
    "        grad = grad_fn(t_c, t_u, t_p, w, b) #计算梯度\n",
    "        params = params - learning_rate*grad\n",
    "        print('Epoch: %d, Loss: %f' % (epoch, float(loss)))\n",
    "        print('grad:',grad)\n",
    "        print('params:',params)\n",
    "    return params"
   ]
  },
  {
   "cell_type": "code",
   "execution_count": 79,
   "id": "2e4fd5c5",
   "metadata": {},
   "outputs": [
    {
     "name": "stdout",
     "output_type": "stream",
     "text": [
      "Epoch: 1, Loss: 0.173674\n",
      "grad: tensor([ 0.1518, -0.3542], dtype=torch.float64)\n",
      "params: tensor([0.9985, 0.0035], dtype=torch.float64)\n",
      "Epoch: 2, Loss: 0.172204\n",
      "grad: tensor([ 0.1494, -0.3474], dtype=torch.float64)\n",
      "params: tensor([0.9970, 0.0070], dtype=torch.float64)\n",
      "Epoch: 3, Loss: 0.170787\n",
      "grad: tensor([ 0.1470, -0.3407], dtype=torch.float64)\n",
      "params: tensor([0.9955, 0.0104], dtype=torch.float64)\n",
      "Epoch: 4, Loss: 0.169423\n",
      "grad: tensor([ 0.1446, -0.3342], dtype=torch.float64)\n",
      "params: tensor([0.9941, 0.0138], dtype=torch.float64)\n",
      "Epoch: 5, Loss: 0.168110\n",
      "grad: tensor([ 0.1423, -0.3278], dtype=torch.float64)\n",
      "params: tensor([0.9927, 0.0170], dtype=torch.float64)\n",
      "Epoch: 6, Loss: 0.166845\n",
      "grad: tensor([ 0.1400, -0.3215], dtype=torch.float64)\n",
      "params: tensor([0.9913, 0.0203], dtype=torch.float64)\n",
      "Epoch: 7, Loss: 0.165627\n",
      "grad: tensor([ 0.1377, -0.3153], dtype=torch.float64)\n",
      "params: tensor([0.9899, 0.0234], dtype=torch.float64)\n",
      "Epoch: 8, Loss: 0.164454\n",
      "grad: tensor([ 0.1355, -0.3093], dtype=torch.float64)\n",
      "params: tensor([0.9885, 0.0265], dtype=torch.float64)\n",
      "Epoch: 9, Loss: 0.163324\n",
      "grad: tensor([ 0.1333, -0.3034], dtype=torch.float64)\n",
      "params: tensor([0.9872, 0.0295], dtype=torch.float64)\n",
      "Epoch: 10, Loss: 0.162236\n",
      "grad: tensor([ 0.1312, -0.2976], dtype=torch.float64)\n",
      "params: tensor([0.9859, 0.0325], dtype=torch.float64)\n",
      "Epoch: 11, Loss: 0.161188\n",
      "grad: tensor([ 0.1290, -0.2919], dtype=torch.float64)\n",
      "params: tensor([0.9846, 0.0354], dtype=torch.float64)\n",
      "Epoch: 12, Loss: 0.160180\n",
      "grad: tensor([ 0.1269, -0.2863], dtype=torch.float64)\n",
      "params: tensor([0.9833, 0.0383], dtype=torch.float64)\n",
      "Epoch: 13, Loss: 0.159208\n",
      "grad: tensor([ 0.1249, -0.2808], dtype=torch.float64)\n",
      "params: tensor([0.9821, 0.0411], dtype=torch.float64)\n",
      "Epoch: 14, Loss: 0.158272\n",
      "grad: tensor([ 0.1229, -0.2754], dtype=torch.float64)\n",
      "params: tensor([0.9808, 0.0439], dtype=torch.float64)\n",
      "Epoch: 15, Loss: 0.157371\n",
      "grad: tensor([ 0.1209, -0.2702], dtype=torch.float64)\n",
      "params: tensor([0.9796, 0.0466], dtype=torch.float64)\n",
      "Epoch: 16, Loss: 0.156503\n",
      "grad: tensor([ 0.1189, -0.2650], dtype=torch.float64)\n",
      "params: tensor([0.9784, 0.0492], dtype=torch.float64)\n",
      "Epoch: 17, Loss: 0.155667\n",
      "grad: tensor([ 0.1170, -0.2599], dtype=torch.float64)\n",
      "params: tensor([0.9773, 0.0518], dtype=torch.float64)\n",
      "Epoch: 18, Loss: 0.154862\n",
      "grad: tensor([ 0.1151, -0.2550], dtype=torch.float64)\n",
      "params: tensor([0.9761, 0.0544], dtype=torch.float64)\n",
      "Epoch: 19, Loss: 0.154087\n",
      "grad: tensor([ 0.1132, -0.2501], dtype=torch.float64)\n",
      "params: tensor([0.9750, 0.0569], dtype=torch.float64)\n",
      "Epoch: 20, Loss: 0.153341\n",
      "grad: tensor([ 0.1113, -0.2453], dtype=torch.float64)\n",
      "params: tensor([0.9739, 0.0593], dtype=torch.float64)\n",
      "Epoch: 21, Loss: 0.152622\n",
      "grad: tensor([ 0.1095, -0.2406], dtype=torch.float64)\n",
      "params: tensor([0.9728, 0.0617], dtype=torch.float64)\n",
      "Epoch: 22, Loss: 0.151929\n",
      "grad: tensor([ 0.1077, -0.2360], dtype=torch.float64)\n",
      "params: tensor([0.9717, 0.0641], dtype=torch.float64)\n",
      "Epoch: 23, Loss: 0.151262\n",
      "grad: tensor([ 0.1060, -0.2315], dtype=torch.float64)\n",
      "params: tensor([0.9706, 0.0664], dtype=torch.float64)\n",
      "Epoch: 24, Loss: 0.150620\n",
      "grad: tensor([ 0.1043, -0.2271], dtype=torch.float64)\n",
      "params: tensor([0.9696, 0.0687], dtype=torch.float64)\n",
      "Epoch: 25, Loss: 0.150001\n",
      "grad: tensor([ 0.1025, -0.2227], dtype=torch.float64)\n",
      "params: tensor([0.9686, 0.0709], dtype=torch.float64)\n",
      "Epoch: 26, Loss: 0.149406\n",
      "grad: tensor([ 0.1009, -0.2185], dtype=torch.float64)\n",
      "params: tensor([0.9676, 0.0731], dtype=torch.float64)\n",
      "Epoch: 27, Loss: 0.148832\n",
      "grad: tensor([ 0.0992, -0.2143], dtype=torch.float64)\n",
      "params: tensor([0.9666, 0.0752], dtype=torch.float64)\n",
      "Epoch: 28, Loss: 0.148279\n",
      "grad: tensor([ 0.0976, -0.2102], dtype=torch.float64)\n",
      "params: tensor([0.9656, 0.0773], dtype=torch.float64)\n",
      "Epoch: 29, Loss: 0.147747\n",
      "grad: tensor([ 0.0960, -0.2062], dtype=torch.float64)\n",
      "params: tensor([0.9646, 0.0794], dtype=torch.float64)\n",
      "Epoch: 30, Loss: 0.147235\n",
      "grad: tensor([ 0.0944, -0.2023], dtype=torch.float64)\n",
      "params: tensor([0.9637, 0.0814], dtype=torch.float64)\n",
      "Epoch: 31, Loss: 0.146741\n",
      "grad: tensor([ 0.0929, -0.1984], dtype=torch.float64)\n",
      "params: tensor([0.9628, 0.0834], dtype=torch.float64)\n",
      "Epoch: 32, Loss: 0.146265\n",
      "grad: tensor([ 0.0913, -0.1946], dtype=torch.float64)\n",
      "params: tensor([0.9618, 0.0853], dtype=torch.float64)\n",
      "Epoch: 33, Loss: 0.145808\n",
      "grad: tensor([ 0.0898, -0.1909], dtype=torch.float64)\n",
      "params: tensor([0.9610, 0.0872], dtype=torch.float64)\n",
      "Epoch: 34, Loss: 0.145366\n",
      "grad: tensor([ 0.0884, -0.1873], dtype=torch.float64)\n",
      "params: tensor([0.9601, 0.0891], dtype=torch.float64)\n",
      "Epoch: 35, Loss: 0.144942\n",
      "grad: tensor([ 0.0869, -0.1837], dtype=torch.float64)\n",
      "params: tensor([0.9592, 0.0910], dtype=torch.float64)\n",
      "Epoch: 36, Loss: 0.144533\n",
      "grad: tensor([ 0.0855, -0.1802], dtype=torch.float64)\n",
      "params: tensor([0.9583, 0.0928], dtype=torch.float64)\n",
      "Epoch: 37, Loss: 0.144139\n",
      "grad: tensor([ 0.0841, -0.1768], dtype=torch.float64)\n",
      "params: tensor([0.9575, 0.0945], dtype=torch.float64)\n",
      "Epoch: 38, Loss: 0.143759\n",
      "grad: tensor([ 0.0827, -0.1734], dtype=torch.float64)\n",
      "params: tensor([0.9567, 0.0963], dtype=torch.float64)\n",
      "Epoch: 39, Loss: 0.143393\n",
      "grad: tensor([ 0.0813, -0.1701], dtype=torch.float64)\n",
      "params: tensor([0.9559, 0.0980], dtype=torch.float64)\n",
      "Epoch: 40, Loss: 0.143041\n",
      "grad: tensor([ 0.0800, -0.1668], dtype=torch.float64)\n",
      "params: tensor([0.9551, 0.0996], dtype=torch.float64)\n",
      "Epoch: 41, Loss: 0.142702\n",
      "grad: tensor([ 0.0786, -0.1637], dtype=torch.float64)\n",
      "params: tensor([0.9543, 0.1013], dtype=torch.float64)\n",
      "Epoch: 42, Loss: 0.142376\n",
      "grad: tensor([ 0.0773, -0.1605], dtype=torch.float64)\n",
      "params: tensor([0.9535, 0.1029], dtype=torch.float64)\n",
      "Epoch: 43, Loss: 0.142061\n",
      "grad: tensor([ 0.0761, -0.1575], dtype=torch.float64)\n",
      "params: tensor([0.9527, 0.1044], dtype=torch.float64)\n",
      "Epoch: 44, Loss: 0.141758\n",
      "grad: tensor([ 0.0748, -0.1545], dtype=torch.float64)\n",
      "params: tensor([0.9520, 0.1060], dtype=torch.float64)\n",
      "Epoch: 45, Loss: 0.141466\n",
      "grad: tensor([ 0.0736, -0.1515], dtype=torch.float64)\n",
      "params: tensor([0.9513, 0.1075], dtype=torch.float64)\n",
      "Epoch: 46, Loss: 0.141185\n",
      "grad: tensor([ 0.0723, -0.1486], dtype=torch.float64)\n",
      "params: tensor([0.9505, 0.1090], dtype=torch.float64)\n",
      "Epoch: 47, Loss: 0.140915\n",
      "grad: tensor([ 0.0711, -0.1458], dtype=torch.float64)\n",
      "params: tensor([0.9498, 0.1105], dtype=torch.float64)\n",
      "Epoch: 48, Loss: 0.140654\n",
      "grad: tensor([ 0.0700, -0.1430], dtype=torch.float64)\n",
      "params: tensor([0.9491, 0.1119], dtype=torch.float64)\n",
      "Epoch: 49, Loss: 0.140403\n",
      "grad: tensor([ 0.0688, -0.1403], dtype=torch.float64)\n",
      "params: tensor([0.9484, 0.1133], dtype=torch.float64)\n",
      "Epoch: 50, Loss: 0.140161\n",
      "grad: tensor([ 0.0677, -0.1376], dtype=torch.float64)\n",
      "params: tensor([0.9478, 0.1147], dtype=torch.float64)\n",
      "Epoch: 51, Loss: 0.139928\n",
      "grad: tensor([ 0.0665, -0.1350], dtype=torch.float64)\n",
      "params: tensor([0.9471, 0.1160], dtype=torch.float64)\n",
      "Epoch: 52, Loss: 0.139703\n",
      "grad: tensor([ 0.0654, -0.1324], dtype=torch.float64)\n",
      "params: tensor([0.9464, 0.1173], dtype=torch.float64)\n",
      "Epoch: 53, Loss: 0.139487\n",
      "grad: tensor([ 0.0643, -0.1299], dtype=torch.float64)\n",
      "params: tensor([0.9458, 0.1186], dtype=torch.float64)\n",
      "Epoch: 54, Loss: 0.139279\n",
      "grad: tensor([ 0.0633, -0.1274], dtype=torch.float64)\n",
      "params: tensor([0.9452, 0.1199], dtype=torch.float64)\n",
      "Epoch: 55, Loss: 0.139078\n",
      "grad: tensor([ 0.0622, -0.1250], dtype=torch.float64)\n",
      "params: tensor([0.9445, 0.1212], dtype=torch.float64)\n",
      "Epoch: 56, Loss: 0.138885\n",
      "grad: tensor([ 0.0612, -0.1226], dtype=torch.float64)\n",
      "params: tensor([0.9439, 0.1224], dtype=torch.float64)\n",
      "Epoch: 57, Loss: 0.138699\n",
      "grad: tensor([ 0.0601, -0.1203], dtype=torch.float64)\n",
      "params: tensor([0.9433, 0.1236], dtype=torch.float64)\n",
      "Epoch: 58, Loss: 0.138520\n",
      "grad: tensor([ 0.0591, -0.1180], dtype=torch.float64)\n",
      "params: tensor([0.9427, 0.1248], dtype=torch.float64)\n",
      "Epoch: 59, Loss: 0.138347\n",
      "grad: tensor([ 0.0582, -0.1158], dtype=torch.float64)\n",
      "params: tensor([0.9422, 0.1259], dtype=torch.float64)\n",
      "Epoch: 60, Loss: 0.138181\n",
      "grad: tensor([ 0.0572, -0.1136], dtype=torch.float64)\n",
      "params: tensor([0.9416, 0.1271], dtype=torch.float64)\n",
      "Epoch: 61, Loss: 0.138021\n",
      "grad: tensor([ 0.0562, -0.1114], dtype=torch.float64)\n",
      "params: tensor([0.9410, 0.1282], dtype=torch.float64)\n",
      "Epoch: 62, Loss: 0.137866\n",
      "grad: tensor([ 0.0553, -0.1093], dtype=torch.float64)\n",
      "params: tensor([0.9405, 0.1293], dtype=torch.float64)\n",
      "Epoch: 63, Loss: 0.137718\n",
      "grad: tensor([ 0.0544, -0.1072], dtype=torch.float64)\n",
      "params: tensor([0.9399, 0.1303], dtype=torch.float64)\n",
      "Epoch: 64, Loss: 0.137575\n",
      "grad: tensor([ 0.0534, -0.1052], dtype=torch.float64)\n",
      "params: tensor([0.9394, 0.1314], dtype=torch.float64)\n",
      "Epoch: 65, Loss: 0.137437\n",
      "grad: tensor([ 0.0526, -0.1032], dtype=torch.float64)\n",
      "params: tensor([0.9389, 0.1324], dtype=torch.float64)\n",
      "Epoch: 66, Loss: 0.137304\n",
      "grad: tensor([ 0.0517, -0.1012], dtype=torch.float64)\n",
      "params: tensor([0.9383, 0.1334], dtype=torch.float64)\n",
      "Epoch: 67, Loss: 0.137176\n",
      "grad: tensor([ 0.0508, -0.0993], dtype=torch.float64)\n",
      "params: tensor([0.9378, 0.1344], dtype=torch.float64)\n",
      "Epoch: 68, Loss: 0.137053\n",
      "grad: tensor([ 0.0499, -0.0974], dtype=torch.float64)\n",
      "params: tensor([0.9373, 0.1354], dtype=torch.float64)\n",
      "Epoch: 69, Loss: 0.136934\n",
      "grad: tensor([ 0.0491, -0.0956], dtype=torch.float64)\n",
      "params: tensor([0.9369, 0.1364], dtype=torch.float64)\n",
      "Epoch: 70, Loss: 0.136820\n",
      "grad: tensor([ 0.0483, -0.0937], dtype=torch.float64)\n",
      "params: tensor([0.9364, 0.1373], dtype=torch.float64)\n",
      "Epoch: 71, Loss: 0.136709\n",
      "grad: tensor([ 0.0475, -0.0920], dtype=torch.float64)\n",
      "params: tensor([0.9359, 0.1382], dtype=torch.float64)\n",
      "Epoch: 72, Loss: 0.136603\n",
      "grad: tensor([ 0.0467, -0.0902], dtype=torch.float64)\n",
      "params: tensor([0.9354, 0.1391], dtype=torch.float64)\n",
      "Epoch: 73, Loss: 0.136501\n",
      "grad: tensor([ 0.0459, -0.0885], dtype=torch.float64)\n",
      "params: tensor([0.9350, 0.1400], dtype=torch.float64)\n",
      "Epoch: 74, Loss: 0.136403\n",
      "grad: tensor([ 0.0451, -0.0868], dtype=torch.float64)\n",
      "params: tensor([0.9345, 0.1409], dtype=torch.float64)\n",
      "Epoch: 75, Loss: 0.136308\n",
      "grad: tensor([ 0.0444, -0.0852], dtype=torch.float64)\n",
      "params: tensor([0.9341, 0.1417], dtype=torch.float64)\n",
      "Epoch: 76, Loss: 0.136216\n",
      "grad: tensor([ 0.0436, -0.0836], dtype=torch.float64)\n",
      "params: tensor([0.9336, 0.1426], dtype=torch.float64)\n",
      "Epoch: 77, Loss: 0.136128\n",
      "grad: tensor([ 0.0429, -0.0820], dtype=torch.float64)\n",
      "params: tensor([0.9332, 0.1434], dtype=torch.float64)\n",
      "Epoch: 78, Loss: 0.136044\n",
      "grad: tensor([ 0.0421, -0.0804], dtype=torch.float64)\n",
      "params: tensor([0.9328, 0.1442], dtype=torch.float64)\n",
      "Epoch: 79, Loss: 0.135962\n",
      "grad: tensor([ 0.0414, -0.0789], dtype=torch.float64)\n",
      "params: tensor([0.9324, 0.1450], dtype=torch.float64)\n",
      "Epoch: 80, Loss: 0.135883\n",
      "grad: tensor([ 0.0407, -0.0774], dtype=torch.float64)\n",
      "params: tensor([0.9320, 0.1457], dtype=torch.float64)\n",
      "Epoch: 81, Loss: 0.135808\n",
      "grad: tensor([ 0.0400, -0.0759], dtype=torch.float64)\n",
      "params: tensor([0.9316, 0.1465], dtype=torch.float64)\n",
      "Epoch: 82, Loss: 0.135735\n",
      "grad: tensor([ 0.0394, -0.0745], dtype=torch.float64)\n",
      "params: tensor([0.9312, 0.1472], dtype=torch.float64)\n",
      "Epoch: 83, Loss: 0.135664\n",
      "grad: tensor([ 0.0387, -0.0731], dtype=torch.float64)\n",
      "params: tensor([0.9308, 0.1480], dtype=torch.float64)\n",
      "Epoch: 84, Loss: 0.135596\n",
      "grad: tensor([ 0.0381, -0.0717], dtype=torch.float64)\n",
      "params: tensor([0.9304, 0.1487], dtype=torch.float64)\n",
      "Epoch: 85, Loss: 0.135531\n",
      "grad: tensor([ 0.0374, -0.0703], dtype=torch.float64)\n",
      "params: tensor([0.9300, 0.1494], dtype=torch.float64)\n",
      "Epoch: 86, Loss: 0.135468\n",
      "grad: tensor([ 0.0368, -0.0690], dtype=torch.float64)\n",
      "params: tensor([0.9297, 0.1501], dtype=torch.float64)\n",
      "Epoch: 87, Loss: 0.135408\n",
      "grad: tensor([ 0.0362, -0.0677], dtype=torch.float64)\n",
      "params: tensor([0.9293, 0.1508], dtype=torch.float64)\n",
      "Epoch: 88, Loss: 0.135349\n",
      "grad: tensor([ 0.0355, -0.0664], dtype=torch.float64)\n",
      "params: tensor([0.9289, 0.1514], dtype=torch.float64)\n",
      "Epoch: 89, Loss: 0.135293\n",
      "grad: tensor([ 0.0349, -0.0651], dtype=torch.float64)\n",
      "params: tensor([0.9286, 0.1521], dtype=torch.float64)\n",
      "Epoch: 90, Loss: 0.135239\n",
      "grad: tensor([ 0.0343, -0.0639], dtype=torch.float64)\n",
      "params: tensor([0.9283, 0.1527], dtype=torch.float64)\n",
      "Epoch: 91, Loss: 0.135187\n",
      "grad: tensor([ 0.0338, -0.0627], dtype=torch.float64)\n",
      "params: tensor([0.9279, 0.1533], dtype=torch.float64)\n",
      "Epoch: 92, Loss: 0.135137\n",
      "grad: tensor([ 0.0332, -0.0615], dtype=torch.float64)\n",
      "params: tensor([0.9276, 0.1540], dtype=torch.float64)\n",
      "Epoch: 93, Loss: 0.135088\n",
      "grad: tensor([ 0.0326, -0.0603], dtype=torch.float64)\n",
      "params: tensor([0.9273, 0.1546], dtype=torch.float64)\n",
      "Epoch: 94, Loss: 0.135042\n",
      "grad: tensor([ 0.0321, -0.0592], dtype=torch.float64)\n",
      "params: tensor([0.9269, 0.1552], dtype=torch.float64)\n",
      "Epoch: 95, Loss: 0.134997\n",
      "grad: tensor([ 0.0315, -0.0581], dtype=torch.float64)\n",
      "params: tensor([0.9266, 0.1557], dtype=torch.float64)\n",
      "Epoch: 96, Loss: 0.134954\n",
      "grad: tensor([ 0.0310, -0.0570], dtype=torch.float64)\n",
      "params: tensor([0.9263, 0.1563], dtype=torch.float64)\n",
      "Epoch: 97, Loss: 0.134912\n",
      "grad: tensor([ 0.0305, -0.0559], dtype=torch.float64)\n",
      "params: tensor([0.9260, 0.1569], dtype=torch.float64)\n",
      "Epoch: 98, Loss: 0.134872\n",
      "grad: tensor([ 0.0299, -0.0548], dtype=torch.float64)\n",
      "params: tensor([0.9257, 0.1574], dtype=torch.float64)\n",
      "Epoch: 99, Loss: 0.134833\n",
      "grad: tensor([ 0.0294, -0.0538], dtype=torch.float64)\n",
      "params: tensor([0.9254, 0.1580], dtype=torch.float64)\n",
      "Epoch: 100, Loss: 0.134796\n",
      "grad: tensor([ 0.0289, -0.0528], dtype=torch.float64)\n",
      "params: tensor([0.9251, 0.1585], dtype=torch.float64)\n"
     ]
    },
    {
     "data": {
      "text/plain": [
       "tensor([0.9251, 0.1585], dtype=torch.float64)"
      ]
     },
     "execution_count": 79,
     "metadata": {},
     "output_type": "execute_result"
    }
   ],
   "source": [
    "training_loop(n_epochs=100, learning_rate=1e-2, params=torch.tensor([1.0, 0.0]), t_u=t_u, t_c=t_c)"
   ]
  },
  {
   "cell_type": "code",
   "execution_count": 81,
   "id": "94368138",
   "metadata": {},
   "outputs": [],
   "source": [
    "# 归一化处理输入（将参数放到差不多的尺度空间）\n",
    "t_cn = t_c * 0.1"
   ]
  },
  {
   "cell_type": "code",
   "execution_count": 82,
   "id": "ea0e71b9",
   "metadata": {},
   "outputs": [
    {
     "name": "stdout",
     "output_type": "stream",
     "text": [
      "Epoch: 1, Loss: 1.032792\n",
      "grad: tensor([-0.0189, -0.5470], dtype=torch.float64)\n",
      "params: tensor([1.0002, 0.0055], dtype=torch.float64)\n",
      "Epoch: 2, Loss: 1.029826\n",
      "grad: tensor([-0.0189, -0.5361], dtype=torch.float64)\n",
      "params: tensor([1.0004, 0.0108], dtype=torch.float64)\n",
      "Epoch: 3, Loss: 1.026978\n",
      "grad: tensor([-0.0189, -0.5253], dtype=torch.float64)\n",
      "params: tensor([1.0006, 0.0161], dtype=torch.float64)\n",
      "Epoch: 4, Loss: 1.024242\n",
      "grad: tensor([-0.0188, -0.5148], dtype=torch.float64)\n",
      "params: tensor([1.0008, 0.0212], dtype=torch.float64)\n",
      "Epoch: 5, Loss: 1.021614\n",
      "grad: tensor([-0.0188, -0.5045], dtype=torch.float64)\n",
      "params: tensor([1.0009, 0.0263], dtype=torch.float64)\n",
      "Epoch: 6, Loss: 1.019091\n",
      "grad: tensor([-0.0188, -0.4944], dtype=torch.float64)\n",
      "params: tensor([1.0011, 0.0312], dtype=torch.float64)\n",
      "Epoch: 7, Loss: 1.016667\n",
      "grad: tensor([-0.0188, -0.4846], dtype=torch.float64)\n",
      "params: tensor([1.0013, 0.0361], dtype=torch.float64)\n",
      "Epoch: 8, Loss: 1.014339\n",
      "grad: tensor([-0.0188, -0.4749], dtype=torch.float64)\n",
      "params: tensor([1.0015, 0.0408], dtype=torch.float64)\n",
      "Epoch: 9, Loss: 1.012103\n",
      "grad: tensor([-0.0188, -0.4654], dtype=torch.float64)\n",
      "params: tensor([1.0017, 0.0455], dtype=torch.float64)\n",
      "Epoch: 10, Loss: 1.009956\n",
      "grad: tensor([-0.0188, -0.4561], dtype=torch.float64)\n",
      "params: tensor([1.0019, 0.0500], dtype=torch.float64)\n",
      "Epoch: 11, Loss: 1.007893\n",
      "grad: tensor([-0.0188, -0.4469], dtype=torch.float64)\n",
      "params: tensor([1.0021, 0.0545], dtype=torch.float64)\n",
      "Epoch: 12, Loss: 1.005912\n",
      "grad: tensor([-0.0188, -0.4380], dtype=torch.float64)\n",
      "params: tensor([1.0023, 0.0589], dtype=torch.float64)\n",
      "Epoch: 13, Loss: 1.004009\n",
      "grad: tensor([-0.0188, -0.4292], dtype=torch.float64)\n",
      "params: tensor([1.0024, 0.0632], dtype=torch.float64)\n",
      "Epoch: 14, Loss: 1.002182\n",
      "grad: tensor([-0.0188, -0.4206], dtype=torch.float64)\n",
      "params: tensor([1.0026, 0.0674], dtype=torch.float64)\n",
      "Epoch: 15, Loss: 1.000426\n",
      "grad: tensor([-0.0187, -0.4122], dtype=torch.float64)\n",
      "params: tensor([1.0028, 0.0715], dtype=torch.float64)\n",
      "Epoch: 16, Loss: 0.998741\n",
      "grad: tensor([-0.0187, -0.4040], dtype=torch.float64)\n",
      "params: tensor([1.0030, 0.0755], dtype=torch.float64)\n",
      "Epoch: 17, Loss: 0.997121\n",
      "grad: tensor([-0.0187, -0.3959], dtype=torch.float64)\n",
      "params: tensor([1.0032, 0.0795], dtype=torch.float64)\n",
      "Epoch: 18, Loss: 0.995566\n",
      "grad: tensor([-0.0187, -0.3880], dtype=torch.float64)\n",
      "params: tensor([1.0034, 0.0834], dtype=torch.float64)\n",
      "Epoch: 19, Loss: 0.994072\n",
      "grad: tensor([-0.0187, -0.3802], dtype=torch.float64)\n",
      "params: tensor([1.0036, 0.0872], dtype=torch.float64)\n",
      "Epoch: 20, Loss: 0.992637\n",
      "grad: tensor([-0.0187, -0.3726], dtype=torch.float64)\n",
      "params: tensor([1.0038, 0.0909], dtype=torch.float64)\n",
      "Epoch: 21, Loss: 0.991259\n",
      "grad: tensor([-0.0187, -0.3652], dtype=torch.float64)\n",
      "params: tensor([1.0039, 0.0946], dtype=torch.float64)\n",
      "Epoch: 22, Loss: 0.989936\n",
      "grad: tensor([-0.0187, -0.3579], dtype=torch.float64)\n",
      "params: tensor([1.0041, 0.0981], dtype=torch.float64)\n",
      "Epoch: 23, Loss: 0.988664\n",
      "grad: tensor([-0.0187, -0.3507], dtype=torch.float64)\n",
      "params: tensor([1.0043, 0.1016], dtype=torch.float64)\n",
      "Epoch: 24, Loss: 0.987443\n",
      "grad: tensor([-0.0187, -0.3437], dtype=torch.float64)\n",
      "params: tensor([1.0045, 0.1051], dtype=torch.float64)\n",
      "Epoch: 25, Loss: 0.986270\n",
      "grad: tensor([-0.0187, -0.3368], dtype=torch.float64)\n",
      "params: tensor([1.0047, 0.1085], dtype=torch.float64)\n",
      "Epoch: 26, Loss: 0.985143\n",
      "grad: tensor([-0.0187, -0.3301], dtype=torch.float64)\n",
      "params: tensor([1.0049, 0.1118], dtype=torch.float64)\n",
      "Epoch: 27, Loss: 0.984061\n",
      "grad: tensor([-0.0187, -0.3235], dtype=torch.float64)\n",
      "params: tensor([1.0051, 0.1150], dtype=torch.float64)\n",
      "Epoch: 28, Loss: 0.983022\n",
      "grad: tensor([-0.0186, -0.3170], dtype=torch.float64)\n",
      "params: tensor([1.0053, 0.1182], dtype=torch.float64)\n",
      "Epoch: 29, Loss: 0.982023\n",
      "grad: tensor([-0.0186, -0.3107], dtype=torch.float64)\n",
      "params: tensor([1.0054, 0.1213], dtype=torch.float64)\n",
      "Epoch: 30, Loss: 0.981064\n",
      "grad: tensor([-0.0186, -0.3045], dtype=torch.float64)\n",
      "params: tensor([1.0056, 0.1243], dtype=torch.float64)\n",
      "Epoch: 31, Loss: 0.980143\n",
      "grad: tensor([-0.0186, -0.2984], dtype=torch.float64)\n",
      "params: tensor([1.0058, 0.1273], dtype=torch.float64)\n",
      "Epoch: 32, Loss: 0.979258\n",
      "grad: tensor([-0.0186, -0.2924], dtype=torch.float64)\n",
      "params: tensor([1.0060, 0.1302], dtype=torch.float64)\n",
      "Epoch: 33, Loss: 0.978408\n",
      "grad: tensor([-0.0186, -0.2866], dtype=torch.float64)\n",
      "params: tensor([1.0062, 0.1331], dtype=torch.float64)\n",
      "Epoch: 34, Loss: 0.977592\n",
      "grad: tensor([-0.0186, -0.2808], dtype=torch.float64)\n",
      "params: tensor([1.0064, 0.1359], dtype=torch.float64)\n",
      "Epoch: 35, Loss: 0.976808\n",
      "grad: tensor([-0.0186, -0.2752], dtype=torch.float64)\n",
      "params: tensor([1.0066, 0.1386], dtype=torch.float64)\n",
      "Epoch: 36, Loss: 0.976055\n",
      "grad: tensor([-0.0186, -0.2697], dtype=torch.float64)\n",
      "params: tensor([1.0067, 0.1413], dtype=torch.float64)\n",
      "Epoch: 37, Loss: 0.975331\n",
      "grad: tensor([-0.0186, -0.2643], dtype=torch.float64)\n",
      "params: tensor([1.0069, 0.1440], dtype=torch.float64)\n",
      "Epoch: 38, Loss: 0.974636\n",
      "grad: tensor([-0.0186, -0.2590], dtype=torch.float64)\n",
      "params: tensor([1.0071, 0.1466], dtype=torch.float64)\n",
      "Epoch: 39, Loss: 0.973968\n",
      "grad: tensor([-0.0186, -0.2538], dtype=torch.float64)\n",
      "params: tensor([1.0073, 0.1491], dtype=torch.float64)\n",
      "Epoch: 40, Loss: 0.973327\n",
      "grad: tensor([-0.0186, -0.2488], dtype=torch.float64)\n",
      "params: tensor([1.0075, 0.1516], dtype=torch.float64)\n",
      "Epoch: 41, Loss: 0.972711\n",
      "grad: tensor([-0.0186, -0.2438], dtype=torch.float64)\n",
      "params: tensor([1.0077, 0.1540], dtype=torch.float64)\n",
      "Epoch: 42, Loss: 0.972119\n",
      "grad: tensor([-0.0186, -0.2389], dtype=torch.float64)\n",
      "params: tensor([1.0079, 0.1564], dtype=torch.float64)\n",
      "Epoch: 43, Loss: 0.971551\n",
      "grad: tensor([-0.0186, -0.2341], dtype=torch.float64)\n",
      "params: tensor([1.0080, 0.1588], dtype=torch.float64)\n",
      "Epoch: 44, Loss: 0.971004\n",
      "grad: tensor([-0.0186, -0.2294], dtype=torch.float64)\n",
      "params: tensor([1.0082, 0.1611], dtype=torch.float64)\n",
      "Epoch: 45, Loss: 0.970480\n",
      "grad: tensor([-0.0186, -0.2249], dtype=torch.float64)\n",
      "params: tensor([1.0084, 0.1633], dtype=torch.float64)\n",
      "Epoch: 46, Loss: 0.969976\n",
      "grad: tensor([-0.0186, -0.2204], dtype=torch.float64)\n",
      "params: tensor([1.0086, 0.1655], dtype=torch.float64)\n",
      "Epoch: 47, Loss: 0.969492\n",
      "grad: tensor([-0.0185, -0.2160], dtype=torch.float64)\n",
      "params: tensor([1.0088, 0.1677], dtype=torch.float64)\n",
      "Epoch: 48, Loss: 0.969026\n",
      "grad: tensor([-0.0185, -0.2116], dtype=torch.float64)\n",
      "params: tensor([1.0090, 0.1698], dtype=torch.float64)\n",
      "Epoch: 49, Loss: 0.968580\n",
      "grad: tensor([-0.0185, -0.2074], dtype=torch.float64)\n",
      "params: tensor([1.0092, 0.1719], dtype=torch.float64)\n",
      "Epoch: 50, Loss: 0.968150\n",
      "grad: tensor([-0.0185, -0.2033], dtype=torch.float64)\n",
      "params: tensor([1.0093, 0.1739], dtype=torch.float64)\n",
      "Epoch: 51, Loss: 0.967738\n",
      "grad: tensor([-0.0185, -0.1992], dtype=torch.float64)\n",
      "params: tensor([1.0095, 0.1759], dtype=torch.float64)\n",
      "Epoch: 52, Loss: 0.967342\n",
      "grad: tensor([-0.0185, -0.1952], dtype=torch.float64)\n",
      "params: tensor([1.0097, 0.1778], dtype=torch.float64)\n",
      "Epoch: 53, Loss: 0.966961\n",
      "grad: tensor([-0.0185, -0.1913], dtype=torch.float64)\n",
      "params: tensor([1.0099, 0.1798], dtype=torch.float64)\n",
      "Epoch: 54, Loss: 0.966595\n",
      "grad: tensor([-0.0185, -0.1875], dtype=torch.float64)\n",
      "params: tensor([1.0101, 0.1816], dtype=torch.float64)\n",
      "Epoch: 55, Loss: 0.966244\n",
      "grad: tensor([-0.0185, -0.1837], dtype=torch.float64)\n",
      "params: tensor([1.0103, 0.1835], dtype=torch.float64)\n",
      "Epoch: 56, Loss: 0.965906\n",
      "grad: tensor([-0.0185, -0.1800], dtype=torch.float64)\n",
      "params: tensor([1.0105, 0.1853], dtype=torch.float64)\n",
      "Epoch: 57, Loss: 0.965582\n",
      "grad: tensor([-0.0185, -0.1764], dtype=torch.float64)\n",
      "params: tensor([1.0106, 0.1870], dtype=torch.float64)\n",
      "Epoch: 58, Loss: 0.965270\n",
      "grad: tensor([-0.0185, -0.1729], dtype=torch.float64)\n",
      "params: tensor([1.0108, 0.1888], dtype=torch.float64)\n",
      "Epoch: 59, Loss: 0.964971\n",
      "grad: tensor([-0.0185, -0.1695], dtype=torch.float64)\n",
      "params: tensor([1.0110, 0.1905], dtype=torch.float64)\n",
      "Epoch: 60, Loss: 0.964683\n",
      "grad: tensor([-0.0185, -0.1661], dtype=torch.float64)\n",
      "params: tensor([1.0112, 0.1921], dtype=torch.float64)\n",
      "Epoch: 61, Loss: 0.964407\n",
      "grad: tensor([-0.0185, -0.1627], dtype=torch.float64)\n",
      "params: tensor([1.0114, 0.1937], dtype=torch.float64)\n",
      "Epoch: 62, Loss: 0.964141\n",
      "grad: tensor([-0.0185, -0.1595], dtype=torch.float64)\n",
      "params: tensor([1.0116, 0.1953], dtype=torch.float64)\n",
      "Epoch: 63, Loss: 0.963886\n",
      "grad: tensor([-0.0185, -0.1563], dtype=torch.float64)\n",
      "params: tensor([1.0117, 0.1969], dtype=torch.float64)\n",
      "Epoch: 64, Loss: 0.963640\n",
      "grad: tensor([-0.0185, -0.1532], dtype=torch.float64)\n",
      "params: tensor([1.0119, 0.1984], dtype=torch.float64)\n",
      "Epoch: 65, Loss: 0.963405\n",
      "grad: tensor([-0.0185, -0.1501], dtype=torch.float64)\n",
      "params: tensor([1.0121, 0.1999], dtype=torch.float64)\n",
      "Epoch: 66, Loss: 0.963178\n",
      "grad: tensor([-0.0185, -0.1471], dtype=torch.float64)\n",
      "params: tensor([1.0123, 0.2014], dtype=torch.float64)\n",
      "Epoch: 67, Loss: 0.962961\n",
      "grad: tensor([-0.0185, -0.1442], dtype=torch.float64)\n",
      "params: tensor([1.0125, 0.2028], dtype=torch.float64)\n",
      "Epoch: 68, Loss: 0.962751\n",
      "grad: tensor([-0.0185, -0.1413], dtype=torch.float64)\n",
      "params: tensor([1.0127, 0.2043], dtype=torch.float64)\n",
      "Epoch: 69, Loss: 0.962550\n",
      "grad: tensor([-0.0185, -0.1385], dtype=torch.float64)\n",
      "params: tensor([1.0129, 0.2056], dtype=torch.float64)\n",
      "Epoch: 70, Loss: 0.962357\n",
      "grad: tensor([-0.0185, -0.1357], dtype=torch.float64)\n",
      "params: tensor([1.0130, 0.2070], dtype=torch.float64)\n",
      "Epoch: 71, Loss: 0.962171\n",
      "grad: tensor([-0.0185, -0.1330], dtype=torch.float64)\n",
      "params: tensor([1.0132, 0.2083], dtype=torch.float64)\n",
      "Epoch: 72, Loss: 0.961993\n",
      "grad: tensor([-0.0185, -0.1303], dtype=torch.float64)\n",
      "params: tensor([1.0134, 0.2096], dtype=torch.float64)\n",
      "Epoch: 73, Loss: 0.961821\n",
      "grad: tensor([-0.0185, -0.1277], dtype=torch.float64)\n",
      "params: tensor([1.0136, 0.2109], dtype=torch.float64)\n",
      "Epoch: 74, Loss: 0.961657\n",
      "grad: tensor([-0.0185, -0.1252], dtype=torch.float64)\n",
      "params: tensor([1.0138, 0.2122], dtype=torch.float64)\n",
      "Epoch: 75, Loss: 0.961498\n",
      "grad: tensor([-0.0185, -0.1226], dtype=torch.float64)\n",
      "params: tensor([1.0140, 0.2134], dtype=torch.float64)\n",
      "Epoch: 76, Loss: 0.961346\n",
      "grad: tensor([-0.0185, -0.1202], dtype=torch.float64)\n",
      "params: tensor([1.0141, 0.2146], dtype=torch.float64)\n",
      "Epoch: 77, Loss: 0.961199\n",
      "grad: tensor([-0.0185, -0.1178], dtype=torch.float64)\n",
      "params: tensor([1.0143, 0.2158], dtype=torch.float64)\n",
      "Epoch: 78, Loss: 0.961059\n",
      "grad: tensor([-0.0185, -0.1154], dtype=torch.float64)\n",
      "params: tensor([1.0145, 0.2169], dtype=torch.float64)\n",
      "Epoch: 79, Loss: 0.960923\n",
      "grad: tensor([-0.0184, -0.1131], dtype=torch.float64)\n",
      "params: tensor([1.0147, 0.2181], dtype=torch.float64)\n",
      "Epoch: 80, Loss: 0.960793\n",
      "grad: tensor([-0.0184, -0.1109], dtype=torch.float64)\n",
      "params: tensor([1.0149, 0.2192], dtype=torch.float64)\n",
      "Epoch: 81, Loss: 0.960668\n",
      "grad: tensor([-0.0184, -0.1086], dtype=torch.float64)\n",
      "params: tensor([1.0151, 0.2202], dtype=torch.float64)\n",
      "Epoch: 82, Loss: 0.960548\n",
      "grad: tensor([-0.0184, -0.1065], dtype=torch.float64)\n",
      "params: tensor([1.0153, 0.2213], dtype=torch.float64)\n",
      "Epoch: 83, Loss: 0.960432\n",
      "grad: tensor([-0.0184, -0.1043], dtype=torch.float64)\n",
      "params: tensor([1.0154, 0.2224], dtype=torch.float64)\n",
      "Epoch: 84, Loss: 0.960321\n",
      "grad: tensor([-0.0184, -0.1023], dtype=torch.float64)\n",
      "params: tensor([1.0156, 0.2234], dtype=torch.float64)\n",
      "Epoch: 85, Loss: 0.960214\n",
      "grad: tensor([-0.0184, -0.1002], dtype=torch.float64)\n",
      "params: tensor([1.0158, 0.2244], dtype=torch.float64)\n",
      "Epoch: 86, Loss: 0.960111\n",
      "grad: tensor([-0.0184, -0.0982], dtype=torch.float64)\n",
      "params: tensor([1.0160, 0.2254], dtype=torch.float64)\n",
      "Epoch: 87, Loss: 0.960012\n",
      "grad: tensor([-0.0184, -0.0962], dtype=torch.float64)\n",
      "params: tensor([1.0162, 0.2263], dtype=torch.float64)\n",
      "Epoch: 88, Loss: 0.959917\n",
      "grad: tensor([-0.0184, -0.0943], dtype=torch.float64)\n",
      "params: tensor([1.0164, 0.2273], dtype=torch.float64)\n",
      "Epoch: 89, Loss: 0.959826\n",
      "grad: tensor([-0.0184, -0.0924], dtype=torch.float64)\n",
      "params: tensor([1.0165, 0.2282], dtype=torch.float64)\n",
      "Epoch: 90, Loss: 0.959738\n",
      "grad: tensor([-0.0184, -0.0906], dtype=torch.float64)\n",
      "params: tensor([1.0167, 0.2291], dtype=torch.float64)\n",
      "Epoch: 91, Loss: 0.959653\n",
      "grad: tensor([-0.0184, -0.0888], dtype=torch.float64)\n",
      "params: tensor([1.0169, 0.2300], dtype=torch.float64)\n",
      "Epoch: 92, Loss: 0.959572\n",
      "grad: tensor([-0.0184, -0.0870], dtype=torch.float64)\n",
      "params: tensor([1.0171, 0.2309], dtype=torch.float64)\n",
      "Epoch: 93, Loss: 0.959494\n",
      "grad: tensor([-0.0184, -0.0853], dtype=torch.float64)\n",
      "params: tensor([1.0173, 0.2317], dtype=torch.float64)\n",
      "Epoch: 94, Loss: 0.959418\n",
      "grad: tensor([-0.0184, -0.0835], dtype=torch.float64)\n",
      "params: tensor([1.0175, 0.2325], dtype=torch.float64)\n",
      "Epoch: 95, Loss: 0.959346\n",
      "grad: tensor([-0.0184, -0.0819], dtype=torch.float64)\n",
      "params: tensor([1.0176, 0.2334], dtype=torch.float64)\n",
      "Epoch: 96, Loss: 0.959276\n",
      "grad: tensor([-0.0184, -0.0802], dtype=torch.float64)\n",
      "params: tensor([1.0178, 0.2342], dtype=torch.float64)\n",
      "Epoch: 97, Loss: 0.959209\n",
      "grad: tensor([-0.0184, -0.0786], dtype=torch.float64)\n",
      "params: tensor([1.0180, 0.2350], dtype=torch.float64)\n",
      "Epoch: 98, Loss: 0.959144\n",
      "grad: tensor([-0.0184, -0.0771], dtype=torch.float64)\n",
      "params: tensor([1.0182, 0.2357], dtype=torch.float64)\n",
      "Epoch: 99, Loss: 0.959082\n",
      "grad: tensor([-0.0184, -0.0755], dtype=torch.float64)\n",
      "params: tensor([1.0184, 0.2365], dtype=torch.float64)\n",
      "Epoch: 100, Loss: 0.959022\n",
      "grad: tensor([-0.0184, -0.0740], dtype=torch.float64)\n",
      "params: tensor([1.0186, 0.2372], dtype=torch.float64)\n"
     ]
    },
    {
     "data": {
      "text/plain": [
       "tensor([1.0186, 0.2372], dtype=torch.float64)"
      ]
     },
     "execution_count": 82,
     "metadata": {},
     "output_type": "execute_result"
    }
   ],
   "source": [
    "training_loop(n_epochs=100, learning_rate=1e-2, params=torch.tensor([1.0, 0.0]), t_u=t_u, t_c=t_cn)"
   ]
  },
  {
   "cell_type": "code",
   "execution_count": 90,
   "id": "07c70fca",
   "metadata": {},
   "outputs": [
    {
     "name": "stdout",
     "output_type": "stream",
     "text": [
      "Epoch: 1, Loss: 1.032792\n",
      "grad: tensor([-0.0189, -0.5470], dtype=torch.float64)\n",
      "params: tensor([1.0000e+00, 5.4700e-05], dtype=torch.float64)\n",
      "Epoch: 2, Loss: 1.032762\n",
      "grad: tensor([-0.0189, -0.5469], dtype=torch.float64)\n",
      "params: tensor([1.0000e+00, 1.0939e-04], dtype=torch.float64)\n",
      "Epoch: 3, Loss: 1.032732\n",
      "grad: tensor([-0.0189, -0.5468], dtype=torch.float64)\n",
      "params: tensor([1.0000e+00, 1.6407e-04], dtype=torch.float64)\n",
      "Epoch: 4, Loss: 1.032702\n",
      "grad: tensor([-0.0189, -0.5467], dtype=torch.float64)\n",
      "params: tensor([1.0000e+00, 2.1873e-04], dtype=torch.float64)\n",
      "Epoch: 5, Loss: 1.032672\n",
      "grad: tensor([-0.0189, -0.5466], dtype=torch.float64)\n",
      "params: tensor([1.0000e+00, 2.7339e-04], dtype=torch.float64)\n",
      "Epoch: 6, Loss: 1.032642\n",
      "grad: tensor([-0.0189, -0.5465], dtype=torch.float64)\n",
      "params: tensor([1.0000e+00, 3.2803e-04], dtype=torch.float64)\n",
      "Epoch: 7, Loss: 1.032612\n",
      "grad: tensor([-0.0189, -0.5463], dtype=torch.float64)\n",
      "params: tensor([1.0000e+00, 3.8267e-04], dtype=torch.float64)\n",
      "Epoch: 8, Loss: 1.032582\n",
      "grad: tensor([-0.0189, -0.5462], dtype=torch.float64)\n",
      "params: tensor([1.0000e+00, 4.3729e-04], dtype=torch.float64)\n",
      "Epoch: 9, Loss: 1.032553\n",
      "grad: tensor([-0.0189, -0.5461], dtype=torch.float64)\n",
      "params: tensor([1.0000e+00, 4.9190e-04], dtype=torch.float64)\n",
      "Epoch: 10, Loss: 1.032523\n",
      "grad: tensor([-0.0189, -0.5460], dtype=torch.float64)\n",
      "params: tensor([1.0000e+00, 5.4651e-04], dtype=torch.float64)\n",
      "Epoch: 11, Loss: 1.032493\n",
      "grad: tensor([-0.0189, -0.5459], dtype=torch.float64)\n",
      "params: tensor([1.0000e+00, 6.0110e-04], dtype=torch.float64)\n",
      "Epoch: 12, Loss: 1.032463\n",
      "grad: tensor([-0.0189, -0.5458], dtype=torch.float64)\n",
      "params: tensor([1.0000e+00, 6.5568e-04], dtype=torch.float64)\n",
      "Epoch: 13, Loss: 1.032433\n",
      "grad: tensor([-0.0189, -0.5457], dtype=torch.float64)\n",
      "params: tensor([1.0000e+00, 7.1024e-04], dtype=torch.float64)\n",
      "Epoch: 14, Loss: 1.032403\n",
      "grad: tensor([-0.0189, -0.5456], dtype=torch.float64)\n",
      "params: tensor([1.0000e+00, 7.6480e-04], dtype=torch.float64)\n",
      "Epoch: 15, Loss: 1.032374\n",
      "grad: tensor([-0.0189, -0.5455], dtype=torch.float64)\n",
      "params: tensor([1.0000e+00, 8.1935e-04], dtype=torch.float64)\n",
      "Epoch: 16, Loss: 1.032344\n",
      "grad: tensor([-0.0189, -0.5454], dtype=torch.float64)\n",
      "params: tensor([1.0000e+00, 8.7389e-04], dtype=torch.float64)\n",
      "Epoch: 17, Loss: 1.032314\n",
      "grad: tensor([-0.0189, -0.5453], dtype=torch.float64)\n",
      "params: tensor([1.0000e+00, 9.2841e-04], dtype=torch.float64)\n",
      "Epoch: 18, Loss: 1.032284\n",
      "grad: tensor([-0.0189, -0.5451], dtype=torch.float64)\n",
      "params: tensor([1.0000e+00, 9.8292e-04], dtype=torch.float64)\n",
      "Epoch: 19, Loss: 1.032254\n",
      "grad: tensor([-0.0189, -0.5450], dtype=torch.float64)\n",
      "params: tensor([1.0000, 0.0010], dtype=torch.float64)\n",
      "Epoch: 20, Loss: 1.032225\n",
      "grad: tensor([-0.0189, -0.5449], dtype=torch.float64)\n",
      "params: tensor([1.0000, 0.0011], dtype=torch.float64)\n",
      "Epoch: 21, Loss: 1.032195\n",
      "grad: tensor([-0.0189, -0.5448], dtype=torch.float64)\n",
      "params: tensor([1.0000, 0.0011], dtype=torch.float64)\n",
      "Epoch: 22, Loss: 1.032165\n",
      "grad: tensor([-0.0189, -0.5447], dtype=torch.float64)\n",
      "params: tensor([1.0000, 0.0012], dtype=torch.float64)\n",
      "Epoch: 23, Loss: 1.032136\n",
      "grad: tensor([-0.0189, -0.5446], dtype=torch.float64)\n",
      "params: tensor([1.0000, 0.0013], dtype=torch.float64)\n",
      "Epoch: 24, Loss: 1.032106\n",
      "grad: tensor([-0.0189, -0.5445], dtype=torch.float64)\n",
      "params: tensor([1.0000, 0.0013], dtype=torch.float64)\n",
      "Epoch: 25, Loss: 1.032076\n",
      "grad: tensor([-0.0189, -0.5444], dtype=torch.float64)\n",
      "params: tensor([1.0000, 0.0014], dtype=torch.float64)\n",
      "Epoch: 26, Loss: 1.032047\n",
      "grad: tensor([-0.0189, -0.5443], dtype=torch.float64)\n",
      "params: tensor([1.0000, 0.0014], dtype=torch.float64)\n",
      "Epoch: 27, Loss: 1.032017\n",
      "grad: tensor([-0.0189, -0.5442], dtype=torch.float64)\n",
      "params: tensor([1.0001, 0.0015], dtype=torch.float64)\n",
      "Epoch: 28, Loss: 1.031987\n",
      "grad: tensor([-0.0189, -0.5441], dtype=torch.float64)\n",
      "params: tensor([1.0001, 0.0015], dtype=torch.float64)\n",
      "Epoch: 29, Loss: 1.031958\n",
      "grad: tensor([-0.0189, -0.5439], dtype=torch.float64)\n",
      "params: tensor([1.0001, 0.0016], dtype=torch.float64)\n",
      "Epoch: 30, Loss: 1.031928\n",
      "grad: tensor([-0.0189, -0.5438], dtype=torch.float64)\n",
      "params: tensor([1.0001, 0.0016], dtype=torch.float64)\n",
      "Epoch: 31, Loss: 1.031898\n",
      "grad: tensor([-0.0189, -0.5437], dtype=torch.float64)\n",
      "params: tensor([1.0001, 0.0017], dtype=torch.float64)\n",
      "Epoch: 32, Loss: 1.031869\n",
      "grad: tensor([-0.0189, -0.5436], dtype=torch.float64)\n",
      "params: tensor([1.0001, 0.0017], dtype=torch.float64)\n",
      "Epoch: 33, Loss: 1.031839\n",
      "grad: tensor([-0.0189, -0.5435], dtype=torch.float64)\n",
      "params: tensor([1.0001, 0.0018], dtype=torch.float64)\n",
      "Epoch: 34, Loss: 1.031810\n",
      "grad: tensor([-0.0189, -0.5434], dtype=torch.float64)\n",
      "params: tensor([1.0001, 0.0019], dtype=torch.float64)\n",
      "Epoch: 35, Loss: 1.031780\n",
      "grad: tensor([-0.0189, -0.5433], dtype=torch.float64)\n",
      "params: tensor([1.0001, 0.0019], dtype=torch.float64)\n",
      "Epoch: 36, Loss: 1.031751\n",
      "grad: tensor([-0.0189, -0.5432], dtype=torch.float64)\n",
      "params: tensor([1.0001, 0.0020], dtype=torch.float64)\n",
      "Epoch: 37, Loss: 1.031721\n",
      "grad: tensor([-0.0189, -0.5431], dtype=torch.float64)\n",
      "params: tensor([1.0001, 0.0020], dtype=torch.float64)\n",
      "Epoch: 38, Loss: 1.031691\n",
      "grad: tensor([-0.0189, -0.5430], dtype=torch.float64)\n",
      "params: tensor([1.0001, 0.0021], dtype=torch.float64)\n",
      "Epoch: 39, Loss: 1.031662\n",
      "grad: tensor([-0.0189, -0.5429], dtype=torch.float64)\n",
      "params: tensor([1.0001, 0.0021], dtype=torch.float64)\n",
      "Epoch: 40, Loss: 1.031632\n",
      "grad: tensor([-0.0189, -0.5427], dtype=torch.float64)\n",
      "params: tensor([1.0001, 0.0022], dtype=torch.float64)\n",
      "Epoch: 41, Loss: 1.031603\n",
      "grad: tensor([-0.0189, -0.5426], dtype=torch.float64)\n",
      "params: tensor([1.0001, 0.0022], dtype=torch.float64)\n",
      "Epoch: 42, Loss: 1.031573\n",
      "grad: tensor([-0.0189, -0.5425], dtype=torch.float64)\n",
      "params: tensor([1.0001, 0.0023], dtype=torch.float64)\n",
      "Epoch: 43, Loss: 1.031544\n",
      "grad: tensor([-0.0189, -0.5424], dtype=torch.float64)\n",
      "params: tensor([1.0001, 0.0023], dtype=torch.float64)\n",
      "Epoch: 44, Loss: 1.031515\n",
      "grad: tensor([-0.0189, -0.5423], dtype=torch.float64)\n",
      "params: tensor([1.0001, 0.0024], dtype=torch.float64)\n",
      "Epoch: 45, Loss: 1.031485\n",
      "grad: tensor([-0.0189, -0.5422], dtype=torch.float64)\n",
      "params: tensor([1.0001, 0.0025], dtype=torch.float64)\n",
      "Epoch: 46, Loss: 1.031456\n",
      "grad: tensor([-0.0189, -0.5421], dtype=torch.float64)\n",
      "params: tensor([1.0001, 0.0025], dtype=torch.float64)\n",
      "Epoch: 47, Loss: 1.031426\n",
      "grad: tensor([-0.0189, -0.5420], dtype=torch.float64)\n",
      "params: tensor([1.0001, 0.0026], dtype=torch.float64)\n",
      "Epoch: 48, Loss: 1.031397\n",
      "grad: tensor([-0.0189, -0.5419], dtype=torch.float64)\n",
      "params: tensor([1.0001, 0.0026], dtype=torch.float64)\n",
      "Epoch: 49, Loss: 1.031367\n",
      "grad: tensor([-0.0189, -0.5418], dtype=torch.float64)\n",
      "params: tensor([1.0001, 0.0027], dtype=torch.float64)\n",
      "Epoch: 50, Loss: 1.031338\n",
      "grad: tensor([-0.0189, -0.5417], dtype=torch.float64)\n",
      "params: tensor([1.0001, 0.0027], dtype=torch.float64)\n",
      "Epoch: 51, Loss: 1.031309\n",
      "grad: tensor([-0.0189, -0.5416], dtype=torch.float64)\n",
      "params: tensor([1.0001, 0.0028], dtype=torch.float64)\n",
      "Epoch: 52, Loss: 1.031279\n",
      "grad: tensor([-0.0189, -0.5414], dtype=torch.float64)\n",
      "params: tensor([1.0001, 0.0028], dtype=torch.float64)\n",
      "Epoch: 53, Loss: 1.031250\n",
      "grad: tensor([-0.0189, -0.5413], dtype=torch.float64)\n",
      "params: tensor([1.0001, 0.0029], dtype=torch.float64)\n",
      "Epoch: 54, Loss: 1.031221\n",
      "grad: tensor([-0.0189, -0.5412], dtype=torch.float64)\n",
      "params: tensor([1.0001, 0.0029], dtype=torch.float64)\n",
      "Epoch: 55, Loss: 1.031191\n",
      "grad: tensor([-0.0189, -0.5411], dtype=torch.float64)\n",
      "params: tensor([1.0001, 0.0030], dtype=torch.float64)\n",
      "Epoch: 56, Loss: 1.031162\n",
      "grad: tensor([-0.0189, -0.5410], dtype=torch.float64)\n",
      "params: tensor([1.0001, 0.0030], dtype=torch.float64)\n",
      "Epoch: 57, Loss: 1.031133\n",
      "grad: tensor([-0.0189, -0.5409], dtype=torch.float64)\n",
      "params: tensor([1.0001, 0.0031], dtype=torch.float64)\n",
      "Epoch: 58, Loss: 1.031103\n",
      "grad: tensor([-0.0189, -0.5408], dtype=torch.float64)\n",
      "params: tensor([1.0001, 0.0032], dtype=torch.float64)\n",
      "Epoch: 59, Loss: 1.031074\n",
      "grad: tensor([-0.0189, -0.5407], dtype=torch.float64)\n",
      "params: tensor([1.0001, 0.0032], dtype=torch.float64)\n",
      "Epoch: 60, Loss: 1.031045\n",
      "grad: tensor([-0.0189, -0.5406], dtype=torch.float64)\n",
      "params: tensor([1.0001, 0.0033], dtype=torch.float64)\n",
      "Epoch: 61, Loss: 1.031016\n",
      "grad: tensor([-0.0189, -0.5405], dtype=torch.float64)\n",
      "params: tensor([1.0001, 0.0033], dtype=torch.float64)\n",
      "Epoch: 62, Loss: 1.030986\n",
      "grad: tensor([-0.0189, -0.5404], dtype=torch.float64)\n",
      "params: tensor([1.0001, 0.0034], dtype=torch.float64)\n",
      "Epoch: 63, Loss: 1.030957\n",
      "grad: tensor([-0.0189, -0.5403], dtype=torch.float64)\n",
      "params: tensor([1.0001, 0.0034], dtype=torch.float64)\n",
      "Epoch: 64, Loss: 1.030928\n",
      "grad: tensor([-0.0189, -0.5401], dtype=torch.float64)\n",
      "params: tensor([1.0001, 0.0035], dtype=torch.float64)\n",
      "Epoch: 65, Loss: 1.030899\n",
      "grad: tensor([-0.0189, -0.5400], dtype=torch.float64)\n",
      "params: tensor([1.0001, 0.0035], dtype=torch.float64)\n",
      "Epoch: 66, Loss: 1.030870\n",
      "grad: tensor([-0.0189, -0.5399], dtype=torch.float64)\n",
      "params: tensor([1.0001, 0.0036], dtype=torch.float64)\n",
      "Epoch: 67, Loss: 1.030840\n",
      "grad: tensor([-0.0189, -0.5398], dtype=torch.float64)\n",
      "params: tensor([1.0001, 0.0036], dtype=torch.float64)\n",
      "Epoch: 68, Loss: 1.030811\n",
      "grad: tensor([-0.0189, -0.5397], dtype=torch.float64)\n",
      "params: tensor([1.0001, 0.0037], dtype=torch.float64)\n",
      "Epoch: 69, Loss: 1.030782\n",
      "grad: tensor([-0.0189, -0.5396], dtype=torch.float64)\n",
      "params: tensor([1.0001, 0.0037], dtype=torch.float64)\n",
      "Epoch: 70, Loss: 1.030753\n",
      "grad: tensor([-0.0189, -0.5395], dtype=torch.float64)\n",
      "params: tensor([1.0001, 0.0038], dtype=torch.float64)\n",
      "Epoch: 71, Loss: 1.030724\n",
      "grad: tensor([-0.0189, -0.5394], dtype=torch.float64)\n",
      "params: tensor([1.0001, 0.0039], dtype=torch.float64)\n",
      "Epoch: 72, Loss: 1.030695\n",
      "grad: tensor([-0.0189, -0.5393], dtype=torch.float64)\n",
      "params: tensor([1.0001, 0.0039], dtype=torch.float64)\n",
      "Epoch: 73, Loss: 1.030665\n",
      "grad: tensor([-0.0189, -0.5392], dtype=torch.float64)\n",
      "params: tensor([1.0001, 0.0040], dtype=torch.float64)\n",
      "Epoch: 74, Loss: 1.030636\n",
      "grad: tensor([-0.0189, -0.5391], dtype=torch.float64)\n",
      "params: tensor([1.0001, 0.0040], dtype=torch.float64)\n",
      "Epoch: 75, Loss: 1.030607\n",
      "grad: tensor([-0.0189, -0.5390], dtype=torch.float64)\n",
      "params: tensor([1.0001, 0.0041], dtype=torch.float64)\n",
      "Epoch: 76, Loss: 1.030578\n",
      "grad: tensor([-0.0189, -0.5389], dtype=torch.float64)\n",
      "params: tensor([1.0001, 0.0041], dtype=torch.float64)\n",
      "Epoch: 77, Loss: 1.030549\n",
      "grad: tensor([-0.0189, -0.5387], dtype=torch.float64)\n",
      "params: tensor([1.0001, 0.0042], dtype=torch.float64)\n",
      "Epoch: 78, Loss: 1.030520\n",
      "grad: tensor([-0.0189, -0.5386], dtype=torch.float64)\n",
      "params: tensor([1.0001, 0.0042], dtype=torch.float64)\n",
      "Epoch: 79, Loss: 1.030491\n",
      "grad: tensor([-0.0189, -0.5385], dtype=torch.float64)\n",
      "params: tensor([1.0001, 0.0043], dtype=torch.float64)\n",
      "Epoch: 80, Loss: 1.030462\n",
      "grad: tensor([-0.0189, -0.5384], dtype=torch.float64)\n",
      "params: tensor([1.0002, 0.0043], dtype=torch.float64)\n",
      "Epoch: 81, Loss: 1.030433\n",
      "grad: tensor([-0.0189, -0.5383], dtype=torch.float64)\n",
      "params: tensor([1.0002, 0.0044], dtype=torch.float64)\n",
      "Epoch: 82, Loss: 1.030404\n",
      "grad: tensor([-0.0189, -0.5382], dtype=torch.float64)\n",
      "params: tensor([1.0002, 0.0044], dtype=torch.float64)\n",
      "Epoch: 83, Loss: 1.030375\n",
      "grad: tensor([-0.0189, -0.5381], dtype=torch.float64)\n",
      "params: tensor([1.0002, 0.0045], dtype=torch.float64)\n",
      "Epoch: 84, Loss: 1.030346\n",
      "grad: tensor([-0.0189, -0.5380], dtype=torch.float64)\n",
      "params: tensor([1.0002, 0.0046], dtype=torch.float64)\n",
      "Epoch: 85, Loss: 1.030317\n",
      "grad: tensor([-0.0189, -0.5379], dtype=torch.float64)\n",
      "params: tensor([1.0002, 0.0046], dtype=torch.float64)\n",
      "Epoch: 86, Loss: 1.030288\n",
      "grad: tensor([-0.0189, -0.5378], dtype=torch.float64)\n",
      "params: tensor([1.0002, 0.0047], dtype=torch.float64)\n",
      "Epoch: 87, Loss: 1.030259\n",
      "grad: tensor([-0.0189, -0.5377], dtype=torch.float64)\n",
      "params: tensor([1.0002, 0.0047], dtype=torch.float64)\n",
      "Epoch: 88, Loss: 1.030230\n",
      "grad: tensor([-0.0189, -0.5376], dtype=torch.float64)\n",
      "params: tensor([1.0002, 0.0048], dtype=torch.float64)\n",
      "Epoch: 89, Loss: 1.030201\n",
      "grad: tensor([-0.0189, -0.5375], dtype=torch.float64)\n",
      "params: tensor([1.0002, 0.0048], dtype=torch.float64)\n",
      "Epoch: 90, Loss: 1.030172\n",
      "grad: tensor([-0.0189, -0.5373], dtype=torch.float64)\n",
      "params: tensor([1.0002, 0.0049], dtype=torch.float64)\n",
      "Epoch: 91, Loss: 1.030143\n",
      "grad: tensor([-0.0189, -0.5372], dtype=torch.float64)\n",
      "params: tensor([1.0002, 0.0049], dtype=torch.float64)\n",
      "Epoch: 92, Loss: 1.030114\n",
      "grad: tensor([-0.0189, -0.5371], dtype=torch.float64)\n",
      "params: tensor([1.0002, 0.0050], dtype=torch.float64)\n",
      "Epoch: 93, Loss: 1.030086\n",
      "grad: tensor([-0.0189, -0.5370], dtype=torch.float64)\n",
      "params: tensor([1.0002, 0.0050], dtype=torch.float64)\n",
      "Epoch: 94, Loss: 1.030057\n",
      "grad: tensor([-0.0189, -0.5369], dtype=torch.float64)\n",
      "params: tensor([1.0002, 0.0051], dtype=torch.float64)\n",
      "Epoch: 95, Loss: 1.030028\n",
      "grad: tensor([-0.0189, -0.5368], dtype=torch.float64)\n",
      "params: tensor([1.0002, 0.0051], dtype=torch.float64)\n",
      "Epoch: 96, Loss: 1.029999\n",
      "grad: tensor([-0.0189, -0.5367], dtype=torch.float64)\n",
      "params: tensor([1.0002, 0.0052], dtype=torch.float64)\n",
      "Epoch: 97, Loss: 1.029970\n",
      "grad: tensor([-0.0189, -0.5366], dtype=torch.float64)\n",
      "params: tensor([1.0002, 0.0053], dtype=torch.float64)\n",
      "Epoch: 98, Loss: 1.029941\n",
      "grad: tensor([-0.0189, -0.5365], dtype=torch.float64)\n",
      "params: tensor([1.0002, 0.0053], dtype=torch.float64)\n",
      "Epoch: 99, Loss: 1.029913\n",
      "grad: tensor([-0.0189, -0.5364], dtype=torch.float64)\n",
      "params: tensor([1.0002, 0.0054], dtype=torch.float64)\n",
      "Epoch: 100, Loss: 1.029884\n",
      "grad: tensor([-0.0189, -0.5363], dtype=torch.float64)\n",
      "params: tensor([1.0002, 0.0054], dtype=torch.float64)\n",
      "Epoch: 101, Loss: 1.029855\n",
      "grad: tensor([-0.0189, -0.5362], dtype=torch.float64)\n",
      "params: tensor([1.0002, 0.0055], dtype=torch.float64)\n",
      "Epoch: 102, Loss: 1.029826\n",
      "grad: tensor([-0.0189, -0.5361], dtype=torch.float64)\n",
      "params: tensor([1.0002, 0.0055], dtype=torch.float64)\n",
      "Epoch: 103, Loss: 1.029797\n",
      "grad: tensor([-0.0189, -0.5360], dtype=torch.float64)\n",
      "params: tensor([1.0002, 0.0056], dtype=torch.float64)\n",
      "Epoch: 104, Loss: 1.029769\n",
      "grad: tensor([-0.0189, -0.5358], dtype=torch.float64)\n",
      "params: tensor([1.0002, 0.0056], dtype=torch.float64)\n",
      "Epoch: 105, Loss: 1.029740\n",
      "grad: tensor([-0.0189, -0.5357], dtype=torch.float64)\n",
      "params: tensor([1.0002, 0.0057], dtype=torch.float64)\n",
      "Epoch: 106, Loss: 1.029711\n",
      "grad: tensor([-0.0189, -0.5356], dtype=torch.float64)\n",
      "params: tensor([1.0002, 0.0057], dtype=torch.float64)\n",
      "Epoch: 107, Loss: 1.029682\n",
      "grad: tensor([-0.0189, -0.5355], dtype=torch.float64)\n",
      "params: tensor([1.0002, 0.0058], dtype=torch.float64)\n",
      "Epoch: 108, Loss: 1.029654\n",
      "grad: tensor([-0.0189, -0.5354], dtype=torch.float64)\n",
      "params: tensor([1.0002, 0.0058], dtype=torch.float64)\n",
      "Epoch: 109, Loss: 1.029625\n",
      "grad: tensor([-0.0189, -0.5353], dtype=torch.float64)\n",
      "params: tensor([1.0002, 0.0059], dtype=torch.float64)\n",
      "Epoch: 110, Loss: 1.029596\n",
      "grad: tensor([-0.0189, -0.5352], dtype=torch.float64)\n",
      "params: tensor([1.0002, 0.0060], dtype=torch.float64)\n",
      "Epoch: 111, Loss: 1.029568\n",
      "grad: tensor([-0.0189, -0.5351], dtype=torch.float64)\n",
      "params: tensor([1.0002, 0.0060], dtype=torch.float64)\n",
      "Epoch: 112, Loss: 1.029539\n",
      "grad: tensor([-0.0189, -0.5350], dtype=torch.float64)\n",
      "params: tensor([1.0002, 0.0061], dtype=torch.float64)\n",
      "Epoch: 113, Loss: 1.029510\n",
      "grad: tensor([-0.0189, -0.5349], dtype=torch.float64)\n",
      "params: tensor([1.0002, 0.0061], dtype=torch.float64)\n",
      "Epoch: 114, Loss: 1.029482\n",
      "grad: tensor([-0.0189, -0.5348], dtype=torch.float64)\n",
      "params: tensor([1.0002, 0.0062], dtype=torch.float64)\n",
      "Epoch: 115, Loss: 1.029453\n",
      "grad: tensor([-0.0189, -0.5347], dtype=torch.float64)\n",
      "params: tensor([1.0002, 0.0062], dtype=torch.float64)\n",
      "Epoch: 116, Loss: 1.029424\n",
      "grad: tensor([-0.0189, -0.5346], dtype=torch.float64)\n",
      "params: tensor([1.0002, 0.0063], dtype=torch.float64)\n",
      "Epoch: 117, Loss: 1.029396\n",
      "grad: tensor([-0.0189, -0.5345], dtype=torch.float64)\n",
      "params: tensor([1.0002, 0.0063], dtype=torch.float64)\n",
      "Epoch: 118, Loss: 1.029367\n",
      "grad: tensor([-0.0189, -0.5343], dtype=torch.float64)\n",
      "params: tensor([1.0002, 0.0064], dtype=torch.float64)\n",
      "Epoch: 119, Loss: 1.029339\n",
      "grad: tensor([-0.0189, -0.5342], dtype=torch.float64)\n",
      "params: tensor([1.0002, 0.0064], dtype=torch.float64)\n",
      "Epoch: 120, Loss: 1.029310\n",
      "grad: tensor([-0.0189, -0.5341], dtype=torch.float64)\n",
      "params: tensor([1.0002, 0.0065], dtype=torch.float64)\n",
      "Epoch: 121, Loss: 1.029282\n",
      "grad: tensor([-0.0189, -0.5340], dtype=torch.float64)\n",
      "params: tensor([1.0002, 0.0065], dtype=torch.float64)\n",
      "Epoch: 122, Loss: 1.029253\n",
      "grad: tensor([-0.0189, -0.5339], dtype=torch.float64)\n",
      "params: tensor([1.0002, 0.0066], dtype=torch.float64)\n",
      "Epoch: 123, Loss: 1.029224\n",
      "grad: tensor([-0.0189, -0.5338], dtype=torch.float64)\n",
      "params: tensor([1.0002, 0.0066], dtype=torch.float64)\n",
      "Epoch: 124, Loss: 1.029196\n",
      "grad: tensor([-0.0189, -0.5337], dtype=torch.float64)\n",
      "params: tensor([1.0002, 0.0067], dtype=torch.float64)\n",
      "Epoch: 125, Loss: 1.029167\n",
      "grad: tensor([-0.0189, -0.5336], dtype=torch.float64)\n",
      "params: tensor([1.0002, 0.0068], dtype=torch.float64)\n",
      "Epoch: 126, Loss: 1.029139\n",
      "grad: tensor([-0.0189, -0.5335], dtype=torch.float64)\n",
      "params: tensor([1.0002, 0.0068], dtype=torch.float64)\n",
      "Epoch: 127, Loss: 1.029110\n",
      "grad: tensor([-0.0189, -0.5334], dtype=torch.float64)\n",
      "params: tensor([1.0002, 0.0069], dtype=torch.float64)\n",
      "Epoch: 128, Loss: 1.029082\n",
      "grad: tensor([-0.0189, -0.5333], dtype=torch.float64)\n",
      "params: tensor([1.0002, 0.0069], dtype=torch.float64)\n",
      "Epoch: 129, Loss: 1.029053\n",
      "grad: tensor([-0.0189, -0.5332], dtype=torch.float64)\n",
      "params: tensor([1.0002, 0.0070], dtype=torch.float64)\n",
      "Epoch: 130, Loss: 1.029025\n",
      "grad: tensor([-0.0189, -0.5331], dtype=torch.float64)\n",
      "params: tensor([1.0002, 0.0070], dtype=torch.float64)\n",
      "Epoch: 131, Loss: 1.028997\n",
      "grad: tensor([-0.0189, -0.5330], dtype=torch.float64)\n",
      "params: tensor([1.0002, 0.0071], dtype=torch.float64)\n",
      "Epoch: 132, Loss: 1.028968\n",
      "grad: tensor([-0.0189, -0.5329], dtype=torch.float64)\n",
      "params: tensor([1.0002, 0.0071], dtype=torch.float64)\n",
      "Epoch: 133, Loss: 1.028940\n",
      "grad: tensor([-0.0189, -0.5327], dtype=torch.float64)\n",
      "params: tensor([1.0003, 0.0072], dtype=torch.float64)\n",
      "Epoch: 134, Loss: 1.028911\n",
      "grad: tensor([-0.0189, -0.5326], dtype=torch.float64)\n",
      "params: tensor([1.0003, 0.0072], dtype=torch.float64)\n",
      "Epoch: 135, Loss: 1.028883\n",
      "grad: tensor([-0.0189, -0.5325], dtype=torch.float64)\n",
      "params: tensor([1.0003, 0.0073], dtype=torch.float64)\n",
      "Epoch: 136, Loss: 1.028854\n",
      "grad: tensor([-0.0189, -0.5324], dtype=torch.float64)\n",
      "params: tensor([1.0003, 0.0073], dtype=torch.float64)\n",
      "Epoch: 137, Loss: 1.028826\n",
      "grad: tensor([-0.0189, -0.5323], dtype=torch.float64)\n",
      "params: tensor([1.0003, 0.0074], dtype=torch.float64)\n",
      "Epoch: 138, Loss: 1.028798\n",
      "grad: tensor([-0.0189, -0.5322], dtype=torch.float64)\n",
      "params: tensor([1.0003, 0.0074], dtype=torch.float64)\n",
      "Epoch: 139, Loss: 1.028769\n",
      "grad: tensor([-0.0189, -0.5321], dtype=torch.float64)\n",
      "params: tensor([1.0003, 0.0075], dtype=torch.float64)\n",
      "Epoch: 140, Loss: 1.028741\n",
      "grad: tensor([-0.0189, -0.5320], dtype=torch.float64)\n",
      "params: tensor([1.0003, 0.0076], dtype=torch.float64)\n",
      "Epoch: 141, Loss: 1.028713\n",
      "grad: tensor([-0.0189, -0.5319], dtype=torch.float64)\n",
      "params: tensor([1.0003, 0.0076], dtype=torch.float64)\n",
      "Epoch: 142, Loss: 1.028684\n",
      "grad: tensor([-0.0189, -0.5318], dtype=torch.float64)\n",
      "params: tensor([1.0003, 0.0077], dtype=torch.float64)\n",
      "Epoch: 143, Loss: 1.028656\n",
      "grad: tensor([-0.0189, -0.5317], dtype=torch.float64)\n",
      "params: tensor([1.0003, 0.0077], dtype=torch.float64)\n",
      "Epoch: 144, Loss: 1.028628\n",
      "grad: tensor([-0.0189, -0.5316], dtype=torch.float64)\n",
      "params: tensor([1.0003, 0.0078], dtype=torch.float64)\n",
      "Epoch: 145, Loss: 1.028599\n",
      "grad: tensor([-0.0189, -0.5315], dtype=torch.float64)\n",
      "params: tensor([1.0003, 0.0078], dtype=torch.float64)\n",
      "Epoch: 146, Loss: 1.028571\n",
      "grad: tensor([-0.0189, -0.5314], dtype=torch.float64)\n",
      "params: tensor([1.0003, 0.0079], dtype=torch.float64)\n",
      "Epoch: 147, Loss: 1.028543\n",
      "grad: tensor([-0.0189, -0.5313], dtype=torch.float64)\n",
      "params: tensor([1.0003, 0.0079], dtype=torch.float64)\n",
      "Epoch: 148, Loss: 1.028515\n",
      "grad: tensor([-0.0189, -0.5311], dtype=torch.float64)\n",
      "params: tensor([1.0003, 0.0080], dtype=torch.float64)\n",
      "Epoch: 149, Loss: 1.028486\n",
      "grad: tensor([-0.0189, -0.5310], dtype=torch.float64)\n",
      "params: tensor([1.0003, 0.0080], dtype=torch.float64)\n",
      "Epoch: 150, Loss: 1.028458\n",
      "grad: tensor([-0.0189, -0.5309], dtype=torch.float64)\n",
      "params: tensor([1.0003, 0.0081], dtype=torch.float64)\n",
      "Epoch: 151, Loss: 1.028430\n",
      "grad: tensor([-0.0189, -0.5308], dtype=torch.float64)\n",
      "params: tensor([1.0003, 0.0081], dtype=torch.float64)\n",
      "Epoch: 152, Loss: 1.028402\n",
      "grad: tensor([-0.0189, -0.5307], dtype=torch.float64)\n",
      "params: tensor([1.0003, 0.0082], dtype=torch.float64)\n",
      "Epoch: 153, Loss: 1.028374\n",
      "grad: tensor([-0.0189, -0.5306], dtype=torch.float64)\n",
      "params: tensor([1.0003, 0.0082], dtype=torch.float64)\n",
      "Epoch: 154, Loss: 1.028345\n",
      "grad: tensor([-0.0189, -0.5305], dtype=torch.float64)\n",
      "params: tensor([1.0003, 0.0083], dtype=torch.float64)\n",
      "Epoch: 155, Loss: 1.028317\n",
      "grad: tensor([-0.0189, -0.5304], dtype=torch.float64)\n",
      "params: tensor([1.0003, 0.0083], dtype=torch.float64)\n",
      "Epoch: 156, Loss: 1.028289\n",
      "grad: tensor([-0.0189, -0.5303], dtype=torch.float64)\n",
      "params: tensor([1.0003, 0.0084], dtype=torch.float64)\n",
      "Epoch: 157, Loss: 1.028261\n",
      "grad: tensor([-0.0189, -0.5302], dtype=torch.float64)\n",
      "params: tensor([1.0003, 0.0085], dtype=torch.float64)\n",
      "Epoch: 158, Loss: 1.028233\n",
      "grad: tensor([-0.0189, -0.5301], dtype=torch.float64)\n",
      "params: tensor([1.0003, 0.0085], dtype=torch.float64)\n",
      "Epoch: 159, Loss: 1.028205\n",
      "grad: tensor([-0.0189, -0.5300], dtype=torch.float64)\n",
      "params: tensor([1.0003, 0.0086], dtype=torch.float64)\n",
      "Epoch: 160, Loss: 1.028176\n",
      "grad: tensor([-0.0189, -0.5299], dtype=torch.float64)\n",
      "params: tensor([1.0003, 0.0086], dtype=torch.float64)\n",
      "Epoch: 161, Loss: 1.028148\n",
      "grad: tensor([-0.0189, -0.5298], dtype=torch.float64)\n",
      "params: tensor([1.0003, 0.0087], dtype=torch.float64)\n",
      "Epoch: 162, Loss: 1.028120\n",
      "grad: tensor([-0.0189, -0.5297], dtype=torch.float64)\n",
      "params: tensor([1.0003, 0.0087], dtype=torch.float64)\n",
      "Epoch: 163, Loss: 1.028092\n",
      "grad: tensor([-0.0189, -0.5296], dtype=torch.float64)\n",
      "params: tensor([1.0003, 0.0088], dtype=torch.float64)\n",
      "Epoch: 164, Loss: 1.028064\n",
      "grad: tensor([-0.0189, -0.5295], dtype=torch.float64)\n",
      "params: tensor([1.0003, 0.0088], dtype=torch.float64)\n",
      "Epoch: 165, Loss: 1.028036\n",
      "grad: tensor([-0.0189, -0.5293], dtype=torch.float64)\n",
      "params: tensor([1.0003, 0.0089], dtype=torch.float64)\n",
      "Epoch: 166, Loss: 1.028008\n",
      "grad: tensor([-0.0189, -0.5292], dtype=torch.float64)\n",
      "params: tensor([1.0003, 0.0089], dtype=torch.float64)\n",
      "Epoch: 167, Loss: 1.027980\n",
      "grad: tensor([-0.0189, -0.5291], dtype=torch.float64)\n",
      "params: tensor([1.0003, 0.0090], dtype=torch.float64)\n",
      "Epoch: 168, Loss: 1.027952\n",
      "grad: tensor([-0.0189, -0.5290], dtype=torch.float64)\n",
      "params: tensor([1.0003, 0.0090], dtype=torch.float64)\n",
      "Epoch: 169, Loss: 1.027924\n",
      "grad: tensor([-0.0189, -0.5289], dtype=torch.float64)\n",
      "params: tensor([1.0003, 0.0091], dtype=torch.float64)\n",
      "Epoch: 170, Loss: 1.027896\n",
      "grad: tensor([-0.0189, -0.5288], dtype=torch.float64)\n",
      "params: tensor([1.0003, 0.0091], dtype=torch.float64)\n",
      "Epoch: 171, Loss: 1.027868\n",
      "grad: tensor([-0.0189, -0.5287], dtype=torch.float64)\n",
      "params: tensor([1.0003, 0.0092], dtype=torch.float64)\n",
      "Epoch: 172, Loss: 1.027840\n",
      "grad: tensor([-0.0189, -0.5286], dtype=torch.float64)\n",
      "params: tensor([1.0003, 0.0092], dtype=torch.float64)\n",
      "Epoch: 173, Loss: 1.027812\n",
      "grad: tensor([-0.0189, -0.5285], dtype=torch.float64)\n",
      "params: tensor([1.0003, 0.0093], dtype=torch.float64)\n",
      "Epoch: 174, Loss: 1.027784\n",
      "grad: tensor([-0.0189, -0.5284], dtype=torch.float64)\n",
      "params: tensor([1.0003, 0.0094], dtype=torch.float64)\n",
      "Epoch: 175, Loss: 1.027756\n",
      "grad: tensor([-0.0189, -0.5283], dtype=torch.float64)\n",
      "params: tensor([1.0003, 0.0094], dtype=torch.float64)\n",
      "Epoch: 176, Loss: 1.027728\n",
      "grad: tensor([-0.0189, -0.5282], dtype=torch.float64)\n",
      "params: tensor([1.0003, 0.0095], dtype=torch.float64)\n",
      "Epoch: 177, Loss: 1.027700\n",
      "grad: tensor([-0.0189, -0.5281], dtype=torch.float64)\n",
      "params: tensor([1.0003, 0.0095], dtype=torch.float64)\n",
      "Epoch: 178, Loss: 1.027672\n",
      "grad: tensor([-0.0189, -0.5280], dtype=torch.float64)\n",
      "params: tensor([1.0003, 0.0096], dtype=torch.float64)\n",
      "Epoch: 179, Loss: 1.027644\n",
      "grad: tensor([-0.0189, -0.5279], dtype=torch.float64)\n",
      "params: tensor([1.0003, 0.0096], dtype=torch.float64)\n",
      "Epoch: 180, Loss: 1.027616\n",
      "grad: tensor([-0.0189, -0.5278], dtype=torch.float64)\n",
      "params: tensor([1.0003, 0.0097], dtype=torch.float64)\n",
      "Epoch: 181, Loss: 1.027588\n",
      "grad: tensor([-0.0189, -0.5277], dtype=torch.float64)\n",
      "params: tensor([1.0003, 0.0097], dtype=torch.float64)\n",
      "Epoch: 182, Loss: 1.027561\n",
      "grad: tensor([-0.0189, -0.5275], dtype=torch.float64)\n",
      "params: tensor([1.0003, 0.0098], dtype=torch.float64)\n",
      "Epoch: 183, Loss: 1.027533\n",
      "grad: tensor([-0.0189, -0.5274], dtype=torch.float64)\n",
      "params: tensor([1.0003, 0.0098], dtype=torch.float64)\n",
      "Epoch: 184, Loss: 1.027505\n",
      "grad: tensor([-0.0189, -0.5273], dtype=torch.float64)\n",
      "params: tensor([1.0003, 0.0099], dtype=torch.float64)\n",
      "Epoch: 185, Loss: 1.027477\n",
      "grad: tensor([-0.0189, -0.5272], dtype=torch.float64)\n",
      "params: tensor([1.0003, 0.0099], dtype=torch.float64)\n",
      "Epoch: 186, Loss: 1.027449\n",
      "grad: tensor([-0.0189, -0.5271], dtype=torch.float64)\n",
      "params: tensor([1.0004, 0.0100], dtype=torch.float64)\n",
      "Epoch: 187, Loss: 1.027421\n",
      "grad: tensor([-0.0189, -0.5270], dtype=torch.float64)\n",
      "params: tensor([1.0004, 0.0100], dtype=torch.float64)\n",
      "Epoch: 188, Loss: 1.027394\n",
      "grad: tensor([-0.0189, -0.5269], dtype=torch.float64)\n",
      "params: tensor([1.0004, 0.0101], dtype=torch.float64)\n",
      "Epoch: 189, Loss: 1.027366\n",
      "grad: tensor([-0.0189, -0.5268], dtype=torch.float64)\n",
      "params: tensor([1.0004, 0.0101], dtype=torch.float64)\n",
      "Epoch: 190, Loss: 1.027338\n",
      "grad: tensor([-0.0189, -0.5267], dtype=torch.float64)\n",
      "params: tensor([1.0004, 0.0102], dtype=torch.float64)\n",
      "Epoch: 191, Loss: 1.027310\n",
      "grad: tensor([-0.0189, -0.5266], dtype=torch.float64)\n",
      "params: tensor([1.0004, 0.0103], dtype=torch.float64)\n",
      "Epoch: 192, Loss: 1.027282\n",
      "grad: tensor([-0.0189, -0.5265], dtype=torch.float64)\n",
      "params: tensor([1.0004, 0.0103], dtype=torch.float64)\n",
      "Epoch: 193, Loss: 1.027255\n",
      "grad: tensor([-0.0189, -0.5264], dtype=torch.float64)\n",
      "params: tensor([1.0004, 0.0104], dtype=torch.float64)\n",
      "Epoch: 194, Loss: 1.027227\n",
      "grad: tensor([-0.0189, -0.5263], dtype=torch.float64)\n",
      "params: tensor([1.0004, 0.0104], dtype=torch.float64)\n",
      "Epoch: 195, Loss: 1.027199\n",
      "grad: tensor([-0.0189, -0.5262], dtype=torch.float64)\n",
      "params: tensor([1.0004, 0.0105], dtype=torch.float64)\n",
      "Epoch: 196, Loss: 1.027172\n",
      "grad: tensor([-0.0189, -0.5261], dtype=torch.float64)\n",
      "params: tensor([1.0004, 0.0105], dtype=torch.float64)\n",
      "Epoch: 197, Loss: 1.027144\n",
      "grad: tensor([-0.0189, -0.5260], dtype=torch.float64)\n",
      "params: tensor([1.0004, 0.0106], dtype=torch.float64)\n",
      "Epoch: 198, Loss: 1.027116\n",
      "grad: tensor([-0.0189, -0.5259], dtype=torch.float64)\n",
      "params: tensor([1.0004, 0.0106], dtype=torch.float64)\n",
      "Epoch: 199, Loss: 1.027088\n",
      "grad: tensor([-0.0189, -0.5258], dtype=torch.float64)\n",
      "params: tensor([1.0004, 0.0107], dtype=torch.float64)\n",
      "Epoch: 200, Loss: 1.027061\n",
      "grad: tensor([-0.0189, -0.5257], dtype=torch.float64)\n",
      "params: tensor([1.0004, 0.0107], dtype=torch.float64)\n",
      "Epoch: 201, Loss: 1.027033\n",
      "grad: tensor([-0.0189, -0.5255], dtype=torch.float64)\n",
      "params: tensor([1.0004, 0.0108], dtype=torch.float64)\n",
      "Epoch: 202, Loss: 1.027005\n",
      "grad: tensor([-0.0189, -0.5254], dtype=torch.float64)\n",
      "params: tensor([1.0004, 0.0108], dtype=torch.float64)\n",
      "Epoch: 203, Loss: 1.026978\n",
      "grad: tensor([-0.0189, -0.5253], dtype=torch.float64)\n",
      "params: tensor([1.0004, 0.0109], dtype=torch.float64)\n",
      "Epoch: 204, Loss: 1.026950\n",
      "grad: tensor([-0.0189, -0.5252], dtype=torch.float64)\n",
      "params: tensor([1.0004, 0.0109], dtype=torch.float64)\n",
      "Epoch: 205, Loss: 1.026923\n",
      "grad: tensor([-0.0189, -0.5251], dtype=torch.float64)\n",
      "params: tensor([1.0004, 0.0110], dtype=torch.float64)\n",
      "Epoch: 206, Loss: 1.026895\n",
      "grad: tensor([-0.0189, -0.5250], dtype=torch.float64)\n",
      "params: tensor([1.0004, 0.0110], dtype=torch.float64)\n",
      "Epoch: 207, Loss: 1.026867\n",
      "grad: tensor([-0.0189, -0.5249], dtype=torch.float64)\n",
      "params: tensor([1.0004, 0.0111], dtype=torch.float64)\n",
      "Epoch: 208, Loss: 1.026840\n",
      "grad: tensor([-0.0189, -0.5248], dtype=torch.float64)\n",
      "params: tensor([1.0004, 0.0111], dtype=torch.float64)\n",
      "Epoch: 209, Loss: 1.026812\n",
      "grad: tensor([-0.0189, -0.5247], dtype=torch.float64)\n",
      "params: tensor([1.0004, 0.0112], dtype=torch.float64)\n",
      "Epoch: 210, Loss: 1.026785\n",
      "grad: tensor([-0.0189, -0.5246], dtype=torch.float64)\n",
      "params: tensor([1.0004, 0.0113], dtype=torch.float64)\n",
      "Epoch: 211, Loss: 1.026757\n",
      "grad: tensor([-0.0189, -0.5245], dtype=torch.float64)\n",
      "params: tensor([1.0004, 0.0113], dtype=torch.float64)\n",
      "Epoch: 212, Loss: 1.026730\n",
      "grad: tensor([-0.0189, -0.5244], dtype=torch.float64)\n",
      "params: tensor([1.0004, 0.0114], dtype=torch.float64)\n",
      "Epoch: 213, Loss: 1.026702\n",
      "grad: tensor([-0.0189, -0.5243], dtype=torch.float64)\n",
      "params: tensor([1.0004, 0.0114], dtype=torch.float64)\n",
      "Epoch: 214, Loss: 1.026674\n",
      "grad: tensor([-0.0189, -0.5242], dtype=torch.float64)\n",
      "params: tensor([1.0004, 0.0115], dtype=torch.float64)\n",
      "Epoch: 215, Loss: 1.026647\n",
      "grad: tensor([-0.0189, -0.5241], dtype=torch.float64)\n",
      "params: tensor([1.0004, 0.0115], dtype=torch.float64)\n",
      "Epoch: 216, Loss: 1.026619\n",
      "grad: tensor([-0.0189, -0.5240], dtype=torch.float64)\n",
      "params: tensor([1.0004, 0.0116], dtype=torch.float64)\n",
      "Epoch: 217, Loss: 1.026592\n",
      "grad: tensor([-0.0189, -0.5239], dtype=torch.float64)\n",
      "params: tensor([1.0004, 0.0116], dtype=torch.float64)\n",
      "Epoch: 218, Loss: 1.026565\n",
      "grad: tensor([-0.0189, -0.5238], dtype=torch.float64)\n",
      "params: tensor([1.0004, 0.0117], dtype=torch.float64)\n",
      "Epoch: 219, Loss: 1.026537\n",
      "grad: tensor([-0.0189, -0.5237], dtype=torch.float64)\n",
      "params: tensor([1.0004, 0.0117], dtype=torch.float64)\n",
      "Epoch: 220, Loss: 1.026510\n",
      "grad: tensor([-0.0189, -0.5236], dtype=torch.float64)\n",
      "params: tensor([1.0004, 0.0118], dtype=torch.float64)\n",
      "Epoch: 221, Loss: 1.026482\n",
      "grad: tensor([-0.0189, -0.5234], dtype=torch.float64)\n",
      "params: tensor([1.0004, 0.0118], dtype=torch.float64)\n",
      "Epoch: 222, Loss: 1.026455\n",
      "grad: tensor([-0.0189, -0.5233], dtype=torch.float64)\n",
      "params: tensor([1.0004, 0.0119], dtype=torch.float64)\n",
      "Epoch: 223, Loss: 1.026427\n",
      "grad: tensor([-0.0189, -0.5232], dtype=torch.float64)\n",
      "params: tensor([1.0004, 0.0119], dtype=torch.float64)\n",
      "Epoch: 224, Loss: 1.026400\n",
      "grad: tensor([-0.0189, -0.5231], dtype=torch.float64)\n",
      "params: tensor([1.0004, 0.0120], dtype=torch.float64)\n",
      "Epoch: 225, Loss: 1.026372\n",
      "grad: tensor([-0.0189, -0.5230], dtype=torch.float64)\n",
      "params: tensor([1.0004, 0.0120], dtype=torch.float64)\n",
      "Epoch: 226, Loss: 1.026345\n",
      "grad: tensor([-0.0189, -0.5229], dtype=torch.float64)\n",
      "params: tensor([1.0004, 0.0121], dtype=torch.float64)\n",
      "Epoch: 227, Loss: 1.026318\n",
      "grad: tensor([-0.0189, -0.5228], dtype=torch.float64)\n",
      "params: tensor([1.0004, 0.0121], dtype=torch.float64)\n",
      "Epoch: 228, Loss: 1.026290\n",
      "grad: tensor([-0.0189, -0.5227], dtype=torch.float64)\n",
      "params: tensor([1.0004, 0.0122], dtype=torch.float64)\n",
      "Epoch: 229, Loss: 1.026263\n",
      "grad: tensor([-0.0189, -0.5226], dtype=torch.float64)\n",
      "params: tensor([1.0004, 0.0122], dtype=torch.float64)\n",
      "Epoch: 230, Loss: 1.026236\n",
      "grad: tensor([-0.0188, -0.5225], dtype=torch.float64)\n",
      "params: tensor([1.0004, 0.0123], dtype=torch.float64)\n",
      "Epoch: 231, Loss: 1.026208\n",
      "grad: tensor([-0.0188, -0.5224], dtype=torch.float64)\n",
      "params: tensor([1.0004, 0.0123], dtype=torch.float64)\n",
      "Epoch: 232, Loss: 1.026181\n",
      "grad: tensor([-0.0188, -0.5223], dtype=torch.float64)\n",
      "params: tensor([1.0004, 0.0124], dtype=torch.float64)\n",
      "Epoch: 233, Loss: 1.026154\n",
      "grad: tensor([-0.0188, -0.5222], dtype=torch.float64)\n",
      "params: tensor([1.0004, 0.0125], dtype=torch.float64)\n",
      "Epoch: 234, Loss: 1.026126\n",
      "grad: tensor([-0.0188, -0.5221], dtype=torch.float64)\n",
      "params: tensor([1.0004, 0.0125], dtype=torch.float64)\n",
      "Epoch: 235, Loss: 1.026099\n",
      "grad: tensor([-0.0188, -0.5220], dtype=torch.float64)\n",
      "params: tensor([1.0004, 0.0126], dtype=torch.float64)\n",
      "Epoch: 236, Loss: 1.026072\n",
      "grad: tensor([-0.0188, -0.5219], dtype=torch.float64)\n",
      "params: tensor([1.0004, 0.0126], dtype=torch.float64)\n",
      "Epoch: 237, Loss: 1.026045\n",
      "grad: tensor([-0.0188, -0.5218], dtype=torch.float64)\n",
      "params: tensor([1.0004, 0.0127], dtype=torch.float64)\n",
      "Epoch: 238, Loss: 1.026017\n",
      "grad: tensor([-0.0188, -0.5217], dtype=torch.float64)\n",
      "params: tensor([1.0004, 0.0127], dtype=torch.float64)\n",
      "Epoch: 239, Loss: 1.025990\n",
      "grad: tensor([-0.0188, -0.5216], dtype=torch.float64)\n",
      "params: tensor([1.0005, 0.0128], dtype=torch.float64)\n",
      "Epoch: 240, Loss: 1.025963\n",
      "grad: tensor([-0.0188, -0.5215], dtype=torch.float64)\n",
      "params: tensor([1.0005, 0.0128], dtype=torch.float64)\n",
      "Epoch: 241, Loss: 1.025936\n",
      "grad: tensor([-0.0188, -0.5214], dtype=torch.float64)\n",
      "params: tensor([1.0005, 0.0129], dtype=torch.float64)\n",
      "Epoch: 242, Loss: 1.025908\n",
      "grad: tensor([-0.0188, -0.5213], dtype=torch.float64)\n",
      "params: tensor([1.0005, 0.0129], dtype=torch.float64)\n",
      "Epoch: 243, Loss: 1.025881\n",
      "grad: tensor([-0.0188, -0.5212], dtype=torch.float64)\n",
      "params: tensor([1.0005, 0.0130], dtype=torch.float64)\n",
      "Epoch: 244, Loss: 1.025854\n",
      "grad: tensor([-0.0188, -0.5210], dtype=torch.float64)\n",
      "params: tensor([1.0005, 0.0130], dtype=torch.float64)\n",
      "Epoch: 245, Loss: 1.025827\n",
      "grad: tensor([-0.0188, -0.5209], dtype=torch.float64)\n",
      "params: tensor([1.0005, 0.0131], dtype=torch.float64)\n",
      "Epoch: 246, Loss: 1.025800\n",
      "grad: tensor([-0.0188, -0.5208], dtype=torch.float64)\n",
      "params: tensor([1.0005, 0.0131], dtype=torch.float64)\n",
      "Epoch: 247, Loss: 1.025772\n",
      "grad: tensor([-0.0188, -0.5207], dtype=torch.float64)\n",
      "params: tensor([1.0005, 0.0132], dtype=torch.float64)\n",
      "Epoch: 248, Loss: 1.025745\n",
      "grad: tensor([-0.0188, -0.5206], dtype=torch.float64)\n",
      "params: tensor([1.0005, 0.0132], dtype=torch.float64)\n",
      "Epoch: 249, Loss: 1.025718\n",
      "grad: tensor([-0.0188, -0.5205], dtype=torch.float64)\n",
      "params: tensor([1.0005, 0.0133], dtype=torch.float64)\n",
      "Epoch: 250, Loss: 1.025691\n",
      "grad: tensor([-0.0188, -0.5204], dtype=torch.float64)\n",
      "params: tensor([1.0005, 0.0133], dtype=torch.float64)\n",
      "Epoch: 251, Loss: 1.025664\n",
      "grad: tensor([-0.0188, -0.5203], dtype=torch.float64)\n",
      "params: tensor([1.0005, 0.0134], dtype=torch.float64)\n",
      "Epoch: 252, Loss: 1.025637\n",
      "grad: tensor([-0.0188, -0.5202], dtype=torch.float64)\n",
      "params: tensor([1.0005, 0.0134], dtype=torch.float64)\n",
      "Epoch: 253, Loss: 1.025610\n",
      "grad: tensor([-0.0188, -0.5201], dtype=torch.float64)\n",
      "params: tensor([1.0005, 0.0135], dtype=torch.float64)\n",
      "Epoch: 254, Loss: 1.025583\n",
      "grad: tensor([-0.0188, -0.5200], dtype=torch.float64)\n",
      "params: tensor([1.0005, 0.0135], dtype=torch.float64)\n",
      "Epoch: 255, Loss: 1.025556\n",
      "grad: tensor([-0.0188, -0.5199], dtype=torch.float64)\n",
      "params: tensor([1.0005, 0.0136], dtype=torch.float64)\n",
      "Epoch: 256, Loss: 1.025528\n",
      "grad: tensor([-0.0188, -0.5198], dtype=torch.float64)\n",
      "params: tensor([1.0005, 0.0137], dtype=torch.float64)\n",
      "Epoch: 257, Loss: 1.025501\n",
      "grad: tensor([-0.0188, -0.5197], dtype=torch.float64)\n",
      "params: tensor([1.0005, 0.0137], dtype=torch.float64)\n",
      "Epoch: 258, Loss: 1.025474\n",
      "grad: tensor([-0.0188, -0.5196], dtype=torch.float64)\n",
      "params: tensor([1.0005, 0.0138], dtype=torch.float64)\n",
      "Epoch: 259, Loss: 1.025447\n",
      "grad: tensor([-0.0188, -0.5195], dtype=torch.float64)\n",
      "params: tensor([1.0005, 0.0138], dtype=torch.float64)\n",
      "Epoch: 260, Loss: 1.025420\n",
      "grad: tensor([-0.0188, -0.5194], dtype=torch.float64)\n",
      "params: tensor([1.0005, 0.0139], dtype=torch.float64)\n",
      "Epoch: 261, Loss: 1.025393\n",
      "grad: tensor([-0.0188, -0.5193], dtype=torch.float64)\n",
      "params: tensor([1.0005, 0.0139], dtype=torch.float64)\n",
      "Epoch: 262, Loss: 1.025366\n",
      "grad: tensor([-0.0188, -0.5192], dtype=torch.float64)\n",
      "params: tensor([1.0005, 0.0140], dtype=torch.float64)\n",
      "Epoch: 263, Loss: 1.025339\n",
      "grad: tensor([-0.0188, -0.5191], dtype=torch.float64)\n",
      "params: tensor([1.0005, 0.0140], dtype=torch.float64)\n",
      "Epoch: 264, Loss: 1.025312\n",
      "grad: tensor([-0.0188, -0.5190], dtype=torch.float64)\n",
      "params: tensor([1.0005, 0.0141], dtype=torch.float64)\n",
      "Epoch: 265, Loss: 1.025285\n",
      "grad: tensor([-0.0188, -0.5189], dtype=torch.float64)\n",
      "params: tensor([1.0005, 0.0141], dtype=torch.float64)\n",
      "Epoch: 266, Loss: 1.025258\n",
      "grad: tensor([-0.0188, -0.5188], dtype=torch.float64)\n",
      "params: tensor([1.0005, 0.0142], dtype=torch.float64)\n",
      "Epoch: 267, Loss: 1.025232\n",
      "grad: tensor([-0.0188, -0.5187], dtype=torch.float64)\n",
      "params: tensor([1.0005, 0.0142], dtype=torch.float64)\n",
      "Epoch: 268, Loss: 1.025205\n",
      "grad: tensor([-0.0188, -0.5186], dtype=torch.float64)\n",
      "params: tensor([1.0005, 0.0143], dtype=torch.float64)\n",
      "Epoch: 269, Loss: 1.025178\n",
      "grad: tensor([-0.0188, -0.5184], dtype=torch.float64)\n",
      "params: tensor([1.0005, 0.0143], dtype=torch.float64)\n",
      "Epoch: 270, Loss: 1.025151\n",
      "grad: tensor([-0.0188, -0.5183], dtype=torch.float64)\n",
      "params: tensor([1.0005, 0.0144], dtype=torch.float64)\n",
      "Epoch: 271, Loss: 1.025124\n",
      "grad: tensor([-0.0188, -0.5182], dtype=torch.float64)\n",
      "params: tensor([1.0005, 0.0144], dtype=torch.float64)\n",
      "Epoch: 272, Loss: 1.025097\n",
      "grad: tensor([-0.0188, -0.5181], dtype=torch.float64)\n",
      "params: tensor([1.0005, 0.0145], dtype=torch.float64)\n",
      "Epoch: 273, Loss: 1.025070\n",
      "grad: tensor([-0.0188, -0.5180], dtype=torch.float64)\n",
      "params: tensor([1.0005, 0.0145], dtype=torch.float64)\n",
      "Epoch: 274, Loss: 1.025043\n",
      "grad: tensor([-0.0188, -0.5179], dtype=torch.float64)\n",
      "params: tensor([1.0005, 0.0146], dtype=torch.float64)\n",
      "Epoch: 275, Loss: 1.025016\n",
      "grad: tensor([-0.0188, -0.5178], dtype=torch.float64)\n",
      "params: tensor([1.0005, 0.0146], dtype=torch.float64)\n",
      "Epoch: 276, Loss: 1.024990\n",
      "grad: tensor([-0.0188, -0.5177], dtype=torch.float64)\n",
      "params: tensor([1.0005, 0.0147], dtype=torch.float64)\n",
      "Epoch: 277, Loss: 1.024963\n",
      "grad: tensor([-0.0188, -0.5176], dtype=torch.float64)\n",
      "params: tensor([1.0005, 0.0147], dtype=torch.float64)\n",
      "Epoch: 278, Loss: 1.024936\n",
      "grad: tensor([-0.0188, -0.5175], dtype=torch.float64)\n",
      "params: tensor([1.0005, 0.0148], dtype=torch.float64)\n",
      "Epoch: 279, Loss: 1.024909\n",
      "grad: tensor([-0.0188, -0.5174], dtype=torch.float64)\n",
      "params: tensor([1.0005, 0.0148], dtype=torch.float64)\n",
      "Epoch: 280, Loss: 1.024882\n",
      "grad: tensor([-0.0188, -0.5173], dtype=torch.float64)\n",
      "params: tensor([1.0005, 0.0149], dtype=torch.float64)\n",
      "Epoch: 281, Loss: 1.024855\n",
      "grad: tensor([-0.0188, -0.5172], dtype=torch.float64)\n",
      "params: tensor([1.0005, 0.0149], dtype=torch.float64)\n",
      "Epoch: 282, Loss: 1.024829\n",
      "grad: tensor([-0.0188, -0.5171], dtype=torch.float64)\n",
      "params: tensor([1.0005, 0.0150], dtype=torch.float64)\n",
      "Epoch: 283, Loss: 1.024802\n",
      "grad: tensor([-0.0188, -0.5170], dtype=torch.float64)\n",
      "params: tensor([1.0005, 0.0151], dtype=torch.float64)\n",
      "Epoch: 284, Loss: 1.024775\n",
      "grad: tensor([-0.0188, -0.5169], dtype=torch.float64)\n",
      "params: tensor([1.0005, 0.0151], dtype=torch.float64)\n",
      "Epoch: 285, Loss: 1.024748\n",
      "grad: tensor([-0.0188, -0.5168], dtype=torch.float64)\n",
      "params: tensor([1.0005, 0.0152], dtype=torch.float64)\n",
      "Epoch: 286, Loss: 1.024722\n",
      "grad: tensor([-0.0188, -0.5167], dtype=torch.float64)\n",
      "params: tensor([1.0005, 0.0152], dtype=torch.float64)\n",
      "Epoch: 287, Loss: 1.024695\n",
      "grad: tensor([-0.0188, -0.5166], dtype=torch.float64)\n",
      "params: tensor([1.0005, 0.0153], dtype=torch.float64)\n",
      "Epoch: 288, Loss: 1.024668\n",
      "grad: tensor([-0.0188, -0.5165], dtype=torch.float64)\n",
      "params: tensor([1.0005, 0.0153], dtype=torch.float64)\n",
      "Epoch: 289, Loss: 1.024641\n",
      "grad: tensor([-0.0188, -0.5164], dtype=torch.float64)\n",
      "params: tensor([1.0005, 0.0154], dtype=torch.float64)\n",
      "Epoch: 290, Loss: 1.024615\n",
      "grad: tensor([-0.0188, -0.5163], dtype=torch.float64)\n",
      "params: tensor([1.0005, 0.0154], dtype=torch.float64)\n",
      "Epoch: 291, Loss: 1.024588\n",
      "grad: tensor([-0.0188, -0.5162], dtype=torch.float64)\n",
      "params: tensor([1.0005, 0.0155], dtype=torch.float64)\n",
      "Epoch: 292, Loss: 1.024561\n",
      "grad: tensor([-0.0188, -0.5161], dtype=torch.float64)\n",
      "params: tensor([1.0006, 0.0155], dtype=torch.float64)\n",
      "Epoch: 293, Loss: 1.024535\n",
      "grad: tensor([-0.0188, -0.5160], dtype=torch.float64)\n",
      "params: tensor([1.0006, 0.0156], dtype=torch.float64)\n",
      "Epoch: 294, Loss: 1.024508\n",
      "grad: tensor([-0.0188, -0.5159], dtype=torch.float64)\n",
      "params: tensor([1.0006, 0.0156], dtype=torch.float64)\n",
      "Epoch: 295, Loss: 1.024481\n",
      "grad: tensor([-0.0188, -0.5158], dtype=torch.float64)\n",
      "params: tensor([1.0006, 0.0157], dtype=torch.float64)\n",
      "Epoch: 296, Loss: 1.024455\n",
      "grad: tensor([-0.0188, -0.5157], dtype=torch.float64)\n",
      "params: tensor([1.0006, 0.0157], dtype=torch.float64)\n",
      "Epoch: 297, Loss: 1.024428\n",
      "grad: tensor([-0.0188, -0.5156], dtype=torch.float64)\n",
      "params: tensor([1.0006, 0.0158], dtype=torch.float64)\n",
      "Epoch: 298, Loss: 1.024402\n",
      "grad: tensor([-0.0188, -0.5154], dtype=torch.float64)\n",
      "params: tensor([1.0006, 0.0158], dtype=torch.float64)\n",
      "Epoch: 299, Loss: 1.024375\n",
      "grad: tensor([-0.0188, -0.5153], dtype=torch.float64)\n",
      "params: tensor([1.0006, 0.0159], dtype=torch.float64)\n",
      "Epoch: 300, Loss: 1.024348\n",
      "grad: tensor([-0.0188, -0.5152], dtype=torch.float64)\n",
      "params: tensor([1.0006, 0.0159], dtype=torch.float64)\n",
      "Epoch: 301, Loss: 1.024322\n",
      "grad: tensor([-0.0188, -0.5151], dtype=torch.float64)\n",
      "params: tensor([1.0006, 0.0160], dtype=torch.float64)\n",
      "Epoch: 302, Loss: 1.024295\n",
      "grad: tensor([-0.0188, -0.5150], dtype=torch.float64)\n",
      "params: tensor([1.0006, 0.0160], dtype=torch.float64)\n",
      "Epoch: 303, Loss: 1.024269\n",
      "grad: tensor([-0.0188, -0.5149], dtype=torch.float64)\n",
      "params: tensor([1.0006, 0.0161], dtype=torch.float64)\n",
      "Epoch: 304, Loss: 1.024242\n",
      "grad: tensor([-0.0188, -0.5148], dtype=torch.float64)\n",
      "params: tensor([1.0006, 0.0161], dtype=torch.float64)\n",
      "Epoch: 305, Loss: 1.024216\n",
      "grad: tensor([-0.0188, -0.5147], dtype=torch.float64)\n",
      "params: tensor([1.0006, 0.0162], dtype=torch.float64)\n",
      "Epoch: 306, Loss: 1.024189\n",
      "grad: tensor([-0.0188, -0.5146], dtype=torch.float64)\n",
      "params: tensor([1.0006, 0.0162], dtype=torch.float64)\n",
      "Epoch: 307, Loss: 1.024163\n",
      "grad: tensor([-0.0188, -0.5145], dtype=torch.float64)\n",
      "params: tensor([1.0006, 0.0163], dtype=torch.float64)\n",
      "Epoch: 308, Loss: 1.024136\n",
      "grad: tensor([-0.0188, -0.5144], dtype=torch.float64)\n",
      "params: tensor([1.0006, 0.0163], dtype=torch.float64)\n",
      "Epoch: 309, Loss: 1.024110\n",
      "grad: tensor([-0.0188, -0.5143], dtype=torch.float64)\n",
      "params: tensor([1.0006, 0.0164], dtype=torch.float64)\n",
      "Epoch: 310, Loss: 1.024083\n",
      "grad: tensor([-0.0188, -0.5142], dtype=torch.float64)\n",
      "params: tensor([1.0006, 0.0164], dtype=torch.float64)\n",
      "Epoch: 311, Loss: 1.024057\n",
      "grad: tensor([-0.0188, -0.5141], dtype=torch.float64)\n",
      "params: tensor([1.0006, 0.0165], dtype=torch.float64)\n",
      "Epoch: 312, Loss: 1.024030\n",
      "grad: tensor([-0.0188, -0.5140], dtype=torch.float64)\n",
      "params: tensor([1.0006, 0.0165], dtype=torch.float64)\n",
      "Epoch: 313, Loss: 1.024004\n",
      "grad: tensor([-0.0188, -0.5139], dtype=torch.float64)\n",
      "params: tensor([1.0006, 0.0166], dtype=torch.float64)\n",
      "Epoch: 314, Loss: 1.023977\n",
      "grad: tensor([-0.0188, -0.5138], dtype=torch.float64)\n",
      "params: tensor([1.0006, 0.0166], dtype=torch.float64)\n",
      "Epoch: 315, Loss: 1.023951\n",
      "grad: tensor([-0.0188, -0.5137], dtype=torch.float64)\n",
      "params: tensor([1.0006, 0.0167], dtype=torch.float64)\n",
      "Epoch: 316, Loss: 1.023924\n",
      "grad: tensor([-0.0188, -0.5136], dtype=torch.float64)\n",
      "params: tensor([1.0006, 0.0168], dtype=torch.float64)\n",
      "Epoch: 317, Loss: 1.023898\n",
      "grad: tensor([-0.0188, -0.5135], dtype=torch.float64)\n",
      "params: tensor([1.0006, 0.0168], dtype=torch.float64)\n",
      "Epoch: 318, Loss: 1.023872\n",
      "grad: tensor([-0.0188, -0.5134], dtype=torch.float64)\n",
      "params: tensor([1.0006, 0.0169], dtype=torch.float64)\n",
      "Epoch: 319, Loss: 1.023845\n",
      "grad: tensor([-0.0188, -0.5133], dtype=torch.float64)\n",
      "params: tensor([1.0006, 0.0169], dtype=torch.float64)\n",
      "Epoch: 320, Loss: 1.023819\n",
      "grad: tensor([-0.0188, -0.5132], dtype=torch.float64)\n",
      "params: tensor([1.0006, 0.0170], dtype=torch.float64)\n",
      "Epoch: 321, Loss: 1.023792\n",
      "grad: tensor([-0.0188, -0.5131], dtype=torch.float64)\n",
      "params: tensor([1.0006, 0.0170], dtype=torch.float64)\n",
      "Epoch: 322, Loss: 1.023766\n",
      "grad: tensor([-0.0188, -0.5130], dtype=torch.float64)\n",
      "params: tensor([1.0006, 0.0171], dtype=torch.float64)\n",
      "Epoch: 323, Loss: 1.023740\n",
      "grad: tensor([-0.0188, -0.5129], dtype=torch.float64)\n",
      "params: tensor([1.0006, 0.0171], dtype=torch.float64)\n",
      "Epoch: 324, Loss: 1.023713\n",
      "grad: tensor([-0.0188, -0.5128], dtype=torch.float64)\n",
      "params: tensor([1.0006, 0.0172], dtype=torch.float64)\n",
      "Epoch: 325, Loss: 1.023687\n",
      "grad: tensor([-0.0188, -0.5127], dtype=torch.float64)\n",
      "params: tensor([1.0006, 0.0172], dtype=torch.float64)\n",
      "Epoch: 326, Loss: 1.023661\n",
      "grad: tensor([-0.0188, -0.5126], dtype=torch.float64)\n",
      "params: tensor([1.0006, 0.0173], dtype=torch.float64)\n",
      "Epoch: 327, Loss: 1.023634\n",
      "grad: tensor([-0.0188, -0.5125], dtype=torch.float64)\n",
      "params: tensor([1.0006, 0.0173], dtype=torch.float64)\n",
      "Epoch: 328, Loss: 1.023608\n",
      "grad: tensor([-0.0188, -0.5124], dtype=torch.float64)\n",
      "params: tensor([1.0006, 0.0174], dtype=torch.float64)\n",
      "Epoch: 329, Loss: 1.023582\n",
      "grad: tensor([-0.0188, -0.5123], dtype=torch.float64)\n",
      "params: tensor([1.0006, 0.0174], dtype=torch.float64)\n",
      "Epoch: 330, Loss: 1.023556\n",
      "grad: tensor([-0.0188, -0.5122], dtype=torch.float64)\n",
      "params: tensor([1.0006, 0.0175], dtype=torch.float64)\n",
      "Epoch: 331, Loss: 1.023529\n",
      "grad: tensor([-0.0188, -0.5121], dtype=torch.float64)\n",
      "params: tensor([1.0006, 0.0175], dtype=torch.float64)\n",
      "Epoch: 332, Loss: 1.023503\n",
      "grad: tensor([-0.0188, -0.5120], dtype=torch.float64)\n",
      "params: tensor([1.0006, 0.0176], dtype=torch.float64)\n",
      "Epoch: 333, Loss: 1.023477\n",
      "grad: tensor([-0.0188, -0.5119], dtype=torch.float64)\n",
      "params: tensor([1.0006, 0.0176], dtype=torch.float64)\n",
      "Epoch: 334, Loss: 1.023451\n",
      "grad: tensor([-0.0188, -0.5118], dtype=torch.float64)\n",
      "params: tensor([1.0006, 0.0177], dtype=torch.float64)\n",
      "Epoch: 335, Loss: 1.023424\n",
      "grad: tensor([-0.0188, -0.5116], dtype=torch.float64)\n",
      "params: tensor([1.0006, 0.0177], dtype=torch.float64)\n",
      "Epoch: 336, Loss: 1.023398\n",
      "grad: tensor([-0.0188, -0.5115], dtype=torch.float64)\n",
      "params: tensor([1.0006, 0.0178], dtype=torch.float64)\n",
      "Epoch: 337, Loss: 1.023372\n",
      "grad: tensor([-0.0188, -0.5114], dtype=torch.float64)\n",
      "params: tensor([1.0006, 0.0178], dtype=torch.float64)\n",
      "Epoch: 338, Loss: 1.023346\n",
      "grad: tensor([-0.0188, -0.5113], dtype=torch.float64)\n",
      "params: tensor([1.0006, 0.0179], dtype=torch.float64)\n",
      "Epoch: 339, Loss: 1.023320\n",
      "grad: tensor([-0.0188, -0.5112], dtype=torch.float64)\n",
      "params: tensor([1.0006, 0.0179], dtype=torch.float64)\n",
      "Epoch: 340, Loss: 1.023293\n",
      "grad: tensor([-0.0188, -0.5111], dtype=torch.float64)\n",
      "params: tensor([1.0006, 0.0180], dtype=torch.float64)\n",
      "Epoch: 341, Loss: 1.023267\n",
      "grad: tensor([-0.0188, -0.5110], dtype=torch.float64)\n",
      "params: tensor([1.0006, 0.0180], dtype=torch.float64)\n",
      "Epoch: 342, Loss: 1.023241\n",
      "grad: tensor([-0.0188, -0.5109], dtype=torch.float64)\n",
      "params: tensor([1.0006, 0.0181], dtype=torch.float64)\n",
      "Epoch: 343, Loss: 1.023215\n",
      "grad: tensor([-0.0188, -0.5108], dtype=torch.float64)\n",
      "params: tensor([1.0006, 0.0181], dtype=torch.float64)\n",
      "Epoch: 344, Loss: 1.023189\n",
      "grad: tensor([-0.0188, -0.5107], dtype=torch.float64)\n",
      "params: tensor([1.0006, 0.0182], dtype=torch.float64)\n",
      "Epoch: 345, Loss: 1.023163\n",
      "grad: tensor([-0.0188, -0.5106], dtype=torch.float64)\n",
      "params: tensor([1.0007, 0.0182], dtype=torch.float64)\n",
      "Epoch: 346, Loss: 1.023137\n",
      "grad: tensor([-0.0188, -0.5105], dtype=torch.float64)\n",
      "params: tensor([1.0007, 0.0183], dtype=torch.float64)\n",
      "Epoch: 347, Loss: 1.023111\n",
      "grad: tensor([-0.0188, -0.5104], dtype=torch.float64)\n",
      "params: tensor([1.0007, 0.0183], dtype=torch.float64)\n",
      "Epoch: 348, Loss: 1.023084\n",
      "grad: tensor([-0.0188, -0.5103], dtype=torch.float64)\n",
      "params: tensor([1.0007, 0.0184], dtype=torch.float64)\n",
      "Epoch: 349, Loss: 1.023058\n",
      "grad: tensor([-0.0188, -0.5102], dtype=torch.float64)\n",
      "params: tensor([1.0007, 0.0184], dtype=torch.float64)\n",
      "Epoch: 350, Loss: 1.023032\n",
      "grad: tensor([-0.0188, -0.5101], dtype=torch.float64)\n",
      "params: tensor([1.0007, 0.0185], dtype=torch.float64)\n",
      "Epoch: 351, Loss: 1.023006\n",
      "grad: tensor([-0.0188, -0.5100], dtype=torch.float64)\n",
      "params: tensor([1.0007, 0.0185], dtype=torch.float64)\n",
      "Epoch: 352, Loss: 1.022980\n",
      "grad: tensor([-0.0188, -0.5099], dtype=torch.float64)\n",
      "params: tensor([1.0007, 0.0186], dtype=torch.float64)\n",
      "Epoch: 353, Loss: 1.022954\n",
      "grad: tensor([-0.0188, -0.5098], dtype=torch.float64)\n",
      "params: tensor([1.0007, 0.0186], dtype=torch.float64)\n",
      "Epoch: 354, Loss: 1.022928\n",
      "grad: tensor([-0.0188, -0.5097], dtype=torch.float64)\n",
      "params: tensor([1.0007, 0.0187], dtype=torch.float64)\n",
      "Epoch: 355, Loss: 1.022902\n",
      "grad: tensor([-0.0188, -0.5096], dtype=torch.float64)\n",
      "params: tensor([1.0007, 0.0187], dtype=torch.float64)\n",
      "Epoch: 356, Loss: 1.022876\n",
      "grad: tensor([-0.0188, -0.5095], dtype=torch.float64)\n",
      "params: tensor([1.0007, 0.0188], dtype=torch.float64)\n",
      "Epoch: 357, Loss: 1.022850\n",
      "grad: tensor([-0.0188, -0.5094], dtype=torch.float64)\n",
      "params: tensor([1.0007, 0.0188], dtype=torch.float64)\n",
      "Epoch: 358, Loss: 1.022824\n",
      "grad: tensor([-0.0188, -0.5093], dtype=torch.float64)\n",
      "params: tensor([1.0007, 0.0189], dtype=torch.float64)\n",
      "Epoch: 359, Loss: 1.022798\n",
      "grad: tensor([-0.0188, -0.5092], dtype=torch.float64)\n",
      "params: tensor([1.0007, 0.0190], dtype=torch.float64)\n",
      "Epoch: 360, Loss: 1.022772\n",
      "grad: tensor([-0.0188, -0.5091], dtype=torch.float64)\n",
      "params: tensor([1.0007, 0.0190], dtype=torch.float64)\n",
      "Epoch: 361, Loss: 1.022746\n",
      "grad: tensor([-0.0188, -0.5090], dtype=torch.float64)\n",
      "params: tensor([1.0007, 0.0191], dtype=torch.float64)\n",
      "Epoch: 362, Loss: 1.022720\n",
      "grad: tensor([-0.0188, -0.5089], dtype=torch.float64)\n",
      "params: tensor([1.0007, 0.0191], dtype=torch.float64)\n",
      "Epoch: 363, Loss: 1.022694\n",
      "grad: tensor([-0.0188, -0.5088], dtype=torch.float64)\n",
      "params: tensor([1.0007, 0.0192], dtype=torch.float64)\n",
      "Epoch: 364, Loss: 1.022668\n",
      "grad: tensor([-0.0188, -0.5087], dtype=torch.float64)\n",
      "params: tensor([1.0007, 0.0192], dtype=torch.float64)\n",
      "Epoch: 365, Loss: 1.022643\n",
      "grad: tensor([-0.0188, -0.5086], dtype=torch.float64)\n",
      "params: tensor([1.0007, 0.0193], dtype=torch.float64)\n",
      "Epoch: 366, Loss: 1.022617\n",
      "grad: tensor([-0.0188, -0.5085], dtype=torch.float64)\n",
      "params: tensor([1.0007, 0.0193], dtype=torch.float64)\n",
      "Epoch: 367, Loss: 1.022591\n",
      "grad: tensor([-0.0188, -0.5084], dtype=torch.float64)\n",
      "params: tensor([1.0007, 0.0194], dtype=torch.float64)\n",
      "Epoch: 368, Loss: 1.022565\n",
      "grad: tensor([-0.0188, -0.5083], dtype=torch.float64)\n",
      "params: tensor([1.0007, 0.0194], dtype=torch.float64)\n",
      "Epoch: 369, Loss: 1.022539\n",
      "grad: tensor([-0.0188, -0.5082], dtype=torch.float64)\n",
      "params: tensor([1.0007, 0.0195], dtype=torch.float64)\n",
      "Epoch: 370, Loss: 1.022513\n",
      "grad: tensor([-0.0188, -0.5081], dtype=torch.float64)\n",
      "params: tensor([1.0007, 0.0195], dtype=torch.float64)\n",
      "Epoch: 371, Loss: 1.022487\n",
      "grad: tensor([-0.0188, -0.5080], dtype=torch.float64)\n",
      "params: tensor([1.0007, 0.0196], dtype=torch.float64)\n",
      "Epoch: 372, Loss: 1.022461\n",
      "grad: tensor([-0.0188, -0.5079], dtype=torch.float64)\n",
      "params: tensor([1.0007, 0.0196], dtype=torch.float64)\n",
      "Epoch: 373, Loss: 1.022436\n",
      "grad: tensor([-0.0188, -0.5078], dtype=torch.float64)\n",
      "params: tensor([1.0007, 0.0197], dtype=torch.float64)\n",
      "Epoch: 374, Loss: 1.022410\n",
      "grad: tensor([-0.0188, -0.5077], dtype=torch.float64)\n",
      "params: tensor([1.0007, 0.0197], dtype=torch.float64)\n",
      "Epoch: 375, Loss: 1.022384\n",
      "grad: tensor([-0.0188, -0.5076], dtype=torch.float64)\n",
      "params: tensor([1.0007, 0.0198], dtype=torch.float64)\n",
      "Epoch: 376, Loss: 1.022358\n",
      "grad: tensor([-0.0188, -0.5075], dtype=torch.float64)\n",
      "params: tensor([1.0007, 0.0198], dtype=torch.float64)\n",
      "Epoch: 377, Loss: 1.022332\n",
      "grad: tensor([-0.0188, -0.5074], dtype=torch.float64)\n",
      "params: tensor([1.0007, 0.0199], dtype=torch.float64)\n",
      "Epoch: 378, Loss: 1.022307\n",
      "grad: tensor([-0.0188, -0.5073], dtype=torch.float64)\n",
      "params: tensor([1.0007, 0.0199], dtype=torch.float64)\n",
      "Epoch: 379, Loss: 1.022281\n",
      "grad: tensor([-0.0188, -0.5072], dtype=torch.float64)\n",
      "params: tensor([1.0007, 0.0200], dtype=torch.float64)\n",
      "Epoch: 380, Loss: 1.022255\n",
      "grad: tensor([-0.0188, -0.5071], dtype=torch.float64)\n",
      "params: tensor([1.0007, 0.0200], dtype=torch.float64)\n",
      "Epoch: 381, Loss: 1.022229\n",
      "grad: tensor([-0.0188, -0.5070], dtype=torch.float64)\n",
      "params: tensor([1.0007, 0.0201], dtype=torch.float64)\n",
      "Epoch: 382, Loss: 1.022204\n",
      "grad: tensor([-0.0188, -0.5069], dtype=torch.float64)\n",
      "params: tensor([1.0007, 0.0201], dtype=torch.float64)\n",
      "Epoch: 383, Loss: 1.022178\n",
      "grad: tensor([-0.0188, -0.5068], dtype=torch.float64)\n",
      "params: tensor([1.0007, 0.0202], dtype=torch.float64)\n",
      "Epoch: 384, Loss: 1.022152\n",
      "grad: tensor([-0.0188, -0.5067], dtype=torch.float64)\n",
      "params: tensor([1.0007, 0.0202], dtype=torch.float64)\n",
      "Epoch: 385, Loss: 1.022127\n",
      "grad: tensor([-0.0188, -0.5066], dtype=torch.float64)\n",
      "params: tensor([1.0007, 0.0203], dtype=torch.float64)\n",
      "Epoch: 386, Loss: 1.022101\n",
      "grad: tensor([-0.0188, -0.5065], dtype=torch.float64)\n",
      "params: tensor([1.0007, 0.0203], dtype=torch.float64)\n",
      "Epoch: 387, Loss: 1.022075\n",
      "grad: tensor([-0.0188, -0.5064], dtype=torch.float64)\n",
      "params: tensor([1.0007, 0.0204], dtype=torch.float64)\n",
      "Epoch: 388, Loss: 1.022049\n",
      "grad: tensor([-0.0188, -0.5063], dtype=torch.float64)\n",
      "params: tensor([1.0007, 0.0204], dtype=torch.float64)\n",
      "Epoch: 389, Loss: 1.022024\n",
      "grad: tensor([-0.0188, -0.5062], dtype=torch.float64)\n",
      "params: tensor([1.0007, 0.0205], dtype=torch.float64)\n",
      "Epoch: 390, Loss: 1.021998\n",
      "grad: tensor([-0.0188, -0.5060], dtype=torch.float64)\n",
      "params: tensor([1.0007, 0.0205], dtype=torch.float64)\n",
      "Epoch: 391, Loss: 1.021973\n",
      "grad: tensor([-0.0188, -0.5059], dtype=torch.float64)\n",
      "params: tensor([1.0007, 0.0206], dtype=torch.float64)\n",
      "Epoch: 392, Loss: 1.021947\n",
      "grad: tensor([-0.0188, -0.5058], dtype=torch.float64)\n",
      "params: tensor([1.0007, 0.0206], dtype=torch.float64)\n",
      "Epoch: 393, Loss: 1.021921\n",
      "grad: tensor([-0.0188, -0.5057], dtype=torch.float64)\n",
      "params: tensor([1.0007, 0.0207], dtype=torch.float64)\n",
      "Epoch: 394, Loss: 1.021896\n",
      "grad: tensor([-0.0188, -0.5056], dtype=torch.float64)\n",
      "params: tensor([1.0007, 0.0207], dtype=torch.float64)\n",
      "Epoch: 395, Loss: 1.021870\n",
      "grad: tensor([-0.0188, -0.5055], dtype=torch.float64)\n",
      "params: tensor([1.0007, 0.0208], dtype=torch.float64)\n",
      "Epoch: 396, Loss: 1.021844\n",
      "grad: tensor([-0.0188, -0.5054], dtype=torch.float64)\n",
      "params: tensor([1.0007, 0.0208], dtype=torch.float64)\n",
      "Epoch: 397, Loss: 1.021819\n",
      "grad: tensor([-0.0188, -0.5053], dtype=torch.float64)\n",
      "params: tensor([1.0007, 0.0209], dtype=torch.float64)\n",
      "Epoch: 398, Loss: 1.021793\n",
      "grad: tensor([-0.0188, -0.5052], dtype=torch.float64)\n",
      "params: tensor([1.0008, 0.0209], dtype=torch.float64)\n",
      "Epoch: 399, Loss: 1.021768\n",
      "grad: tensor([-0.0188, -0.5051], dtype=torch.float64)\n",
      "params: tensor([1.0008, 0.0210], dtype=torch.float64)\n",
      "Epoch: 400, Loss: 1.021742\n",
      "grad: tensor([-0.0188, -0.5050], dtype=torch.float64)\n",
      "params: tensor([1.0008, 0.0210], dtype=torch.float64)\n",
      "Epoch: 401, Loss: 1.021717\n",
      "grad: tensor([-0.0188, -0.5049], dtype=torch.float64)\n",
      "params: tensor([1.0008, 0.0211], dtype=torch.float64)\n",
      "Epoch: 402, Loss: 1.021691\n",
      "grad: tensor([-0.0188, -0.5048], dtype=torch.float64)\n",
      "params: tensor([1.0008, 0.0211], dtype=torch.float64)\n",
      "Epoch: 403, Loss: 1.021666\n",
      "grad: tensor([-0.0188, -0.5047], dtype=torch.float64)\n",
      "params: tensor([1.0008, 0.0212], dtype=torch.float64)\n",
      "Epoch: 404, Loss: 1.021640\n",
      "grad: tensor([-0.0188, -0.5046], dtype=torch.float64)\n",
      "params: tensor([1.0008, 0.0212], dtype=torch.float64)\n",
      "Epoch: 405, Loss: 1.021615\n",
      "grad: tensor([-0.0188, -0.5045], dtype=torch.float64)\n",
      "params: tensor([1.0008, 0.0213], dtype=torch.float64)\n",
      "Epoch: 406, Loss: 1.021589\n",
      "grad: tensor([-0.0188, -0.5044], dtype=torch.float64)\n",
      "params: tensor([1.0008, 0.0213], dtype=torch.float64)\n",
      "Epoch: 407, Loss: 1.021564\n",
      "grad: tensor([-0.0188, -0.5043], dtype=torch.float64)\n",
      "params: tensor([1.0008, 0.0214], dtype=torch.float64)\n",
      "Epoch: 408, Loss: 1.021538\n",
      "grad: tensor([-0.0188, -0.5042], dtype=torch.float64)\n",
      "params: tensor([1.0008, 0.0214], dtype=torch.float64)\n",
      "Epoch: 409, Loss: 1.021513\n",
      "grad: tensor([-0.0188, -0.5041], dtype=torch.float64)\n",
      "params: tensor([1.0008, 0.0215], dtype=torch.float64)\n",
      "Epoch: 410, Loss: 1.021487\n",
      "grad: tensor([-0.0188, -0.5040], dtype=torch.float64)\n",
      "params: tensor([1.0008, 0.0215], dtype=torch.float64)\n",
      "Epoch: 411, Loss: 1.021462\n",
      "grad: tensor([-0.0188, -0.5039], dtype=torch.float64)\n",
      "params: tensor([1.0008, 0.0216], dtype=torch.float64)\n",
      "Epoch: 412, Loss: 1.021436\n",
      "grad: tensor([-0.0188, -0.5038], dtype=torch.float64)\n",
      "params: tensor([1.0008, 0.0216], dtype=torch.float64)\n",
      "Epoch: 413, Loss: 1.021411\n",
      "grad: tensor([-0.0188, -0.5037], dtype=torch.float64)\n",
      "params: tensor([1.0008, 0.0217], dtype=torch.float64)\n",
      "Epoch: 414, Loss: 1.021386\n",
      "grad: tensor([-0.0188, -0.5036], dtype=torch.float64)\n",
      "params: tensor([1.0008, 0.0217], dtype=torch.float64)\n",
      "Epoch: 415, Loss: 1.021360\n",
      "grad: tensor([-0.0188, -0.5035], dtype=torch.float64)\n",
      "params: tensor([1.0008, 0.0218], dtype=torch.float64)\n",
      "Epoch: 416, Loss: 1.021335\n",
      "grad: tensor([-0.0188, -0.5034], dtype=torch.float64)\n",
      "params: tensor([1.0008, 0.0218], dtype=torch.float64)\n",
      "Epoch: 417, Loss: 1.021309\n",
      "grad: tensor([-0.0188, -0.5033], dtype=torch.float64)\n",
      "params: tensor([1.0008, 0.0219], dtype=torch.float64)\n",
      "Epoch: 418, Loss: 1.021284\n",
      "grad: tensor([-0.0188, -0.5032], dtype=torch.float64)\n",
      "params: tensor([1.0008, 0.0219], dtype=torch.float64)\n",
      "Epoch: 419, Loss: 1.021259\n",
      "grad: tensor([-0.0188, -0.5031], dtype=torch.float64)\n",
      "params: tensor([1.0008, 0.0220], dtype=torch.float64)\n",
      "Epoch: 420, Loss: 1.021233\n",
      "grad: tensor([-0.0188, -0.5030], dtype=torch.float64)\n",
      "params: tensor([1.0008, 0.0220], dtype=torch.float64)\n",
      "Epoch: 421, Loss: 1.021208\n",
      "grad: tensor([-0.0188, -0.5029], dtype=torch.float64)\n",
      "params: tensor([1.0008, 0.0221], dtype=torch.float64)\n",
      "Epoch: 422, Loss: 1.021183\n",
      "grad: tensor([-0.0188, -0.5028], dtype=torch.float64)\n",
      "params: tensor([1.0008, 0.0221], dtype=torch.float64)\n",
      "Epoch: 423, Loss: 1.021157\n",
      "grad: tensor([-0.0188, -0.5027], dtype=torch.float64)\n",
      "params: tensor([1.0008, 0.0222], dtype=torch.float64)\n",
      "Epoch: 424, Loss: 1.021132\n",
      "grad: tensor([-0.0188, -0.5026], dtype=torch.float64)\n",
      "params: tensor([1.0008, 0.0222], dtype=torch.float64)\n",
      "Epoch: 425, Loss: 1.021107\n",
      "grad: tensor([-0.0188, -0.5025], dtype=torch.float64)\n",
      "params: tensor([1.0008, 0.0223], dtype=torch.float64)\n",
      "Epoch: 426, Loss: 1.021082\n",
      "grad: tensor([-0.0188, -0.5024], dtype=torch.float64)\n",
      "params: tensor([1.0008, 0.0223], dtype=torch.float64)\n",
      "Epoch: 427, Loss: 1.021056\n",
      "grad: tensor([-0.0188, -0.5023], dtype=torch.float64)\n",
      "params: tensor([1.0008, 0.0224], dtype=torch.float64)\n",
      "Epoch: 428, Loss: 1.021031\n",
      "grad: tensor([-0.0188, -0.5022], dtype=torch.float64)\n",
      "params: tensor([1.0008, 0.0224], dtype=torch.float64)\n",
      "Epoch: 429, Loss: 1.021006\n",
      "grad: tensor([-0.0188, -0.5021], dtype=torch.float64)\n",
      "params: tensor([1.0008, 0.0225], dtype=torch.float64)\n",
      "Epoch: 430, Loss: 1.020980\n",
      "grad: tensor([-0.0188, -0.5020], dtype=torch.float64)\n",
      "params: tensor([1.0008, 0.0225], dtype=torch.float64)\n",
      "Epoch: 431, Loss: 1.020955\n",
      "grad: tensor([-0.0188, -0.5019], dtype=torch.float64)\n",
      "params: tensor([1.0008, 0.0226], dtype=torch.float64)\n",
      "Epoch: 432, Loss: 1.020930\n",
      "grad: tensor([-0.0188, -0.5018], dtype=torch.float64)\n",
      "params: tensor([1.0008, 0.0226], dtype=torch.float64)\n",
      "Epoch: 433, Loss: 1.020905\n",
      "grad: tensor([-0.0188, -0.5017], dtype=torch.float64)\n",
      "params: tensor([1.0008, 0.0227], dtype=torch.float64)\n",
      "Epoch: 434, Loss: 1.020880\n",
      "grad: tensor([-0.0188, -0.5016], dtype=torch.float64)\n",
      "params: tensor([1.0008, 0.0227], dtype=torch.float64)\n",
      "Epoch: 435, Loss: 1.020854\n",
      "grad: tensor([-0.0188, -0.5015], dtype=torch.float64)\n",
      "params: tensor([1.0008, 0.0228], dtype=torch.float64)\n",
      "Epoch: 436, Loss: 1.020829\n",
      "grad: tensor([-0.0188, -0.5014], dtype=torch.float64)\n",
      "params: tensor([1.0008, 0.0228], dtype=torch.float64)\n",
      "Epoch: 437, Loss: 1.020804\n",
      "grad: tensor([-0.0188, -0.5013], dtype=torch.float64)\n",
      "params: tensor([1.0008, 0.0229], dtype=torch.float64)\n",
      "Epoch: 438, Loss: 1.020779\n",
      "grad: tensor([-0.0188, -0.5012], dtype=torch.float64)\n",
      "params: tensor([1.0008, 0.0229], dtype=torch.float64)\n",
      "Epoch: 439, Loss: 1.020754\n",
      "grad: tensor([-0.0188, -0.5011], dtype=torch.float64)\n",
      "params: tensor([1.0008, 0.0230], dtype=torch.float64)\n",
      "Epoch: 440, Loss: 1.020729\n",
      "grad: tensor([-0.0188, -0.5010], dtype=torch.float64)\n",
      "params: tensor([1.0008, 0.0230], dtype=torch.float64)\n",
      "Epoch: 441, Loss: 1.020703\n",
      "grad: tensor([-0.0188, -0.5009], dtype=torch.float64)\n",
      "params: tensor([1.0008, 0.0231], dtype=torch.float64)\n",
      "Epoch: 442, Loss: 1.020678\n",
      "grad: tensor([-0.0188, -0.5008], dtype=torch.float64)\n",
      "params: tensor([1.0008, 0.0231], dtype=torch.float64)\n",
      "Epoch: 443, Loss: 1.020653\n",
      "grad: tensor([-0.0188, -0.5007], dtype=torch.float64)\n",
      "params: tensor([1.0008, 0.0232], dtype=torch.float64)\n",
      "Epoch: 444, Loss: 1.020628\n",
      "grad: tensor([-0.0188, -0.5006], dtype=torch.float64)\n",
      "params: tensor([1.0008, 0.0232], dtype=torch.float64)\n",
      "Epoch: 445, Loss: 1.020603\n",
      "grad: tensor([-0.0188, -0.5005], dtype=torch.float64)\n",
      "params: tensor([1.0008, 0.0233], dtype=torch.float64)\n",
      "Epoch: 446, Loss: 1.020578\n",
      "grad: tensor([-0.0188, -0.5004], dtype=torch.float64)\n",
      "params: tensor([1.0008, 0.0233], dtype=torch.float64)\n",
      "Epoch: 447, Loss: 1.020553\n",
      "grad: tensor([-0.0188, -0.5003], dtype=torch.float64)\n",
      "params: tensor([1.0008, 0.0234], dtype=torch.float64)\n",
      "Epoch: 448, Loss: 1.020528\n",
      "grad: tensor([-0.0188, -0.5002], dtype=torch.float64)\n",
      "params: tensor([1.0008, 0.0234], dtype=torch.float64)\n",
      "Epoch: 449, Loss: 1.020503\n",
      "grad: tensor([-0.0188, -0.5001], dtype=torch.float64)\n",
      "params: tensor([1.0008, 0.0235], dtype=torch.float64)\n",
      "Epoch: 450, Loss: 1.020478\n",
      "grad: tensor([-0.0188, -0.5000], dtype=torch.float64)\n",
      "params: tensor([1.0008, 0.0235], dtype=torch.float64)\n",
      "Epoch: 451, Loss: 1.020453\n",
      "grad: tensor([-0.0188, -0.4999], dtype=torch.float64)\n",
      "params: tensor([1.0009, 0.0236], dtype=torch.float64)\n",
      "Epoch: 452, Loss: 1.020428\n",
      "grad: tensor([-0.0188, -0.4998], dtype=torch.float64)\n",
      "params: tensor([1.0009, 0.0236], dtype=torch.float64)\n",
      "Epoch: 453, Loss: 1.020403\n",
      "grad: tensor([-0.0188, -0.4997], dtype=torch.float64)\n",
      "params: tensor([1.0009, 0.0237], dtype=torch.float64)\n",
      "Epoch: 454, Loss: 1.020378\n",
      "grad: tensor([-0.0188, -0.4996], dtype=torch.float64)\n",
      "params: tensor([1.0009, 0.0237], dtype=torch.float64)\n",
      "Epoch: 455, Loss: 1.020353\n",
      "grad: tensor([-0.0188, -0.4995], dtype=torch.float64)\n",
      "params: tensor([1.0009, 0.0238], dtype=torch.float64)\n",
      "Epoch: 456, Loss: 1.020328\n",
      "grad: tensor([-0.0188, -0.4994], dtype=torch.float64)\n",
      "params: tensor([1.0009, 0.0238], dtype=torch.float64)\n",
      "Epoch: 457, Loss: 1.020303\n",
      "grad: tensor([-0.0188, -0.4993], dtype=torch.float64)\n",
      "params: tensor([1.0009, 0.0239], dtype=torch.float64)\n",
      "Epoch: 458, Loss: 1.020278\n",
      "grad: tensor([-0.0188, -0.4992], dtype=torch.float64)\n",
      "params: tensor([1.0009, 0.0239], dtype=torch.float64)\n",
      "Epoch: 459, Loss: 1.020253\n",
      "grad: tensor([-0.0188, -0.4991], dtype=torch.float64)\n",
      "params: tensor([1.0009, 0.0240], dtype=torch.float64)\n",
      "Epoch: 460, Loss: 1.020228\n",
      "grad: tensor([-0.0188, -0.4990], dtype=torch.float64)\n",
      "params: tensor([1.0009, 0.0240], dtype=torch.float64)\n",
      "Epoch: 461, Loss: 1.020203\n",
      "grad: tensor([-0.0188, -0.4989], dtype=torch.float64)\n",
      "params: tensor([1.0009, 0.0241], dtype=torch.float64)\n",
      "Epoch: 462, Loss: 1.020178\n",
      "grad: tensor([-0.0188, -0.4988], dtype=torch.float64)\n",
      "params: tensor([1.0009, 0.0241], dtype=torch.float64)\n",
      "Epoch: 463, Loss: 1.020153\n",
      "grad: tensor([-0.0188, -0.4987], dtype=torch.float64)\n",
      "params: tensor([1.0009, 0.0242], dtype=torch.float64)\n",
      "Epoch: 464, Loss: 1.020128\n",
      "grad: tensor([-0.0188, -0.4986], dtype=torch.float64)\n",
      "params: tensor([1.0009, 0.0242], dtype=torch.float64)\n",
      "Epoch: 465, Loss: 1.020103\n",
      "grad: tensor([-0.0188, -0.4985], dtype=torch.float64)\n",
      "params: tensor([1.0009, 0.0243], dtype=torch.float64)\n",
      "Epoch: 466, Loss: 1.020078\n",
      "grad: tensor([-0.0188, -0.4984], dtype=torch.float64)\n",
      "params: tensor([1.0009, 0.0243], dtype=torch.float64)\n",
      "Epoch: 467, Loss: 1.020053\n",
      "grad: tensor([-0.0188, -0.4983], dtype=torch.float64)\n",
      "params: tensor([1.0009, 0.0244], dtype=torch.float64)\n",
      "Epoch: 468, Loss: 1.020029\n",
      "grad: tensor([-0.0188, -0.4982], dtype=torch.float64)\n",
      "params: tensor([1.0009, 0.0244], dtype=torch.float64)\n",
      "Epoch: 469, Loss: 1.020004\n",
      "grad: tensor([-0.0188, -0.4981], dtype=torch.float64)\n",
      "params: tensor([1.0009, 0.0245], dtype=torch.float64)\n",
      "Epoch: 470, Loss: 1.019979\n",
      "grad: tensor([-0.0188, -0.4980], dtype=torch.float64)\n",
      "params: tensor([1.0009, 0.0245], dtype=torch.float64)\n",
      "Epoch: 471, Loss: 1.019954\n",
      "grad: tensor([-0.0188, -0.4979], dtype=torch.float64)\n",
      "params: tensor([1.0009, 0.0246], dtype=torch.float64)\n",
      "Epoch: 472, Loss: 1.019929\n",
      "grad: tensor([-0.0188, -0.4978], dtype=torch.float64)\n",
      "params: tensor([1.0009, 0.0246], dtype=torch.float64)\n",
      "Epoch: 473, Loss: 1.019904\n",
      "grad: tensor([-0.0188, -0.4977], dtype=torch.float64)\n",
      "params: tensor([1.0009, 0.0247], dtype=torch.float64)\n",
      "Epoch: 474, Loss: 1.019880\n",
      "grad: tensor([-0.0188, -0.4976], dtype=torch.float64)\n",
      "params: tensor([1.0009, 0.0247], dtype=torch.float64)\n",
      "Epoch: 475, Loss: 1.019855\n",
      "grad: tensor([-0.0188, -0.4975], dtype=torch.float64)\n",
      "params: tensor([1.0009, 0.0248], dtype=torch.float64)\n",
      "Epoch: 476, Loss: 1.019830\n",
      "grad: tensor([-0.0188, -0.4974], dtype=torch.float64)\n",
      "params: tensor([1.0009, 0.0248], dtype=torch.float64)\n",
      "Epoch: 477, Loss: 1.019805\n",
      "grad: tensor([-0.0188, -0.4973], dtype=torch.float64)\n",
      "params: tensor([1.0009, 0.0249], dtype=torch.float64)\n",
      "Epoch: 478, Loss: 1.019780\n",
      "grad: tensor([-0.0188, -0.4972], dtype=torch.float64)\n",
      "params: tensor([1.0009, 0.0249], dtype=torch.float64)\n",
      "Epoch: 479, Loss: 1.019756\n",
      "grad: tensor([-0.0188, -0.4971], dtype=torch.float64)\n",
      "params: tensor([1.0009, 0.0250], dtype=torch.float64)\n",
      "Epoch: 480, Loss: 1.019731\n",
      "grad: tensor([-0.0188, -0.4970], dtype=torch.float64)\n",
      "params: tensor([1.0009, 0.0250], dtype=torch.float64)\n",
      "Epoch: 481, Loss: 1.019706\n",
      "grad: tensor([-0.0188, -0.4969], dtype=torch.float64)\n",
      "params: tensor([1.0009, 0.0251], dtype=torch.float64)\n",
      "Epoch: 482, Loss: 1.019682\n",
      "grad: tensor([-0.0188, -0.4968], dtype=torch.float64)\n",
      "params: tensor([1.0009, 0.0251], dtype=torch.float64)\n",
      "Epoch: 483, Loss: 1.019657\n",
      "grad: tensor([-0.0188, -0.4967], dtype=torch.float64)\n",
      "params: tensor([1.0009, 0.0252], dtype=torch.float64)\n",
      "Epoch: 484, Loss: 1.019632\n",
      "grad: tensor([-0.0188, -0.4966], dtype=torch.float64)\n",
      "params: tensor([1.0009, 0.0252], dtype=torch.float64)\n",
      "Epoch: 485, Loss: 1.019607\n",
      "grad: tensor([-0.0188, -0.4965], dtype=torch.float64)\n",
      "params: tensor([1.0009, 0.0253], dtype=torch.float64)\n",
      "Epoch: 486, Loss: 1.019583\n",
      "grad: tensor([-0.0188, -0.4964], dtype=torch.float64)\n",
      "params: tensor([1.0009, 0.0253], dtype=torch.float64)\n",
      "Epoch: 487, Loss: 1.019558\n",
      "grad: tensor([-0.0188, -0.4963], dtype=torch.float64)\n",
      "params: tensor([1.0009, 0.0254], dtype=torch.float64)\n",
      "Epoch: 488, Loss: 1.019533\n",
      "grad: tensor([-0.0188, -0.4962], dtype=torch.float64)\n",
      "params: tensor([1.0009, 0.0254], dtype=torch.float64)\n",
      "Epoch: 489, Loss: 1.019509\n",
      "grad: tensor([-0.0188, -0.4961], dtype=torch.float64)\n",
      "params: tensor([1.0009, 0.0255], dtype=torch.float64)\n",
      "Epoch: 490, Loss: 1.019484\n",
      "grad: tensor([-0.0188, -0.4960], dtype=torch.float64)\n",
      "params: tensor([1.0009, 0.0255], dtype=torch.float64)\n",
      "Epoch: 491, Loss: 1.019459\n",
      "grad: tensor([-0.0188, -0.4959], dtype=torch.float64)\n",
      "params: tensor([1.0009, 0.0256], dtype=torch.float64)\n",
      "Epoch: 492, Loss: 1.019435\n",
      "grad: tensor([-0.0188, -0.4958], dtype=torch.float64)\n",
      "params: tensor([1.0009, 0.0256], dtype=torch.float64)\n",
      "Epoch: 493, Loss: 1.019410\n",
      "grad: tensor([-0.0188, -0.4957], dtype=torch.float64)\n",
      "params: tensor([1.0009, 0.0257], dtype=torch.float64)\n",
      "Epoch: 494, Loss: 1.019386\n",
      "grad: tensor([-0.0188, -0.4956], dtype=torch.float64)\n",
      "params: tensor([1.0009, 0.0257], dtype=torch.float64)\n",
      "Epoch: 495, Loss: 1.019361\n",
      "grad: tensor([-0.0188, -0.4955], dtype=torch.float64)\n",
      "params: tensor([1.0009, 0.0258], dtype=torch.float64)\n",
      "Epoch: 496, Loss: 1.019336\n",
      "grad: tensor([-0.0188, -0.4954], dtype=torch.float64)\n",
      "params: tensor([1.0009, 0.0258], dtype=torch.float64)\n",
      "Epoch: 497, Loss: 1.019312\n",
      "grad: tensor([-0.0188, -0.4953], dtype=torch.float64)\n",
      "params: tensor([1.0009, 0.0259], dtype=torch.float64)\n",
      "Epoch: 498, Loss: 1.019287\n",
      "grad: tensor([-0.0188, -0.4952], dtype=torch.float64)\n",
      "params: tensor([1.0009, 0.0259], dtype=torch.float64)\n",
      "Epoch: 499, Loss: 1.019263\n",
      "grad: tensor([-0.0188, -0.4951], dtype=torch.float64)\n",
      "params: tensor([1.0009, 0.0260], dtype=torch.float64)\n",
      "Epoch: 500, Loss: 1.019238\n",
      "grad: tensor([-0.0188, -0.4950], dtype=torch.float64)\n",
      "params: tensor([1.0009, 0.0260], dtype=torch.float64)\n"
     ]
    },
    {
     "data": {
      "text/plain": [
       "tensor([1.0009, 0.0260], dtype=torch.float64)"
      ]
     },
     "execution_count": 90,
     "metadata": {},
     "output_type": "execute_result"
    }
   ],
   "source": [
    "# 将数据进行可视化\n",
    "params = training_loop(n_epochs=500, learning_rate=1e-4, params=torch.tensor([1.0, 0.0]), t_u=t_u, t_c=t_cn)\n",
    "t_p = model(t_cn, *params)\n",
    "params"
   ]
  },
  {
   "cell_type": "code",
   "execution_count": 91,
   "id": "cb5277a6",
   "metadata": {},
   "outputs": [
    {
     "data": {
      "text/plain": [
       "[<matplotlib.lines.Line2D at 0x281103317c0>]"
      ]
     },
     "execution_count": 91,
     "metadata": {},
     "output_type": "execute_result"
    },
    {
     "data": {
      "image/png": "[encoded data removed]",
      "text/plain": [
       "<Figure size 3840x2880 with 1 Axes>"
      ]
     },
     "metadata": {},
     "output_type": "display_data"
    }
   ],
   "source": [
    "fig = plt.figure(dpi = 600)\n",
    "plt.plot(t_c.numpy(), t_p.detach().numpy())\n",
    "plt.plot(t_c.numpy(), t_u.numpy(), 'o')"
   ]
  },
  {
   "attachments": {},
   "cell_type": "markdown",
   "id": "67c368be",
   "metadata": {},
   "source": [
    "## 优化器"
   ]
  },
  {
   "cell_type": "code",
   "execution_count": 92,
   "id": "713b6f56",
   "metadata": {},
   "outputs": [],
   "source": [
    "import torch.optim as optim"
   ]
  },
  {
   "cell_type": "code",
   "execution_count": 94,
   "id": "e6657597",
   "metadata": {},
   "outputs": [
    {
     "data": {
      "text/plain": [
       "['ASGD',\n",
       " 'Adadelta',\n",
       " 'Adagrad',\n",
       " 'Adam',\n",
       " 'AdamW',\n",
       " 'Adamax',\n",
       " 'LBFGS',\n",
       " 'NAdam',\n",
       " 'Optimizer',\n",
       " 'RAdam',\n",
       " 'RMSprop',\n",
       " 'Rprop',\n",
       " 'SGD',\n",
       " 'SparseAdam',\n",
       " '__builtins__',\n",
       " '__cached__',\n",
       " '__doc__',\n",
       " '__file__',\n",
       " '__loader__',\n",
       " '__name__',\n",
       " '__package__',\n",
       " '__path__',\n",
       " '__spec__',\n",
       " '_functional',\n",
       " '_multi_tensor',\n",
       " 'lr_scheduler',\n",
       " 'swa_utils']"
      ]
     },
     "execution_count": 94,
     "metadata": {},
     "output_type": "execute_result"
    }
   ],
   "source": [
    "dir(optim)"
   ]
  },
  {
   "attachments": {},
   "cell_type": "markdown",
   "id": "b4eb5b9e",
   "metadata": {},
   "source": [
    "# 神经网络"
   ]
  },
  {
   "cell_type": "code",
   "execution_count": 2,
   "id": "6be4b78d",
   "metadata": {},
   "outputs": [],
   "source": [
    "import torch\n",
    "import torch.nn as nn"
   ]
  },
  {
   "attachments": {},
   "cell_type": "markdown",
   "id": "d5e9cb30",
   "metadata": {},
   "source": [
    "## 连接模型的容器"
   ]
  },
  {
   "cell_type": "code",
   "execution_count": 3,
   "id": "99b6b9f9",
   "metadata": {},
   "outputs": [],
   "source": [
    "# 1.制作一个模型参数序列\n",
    "seq_model = nn.Sequential(nn.Linear(1,13),nn.Tanh(),nn.Linear(13,1))"
   ]
  },
  {
   "cell_type": "code",
   "execution_count": 4,
   "id": "f44fff83",
   "metadata": {},
   "outputs": [
    {
     "data": {
      "text/plain": [
       "Sequential(\n",
       "  (0): Linear(in_features=1, out_features=13, bias=True)\n",
       "  (1): Tanh()\n",
       "  (2): Linear(in_features=13, out_features=1, bias=True)\n",
       ")"
      ]
     },
     "execution_count": 4,
     "metadata": {},
     "output_type": "execute_result"
    }
   ],
   "source": [
    "seq_model"
   ]
  },
  {
   "cell_type": "code",
   "execution_count": 5,
   "id": "a695c943",
   "metadata": {},
   "outputs": [
    {
     "data": {
      "text/plain": [
       "[torch.Size([13, 1]), torch.Size([13]), torch.Size([1, 13]), torch.Size([1])]"
      ]
     },
     "execution_count": 5,
     "metadata": {},
     "output_type": "execute_result"
    }
   ],
   "source": [
    "# 2.检查参数\n",
    "[param.shape for param in seq_model.parameters()]"
   ]
  },
  {
   "cell_type": "code",
   "execution_count": 7,
   "id": "62834350",
   "metadata": {},
   "outputs": [
    {
     "name": "stdout",
     "output_type": "stream",
     "text": [
      "0.weight torch.Size([13, 1])\n",
      "0.bias torch.Size([13])\n",
      "2.weight torch.Size([1, 13])\n",
      "2.bias torch.Size([1])\n"
     ]
    }
   ],
   "source": [
    "# 3.检查参数名和参数\n",
    "for name, param in seq_model.named_parameters():\n",
    "    print(name, param.shape)"
   ]
  },
  {
   "attachments": {},
   "cell_type": "markdown",
   "id": "cd4b2c6e",
   "metadata": {},
   "source": [
    "# 图像识别"
   ]
  },
  {
   "cell_type": "code",
   "execution_count": 8,
   "id": "49d5ea50",
   "metadata": {},
   "outputs": [],
   "source": [
    "from torchvision import datasets"
   ]
  },
  {
   "attachments": {},
   "cell_type": "markdown",
   "id": "edc6adf7",
   "metadata": {},
   "source": [
    "## CIFAR-10下载"
   ]
  },
  {
   "cell_type": "code",
   "execution_count": 9,
   "id": "ccac96f8",
   "metadata": {},
   "outputs": [
    {
     "data": {
      "text/plain": [
       "['CIFAR10',\n",
       " 'CIFAR100',\n",
       " 'CLEVRClassification',\n",
       " 'CREStereo',\n",
       " 'Caltech101',\n",
       " 'Caltech256',\n",
       " 'CarlaStereo',\n",
       " 'CelebA',\n",
       " 'Cityscapes',\n",
       " 'CocoCaptions',\n",
       " 'CocoDetection',\n",
       " 'Country211',\n",
       " 'DTD',\n",
       " 'DatasetFolder',\n",
       " 'EMNIST',\n",
       " 'ETH3DStereo',\n",
       " 'EuroSAT',\n",
       " 'FER2013',\n",
       " 'FGVCAircraft',\n",
       " 'FakeData',\n",
       " 'FallingThingsStereo',\n",
       " 'FashionMNIST',\n",
       " 'Flickr30k',\n",
       " 'Flickr8k',\n",
       " 'Flowers102',\n",
       " 'FlyingChairs',\n",
       " 'FlyingThings3D',\n",
       " 'Food101',\n",
       " 'GTSRB',\n",
       " 'HD1K',\n",
       " 'HMDB51',\n",
       " 'INaturalist',\n",
       " 'ImageFolder',\n",
       " 'ImageNet',\n",
       " 'InStereo2k',\n",
       " 'KMNIST',\n",
       " 'Kinetics',\n",
       " 'Kitti',\n",
       " 'Kitti2012Stereo',\n",
       " 'Kitti2015Stereo',\n",
       " 'KittiFlow',\n",
       " 'LFWPairs',\n",
       " 'LFWPeople',\n",
       " 'LSUN',\n",
       " 'LSUNClass',\n",
       " 'MNIST',\n",
       " 'Middlebury2014Stereo',\n",
       " 'Omniglot',\n",
       " 'OxfordIIITPet',\n",
       " 'PCAM',\n",
       " 'PhotoTour',\n",
       " 'Places365',\n",
       " 'QMNIST',\n",
       " 'RenderedSST2',\n",
       " 'SBDataset',\n",
       " 'SBU',\n",
       " 'SEMEION',\n",
       " 'STL10',\n",
       " 'SUN397',\n",
       " 'SVHN',\n",
       " 'SceneFlowStereo',\n",
       " 'Sintel',\n",
       " 'SintelStereo',\n",
       " 'StanfordCars',\n",
       " 'UCF101',\n",
       " 'USPS',\n",
       " 'VOCDetection',\n",
       " 'VOCSegmentation',\n",
       " 'VisionDataset',\n",
       " 'WIDERFace',\n",
       " '__all__',\n",
       " '__builtins__',\n",
       " '__cached__',\n",
       " '__doc__',\n",
       " '__file__',\n",
       " '__loader__',\n",
       " '__name__',\n",
       " '__package__',\n",
       " '__path__',\n",
       " '__spec__',\n",
       " '_optical_flow',\n",
       " '_stereo_matching',\n",
       " 'caltech',\n",
       " 'celeba',\n",
       " 'cifar',\n",
       " 'cityscapes',\n",
       " 'clevr',\n",
       " 'coco',\n",
       " 'country211',\n",
       " 'dtd',\n",
       " 'eurosat',\n",
       " 'fakedata',\n",
       " 'fer2013',\n",
       " 'fgvc_aircraft',\n",
       " 'flickr',\n",
       " 'flowers102',\n",
       " 'folder',\n",
       " 'food101',\n",
       " 'gtsrb',\n",
       " 'hmdb51',\n",
       " 'imagenet',\n",
       " 'inaturalist',\n",
       " 'kinetics',\n",
       " 'kitti',\n",
       " 'lfw',\n",
       " 'lsun',\n",
       " 'mnist',\n",
       " 'omniglot',\n",
       " 'oxford_iiit_pet',\n",
       " 'pcam',\n",
       " 'phototour',\n",
       " 'places365',\n",
       " 'rendered_sst2',\n",
       " 'sbd',\n",
       " 'sbu',\n",
       " 'semeion',\n",
       " 'stanford_cars',\n",
       " 'stl10',\n",
       " 'sun397',\n",
       " 'svhn',\n",
       " 'ucf101',\n",
       " 'usps',\n",
       " 'utils',\n",
       " 'video_utils',\n",
       " 'vision',\n",
       " 'voc',\n",
       " 'widerface']"
      ]
     },
     "execution_count": 9,
     "metadata": {},
     "output_type": "execute_result"
    }
   ],
   "source": [
    "dir(datasets)"
   ]
  },
  {
   "cell_type": "code",
   "execution_count": 18,
   "id": "7d5eacc5",
   "metadata": {},
   "outputs": [],
   "source": [
    "# 1.导入数据\n",
    "cifar10 = datasets.CIFAR10(root='./data/cifar-10-python/', train=True, download=False)\n",
    "cifar10_val = datasets.CIFAR10(root='./data/cifar-10-python/', train=False, download=False)"
   ]
  },
  {
   "cell_type": "code",
   "execution_count": 19,
   "id": "94611523",
   "metadata": {},
   "outputs": [
    {
     "data": {
      "text/plain": [
       "(torchvision.datasets.cifar.CIFAR10,\n",
       " torchvision.datasets.vision.VisionDataset,\n",
       " torch.utils.data.dataset.Dataset,\n",
       " typing.Generic,\n",
       " object)"
      ]
     },
     "execution_count": 19,
     "metadata": {},
     "output_type": "execute_result"
    }
   ],
   "source": [
    "type(cifar10).__mro__"
   ]
  },
  {
   "attachments": {},
   "cell_type": "markdown",
   "id": "ac1cef6b",
   "metadata": {},
   "source": [
    "## Dataset类"
   ]
  },
  {
   "cell_type": "code",
   "execution_count": 30,
   "id": "848d2fd6",
   "metadata": {},
   "outputs": [],
   "source": [
    "import matplotlib.pyplot as plt\n",
    "from torchvision import transforms"
   ]
  },
  {
   "cell_type": "code",
   "execution_count": 25,
   "id": "4e34bfdc",
   "metadata": {},
   "outputs": [
    {
     "data": {
      "text/plain": [
       "(<PIL.Image.Image image mode=RGB size=32x32>, 1)"
      ]
     },
     "execution_count": 25,
     "metadata": {},
     "output_type": "execute_result"
    }
   ],
   "source": [
    "# 1.获取图片和标签\n",
    "img, label = cifar10[99]\n",
    "img, label"
   ]
  },
  {
   "cell_type": "code",
   "execution_count": 29,
   "id": "764dc882",
   "metadata": {},
   "outputs": [
    {
     "data": {
      "image/png": "[encoded data removed]",
      "text/plain": [
       "<Figure size 640x480 with 1 Axes>"
      ]
     },
     "metadata": {},
     "output_type": "display_data"
    }
   ],
   "source": [
    "# 2.展示图片\n",
    "plt.style.use('seaborn-darkgrid')\n",
    "plt.imshow(img)\n",
    "plt.show()"
   ]
  },
  {
   "cell_type": "code",
   "execution_count": 31,
   "id": "facdd318",
   "metadata": {},
   "outputs": [
    {
     "data": {
      "text/plain": [
       "['AugMix',\n",
       " 'AutoAugment',\n",
       " 'AutoAugmentPolicy',\n",
       " 'CenterCrop',\n",
       " 'ColorJitter',\n",
       " 'Compose',\n",
       " 'ConvertImageDtype',\n",
       " 'ElasticTransform',\n",
       " 'FiveCrop',\n",
       " 'GaussianBlur',\n",
       " 'Grayscale',\n",
       " 'InterpolationMode',\n",
       " 'Lambda',\n",
       " 'LinearTransformation',\n",
       " 'Normalize',\n",
       " 'PILToTensor',\n",
       " 'Pad',\n",
       " 'RandAugment',\n",
       " 'RandomAdjustSharpness',\n",
       " 'RandomAffine',\n",
       " 'RandomApply',\n",
       " 'RandomAutocontrast',\n",
       " 'RandomChoice',\n",
       " 'RandomCrop',\n",
       " 'RandomEqualize',\n",
       " 'RandomErasing',\n",
       " 'RandomGrayscale',\n",
       " 'RandomHorizontalFlip',\n",
       " 'RandomInvert',\n",
       " 'RandomOrder',\n",
       " 'RandomPerspective',\n",
       " 'RandomPosterize',\n",
       " 'RandomResizedCrop',\n",
       " 'RandomRotation',\n",
       " 'RandomSolarize',\n",
       " 'RandomVerticalFlip',\n",
       " 'Resize',\n",
       " 'TenCrop',\n",
       " 'ToPILImage',\n",
       " 'ToTensor',\n",
       " 'TrivialAugmentWide',\n",
       " '__builtins__',\n",
       " '__cached__',\n",
       " '__doc__',\n",
       " '__file__',\n",
       " '__loader__',\n",
       " '__name__',\n",
       " '__package__',\n",
       " '__path__',\n",
       " '__spec__',\n",
       " '_pil_constants',\n",
       " '_presets',\n",
       " 'autoaugment',\n",
       " 'functional',\n",
       " 'functional_pil',\n",
       " 'functional_tensor',\n",
       " 'transforms']"
      ]
     },
     "execution_count": 31,
     "metadata": {},
     "output_type": "execute_result"
    }
   ],
   "source": [
    "# 3.dataset变换\n",
    "dir(transforms)"
   ]
  },
  {
   "cell_type": "code",
   "execution_count": 32,
   "id": "7fb4f6fc",
   "metadata": {},
   "outputs": [
    {
     "data": {
      "text/plain": [
       "torch.Size([3, 32, 32])"
      ]
     },
     "execution_count": 32,
     "metadata": {},
     "output_type": "execute_result"
    }
   ],
   "source": [
    "# 4.将图片转成张量\n",
    "to_tensor = transforms.ToTensor()\n",
    "img_t = to_tensor(img)\n",
    "img_t.shape"
   ]
  },
  {
   "cell_type": "code",
   "execution_count": 33,
   "id": "e621fc02",
   "metadata": {},
   "outputs": [],
   "source": [
    "# 4.将整个数据集转成张量\n",
    "tensor_cifar10 = datasets.CIFAR10(root='./data/cifar-10-python/', \n",
    "                                  train=True, download=False,\n",
    "                                  transform=transforms.ToTensor())"
   ]
  },
  {
   "cell_type": "code",
   "execution_count": 35,
   "id": "377e5dcd",
   "metadata": {},
   "outputs": [
    {
     "data": {
      "text/plain": [
       "(torch.Tensor, torch.Size([3, 32, 32]))"
      ]
     },
     "execution_count": 35,
     "metadata": {},
     "output_type": "execute_result"
    }
   ],
   "source": [
    "img_t, _ = tensor_cifar10[99]\n",
    "type(img_t), img_t.shape"
   ]
  },
  {
   "cell_type": "code",
   "execution_count": 36,
   "id": "f217be06",
   "metadata": {},
   "outputs": [
    {
     "data": {
      "text/plain": [
       "(tensor(0.), tensor(1.))"
      ]
     },
     "execution_count": 36,
     "metadata": {},
     "output_type": "execute_result"
    }
   ],
   "source": [
    "# 5.查看图片中每个通道的值\n",
    "img_t.min(),img_t.max()"
   ]
  },
  {
   "cell_type": "code",
   "execution_count": 39,
   "id": "77263d76",
   "metadata": {},
   "outputs": [
    {
     "data": {
      "image/png": "[encoded data removed]",
      "text/plain": [
       "<Figure size 640x480 with 1 Axes>"
      ]
     },
     "metadata": {},
     "output_type": "display_data"
    }
   ],
   "source": [
    "# 6.验证得到的图像是否相同\n",
    "plt.imshow(img_t.permute(1,2,0))  #plt可以展示[H, W, C]\n",
    "plt.show()"
   ]
  },
  {
   "cell_type": "code",
   "execution_count": 40,
   "id": "4597c3ac",
   "metadata": {},
   "outputs": [
    {
     "data": {
      "text/plain": [
       "torch.Size([3, 32, 32, 50000])"
      ]
     },
     "execution_count": 40,
     "metadata": {},
     "output_type": "execute_result"
    }
   ],
   "source": [
    "# 7.数据归一化\n",
    "imgs = torch.stack([img_t for img_t, _ in tensor_cifar10], dim=3)\n",
    "imgs.shape"
   ]
  },
  {
   "cell_type": "code",
   "execution_count": 41,
   "id": "abd20cb7",
   "metadata": {},
   "outputs": [
    {
     "data": {
      "text/plain": [
       "tensor([0.4914, 0.4822, 0.4465])"
      ]
     },
     "execution_count": 41,
     "metadata": {},
     "output_type": "execute_result"
    }
   ],
   "source": [
    "# 相当一计算每个通道上所有样本的每个像素的均值\n",
    "imgs.view(3,-1).mean(dim=1) #保留3个通道，合为一个维度，计算第二个维度的均值"
   ]
  },
  {
   "cell_type": "code",
   "execution_count": 42,
   "id": "06e4b72b",
   "metadata": {},
   "outputs": [
    {
     "data": {
      "text/plain": [
       "tensor([0.2470, 0.2435, 0.2616])"
      ]
     },
     "execution_count": 42,
     "metadata": {},
     "output_type": "execute_result"
    }
   ],
   "source": [
    "imgs.view(3,-1).std(dim=1)"
   ]
  },
  {
   "cell_type": "code",
   "execution_count": 43,
   "id": "bce10203",
   "metadata": {},
   "outputs": [
    {
     "data": {
      "text/plain": [
       "Normalize(mean=[0.4914, 0.4822, 0.4465], std=[0.247, 0.2435, 0.2616])"
      ]
     },
     "execution_count": 43,
     "metadata": {},
     "output_type": "execute_result"
    }
   ],
   "source": [
    "# Normalize归一化\n",
    "transforms.Normalize([0.4914, 0.4822, 0.4465], [0.2470, 0.2435, 0.2616])"
   ]
  },
  {
   "cell_type": "code",
   "execution_count": 49,
   "id": "6ac328a0",
   "metadata": {},
   "outputs": [],
   "source": [
    "transform_cifar10 = datasets.CIFAR10(root='./data/cifar-10-python/', \n",
    "                                  train=True, download=False,\n",
    "                                  transform=transforms.Compose([\n",
    "                                    transforms.ToTensor(),\n",
    "                                    transforms.Normalize([0.4914, 0.4822, 0.4465],\n",
    "                                                          [0.2470, 0.2435, 0.2616])\n",
    "                                  ]))"
   ]
  },
  {
   "cell_type": "code",
   "execution_count": 53,
   "id": "ca100bf5",
   "metadata": {},
   "outputs": [
    {
     "data": {
      "text/plain": [
       "torch.Size([3, 32, 32])"
      ]
     },
     "execution_count": 53,
     "metadata": {},
     "output_type": "execute_result"
    }
   ],
   "source": [
    "img_t, _ = transform_cifar10[99]\n",
    "img_t.shape"
   ]
  },
  {
   "cell_type": "code",
   "execution_count": 54,
   "id": "928c7e86",
   "metadata": {},
   "outputs": [
    {
     "name": "stderr",
     "output_type": "stream",
     "text": [
      "Clipping input data to the valid range for imshow with RGB data ([0..1] for floats or [0..255] for integers).\n"
     ]
    },
    {
     "data": {
      "image/png": "[encoded data removed]",
      "text/plain": [
       "<Figure size 640x480 with 1 Axes>"
      ]
     },
     "metadata": {},
     "output_type": "display_data"
    }
   ],
   "source": [
    "plt.imshow(img_t.permute(1,2,0))\n",
    "plt.show()"
   ]
  },
  {
   "attachments": {},
   "cell_type": "markdown",
   "id": "8a17673e",
   "metadata": {},
   "source": [
    "## 实现一个简单的分类器"
   ]
  },
  {
   "cell_type": "code",
   "execution_count": 55,
   "id": "d2b31e4f",
   "metadata": {},
   "outputs": [],
   "source": [
    "# 1.构建数据集\n",
    "label_map = {0: 0, 2: 1}\n",
    "class_names = ['airplane', 'bird']"
   ]
  },
  {
   "cell_type": "code",
   "execution_count": 56,
   "id": "061e347d",
   "metadata": {},
   "outputs": [],
   "source": [
    "cifar2 = [(img, label_map[label]) for img, label in cifar10 if label in [0, 2]]\n",
    "cifar2_val = [(img, label_map[label]) for img, label in cifar10_val if label in [0, 2]]"
   ]
  },
  {
   "cell_type": "code",
   "execution_count": 57,
   "id": "d017d40a",
   "metadata": {},
   "outputs": [],
   "source": [
    "# 2.构建一个全连接层模型\n",
    "model = nn.Sequential(\n",
    "            nn.Conv2d(3, 16, kernel_size=3, padding=1),\n",
    "            nn.Tanh(),\n",
    "            nn.MaxPool2d(2),\n",
    "            nn.Conv2d(16, 8, kernel_size=3, padding=1),\n",
    "            nn.Tanh(),\n",
    "            nn.MaxPool2d(2),\n",
    "            #\n",
    "            nn.Linear(8*8*8, 32),\n",
    "            nn.Tanh(),\n",
    "            nn.Linear(32, 2))"
   ]
  },
  {
   "cell_type": "code",
   "execution_count": 58,
   "id": "f7b2fc6a",
   "metadata": {},
   "outputs": [
    {
     "data": {
      "text/plain": [
       "(18090, [432, 16, 1152, 8, 16384, 32, 64, 2])"
      ]
     },
     "execution_count": 58,
     "metadata": {},
     "output_type": "execute_result"
    }
   ],
   "source": [
    "numel_list = [p.numel() for p in model.parameters()]\n",
    "sum(numel_list), numel_list"
   ]
  },
  {
   "cell_type": "code",
   "execution_count": 59,
   "id": "20c9f250",
   "metadata": {},
   "outputs": [
    {
     "ename": "TypeError",
     "evalue": "conv2d() received an invalid combination of arguments - got (Image, Parameter, Parameter, tuple, tuple, tuple, int), but expected one of:\n * (Tensor input, Tensor weight, Tensor bias, tuple of ints stride, tuple of ints padding, tuple of ints dilation, int groups)\n      didn't match because some of the arguments have invalid types: (!Image!, !Parameter!, !Parameter!, !tuple!, !tuple!, !tuple!, int)\n * (Tensor input, Tensor weight, Tensor bias, tuple of ints stride, str padding, tuple of ints dilation, int groups)\n      didn't match because some of the arguments have invalid types: (!Image!, !Parameter!, !Parameter!, !tuple!, !tuple!, !tuple!, int)\n",
     "output_type": "error",
     "traceback": [
      "\u001b[1;31m---------------------------------------------------------------------------\u001b[0m",
      "\u001b[1;31mTypeError\u001b[0m                                 Traceback (most recent call last)",
      "\u001b[1;32md:\\code\\jupyter_code\\深度学习\\pytorch_excise.ipynb 单元格 191\u001b[0m in \u001b[0;36m1\n\u001b[1;32m----> <a href='vscode-notebook-cell:/d%3A/code/jupyter_code/%E6%B7%B1%E5%BA%A6%E5%AD%A6%E4%B9%A0/pytorch_excise.ipynb#Y404sZmlsZQ%3D%3D?line=0'>1</a>\u001b[0m model(img)\n",
      "File \u001b[1;32md:\\IDE_sources\\Ancona\\envs\\pytorch\\lib\\site-packages\\torch\\nn\\modules\\module.py:1190\u001b[0m, in \u001b[0;36mModule._call_impl\u001b[1;34m(self, *input, **kwargs)\u001b[0m\n\u001b[0;32m   1186\u001b[0m \u001b[39m# If we don't have any hooks, we want to skip the rest of the logic in\u001b[39;00m\n\u001b[0;32m   1187\u001b[0m \u001b[39m# this function, and just call forward.\u001b[39;00m\n\u001b[0;32m   1188\u001b[0m \u001b[39mif\u001b[39;00m \u001b[39mnot\u001b[39;00m (\u001b[39mself\u001b[39m\u001b[39m.\u001b[39m_backward_hooks \u001b[39mor\u001b[39;00m \u001b[39mself\u001b[39m\u001b[39m.\u001b[39m_forward_hooks \u001b[39mor\u001b[39;00m \u001b[39mself\u001b[39m\u001b[39m.\u001b[39m_forward_pre_hooks \u001b[39mor\u001b[39;00m _global_backward_hooks\n\u001b[0;32m   1189\u001b[0m         \u001b[39mor\u001b[39;00m _global_forward_hooks \u001b[39mor\u001b[39;00m _global_forward_pre_hooks):\n\u001b[1;32m-> 1190\u001b[0m     \u001b[39mreturn\u001b[39;00m forward_call(\u001b[39m*\u001b[39m\u001b[39minput\u001b[39m, \u001b[39m*\u001b[39m\u001b[39m*\u001b[39mkwargs)\n\u001b[0;32m   1191\u001b[0m \u001b[39m# Do not call functions when jit is used\u001b[39;00m\n\u001b[0;32m   1192\u001b[0m full_backward_hooks, non_full_backward_hooks \u001b[39m=\u001b[39m [], []\n",
      "File \u001b[1;32md:\\IDE_sources\\Ancona\\envs\\pytorch\\lib\\site-packages\\torch\\nn\\modules\\container.py:204\u001b[0m, in \u001b[0;36mSequential.forward\u001b[1;34m(self, input)\u001b[0m\n\u001b[0;32m    202\u001b[0m \u001b[39mdef\u001b[39;00m \u001b[39mforward\u001b[39m(\u001b[39mself\u001b[39m, \u001b[39minput\u001b[39m):\n\u001b[0;32m    203\u001b[0m     \u001b[39mfor\u001b[39;00m module \u001b[39min\u001b[39;00m \u001b[39mself\u001b[39m:\n\u001b[1;32m--> 204\u001b[0m         \u001b[39minput\u001b[39m \u001b[39m=\u001b[39m module(\u001b[39minput\u001b[39;49m)\n\u001b[0;32m    205\u001b[0m     \u001b[39mreturn\u001b[39;00m \u001b[39minput\u001b[39m\n",
      "File \u001b[1;32md:\\IDE_sources\\Ancona\\envs\\pytorch\\lib\\site-packages\\torch\\nn\\modules\\module.py:1190\u001b[0m, in \u001b[0;36mModule._call_impl\u001b[1;34m(self, *input, **kwargs)\u001b[0m\n\u001b[0;32m   1186\u001b[0m \u001b[39m# If we don't have any hooks, we want to skip the rest of the logic in\u001b[39;00m\n\u001b[0;32m   1187\u001b[0m \u001b[39m# this function, and just call forward.\u001b[39;00m\n\u001b[0;32m   1188\u001b[0m \u001b[39mif\u001b[39;00m \u001b[39mnot\u001b[39;00m (\u001b[39mself\u001b[39m\u001b[39m.\u001b[39m_backward_hooks \u001b[39mor\u001b[39;00m \u001b[39mself\u001b[39m\u001b[39m.\u001b[39m_forward_hooks \u001b[39mor\u001b[39;00m \u001b[39mself\u001b[39m\u001b[39m.\u001b[39m_forward_pre_hooks \u001b[39mor\u001b[39;00m _global_backward_hooks\n\u001b[0;32m   1189\u001b[0m         \u001b[39mor\u001b[39;00m _global_forward_hooks \u001b[39mor\u001b[39;00m _global_forward_pre_hooks):\n\u001b[1;32m-> 1190\u001b[0m     \u001b[39mreturn\u001b[39;00m forward_call(\u001b[39m*\u001b[39m\u001b[39minput\u001b[39m, \u001b[39m*\u001b[39m\u001b[39m*\u001b[39mkwargs)\n\u001b[0;32m   1191\u001b[0m \u001b[39m# Do not call functions when jit is used\u001b[39;00m\n\u001b[0;32m   1192\u001b[0m full_backward_hooks, non_full_backward_hooks \u001b[39m=\u001b[39m [], []\n",
      "File \u001b[1;32md:\\IDE_sources\\Ancona\\envs\\pytorch\\lib\\site-packages\\torch\\nn\\modules\\conv.py:463\u001b[0m, in \u001b[0;36mConv2d.forward\u001b[1;34m(self, input)\u001b[0m\n\u001b[0;32m    462\u001b[0m \u001b[39mdef\u001b[39;00m \u001b[39mforward\u001b[39m(\u001b[39mself\u001b[39m, \u001b[39minput\u001b[39m: Tensor) \u001b[39m-\u001b[39m\u001b[39m>\u001b[39m Tensor:\n\u001b[1;32m--> 463\u001b[0m     \u001b[39mreturn\u001b[39;00m \u001b[39mself\u001b[39;49m\u001b[39m.\u001b[39;49m_conv_forward(\u001b[39minput\u001b[39;49m, \u001b[39mself\u001b[39;49m\u001b[39m.\u001b[39;49mweight, \u001b[39mself\u001b[39;49m\u001b[39m.\u001b[39;49mbias)\n",
      "File \u001b[1;32md:\\IDE_sources\\Ancona\\envs\\pytorch\\lib\\site-packages\\torch\\nn\\modules\\conv.py:459\u001b[0m, in \u001b[0;36mConv2d._conv_forward\u001b[1;34m(self, input, weight, bias)\u001b[0m\n\u001b[0;32m    455\u001b[0m \u001b[39mif\u001b[39;00m \u001b[39mself\u001b[39m\u001b[39m.\u001b[39mpadding_mode \u001b[39m!=\u001b[39m \u001b[39m'\u001b[39m\u001b[39mzeros\u001b[39m\u001b[39m'\u001b[39m:\n\u001b[0;32m    456\u001b[0m     \u001b[39mreturn\u001b[39;00m F\u001b[39m.\u001b[39mconv2d(F\u001b[39m.\u001b[39mpad(\u001b[39minput\u001b[39m, \u001b[39mself\u001b[39m\u001b[39m.\u001b[39m_reversed_padding_repeated_twice, mode\u001b[39m=\u001b[39m\u001b[39mself\u001b[39m\u001b[39m.\u001b[39mpadding_mode),\n\u001b[0;32m    457\u001b[0m                     weight, bias, \u001b[39mself\u001b[39m\u001b[39m.\u001b[39mstride,\n\u001b[0;32m    458\u001b[0m                     _pair(\u001b[39m0\u001b[39m), \u001b[39mself\u001b[39m\u001b[39m.\u001b[39mdilation, \u001b[39mself\u001b[39m\u001b[39m.\u001b[39mgroups)\n\u001b[1;32m--> 459\u001b[0m \u001b[39mreturn\u001b[39;00m F\u001b[39m.\u001b[39;49mconv2d(\u001b[39minput\u001b[39;49m, weight, bias, \u001b[39mself\u001b[39;49m\u001b[39m.\u001b[39;49mstride,\n\u001b[0;32m    460\u001b[0m                 \u001b[39mself\u001b[39;49m\u001b[39m.\u001b[39;49mpadding, \u001b[39mself\u001b[39;49m\u001b[39m.\u001b[39;49mdilation, \u001b[39mself\u001b[39;49m\u001b[39m.\u001b[39;49mgroups)\n",
      "\u001b[1;31mTypeError\u001b[0m: conv2d() received an invalid combination of arguments - got (Image, Parameter, Parameter, tuple, tuple, tuple, int), but expected one of:\n * (Tensor input, Tensor weight, Tensor bias, tuple of ints stride, tuple of ints padding, tuple of ints dilation, int groups)\n      didn't match because some of the arguments have invalid types: (!Image!, !Parameter!, !Parameter!, !tuple!, !tuple!, !tuple!, int)\n * (Tensor input, Tensor weight, Tensor bias, tuple of ints stride, str padding, tuple of ints dilation, int groups)\n      didn't match because some of the arguments have invalid types: (!Image!, !Parameter!, !Parameter!, !tuple!, !tuple!, !tuple!, int)\n"
     ]
    }
   ],
   "source": []
  },
  {
   "cell_type": "code",
   "execution_count": null,
   "id": "a9ce701f",
   "metadata": {},
   "outputs": [],
   "source": []
  }
 ],
 "metadata": {
  "kernelspec": {
   "display_name": "pytorch",
   "language": "python",
   "name": "python3"
  },
  "language_info": {
   "codemirror_mode": {
    "name": "ipython",
    "version": 3
   },
   "file_extension": ".py",
   "mimetype": "text/x-python",
   "name": "python",
   "nbconvert_exporter": "python",
   "pygments_lexer": "ipython3",
   "version": "3.9.15"
  },
  "toc": {
   "base_numbering": 1,
   "nav_menu": {},
   "number_sections": true,
   "sideBar": true,
   "skip_h1_title": false,
   "title_cell": "Table of Contents",
   "title_sidebar": "Contents",
   "toc_cell": false,
   "toc_position": {},
   "toc_section_display": true,
   "toc_window_display": true
  },
  "toc-autonumbering": true,
  "varInspector": {
   "cols": {
    "lenName": 16,
    "lenType": 16,
    "lenVar": 40
   },
   "kernels_config": {
    "python": {
     "delete_cmd_postfix": "",
     "delete_cmd_prefix": "del ",
     "library": "var_list.py",
     "varRefreshCmd": "print(var_dic_list())"
    },
    "r": {
     "delete_cmd_postfix": ") ",
     "delete_cmd_prefix": "rm(",
     "library": "var_list.r",
     "varRefreshCmd": "cat(var_dic_list()) "
    }
   },
   "types_to_exclude": [
    "module",
    "function",
    "builtin_function_or_method",
    "instance",
    "_Feature"
   ],
   "window_display": false
  }
 },
 "nbformat": 4,
 "nbformat_minor": 5
}
