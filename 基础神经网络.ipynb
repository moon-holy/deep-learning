{
 "cells": [
  {
   "attachments": {},
   "cell_type": "markdown",
   "id": "b311a1a5",
   "metadata": {
    "heading_collapsed": true
   },
   "source": [
    "# 线性模型"
   ]
  },
  {
   "attachments": {},
   "cell_type": "markdown",
   "id": "b2202e59",
   "metadata": {
    "hidden": true
   },
   "source": [
    "## 线性回归"
   ]
  },
  {
   "cell_type": "code",
   "execution_count": 1,
   "id": "82c2c320",
   "metadata": {
    "hidden": true
   },
   "outputs": [],
   "source": [
    "import torch"
   ]
  },
  {
   "cell_type": "code",
   "execution_count": 2,
   "id": "88b2fbb5",
   "metadata": {
    "hidden": true
   },
   "outputs": [
    {
     "data": {
      "text/plain": [
       "(torch.Size([100, 1]), torch.Size([100, 1]))"
      ]
     },
     "execution_count": 2,
     "metadata": {},
     "output_type": "execute_result"
    }
   ],
   "source": [
    "x_data = torch.randn((100, 1))\n",
    "y_data = torch.randn((100, 1)) + x_data * 7\n",
    "x_data.shape, y_data.shape"
   ]
  },
  {
   "cell_type": "code",
   "execution_count": 3,
   "id": "fd8c35da",
   "metadata": {
    "hidden": true
   },
   "outputs": [],
   "source": [
    "# 构建线性模型\n",
    "class LinearModel(torch.nn.Module):\n",
    "    def __init__(self):\n",
    "        super(LinearModel, self).__init__()  # 使用super魔法函数是为了在子类（存在init的情况）可以使用基类的init\n",
    "        self.linear = torch.nn.Linear(1, 1)\n",
    "\n",
    "    def forward(self, X):\n",
    "        y_pred = self.linear(X)\n",
    "        return y_pred"
   ]
  },
  {
   "cell_type": "code",
   "execution_count": 4,
   "id": "8866dd2b",
   "metadata": {
    "hidden": true
   },
   "outputs": [
    {
     "name": "stderr",
     "output_type": "stream",
     "text": [
      "D:\\IDE_sources\\Ancona\\envs\\pytorch\\lib\\site-packages\\torch\\nn\\_reduction.py:42: UserWarning: size_average and reduce args will be deprecated, please use reduction='mean' instead.\n",
      "  warnings.warn(warning.format(ret))\n"
     ]
    }
   ],
   "source": [
    "net = LinearModel()\n",
    "criterion = torch.nn.MSELoss(size_average=True)\n",
    "optimizer = torch.optim.SGD(net.parameters(), lr=0.01)"
   ]
  },
  {
   "cell_type": "code",
   "execution_count": 5,
   "id": "46851815",
   "metadata": {
    "collapsed": true,
    "hidden": true,
    "jupyter": {
     "outputs_hidden": true
    }
   },
   "outputs": [
    {
     "name": "stdout",
     "output_type": "stream",
     "text": [
      "epoch:loss= 43.5496711730957\n",
      "epoch:loss= 41.74754333496094\n",
      "epoch:loss= 40.0214958190918\n",
      "epoch:loss= 38.36830139160156\n",
      "epoch:loss= 36.78489303588867\n",
      "epoch:loss= 35.268306732177734\n",
      "epoch:loss= 33.815731048583984\n",
      "epoch:loss= 32.4244499206543\n",
      "epoch:loss= 31.09188461303711\n",
      "epoch:loss= 29.8155460357666\n",
      "epoch:loss= 28.593059539794922\n",
      "epoch:loss= 27.42214584350586\n",
      "epoch:loss= 26.30063247680664\n",
      "epoch:loss= 25.226430892944336\n",
      "epoch:loss= 24.197538375854492\n",
      "epoch:loss= 23.21204376220703\n",
      "epoch:loss= 22.268115997314453\n",
      "epoch:loss= 21.363994598388672\n",
      "epoch:loss= 20.497997283935547\n",
      "epoch:loss= 19.668521881103516\n",
      "epoch:loss= 18.874019622802734\n",
      "epoch:loss= 18.113014221191406\n",
      "epoch:loss= 17.384096145629883\n",
      "epoch:loss= 16.68590545654297\n",
      "epoch:loss= 16.01714324951172\n",
      "epoch:loss= 15.376572608947754\n",
      "epoch:loss= 14.762999534606934\n",
      "epoch:loss= 14.175285339355469\n",
      "epoch:loss= 13.612340927124023\n",
      "epoch:loss= 13.07311725616455\n",
      "epoch:loss= 12.556615829467773\n",
      "epoch:loss= 12.061875343322754\n",
      "epoch:loss= 11.587979316711426\n",
      "epoch:loss= 11.134047508239746\n",
      "epoch:loss= 10.699237823486328\n",
      "epoch:loss= 10.282742500305176\n",
      "epoch:loss= 9.883790016174316\n",
      "epoch:loss= 9.501640319824219\n",
      "epoch:loss= 9.13558292388916\n",
      "epoch:loss= 8.784940719604492\n",
      "epoch:loss= 8.449065208435059\n",
      "epoch:loss= 8.127330780029297\n",
      "epoch:loss= 7.819143295288086\n",
      "epoch:loss= 7.523927688598633\n",
      "epoch:loss= 7.241140365600586\n",
      "epoch:loss= 6.9702558517456055\n",
      "epoch:loss= 6.710772514343262\n",
      "epoch:loss= 6.462212085723877\n",
      "epoch:loss= 6.224109649658203\n",
      "epoch:loss= 5.996028900146484\n",
      "epoch:loss= 5.7775444984436035\n",
      "epoch:loss= 5.568251132965088\n",
      "epoch:loss= 5.367764949798584\n",
      "epoch:loss= 5.1757121086120605\n",
      "epoch:loss= 4.9917378425598145\n",
      "epoch:loss= 4.815501689910889\n",
      "epoch:loss= 4.646678447723389\n",
      "epoch:loss= 4.484956741333008\n",
      "epoch:loss= 4.330035209655762\n",
      "epoch:loss= 4.1816277503967285\n",
      "epoch:loss= 4.039459705352783\n",
      "epoch:loss= 3.9032704830169678\n",
      "epoch:loss= 3.7728073596954346\n",
      "epoch:loss= 3.6478271484375\n",
      "epoch:loss= 3.5281014442443848\n",
      "epoch:loss= 3.413407325744629\n",
      "epoch:loss= 3.3035342693328857\n",
      "epoch:loss= 3.1982781887054443\n",
      "epoch:loss= 3.0974457263946533\n",
      "epoch:loss= 3.000849962234497\n",
      "epoch:loss= 2.9083118438720703\n",
      "epoch:loss= 2.819662570953369\n",
      "epoch:loss= 2.734736442565918\n",
      "epoch:loss= 2.653378963470459\n",
      "epoch:loss= 2.5754387378692627\n",
      "epoch:loss= 2.500771999359131\n",
      "epoch:loss= 2.4292404651641846\n",
      "epoch:loss= 2.360713005065918\n",
      "epoch:loss= 2.2950632572174072\n",
      "epoch:loss= 2.2321701049804688\n",
      "epoch:loss= 2.171917200088501\n",
      "epoch:loss= 2.1141936779022217\n",
      "epoch:loss= 2.0588927268981934\n",
      "epoch:loss= 2.005913496017456\n",
      "epoch:loss= 1.9551581144332886\n",
      "epoch:loss= 1.9065321683883667\n",
      "epoch:loss= 1.859947681427002\n",
      "epoch:loss= 1.815317988395691\n",
      "epoch:loss= 1.7725600004196167\n",
      "epoch:loss= 1.7315964698791504\n",
      "epoch:loss= 1.6923511028289795\n",
      "epoch:loss= 1.654752254486084\n",
      "epoch:loss= 1.618730068206787\n",
      "epoch:loss= 1.5842187404632568\n",
      "epoch:loss= 1.5511544942855835\n",
      "epoch:loss= 1.5194774866104126\n",
      "epoch:loss= 1.489128589630127\n",
      "epoch:loss= 1.4600523710250854\n",
      "epoch:loss= 1.432194471359253\n",
      "epoch:loss= 1.4055049419403076\n",
      "w= Parameter containing:\n",
      "tensor([[6.2479]], requires_grad=True)\n",
      "b= Parameter containing:\n",
      "tensor([0.0767], requires_grad=True)\n"
     ]
    }
   ],
   "source": [
    "# 进行迭代训练\n",
    "for i in range(100):\n",
    "    y_pred = net(x_data)\n",
    "    loss = criterion(y_pred, y_data)\n",
    "    print(\"epoch:loss=\", loss.item())\n",
    "    optimizer.zero_grad()  # 由于pytorch特性。每一轮的迭代都因该将其置于零\n",
    "    loss.backward()\n",
    "    optimizer.step()\n",
    "print(\"w=\", net.linear.weight)\n",
    "print(\"b=\", net.linear.bias)"
   ]
  },
  {
   "cell_type": "code",
   "execution_count": 6,
   "id": "d4352aeb",
   "metadata": {
    "collapsed": true,
    "hidden": true,
    "jupyter": {
     "outputs_hidden": true
    }
   },
   "outputs": [
    {
     "data": {
      "text/plain": [
       "[<matplotlib.lines.Line2D at 0x21cc54218e0>]"
      ]
     },
     "execution_count": 6,
     "metadata": {},
     "output_type": "execute_result"
    },
    {
     "data": {
      "image/png": "[encoded data removed]",
      "text/plain": [
       "<Figure size 640x480 with 1 Axes>"
      ]
     },
     "metadata": {},
     "output_type": "display_data"
    }
   ],
   "source": [
    "import matplotlib.pyplot as plt\n",
    "\n",
    "plt.scatter(x_data, y_data)\n",
    "plt.plot(x_data, net.linear.weight.item() * x_data + net.linear.bias.item())"
   ]
  },
  {
   "cell_type": "code",
   "execution_count": 7,
   "id": "77234ca3",
   "metadata": {
    "hidden": true
   },
   "outputs": [
    {
     "data": {
      "text/plain": [
       "tensor([31.3164], grad_fn=<AddBackward0>)"
      ]
     },
     "execution_count": 7,
     "metadata": {},
     "output_type": "execute_result"
    }
   ],
   "source": [
    "net(torch.Tensor([5.0]))"
   ]
  },
  {
   "attachments": {},
   "cell_type": "markdown",
   "id": "4b15a58b",
   "metadata": {
    "hidden": true
   },
   "source": [
    "## 逻辑斯蒂回归"
   ]
  },
  {
   "cell_type": "code",
   "execution_count": 8,
   "id": "f8814cde",
   "metadata": {
    "hidden": true
   },
   "outputs": [],
   "source": [
    "import matplotlib.pyplot as plt\n",
    "import numpy as np\n",
    "import torch\n",
    "import torchvision\n",
    "from torch.nn import functional as F"
   ]
  },
  {
   "cell_type": "code",
   "execution_count": 9,
   "id": "5af97521",
   "metadata": {
    "collapsed": true,
    "hidden": true,
    "jupyter": {
     "outputs_hidden": true
    }
   },
   "outputs": [
    {
     "data": {
      "text/plain": [
       "(torch.Size([100, 1]),\n",
       " torch.Size([100, 1]),\n",
       " tensor([[0.3095],\n",
       "         [0.1828],\n",
       "         [0.5237],\n",
       "         [0.3561],\n",
       "         [0.1112],\n",
       "         [0.9211],\n",
       "         [0.5172],\n",
       "         [0.8485],\n",
       "         [0.8446],\n",
       "         [0.2406]]),\n",
       " tensor([[  3.6178],\n",
       "         [  0.9768],\n",
       "         [ 13.7376],\n",
       "         [ -7.3697],\n",
       "         [-10.5283],\n",
       "         [-15.6004],\n",
       "         [ -5.7658],\n",
       "         [  5.7898],\n",
       "         [  3.9932],\n",
       "         [ -3.3899]]))"
      ]
     },
     "execution_count": 9,
     "metadata": {},
     "output_type": "execute_result"
    }
   ],
   "source": [
    "# 进行二分类\n",
    "# 1.生成数据集\n",
    "x_data1 = torch.rand(100, 1)\n",
    "y_data1 = np.random.randint(0, 2, 100)\n",
    "y_data1 = torch.Tensor(y_data).reshape(100, 1)\n",
    "x_data1.shape, y_data1.shape, x_data1[:10, :], y_data1[:10, :]\n",
    "# x_data1=torch.Tensor([[1.],[2.],[3.]])\n",
    "# y_data1=torch.Tensor([[0.],[0.],[1.]])"
   ]
  },
  {
   "cell_type": "code",
   "execution_count": 10,
   "id": "42090cf1",
   "metadata": {
    "hidden": true
   },
   "outputs": [],
   "source": [
    "# 2.建立模型（逻辑斯蒂回归）\n",
    "class LogisticRegressionModel(torch.nn.Module):\n",
    "    def __init__(self):\n",
    "        super(LogisticRegressionModel, self).__init__()\n",
    "        self.linear = torch.nn.Linear(1, 1)\n",
    "\n",
    "    def forward(self, X):\n",
    "        y_pred = F.sigmoid(self.linear(X))  # 采用sigmoid进行二分类\n",
    "        return y_pred"
   ]
  },
  {
   "cell_type": "code",
   "execution_count": 11,
   "id": "5acb2f5d",
   "metadata": {
    "hidden": true
   },
   "outputs": [],
   "source": [
    "# 3.计算损失和优化\n",
    "model = LogisticRegressionModel()\n",
    "criterion = torch.nn.BCELoss(reduction=\"mean\")\n",
    "optimizer = torch.optim.SGD(model.parameters(), lr=0.01)  # 超参数学习率"
   ]
  },
  {
   "cell_type": "code",
   "execution_count": 12,
   "id": "b1ee8716",
   "metadata": {
    "collapsed": true,
    "hidden": true,
    "jupyter": {
     "outputs_hidden": true
    }
   },
   "outputs": [
    {
     "name": "stderr",
     "output_type": "stream",
     "text": [
      "D:\\IDE_sources\\Ancona\\envs\\pytorch\\lib\\site-packages\\torch\\nn\\functional.py:1967: UserWarning: nn.functional.sigmoid is deprecated. Use torch.sigmoid instead.\n",
      "  warnings.warn(\"nn.functional.sigmoid is deprecated. Use torch.sigmoid instead.\")\n"
     ]
    },
    {
     "name": "stdout",
     "output_type": "stream",
     "text": [
      "min_loss= -0.3488417863845825\n"
     ]
    },
    {
     "data": {
      "text/plain": [
       "[<matplotlib.lines.Line2D at 0x21cc8c9e250>]"
      ]
     },
     "execution_count": 12,
     "metadata": {},
     "output_type": "execute_result"
    },
    {
     "data": {
      "image/png": "[encoded data removed]",
      "text/plain": [
       "<Figure size 640x480 with 1 Axes>"
      ]
     },
     "metadata": {},
     "output_type": "display_data"
    }
   ],
   "source": [
    "# 4.迭代训练\n",
    "for epoch in range(1000):\n",
    "    y_pred1 = model(x_data1)\n",
    "    loss = criterion(y_pred1, y_data1)\n",
    "\n",
    "    optimizer.zero_grad()  # 梯度归零\n",
    "    loss.backward()  # 反向传播\n",
    "    optimizer.step()  # 梯度下降\n",
    "print(\"min_loss=\", loss.item())\n",
    "plt.plot(x_data1, y_pred1.data.numpy())"
   ]
  },
  {
   "cell_type": "code",
   "execution_count": 13,
   "id": "f6c3c045",
   "metadata": {
    "collapsed": true,
    "hidden": true,
    "jupyter": {
     "outputs_hidden": true
    }
   },
   "outputs": [
    {
     "name": "stderr",
     "output_type": "stream",
     "text": [
      "D:\\IDE_sources\\Ancona\\envs\\pytorch\\lib\\site-packages\\torch\\nn\\functional.py:1967: UserWarning: nn.functional.sigmoid is deprecated. Use torch.sigmoid instead.\n",
      "  warnings.warn(\"nn.functional.sigmoid is deprecated. Use torch.sigmoid instead.\")\n"
     ]
    },
    {
     "data": {
      "image/png": "[encoded data removed]",
      "text/plain": [
       "<Figure size 640x480 with 1 Axes>"
      ]
     },
     "metadata": {},
     "output_type": "display_data"
    }
   ],
   "source": [
    "# 5.进行验证\n",
    "x_t = np.linspace(0, 10, 200)\n",
    "x = torch.Tensor(x_t).reshape(200, 1)\n",
    "y = model(x)\n",
    "y_t = y.data.numpy()\n",
    "plt.plot(x_t, y_t)\n",
    "plt.plot([0, 10], [0.5, 0.5], c=\"r\")\n",
    "plt.xlabel(\"hours\")\n",
    "plt.ylabel(\"probability of pass\")\n",
    "plt.grid()\n",
    "plt.show()"
   ]
  },
  {
   "cell_type": "code",
   "execution_count": 15,
   "id": "7b5dcc10",
   "metadata": {
    "hidden": true
   },
   "outputs": [],
   "source": [
    "# 1.数据加载的类\n",
    "class DiabetesDataset(Dataset):\n",
    "    def __init__(self, filepath):\n",
    "        xy = np.loadtxt(filepath, delimiter=\",\", dtype=np.float32)\n",
    "        self.len = xy.shape[0]\n",
    "        self.x_data = torch.from_numpy(xy[:, :-1])\n",
    "        self.y_data = torch.from_numpy(xy[:, [-1]])\n",
    "\n",
    "    def __getitem__(self, index):\n",
    "        return self.x_data[index], self.y_data[index]\n",
    "\n",
    "    def __len__(self):\n",
    "        return self.len"
   ]
  },
  {
   "attachments": {},
   "cell_type": "markdown",
   "id": "54436b1d",
   "metadata": {
    "heading_collapsed": true
   },
   "source": [
    "# 数据加载和预处理"
   ]
  },
  {
   "cell_type": "code",
   "execution_count": 14,
   "id": "85960e05",
   "metadata": {
    "hidden": true
   },
   "outputs": [],
   "source": [
    "import numpy as np\n",
    "import torch\n",
    "from torch.utils.data import DataLoader, Dataset"
   ]
  },
  {
   "cell_type": "code",
   "execution_count": 19,
   "id": "cb17fbd1",
   "metadata": {
    "hidden": true
   },
   "outputs": [],
   "source": [
    "# 2.进行数据加载和处理\n",
    "dataset = DiabetesDataset(\"/code/jupyter_code/深度学习/data/diabetes.csv.gz\")\n",
    "train_loader = DataLoader(dataset=dataset, batch_size=32, shuffle=True, num_workers=0)"
   ]
  },
  {
   "cell_type": "code",
   "execution_count": 20,
   "id": "744568aa",
   "metadata": {
    "hidden": true
   },
   "outputs": [],
   "source": [
    "# 3.模型建立\n",
    "class Model(torch.nn.Module):\n",
    "    def __init__(self):\n",
    "        super(Model, self).__init__()\n",
    "        self.linear1 = torch.nn.Linear(8, 6)\n",
    "        self.linear2 = torch.nn.Linear(6, 4)\n",
    "        self.linear3 = torch.nn.Linear(4, 1)\n",
    "        self.sigmoid = torch.nn.Sigmoid()\n",
    "\n",
    "    def forward(self, X):\n",
    "        X = self.sigmoid(self.linear1(X))\n",
    "        X = self.sigmoid(self.linear2(X))\n",
    "        X = self.sigmoid(self.linear3(X))\n",
    "        return X\n",
    "\n",
    "\n",
    "model = Model()"
   ]
  },
  {
   "cell_type": "code",
   "execution_count": 21,
   "id": "f936eea1",
   "metadata": {
    "hidden": true
   },
   "outputs": [],
   "source": [
    "# 4.计算损失和优化\n",
    "criterion = torch.nn.BCELoss(reduction=\"mean\")\n",
    "optimizer = torch.optim.SGD(model.parameters(), lr=0.9)"
   ]
  },
  {
   "cell_type": "code",
   "execution_count": 22,
   "id": "d4f49292",
   "metadata": {
    "hidden": true
   },
   "outputs": [
    {
     "data": {
      "text/plain": [
       "[<matplotlib.lines.Line2D at 0x21ccb3445e0>]"
      ]
     },
     "execution_count": 22,
     "metadata": {},
     "output_type": "execute_result"
    },
    {
     "data": {
      "image/png": "[encoded data removed]",
      "text/plain": [
       "<Figure size 640x480 with 1 Axes>"
      ]
     },
     "metadata": {},
     "output_type": "display_data"
    }
   ],
   "source": [
    "# 3.进行数据训练\n",
    "loss_data = []\n",
    "for epoch in range(100):\n",
    "    for i, data in enumerate(train_loader, 0):\n",
    "        inputs, labels = data\n",
    "        y_pred = model(inputs)\n",
    "        loss = criterion(y_pred, labels)\n",
    "        #       print(epoch,loss.item())\n",
    "        optimizer.zero_grad()\n",
    "        loss.backward()\n",
    "        optimizer.step()\n",
    "    #     print(loss)\n",
    "    loss_data.append(loss.item())\n",
    "plt.plot(np.arange(len(loss_data)), np.array(loss_data))"
   ]
  },
  {
   "attachments": {},
   "cell_type": "markdown",
   "id": "90374a8f",
   "metadata": {
    "heading_collapsed": true
   },
   "source": [
    "# 多层感知机处理多分类问题"
   ]
  },
  {
   "cell_type": "code",
   "execution_count": 23,
   "id": "19c74232",
   "metadata": {
    "hidden": true
   },
   "outputs": [],
   "source": [
    "import torch\n",
    "import torch.nn.functional as F\n",
    "import torch.optim as optim\n",
    "from torch.utils.data import DataLoader\n",
    "from torchvision import datasets, transforms"
   ]
  },
  {
   "cell_type": "code",
   "execution_count": 24,
   "id": "a0220d9c",
   "metadata": {
    "hidden": true
   },
   "outputs": [
    {
     "data": {
      "text/plain": [
       "(Dataset MNIST\n",
       "     Number of datapoints: 60000\n",
       "     Root location: ../dataset//minset/\n",
       "     Split: Train\n",
       "     StandardTransform\n",
       " Transform: Compose(\n",
       "                ToTensor()\n",
       "                Normalize(mean=(0.1307,), std=(0.3081,))\n",
       "            ),\n",
       " Dataset MNIST\n",
       "     Number of datapoints: 10000\n",
       "     Root location: ../dataset//minset/\n",
       "     Split: Test\n",
       "     StandardTransform\n",
       " Transform: Compose(\n",
       "                ToTensor()\n",
       "                Normalize(mean=(0.1307,), std=(0.3081,))\n",
       "            ))"
      ]
     },
     "execution_count": 24,
     "metadata": {},
     "output_type": "execute_result"
    }
   ],
   "source": [
    "# 1.加载数据\n",
    "batch_size = 64\n",
    "transform = transforms.Compose(\n",
    "    [transforms.ToTensor(), transforms.Normalize((0.1307,), (0.3081,))]\n",
    ")\n",
    "train_data = datasets.MNIST(\n",
    "    root=\"../dataset//minset/\", train=True, download=True, transform=transform\n",
    ")\n",
    "train_loader = DataLoader(train_data, shuffle=True, batch_size=batch_size)\n",
    "test_data = datasets.MNIST(\n",
    "    root=\"../dataset//minset/\", train=False, download=True, transform=transform\n",
    ")\n",
    "test_loader = DataLoader(test_data, shuffle=False, batch_size=batch_size)\n",
    "train_data, test_data"
   ]
  },
  {
   "cell_type": "code",
   "execution_count": 25,
   "id": "5ba54de4",
   "metadata": {
    "hidden": true
   },
   "outputs": [
    {
     "data": {
      "text/plain": [
       "MLP(\n",
       "  (linear1): Linear(in_features=784, out_features=512, bias=True)\n",
       "  (linear2): Linear(in_features=512, out_features=256, bias=True)\n",
       "  (linear3): Linear(in_features=256, out_features=128, bias=True)\n",
       "  (linear4): Linear(in_features=128, out_features=64, bias=True)\n",
       "  (linear5): Linear(in_features=64, out_features=10, bias=True)\n",
       ")"
      ]
     },
     "execution_count": 25,
     "metadata": {},
     "output_type": "execute_result"
    }
   ],
   "source": [
    "# 2.建立模型(多层感知机)\n",
    "class MLP(torch.nn.Module):\n",
    "    def __init__(self):\n",
    "        super(MLP, self).__init__()\n",
    "        self.linear1 = torch.nn.Linear(784, 512)\n",
    "        self.linear2 = torch.nn.Linear(512, 256)\n",
    "        self.linear3 = torch.nn.Linear(256, 128)\n",
    "        self.linear4 = torch.nn.Linear(128, 64)\n",
    "        self.linear5 = torch.nn.Linear(64, 10)\n",
    "\n",
    "    def forward(self, X):\n",
    "        X = X.reshape(-1, 784)\n",
    "        X = F.relu(self.linear1(X))\n",
    "        X = F.relu(self.linear2(X))\n",
    "        X = F.relu(self.linear3(X))\n",
    "        X = F.relu(self.linear4(X))\n",
    "        X = F.relu(self.linear5(X))\n",
    "        return X\n",
    "\n",
    "\n",
    "net = MLP()\n",
    "device = torch.device(\"cuda:0\" if torch.cuda.is_available() else \"cpu\")\n",
    "net.to(device)"
   ]
  },
  {
   "cell_type": "code",
   "execution_count": 26,
   "id": "15f417e4",
   "metadata": {
    "hidden": true
   },
   "outputs": [],
   "source": [
    "# 3.进行损失的优化\n",
    "criterion = torch.nn.CrossEntropyLoss()\n",
    "optimizer = torch.optim.SGD(net.parameters(), lr=0.1, momentum=0.5)"
   ]
  },
  {
   "cell_type": "code",
   "execution_count": 27,
   "id": "f5995bb6",
   "metadata": {
    "hidden": true
   },
   "outputs": [],
   "source": [
    "# 4.进行模型训练和测试的封装\n",
    "def train(epoch):\n",
    "    running_loss = 0.0\n",
    "    for batch_idx, data in enumerate(train_loader, 0):\n",
    "        inputs, target = data\n",
    "        \"\"\"\n",
    "        采用GPU进行训练\n",
    "        \"\"\"\n",
    "        inputs, target = inputs.to(device), target.to(device)\n",
    "        y_pred = net(inputs)\n",
    "        loss = criterion(y_pred, target)\n",
    "        optimizer.zero_grad()\n",
    "        loss.backward()\n",
    "        optimizer.step()\n",
    "\n",
    "        running_loss += loss.item()\n",
    "        if batch_idx % 300 == 299:\n",
    "            print(\"[%d,%5d] loss: %3f\" % (epoch + 1, batch_idx + 1, running_loss / 300))\n",
    "            running_loss = 0.0\n",
    "\n",
    "\n",
    "def test():\n",
    "    correct = 0.0\n",
    "    total = 0.0\n",
    "    with torch.no_grad():  # 下面的内容不用计算梯度\n",
    "        for data in test_loader:\n",
    "            images, labels = data\n",
    "            \"\"\"\n",
    "            采用GPU进行训练\n",
    "            \"\"\"\n",
    "            images, labels = images.to(device), labels.to(device)\n",
    "            outputs = net(\n",
    "                images,\n",
    "            )\n",
    "            _, predicted = torch.max(outputs.data, dim=1)\n",
    "            total += labels.size(0)\n",
    "            correct += (predicted == labels).sum().item()\n",
    "    print(\"accuracy on test set:%d,%%\" % (100 * correct / total))"
   ]
  },
  {
   "cell_type": "code",
   "execution_count": 28,
   "id": "b0150e06",
   "metadata": {
    "hidden": true
   },
   "outputs": [
    {
     "name": "stdout",
     "output_type": "stream",
     "text": [
      "[1,  300] loss: 0.972227\n",
      "[1,  600] loss: 0.452338\n",
      "[1,  900] loss: 0.408069\n",
      "accuracy on test set:85,%\n",
      "[2,  300] loss: 0.370287\n",
      "[2,  600] loss: 0.358953\n",
      "[2,  900] loss: 0.347831\n",
      "accuracy on test set:85,%\n",
      "[3,  300] loss: 0.328051\n",
      "[3,  600] loss: 0.321097\n",
      "[3,  900] loss: 0.267922\n",
      "accuracy on test set:96,%\n",
      "[4,  300] loss: 0.053911\n",
      "[4,  600] loss: 0.048391\n",
      "[4,  900] loss: 0.054948\n",
      "accuracy on test set:97,%\n",
      "[5,  300] loss: 0.043210\n",
      "[5,  600] loss: 0.041724\n",
      "[5,  900] loss: 0.038033\n",
      "accuracy on test set:97,%\n",
      "[6,  300] loss: 0.025337\n",
      "[6,  600] loss: 0.029702\n",
      "[6,  900] loss: 0.032213\n",
      "accuracy on test set:97,%\n",
      "[7,  300] loss: 0.019021\n",
      "[7,  600] loss: 0.026501\n",
      "[7,  900] loss: 0.025072\n",
      "accuracy on test set:97,%\n",
      "[8,  300] loss: 0.016283\n",
      "[8,  600] loss: 0.019330\n",
      "[8,  900] loss: 0.021349\n",
      "accuracy on test set:98,%\n",
      "[9,  300] loss: 0.012860\n",
      "[9,  600] loss: 0.010002\n",
      "[9,  900] loss: 0.021695\n",
      "accuracy on test set:98,%\n",
      "[10,  300] loss: 0.010931\n",
      "[10,  600] loss: 0.012412\n",
      "[10,  900] loss: 0.017848\n",
      "accuracy on test set:98,%\n"
     ]
    }
   ],
   "source": [
    "for epoch in range(10):\n",
    "    train(epoch)\n",
    "    test()"
   ]
  },
  {
   "attachments": {},
   "cell_type": "markdown",
   "id": "63fe6dbe",
   "metadata": {
    "heading_collapsed": true
   },
   "source": [
    "# 卷积神经网络"
   ]
  },
  {
   "cell_type": "markdown",
   "id": "f9a00581",
   "metadata": {},
   "source": [
    "## 卷积神经网络"
   ]
  },
  {
   "cell_type": "code",
   "execution_count": 1,
   "id": "42f9f5a7",
   "metadata": {},
   "outputs": [],
   "source": [
    "import torch\n",
    "import torch.nn as nn\n",
    "import torch.optim as optim\n",
    "import torch.nn.functional as F\n",
    "from torchvision import datasets,transforms \n",
    "import matplotlib.pyplot as plt\n",
    "import numpy as np\n",
    "%matplotlib inline"
   ]
  },
  {
   "cell_type": "markdown",
   "id": "688f55f6",
   "metadata": {},
   "source": [
    "### 数据预处理"
   ]
  },
  {
   "cell_type": "code",
   "execution_count": 2,
   "id": "2c512ba8",
   "metadata": {},
   "outputs": [],
   "source": [
    "# 定义超参数 \n",
    "input_size = 28  #图像的总尺寸28*28\n",
    "num_classes = 10  #标签的种类数\n",
    "num_epochs = 3  #训练的总循环周期\n",
    "batch_size = 64  #一个撮（批次）的大小，64张图片\n",
    "\n",
    "# 训练集\n",
    "train_dataset = datasets.MNIST(root='./data',  \n",
    "                            train=True,   \n",
    "                            transform=transforms.ToTensor(),  \n",
    "                            download=True) \n",
    "\n",
    "# 测试集\n",
    "test_dataset = datasets.MNIST(root='./data', \n",
    "                           train=False, \n",
    "                           transform=transforms.ToTensor())\n",
    "\n",
    "# 构建batch数据\n",
    "train_loader = torch.utils.data.DataLoader(dataset=train_dataset, \n",
    "                                           batch_size=batch_size, \n",
    "                                           shuffle=True)\n",
    "test_loader = torch.utils.data.DataLoader(dataset=test_dataset, \n",
    "                                           batch_size=batch_size, \n",
    "                                           shuffle=True)"
   ]
  },
  {
   "cell_type": "markdown",
   "id": "80951a79",
   "metadata": {},
   "source": [
    "### 网络结构"
   ]
  },
  {
   "cell_type": "code",
   "execution_count": null,
   "id": "517ad537",
   "metadata": {},
   "outputs": [],
   "source": [
    "# 一般卷积层，relu层，池化层可以写成一个套餐\n",
    "# 注意卷积最后结果还是一个特征图，需要把图转换成向量才能做分类或者回归任务"
   ]
  },
  {
   "cell_type": "code",
   "execution_count": 3,
   "id": "19941348",
   "metadata": {},
   "outputs": [],
   "source": [
    "class CNN(nn.Module):\n",
    "    def __init__(self):\n",
    "        super(CNN, self).__init__()\n",
    "        self.conv1 = nn.Sequential(         # 输入大小 (1, 28, 28)\n",
    "            nn.Conv2d(\n",
    "                in_channels=1,              # 灰度图\n",
    "                out_channels=16,            # 要得到几多少个特征图\n",
    "                kernel_size=5,              # 卷积核大小\n",
    "                stride=1,                   # 步长\n",
    "                padding=2,                  # 如果希望卷积后大小跟原来一样，需要设置padding=(kernel_size-1)/2 if stride=1\n",
    "            ),                              # 输出的特征图为 (16, 28, 28)\n",
    "            nn.ReLU(),                      # relu层\n",
    "            nn.MaxPool2d(kernel_size=2),    # 进行池化操作（2x2 区域）, 输出结果为： (16, 14, 14)\n",
    "        )\n",
    "        self.conv2 = nn.Sequential(         # 下一个套餐的输入 (16, 14, 14)\n",
    "            nn.Conv2d(16, 32, 5, 1, 2),     # 输出 (32, 14, 14)\n",
    "            nn.ReLU(),                      # relu层\n",
    "            nn.MaxPool2d(2),                # 输出 (32, 7, 7)\n",
    "        )\n",
    "        self.out = nn.Linear(32 * 7 * 7, 10)   # 全连接层得到的结果\n",
    "\n",
    "    def forward(self, x):\n",
    "        x = self.conv1(x)\n",
    "        x = self.conv2(x)\n",
    "        x = x.view(x.size(0), -1)           # flatten操作，结果为：(batch_size, 32 * 7 * 7)\n",
    "        output = self.out(x)\n",
    "        return output"
   ]
  },
  {
   "cell_type": "markdown",
   "id": "fa75ca12",
   "metadata": {},
   "source": [
    "### 损失函数"
   ]
  },
  {
   "cell_type": "code",
   "execution_count": 4,
   "id": "bddedc57",
   "metadata": {},
   "outputs": [],
   "source": [
    "def accuracy(predictions, labels):\n",
    "    pred = torch.max(predictions.data, 1)[1] \n",
    "    rights = pred.eq(labels.data.view_as(pred)).sum() \n",
    "    return rights, len(labels) "
   ]
  },
  {
   "cell_type": "markdown",
   "id": "88473e51",
   "metadata": {},
   "source": [
    "### 训练网络"
   ]
  },
  {
   "cell_type": "code",
   "execution_count": 5,
   "id": "f2f13360",
   "metadata": {},
   "outputs": [
    {
     "name": "stdout",
     "output_type": "stream",
     "text": [
      "当前epoch: 0 [0/60000 (0%)]\t损失: 2.315792\t训练集准确率: 12.50%\t测试集正确率: 17.90%\n",
      "当前epoch: 0 [6400/60000 (11%)]\t损失: 0.291136\t训练集准确率: 76.75%\t测试集正确率: 91.43%\n",
      "当前epoch: 0 [12800/60000 (21%)]\t损失: 0.107713\t训练集准确率: 84.83%\t测试集正确率: 95.24%\n",
      "当前epoch: 0 [19200/60000 (32%)]\t损失: 0.041997\t训练集准确率: 88.37%\t测试集正确率: 96.37%\n",
      "当前epoch: 0 [25600/60000 (43%)]\t损失: 0.122819\t训练集准确率: 90.33%\t测试集正确率: 97.32%\n",
      "当前epoch: 0 [32000/60000 (53%)]\t损失: 0.046743\t训练集准确率: 91.64%\t测试集正确率: 97.57%\n",
      "当前epoch: 0 [38400/60000 (64%)]\t损失: 0.082312\t训练集准确率: 92.64%\t测试集正确率: 97.78%\n",
      "当前epoch: 0 [44800/60000 (75%)]\t损失: 0.043947\t训练集准确率: 93.36%\t测试集正确率: 98.00%\n",
      "当前epoch: 0 [51200/60000 (85%)]\t损失: 0.168375\t训练集准确率: 93.89%\t测试集正确率: 98.00%\n",
      "当前epoch: 0 [57600/60000 (96%)]\t损失: 0.035198\t训练集准确率: 94.30%\t测试集正确率: 98.30%\n",
      "当前epoch: 1 [0/60000 (0%)]\t损失: 0.036921\t训练集准确率: 100.00%\t测试集正确率: 98.02%\n",
      "当前epoch: 1 [6400/60000 (11%)]\t损失: 0.013579\t训练集准确率: 98.02%\t测试集正确率: 98.42%\n",
      "当前epoch: 1 [12800/60000 (21%)]\t损失: 0.026426\t训练集准确率: 98.13%\t测试集正确率: 98.27%\n",
      "当前epoch: 1 [19200/60000 (32%)]\t损失: 0.067841\t训练集准确率: 98.21%\t测试集正确率: 98.32%\n",
      "当前epoch: 1 [25600/60000 (43%)]\t损失: 0.063966\t训练集准确率: 98.18%\t测试集正确率: 98.43%\n",
      "当前epoch: 1 [32000/60000 (53%)]\t损失: 0.023496\t训练集准确率: 98.23%\t测试集正确率: 98.38%\n",
      "当前epoch: 1 [38400/60000 (64%)]\t损失: 0.035771\t训练集准确率: 98.26%\t测试集正确率: 98.50%\n",
      "当前epoch: 1 [44800/60000 (75%)]\t损失: 0.051492\t训练集准确率: 98.28%\t测试集正确率: 98.31%\n",
      "当前epoch: 1 [51200/60000 (85%)]\t损失: 0.060106\t训练集准确率: 98.29%\t测试集正确率: 98.75%\n",
      "当前epoch: 1 [57600/60000 (96%)]\t损失: 0.055100\t训练集准确率: 98.33%\t测试集正确率: 98.61%\n",
      "当前epoch: 2 [0/60000 (0%)]\t损失: 0.084857\t训练集准确率: 96.88%\t测试集正确率: 98.78%\n",
      "当前epoch: 2 [6400/60000 (11%)]\t损失: 0.041516\t训练集准确率: 98.89%\t测试集正确率: 98.69%\n",
      "当前epoch: 2 [12800/60000 (21%)]\t损失: 0.007851\t训练集准确率: 98.92%\t测试集正确率: 98.87%\n",
      "当前epoch: 2 [19200/60000 (32%)]\t损失: 0.013508\t训练集准确率: 98.91%\t测试集正确率: 98.54%\n",
      "当前epoch: 2 [25600/60000 (43%)]\t损失: 0.086836\t训练集准确率: 98.87%\t测试集正确率: 98.65%\n",
      "当前epoch: 2 [32000/60000 (53%)]\t损失: 0.070861\t训练集准确率: 98.79%\t测试集正确率: 98.76%\n",
      "当前epoch: 2 [38400/60000 (64%)]\t损失: 0.007523\t训练集准确率: 98.80%\t测试集正确率: 98.88%\n",
      "当前epoch: 2 [44800/60000 (75%)]\t损失: 0.049681\t训练集准确率: 98.78%\t测试集正确率: 98.66%\n",
      "当前epoch: 2 [51200/60000 (85%)]\t损失: 0.178841\t训练集准确率: 98.78%\t测试集正确率: 98.64%\n",
      "当前epoch: 2 [57600/60000 (96%)]\t损失: 0.006117\t训练集准确率: 98.78%\t测试集正确率: 98.66%\n"
     ]
    }
   ],
   "source": [
    "# 实例化\n",
    "net = CNN() \n",
    "#损失函数\n",
    "criterion = nn.CrossEntropyLoss() \n",
    "#优化器\n",
    "optimizer = optim.Adam(net.parameters(), lr=0.001) #定义优化器，普通的随机梯度下降算法\n",
    "\n",
    "#开始训练循环\n",
    "for epoch in range(num_epochs):\n",
    "    #当前epoch的结果保存下来\n",
    "    train_rights = [] \n",
    "    \n",
    "    for batch_idx, (data, target) in enumerate(train_loader):  #针对容器中的每一个批进行循环\n",
    "        net.train()                             \n",
    "        output = net(data) \n",
    "        loss = criterion(output, target) \n",
    "        optimizer.zero_grad() \n",
    "        loss.backward() \n",
    "        optimizer.step() \n",
    "        right = accuracy(output, target) \n",
    "        train_rights.append(right) \n",
    "\n",
    "    \n",
    "        if batch_idx % 100 == 0: \n",
    "            \n",
    "            net.eval() \n",
    "            val_rights = [] \n",
    "            \n",
    "            for (data, target) in test_loader:\n",
    "                output = net(data) \n",
    "                right = accuracy(output, target) \n",
    "                val_rights.append(right)\n",
    "                \n",
    "            #准确率计算\n",
    "            train_r = (sum([tup[0] for tup in train_rights]), sum([tup[1] for tup in train_rights]))\n",
    "            val_r = (sum([tup[0] for tup in val_rights]), sum([tup[1] for tup in val_rights]))\n",
    "\n",
    "            print('当前epoch: {} [{}/{} ({:.0f}%)]\\t损失: {:.6f}\\t训练集准确率: {:.2f}%\\t测试集正确率: {:.2f}%'.format(\n",
    "                epoch, batch_idx * batch_size, len(train_loader.dataset),\n",
    "                100. * batch_idx / len(train_loader), \n",
    "                loss.data, \n",
    "                100. * train_r[0].numpy() / train_r[1], \n",
    "                100. * val_r[0].numpy() / val_r[1]))"
   ]
  },
  {
   "attachments": {},
   "cell_type": "markdown",
   "id": "e46fb42d",
   "metadata": {
    "hidden": true
   },
   "source": [
    "## GoolgNet"
   ]
  },
  {
   "cell_type": "code",
   "execution_count": 30,
   "id": "fc2d44f5",
   "metadata": {
    "hidden": true
   },
   "outputs": [],
   "source": [
    "import matplotlib.pyplot as plt\n",
    "import torch\n",
    "import torch.nn.functional as F\n",
    "import torch.optim as optim\n",
    "import torchvision\n",
    "from torch.utils.data import DataLoader\n",
    "from torchvision import datasets, transforms"
   ]
  },
  {
   "cell_type": "code",
   "execution_count": 31,
   "id": "bd9ac9e4",
   "metadata": {
    "hidden": true
   },
   "outputs": [],
   "source": [
    "# 1.加载数据\n",
    "batch_size = 64\n",
    "transform = transforms.Compose(\n",
    "    [transforms.ToTensor(), transforms.Normalize((0.1307,), (0.3081,))]\n",
    ")\n",
    "train_data = datasets.MNIST(\n",
    "    root=\"../dataset//minset/\", train=True, download=True, transform=transform\n",
    ")\n",
    "train_loader = DataLoader(train_data, shuffle=True, batch_size=batch_size)\n",
    "test_data = datasets.MNIST(\n",
    "    root=\"../dataset//minset/\", train=False, download=True, transform=transform\n",
    ")\n",
    "test_loader = DataLoader(test_data, shuffle=False, batch_size=batch_size)"
   ]
  },
  {
   "cell_type": "code",
   "execution_count": 32,
   "id": "d42572e9",
   "metadata": {
    "hidden": true
   },
   "outputs": [
    {
     "name": "stdout",
     "output_type": "stream",
     "text": [
      "torch.Size([64])\n",
      "torch.Size([64, 1, 28, 28])\n"
     ]
    },
    {
     "data": {
      "image/png": "[encoded data removed]",
      "text/plain": [
       "<Figure size 640x480 with 6 Axes>"
      ]
     },
     "metadata": {},
     "output_type": "display_data"
    }
   ],
   "source": [
    "# 读取标签数据\n",
    "examples = enumerate(test_loader)\n",
    "batch_idx, (imgs, labels) = next(examples)\n",
    "print(labels.shape)\n",
    "print(imgs.shape)\n",
    "\n",
    "# 显示图片\n",
    "fig = plt.figure()\n",
    "for i in range(6):\n",
    "    plt.subplot(2, 3, i + 1)\n",
    "    plt.tight_layout()\n",
    "    plt.imshow(imgs[i][0], cmap=\"gray\")\n",
    "    plt.title(\"Ground Truth:{}\".format(labels[i]))\n",
    "    plt.xticks([])\n",
    "    plt.yticks([])\n",
    "plt.show()"
   ]
  },
  {
   "cell_type": "code",
   "execution_count": 34,
   "id": "e45b1888",
   "metadata": {
    "hidden": true
   },
   "outputs": [],
   "source": [
    "# 2.构建Inception块\n",
    "class InceptionA(torch.nn.Module):\n",
    "    def __init__(self, in_channels):\n",
    "        super(InceptionA, self).__init__()\n",
    "        self.branch_pool = torch.nn.Conv2d(in_channels, 24, kernel_size=1)\n",
    "\n",
    "        self.branch1x1 = torch.nn.Conv2d(in_channels, 16, kernel_size=1)\n",
    "\n",
    "        self.branch5x5_1 = torch.nn.Conv2d(in_channels, 16, kernel_size=1)\n",
    "        self.branch5x5_2 = torch.nn.Conv2d(16, 24, kernel_size=5, padding=2)\n",
    "\n",
    "        self.branch3x3_1 = torch.nn.Conv2d(in_channels, 16, kernel_size=1)\n",
    "        self.branch3x3_2 = torch.nn.Conv2d(16, 24, kernel_size=3, padding=1)\n",
    "        self.branch3x3_3 = torch.nn.Conv2d(24, 24, kernel_size=3, padding=1)\n",
    "\n",
    "    def forward(self, X):\n",
    "\n",
    "        branch1x1 = self.branch1x1(X)\n",
    "\n",
    "        branch5x5 = self.branch5x5_1(X)\n",
    "        branch5x5 = self.branch5x5_2(branch5x5)\n",
    "\n",
    "        branch3x3 = self.branch3x3_1(X)\n",
    "        branch3x3 = self.branch3x3_2(branch3x3)\n",
    "        branch3x3 = self.branch3x3_3(branch3x3)\n",
    "\n",
    "        branch_pool = F.avg_pool2d(X, kernel_size=3, stride=1, padding=1)\n",
    "        branch_pool = self.branch_pool(branch_pool)\n",
    "\n",
    "        outputs = [branch1x1, branch3x3, branch5x5, branch_pool]\n",
    "        return torch.cat(outputs, dim=1)"
   ]
  },
  {
   "cell_type": "code",
   "execution_count": 35,
   "id": "d1569758",
   "metadata": {
    "hidden": true
   },
   "outputs": [],
   "source": [
    "# 3.构建goolglet网络模型\n",
    "class Net(torch.nn.Module):\n",
    "    def __init__(self):\n",
    "        super(Net, self).__init__()\n",
    "        self.cov_1 = torch.nn.Conv2d(1, 10, kernel_size=5)\n",
    "        self.incep_1 = InceptionA(in_channels=10)\n",
    "\n",
    "        self.cov_2 = torch.nn.Conv2d(88, 20, kernel_size=5)\n",
    "        self.incep_2 = InceptionA(in_channels=20)\n",
    "\n",
    "        self.mp = torch.nn.MaxPool2d(2)\n",
    "        self.linear = torch.nn.Linear(1408, 10)\n",
    "\n",
    "    def forward(self, X):\n",
    "        in_size = X.size(0)\n",
    "        X = F.relu(self.mp(self.cov_1(X)))\n",
    "        X = self.incep_1(X)\n",
    "        X = F.relu(self.mp(self.cov_2(X)))\n",
    "        X = self.incep_2(X)\n",
    "        X = X.view(in_size, -1)\n",
    "\n",
    "        X = self.linear(X)\n",
    "        return X\n",
    "\n",
    "\n",
    "net = Net()\n",
    "device = torch.device(\"cuda:0\" if torch.cuda.is_available() else \"cpu\")\n",
    "net = net.to(device)  # 将网络初始化权重转移到GPU"
   ]
  },
  {
   "cell_type": "code",
   "execution_count": 36,
   "id": "4068844e",
   "metadata": {
    "hidden": true
   },
   "outputs": [],
   "source": [
    "# 4.计算损失和优化\n",
    "criterion = torch.nn.CrossEntropyLoss()\n",
    "optimizer = torch.optim.SGD(net.parameters(), lr=0.01, momentum=0.5)"
   ]
  },
  {
   "cell_type": "code",
   "execution_count": 37,
   "id": "8ed1444c",
   "metadata": {
    "hidden": true
   },
   "outputs": [],
   "source": [
    "# 5.进行模型训练和测试的封装\n",
    "def train(epoch):\n",
    "    running_loss = 0.0\n",
    "    for batch_idx, data in enumerate(train_loader, 0):\n",
    "        inputs, target = data\n",
    "        # 采用GPU进行训练\n",
    "        inputs, target = inputs.to(device), target.to(device)  # 将训练数据转移到GPU\n",
    "        y_pred = net(inputs)\n",
    "        loss = criterion(y_pred, target)\n",
    "        optimizer.zero_grad()\n",
    "        loss.backward()\n",
    "        optimizer.step()\n",
    "\n",
    "        running_loss += loss.item()\n",
    "        if batch_idx % 300 == 299:\n",
    "            print(\"[%d,%5d] loss: %3f\" % (epoch + 1, batch_idx + 1, running_loss / 300))\n",
    "            running_loss = 0.0\n",
    "\n",
    "\n",
    "def test():\n",
    "    correct = 0.0\n",
    "    total = 0.0\n",
    "    with torch.no_grad():  # 下面的内容不用计算梯度\n",
    "        for data in test_loader:\n",
    "            images, labels = data\n",
    "            # 采用GPU进行训练\n",
    "            images, labels = images.to(device), labels.to(device)\n",
    "            outputs = net(images)\n",
    "            _, predicted = torch.max(outputs.data, dim=1)\n",
    "            total += labels.size(0)\n",
    "            correct += (predicted == labels).sum().item()\n",
    "    print(\"accuracy on test set:%d,%%\" % (100 * correct / total))"
   ]
  },
  {
   "cell_type": "code",
   "execution_count": null,
   "id": "b7d87e67",
   "metadata": {
    "hidden": true
   },
   "outputs": [
    {
     "name": "stdout",
     "output_type": "stream",
     "text": [
      "[1,  300] loss: 0.896460\n",
      "[1,  600] loss: 0.208641\n",
      "[1,  900] loss: 0.152148\n",
      "accuracy on test set:96,%\n",
      "[2,  300] loss: 0.111383\n",
      "[2,  600] loss: 0.102170\n",
      "[2,  900] loss: 0.080230\n",
      "accuracy on test set:97,%\n",
      "[3,  300] loss: 0.073917\n",
      "[3,  600] loss: 0.073975\n",
      "[3,  900] loss: 0.071088\n",
      "accuracy on test set:98,%\n",
      "[4,  300] loss: 0.061556\n",
      "[4,  600] loss: 0.062025\n",
      "[4,  900] loss: 0.058036\n",
      "accuracy on test set:98,%\n",
      "[5,  300] loss: 0.053738\n",
      "[5,  600] loss: 0.054886\n",
      "[5,  900] loss: 0.048639\n",
      "accuracy on test set:98,%\n",
      "[6,  300] loss: 0.041496\n",
      "[6,  600] loss: 0.052522\n",
      "[6,  900] loss: 0.047715\n",
      "accuracy on test set:98,%\n",
      "[7,  300] loss: 0.042943\n",
      "[7,  600] loss: 0.040486\n",
      "[7,  900] loss: 0.043877\n",
      "accuracy on test set:98,%\n",
      "[8,  300] loss: 0.038911\n",
      "[8,  600] loss: 0.039230\n",
      "[8,  900] loss: 0.038267\n",
      "accuracy on test set:98,%\n",
      "[9,  300] loss: 0.032356\n",
      "[9,  600] loss: 0.035886\n",
      "[9,  900] loss: 0.037504\n",
      "accuracy on test set:98,%\n",
      "[10,  300] loss: 0.033322\n",
      "[10,  600] loss: 0.033027\n"
     ]
    }
   ],
   "source": [
    "if __name__ == \"__main__\":\n",
    "    for epoch in range(10):\n",
    "        train(epoch)\n",
    "        test()"
   ]
  },
  {
   "attachments": {},
   "cell_type": "markdown",
   "id": "ac7a34f5",
   "metadata": {
    "heading_collapsed": true
   },
   "source": [
    "# 循环神经网络"
   ]
  },
  {
   "cell_type": "code",
   "execution_count": 29,
   "id": "be3fbd05",
   "metadata": {
    "hidden": true
   },
   "outputs": [],
   "source": [
    "import numpy as np\n",
    "import torch\n",
    "import torch.nn as nn"
   ]
  },
  {
   "cell_type": "code",
   "execution_count": 63,
   "id": "60e030d0",
   "metadata": {
    "hidden": true
   },
   "outputs": [],
   "source": [
    "# 1.准备数据\n",
    "input_size = 4\n",
    "hidden_size = 4\n",
    "batch_size = 1\n",
    "num_layer = 2  # 增加RNN的层数\n",
    "idx2char = [\"e\", \"l\", \"h\", \"o\"]\n",
    "x_data = [1, 0, 2, 2, 3]\n",
    "y_data = [3, 1, 2, 3, 2]\n",
    "one_hot_lookup = [[1, 0, 0, 0], [0, 1, 0, 0], [0, 0, 1, 0], [0, 0, 0, 1]]\n",
    "x_one_hot = [one_hot_lookup[x] for x in x_data]\n",
    "inputs = torch.Tensor(x_one_hot).view(-1, batch_size, input_size)\n",
    "labels = torch.LongTensor(y_data)"
   ]
  },
  {
   "cell_type": "code",
   "execution_count": 64,
   "id": "174df130",
   "metadata": {
    "hidden": true
   },
   "outputs": [],
   "source": [
    "# 2.建立RNN模型\n",
    "class RNNmodel(nn.Module):\n",
    "    def __init__(self, input_size, hidden_size, batch_size, num_layer):\n",
    "        super(RNNmodel, self).__init__()\n",
    "        self.num_layer = num_layer\n",
    "        self.batch_size = batch_size\n",
    "        self.input_size = input_size\n",
    "        self.hidden_size = hidden_size\n",
    "        self.rnn = torch.nn.RNN(\n",
    "            input_size=self.input_size,\n",
    "            hidden_size=self.hidden_size,\n",
    "            num_layers=self.num_layer,\n",
    "        )\n",
    "\n",
    "    #     def forward(self,input,hidden):\n",
    "    #         hidden=self.RNNcell(input,hidden)\n",
    "    #         return hidden\n",
    "\n",
    "    #     def init_hidden(self):\n",
    "    #         return torch.zeros(self.batch_size,self.hidden_size)\n",
    "\n",
    "    def forward(self, input):\n",
    "        hidden = torch.zeros(self.num_layer, self.batch_size, self.hidden_size)\n",
    "        out, _ = self.rnn(input, hidden)\n",
    "        return out.view(-1, self.hidden_size)\n",
    "\n",
    "\n",
    "net = RNNmodel(input_size, hidden_size, batch_size, num_layer)"
   ]
  },
  {
   "cell_type": "code",
   "execution_count": 65,
   "id": "550449b4",
   "metadata": {
    "hidden": true
   },
   "outputs": [],
   "source": [
    "# 3.损失和优化\n",
    "criterion = torch.nn.CrossEntropyLoss()\n",
    "optimizer = torch.optim.Adam(net.parameters(), lr=0.1)"
   ]
  },
  {
   "cell_type": "code",
   "execution_count": 66,
   "id": "75d40d6a",
   "metadata": {
    "collapsed": true,
    "hidden": true,
    "jupyter": {
     "outputs_hidden": true
    }
   },
   "outputs": [
    {
     "name": "stdout",
     "output_type": "stream",
     "text": [
      "predicted: lllll,epoch[1/15] loss=1.4517\n",
      "predicted: hhhhh,epoch[2/15] loss=1.2386\n",
      "predicted: hhhhh,epoch[3/15] loss=1.1330\n",
      "predicted: hhhhh,epoch[4/15] loss=1.0875\n",
      "predicted: ohooh,epoch[5/15] loss=1.0040\n",
      "predicted: olooh,epoch[6/15] loss=0.8659\n",
      "predicted: olooh,epoch[7/15] loss=0.7669\n",
      "predicted: olool,epoch[8/15] loss=0.7116\n",
      "predicted: olool,epoch[9/15] loss=0.6557\n",
      "predicted: olooh,epoch[10/15] loss=0.6135\n",
      "predicted: olooh,epoch[11/15] loss=0.5831\n",
      "predicted: olooh,epoch[12/15] loss=0.5594\n",
      "predicted: olooh,epoch[13/15] loss=0.5437\n",
      "predicted: olooh,epoch[14/15] loss=0.5320\n",
      "predicted: olooh,epoch[15/15] loss=0.5202\n"
     ]
    }
   ],
   "source": [
    "# 4.进行训练\n",
    "for epoch in range(15):\n",
    "    loss = 0.0\n",
    "    optimizer.zero_grad()\n",
    "\n",
    "    #     hidden=net.init_hidden()\n",
    "    #     print('predicted string:',end=\"\")\n",
    "    #     for input,label in zip(inputs,labels):\n",
    "    #         hidden=net(input,hidden)\n",
    "    #         loss += criterion(hidden,label)\n",
    "    #         _,idx=hidden.max(dim=1)\n",
    "    #         print(idx2char[idx.item()],end='')\n",
    "\n",
    "    outputs = net(inputs)\n",
    "    loss = criterion(outputs, labels)\n",
    "    loss.backward()\n",
    "    optimizer.step()\n",
    "    _, idx = outputs.max(dim=1)\n",
    "    idx = idx.data.numpy()\n",
    "    print(\"predicted:\", \"\".join(idx2char[x] for x in idx), end=\"\")\n",
    "    print(\",epoch[%d/15] loss=%.4f\" % (epoch + 1, loss.item()))"
   ]
  },
  {
   "cell_type": "code",
   "execution_count": 5,
   "id": "86279d59",
   "metadata": {
    "hidden": true
   },
   "outputs": [],
   "source": [
    "import csv\n",
    "import gzip\n",
    "\n",
    "import torch\n",
    "import torch.nn.functional as F\n",
    "import torch.optim as optim\n",
    "from torch.utils.data import DataLoader, Dataset\n",
    "from torchvision import datasets, transforms"
   ]
  },
  {
   "cell_type": "code",
   "execution_count": 6,
   "id": "08a1dae3",
   "metadata": {
    "hidden": true
   },
   "outputs": [],
   "source": [
    "HIDDEN_SIZE = 100\n",
    "BATCH_SIZE = 256\n",
    "N_LAYER = 2\n",
    "N_EPOCH = 100\n",
    "N_CHARS = 128\n",
    "USE_GPU = True"
   ]
  },
  {
   "cell_type": "code",
   "execution_count": 7,
   "id": "314d956f",
   "metadata": {
    "hidden": true
   },
   "outputs": [],
   "source": [
    "# 1.载入数据\n",
    "# 1.1.创建加载数据的类\n",
    "class NameDataset(Dataset):\n",
    "    def __init__(self, is_train_set=True):\n",
    "        filename = (\n",
    "            \"data/names_train.csv.gz\" if is_train_set else \"data/names_test.csv.gz\"\n",
    "        )\n",
    "        with gzip.open(filename, \"rt\") as f:\n",
    "            reader = csv.reader(f)\n",
    "            rows = list(reader)\n",
    "        self.names = [row[0] for row in rows]\n",
    "        self.len = len(self.names)\n",
    "        self.countries = [row[1] for row in rows]\n",
    "        self.country_list = list(sorted(set(self.countries)))\n",
    "        self.country_dict = self.getCountryDict()\n",
    "        self.country_num = len(self.country_list)\n",
    "\n",
    "    def __getitem__(self, index):\n",
    "        return self.names[index], self.country_dict[self.countries[index]]\n",
    "\n",
    "    def __len__(self):\n",
    "        return self.len\n",
    "\n",
    "    def getCountryDict(self):\n",
    "        country_dict = dict()\n",
    "        for idx, country_name in enumerate(self.country_list, 0):\n",
    "            country_dict[country_name] = idx\n",
    "        return country_dict\n",
    "\n",
    "    def idx2country(self, index):\n",
    "        return self.country_list[index]\n",
    "\n",
    "    def getCountriesNum(self):\n",
    "        return self.country_num\n",
    "\n",
    "\n",
    "# 1.2.预加载数据\n",
    "trainset = NameDataset(is_train_set=True)\n",
    "trainloader = DataLoader(trainset, batch_size=BATCH_SIZE, shuffle=True)\n",
    "testset = NameDataset(is_train_set=False)\n",
    "testloader = DataLoader(testset, batch_size=BATCH_SIZE, shuffle=False)\n",
    "N_COUNTRY = trainset.getCountriesNum()"
   ]
  }
 ],
 "metadata": {
  "kernelspec": {
   "display_name": "pytorch",
   "language": "python",
   "name": "python3"
  },
  "language_info": {
   "codemirror_mode": {
    "name": "ipython",
    "version": 3
   },
   "file_extension": ".py",
   "mimetype": "text/x-python",
   "name": "python",
   "nbconvert_exporter": "python",
   "pygments_lexer": "ipython3",
   "version": "3.9.15"
  },
  "toc": {
   "base_numbering": 1,
   "nav_menu": {},
   "number_sections": true,
   "sideBar": true,
   "skip_h1_title": false,
   "title_cell": "Table of Contents",
   "title_sidebar": "Contents",
   "toc_cell": false,
   "toc_position": {
    "height": "calc(100% - 180px)",
    "left": "10px",
    "top": "150px",
    "width": "171.72px"
   },
   "toc_section_display": true,
   "toc_window_display": true
  },
  "toc-autonumbering": true,
  "toc-showcode": false,
  "toc-showmarkdowntxt": false,
  "toc-showtags": false,
  "varInspector": {
   "cols": {
    "lenName": 16,
    "lenType": 16,
    "lenVar": 40
   },
   "kernels_config": {
    "python": {
     "delete_cmd_postfix": "",
     "delete_cmd_prefix": "del ",
     "library": "var_list.py",
     "varRefreshCmd": "print(var_dic_list())"
    },
    "r": {
     "delete_cmd_postfix": ") ",
     "delete_cmd_prefix": "rm(",
     "library": "var_list.r",
     "varRefreshCmd": "cat(var_dic_list()) "
    }
   },
   "types_to_exclude": [
    "module",
    "function",
    "builtin_function_or_method",
    "instance",
    "_Feature"
   ],
   "window_display": false
  }
 },
 "nbformat": 4,
 "nbformat_minor": 5
}
